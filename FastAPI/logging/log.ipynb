{
  "nbformat": 4,
  "nbformat_minor": 0,
  "metadata": {
    "colab": {
      "provenance": []
    },
    "kernelspec": {
      "name": "python3",
      "display_name": "Python 3"
    },
    "language_info": {
      "name": "python"
    }
  },
  "cells": [
    {
      "cell_type": "code",
      "source": [
        "import logging\n",
        "\n",
        "# DEBUG > INFO > WARNING > ERROR > CRITICAL\n",
        "logging.basicConfig(\n",
        "    # level=logging.DEBUG,\n",
        "    # level=logging.INFO,\n",
        "    level=logging.WARNING,\n",
        "    force=True\n",
        ") # 어느 레벨부터 로깅할지, 기본으로 warning 부터 합니다.\n",
        "\n",
        "logging.debug(\"This is a debug message\") # 고쳐야 할 코드, 기록 필요\n",
        "logging.info(\"This is an info message\") # 정보성 메시지\n",
        "logging.warning(\"This is a warning message\") # 경고 메시지\n",
        "logging.error(\"This is an error message\") # 애러 메시지(프로그램은 동작)\n",
        "logging.critical(\"This is a critical message\") # 프로그램 중지(애러처리 안된경우)"
      ],
      "metadata": {
        "colab": {
          "base_uri": "https://localhost:8080/"
        },
        "id": "um_l12TWEKnM",
        "outputId": "f2e48356-e9dc-47a5-cd2e-ebf71b2cd094"
      },
      "execution_count": 19,
      "outputs": [
        {
          "output_type": "stream",
          "name": "stderr",
          "text": [
            "WARNING:root:This is a warning message\n",
            "ERROR:root:This is an error message\n",
            "CRITICAL:root:This is a critical message\n"
          ]
        }
      ]
    },
    {
      "cell_type": "code",
      "source": [
        "import logging\n",
        "\n",
        "# 로그 포맷 지정\n",
        "logging.basicConfig(\n",
        "    level=logging.DEBUG,\n",
        "    format='%(asctime)s - %(levelname)s - %(message)s',\n",
        "    force=True\n",
        ")\n",
        "\n",
        "# DEBUG > INFO > WARNING > ERROR > CRITICAL\n",
        "logging.info('로그 시간이 표시됩니다')\n",
        "logging.error('에러가 발생했어요!')"
      ],
      "metadata": {
        "colab": {
          "base_uri": "https://localhost:8080/"
        },
        "id": "BzlpOSwh8cT6",
        "outputId": "6a65f4e9-71e1-433e-99a4-ad322c4d0236"
      },
      "execution_count": 22,
      "outputs": [
        {
          "output_type": "stream",
          "name": "stderr",
          "text": [
            "2025-01-13 05:12:23,259 - INFO - 로그 시간이 표시됩니다\n",
            "2025-01-13 05:12:23,260 - ERROR - 에러가 발생했어요!\n"
          ]
        }
      ]
    },
    {
      "cell_type": "code",
      "source": [
        "import logging\n",
        "\n",
        "logging.basicConfig(\n",
        "    level=logging.DEBUG,\n",
        "    format='%(asctime)s - %(levelname)s - %(message)s',\n",
        "    force=True\n",
        ")\n",
        "\n",
        "def divide_numbers(a, b):\n",
        "    logging.info(f'{a}를 {b}로 나누기 시작')\n",
        "    try:\n",
        "        result = a / b\n",
        "        logging.info(f'계산 결과: {result}')\n",
        "        return result\n",
        "    except ZeroDivisionError:\n",
        "        logging.error('0으로 나눌 수 없습니다!')\n",
        "        return None\n",
        "\n",
        "# 테스트\n",
        "divide_numbers(10, 2)\n",
        "divide_numbers(10, 0)"
      ],
      "metadata": {
        "colab": {
          "base_uri": "https://localhost:8080/"
        },
        "id": "3Au7j-k08m6s",
        "outputId": "2e047370-714e-4195-d001-f47df2d2eb4b"
      },
      "execution_count": 24,
      "outputs": [
        {
          "output_type": "stream",
          "name": "stderr",
          "text": [
            "2025-01-13 05:14:23,985 - INFO - 10를 2로 나누기 시작\n",
            "2025-01-13 05:14:23,988 - INFO - 계산 결과: 5.0\n",
            "2025-01-13 05:14:23,990 - INFO - 10를 0로 나누기 시작\n",
            "2025-01-13 05:14:23,991 - ERROR - 0으로 나눌 수 없습니다!\n"
          ]
        }
      ]
    },
    {
      "cell_type": "code",
      "source": [
        "import logging\n",
        "\n",
        "# 파일에 로그 쓰기 설정\n",
        "logging.basicConfig(\n",
        "    level=logging.DEBUG,\n",
        "    filename='app.log',  # 이 부분이 추가됨\n",
        "    filemode='w',  # 'w'는 덮어쓰기, 'a'는 추가하기\n",
        "    force=True\n",
        ")\n",
        "\n",
        "logging.debug('디버그 메시지입니다')\n",
        "logging.info('정보 메시지입니다')\n",
        "logging.warning('경고 메시지입니다')\n",
        "logging.error('에러 메시지입니다')"
      ],
      "metadata": {
        "id": "jqlkibcF84db"
      },
      "execution_count": 26,
      "outputs": []
    },
    {
      "cell_type": "code",
      "source": [
        "import logging.handlers\n",
        "\n",
        "\n",
        "# DEBUG > INFO > WARNING > ERROR > CRITICAL\n",
        "def logger():\n",
        "    log_obj = logging.getLogger(\"log_name\") # log name으로 log 객체 생성\n",
        "    log_obj.setLevel(logging.ERROR) # 어디부터 기록할지 설정\n",
        "\n",
        "    fileHandeler = logging.FileHandler(filename=\"./test.txt\") # 파일로 기록\n",
        "    # streamHandler = logging.StreamHandler() # 콘솔에 출력\n",
        "\n",
        "    fileHandeler.setLevel(logging.ERROR) # 파일 기록 레벨 설정(Debug로 바꿔보세요.)\n",
        "    # streamHandler.setLevel(logging.DEBUG) # 콘솔 기록 레벨 설정\n",
        "\n",
        "    formatter = logging.Formatter(\"%(name)s, %(asctime)s, %(levelname)s, %(message)s\") #포멧 생성\n",
        "\n",
        "    fileHandeler.setFormatter(formatter) # 파일 메시지 포멧 설정\n",
        "    # streamHandler.setFormatter(formatter) # 콘솔 메시지 포멧 설정\n",
        "\n",
        "    log_obj.addHandler(fileHandeler) # log_obj handler에 파일 출력 방식 추가\n",
        "    # log_obj.addHandler(streamHandler) # log_obj handler에 파일 콘솔 방식 추가\n",
        "\n",
        "    return log_obj\n",
        "\n",
        "log = logger()\n",
        "\n",
        "# 아래 코드를 기록하고 싶은 곳에 함께 설정\n",
        "log.debug('debug')\n",
        "log.info('info')\n",
        "log.warning('warning')\n",
        "log.error('error')\n",
        "log.critical('critical')\n",
        "\n",
        "print('---')\n",
        "\n",
        "# 아래와 같이 사용합니다.\n",
        "def f():\n",
        "    try:\n",
        "        x = 1 / 0\n",
        "    except Exception as e:\n",
        "        print(e)\n",
        "        log.error(f'{e} error')\n",
        "\n",
        "f()"
      ],
      "metadata": {
        "colab": {
          "base_uri": "https://localhost:8080/"
        },
        "id": "bnmGcwTd9KWA",
        "outputId": "54d8f282-637b-49c9-8a4a-781a26082c72"
      },
      "execution_count": 11,
      "outputs": [
        {
          "output_type": "stream",
          "name": "stderr",
          "text": [
            "ERROR:log_name:error\n",
            "CRITICAL:log_name:critical\n",
            "ERROR:log_name:division by zero error\n"
          ]
        },
        {
          "output_type": "stream",
          "name": "stdout",
          "text": [
            "---\n",
            "division by zero\n"
          ]
        }
      ]
    }
  ]
}