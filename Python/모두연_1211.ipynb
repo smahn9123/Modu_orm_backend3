{
  "nbformat": 4,
  "nbformat_minor": 0,
  "metadata": {
    "colab": {
      "provenance": []
    },
    "kernelspec": {
      "name": "python3",
      "display_name": "Python 3"
    },
    "language_info": {
      "name": "python"
    }
  },
  "cells": [
    {
      "cell_type": "markdown",
      "source": [
        "# 정규표현식\n",
        "* 정규표현식은 지금 이렇게 배우면 실무에서 쓸 정도는 되지만 '컴퓨터 사이언스는 어렵다 그 중에서도 정규표현식이 가장 어렵다'이 정도로 깊게 들어가면 어렵습니다.\n",
        "* 실습 링크: https://regexr.com/5nvc2\n",
        "* 플래그는 옵션이라 생각하시면 됩니다. 3개의 플래그를 자주 사용합니다. g, m, i입니다. 파이썬에서는 i옵션을 종종 사용해요.\n",
        "\n",
        "## 일반 문자열\n",
        "```\n",
        "/일반문자열/\n",
        "/\\[\\]/   # 특수문자는 역슬러시를 붙여주세요.\n",
        "```\n",
        "\n",
        "## 문자열의 시작과 끝\n",
        "```\n",
        "/^hello/\n",
        "/hello$/\n",
        "/^hello$/\n",
        "```\n",
        "\n",
        "## 모든 단일 문자\n",
        "```\n",
        "/./\n",
        "/../\n",
        "/.../\n",
        "/010-....-..../\n",
        "/h.llo/   # h!llo 도 매칭이 되어버립니다.\n",
        "\\.jpg     # 점 그대로를 사용하고 싶으시면 이스케이프!\n",
        "/hojun\\.lee/\n",
        "/\\$100/\n",
        "```\n",
        "\n",
        "## 택1\n",
        "\n",
        "```\n",
        "/h[eao]llo/\n",
        "/h[abcdef]llo/ # 이렇게 하지 않고\n",
        "/h[a-z]llo/    # 이렇게 범위로 합니다.\n",
        "/h[a-zA-Z0-9]llo/\n",
        "/h[^0-9]llo/   # 주의: 대괄호 안에 들어가는 캐럿은 부정입니다.\n",
        "/h[.]llo/      # 주의: 대괄호 안에서 특수 문자도 똑같이 택1로(기호로) 들어갑니다. 이스케이프를 굳이 안하셔도 되는데 위 사례처럼 캐럿같은 것이 있으니 마음편하게 이스케이프를 하셔도 문제가 되지 않습니다.\n",
        "/[가-힣]/\n",
        "/010-[0-9][0-9][0-9][0-9]-[0-9][0-9][0-9][0-9]/\n",
        "```\n",
        "\n",
        "## 문자 클래스, 캐릭터 클래스\n",
        "\n",
        "```\n",
        "\\d    // [0-9]와 동일: 숫자\n",
        "\\D    // [^0-9]와 동일: 숫자가 아닌 문자\n",
        "\\w    // [a-zA-Z0-9_]와 동일: 단어 문자\n",
        "\\W    // [^a-zA-Z0-9_]와 동일: 단어 문자가 아닌 문자\n",
        "\\s    // 공백 문자\n",
        "\\S    // 공백이 아닌 문자\n",
        "010-\\d\\d\\d\\d-\\d\\d\\d\\d\n",
        "010\\D\\d\\d\\d\\d\\D\\d\\d\\d\\d\n",
        "```\n",
        "\n",
        "## 수량자\n",
        "\n",
        "* 수량을 표시하기 위한 것입니다. 예를 들어, `010-\\d\\d\\d\\d-\\d\\d\\d\\d`는 `010-\\d{4}-\\d{4}` 또는 `010-[0-9]{4}-[0-9]{4}`와 같이 표현될 수 있습니다.\n",
        "* `*`, `?`, `+`, `{}` 수량자 4개가 있습니다.\n",
        "\n",
        "* `*`는 0개 ~ N개\n",
        "* `?`는 0개 ~ 1개\n",
        "* `+`는 1개 ~ N개\n",
        "* `{}`는 갯수를 직접 안에 넣을 수 있습니다.\n",
        "\n",
        "```\n",
        "[0-9]{4} 4개\n",
        "[0-9]{4,} 4개 ~ N개\n",
        "[0-9]{,4} 0개 ~ 4개\n",
        "\n",
        "01010002000\n",
        "010-1000-2000\n",
        "010!10002000\n",
        "010.1000.2000\n",
        "\n",
        "010[-. !]?\\d{4}[-. !]?\\d{4}\n",
        "[a-zA-Z0-9-_.]+@[a-zA-Z.]+\n",
        "```\n",
        "\n",
        "## or 연산자\n",
        "\n",
        "```\n",
        "/cat|dog/    # cat 또는 dog\n",
        "/10|[0-9]/   # 10 또는 0부터 9\n",
        "```\n",
        "\n",
        "## 그룹화\n",
        "* 괄호를 사용해서 그룹화를 해놓으면 좋은점이 이 그룹을 별도로 컨트롤 할 수 있어요.\n",
        "\n",
        "```\n",
        "/(월|화|수|목|금|토|일)요일/\n",
        "/(hello) \\1/      // hello hello (같은 단어 반복)\n",
        "/(\\d+) \\1/       // 숫자가 공백을 두고 반복: \"123 123\"\n",
        "/(\\d+)-\\1/       // 숫자가 대시를 두고 반복: \"123-123\"\n",
        "```\n",
        "\n",
        "* 이러한 그룹을 사용해서 마크다운을 마크업으로 변경을 한다던지 등에 양식 변경에 많이 사용합니다."
      ],
      "metadata": {
        "id": "EEiBnfGdFDEJ"
      }
    },
    {
      "cell_type": "markdown",
      "source": [
        "## 연습문제1\n",
        "\n",
        "```\n",
        "1. hello로 시작하는 모든 줄을 찾으세요.\n",
        "    * 답: /^hello/\n",
        "2. world로 끝나는 모든 줄을 찾으세요.\n",
        "    * 답: /hello$/\n",
        "3. h로 시작하고 o로 끝나는 5글자 단어를 찾으세요.\n",
        "    * 답: /h...o/\n",
        "    * 답: /h[a-zA-Z][a-zA-Z][a-zA-Z]o/\n",
        "4. 대괄호([]) 안에 있는 3자리 숫자를 찾으세요.\n",
        "    * 답: /\\[\\d\\d\\d\\]/\n",
        "    * 답: /\\[[0-9][0-9][0-9]\\]/\n",
        "5. 이메일에서 @ 앞부분이 'paul'인 이메일 주소를 찾으세요.\n",
        "    * 답: /paul\\@/\n",
        "    * 답: /paul@/\n",
        "6. 'hello'와 'world' 사이에 정확히 한 글자가 있는 경우를 찾으세요.\n",
        "    * 답: /hello.world/\n",
        "7. 010으로 시작하는 전화번호를 찾으세요.\n",
        "    * 답: 010-\\d\\d\\d\\d-\\d\\d\\d\\d\n",
        "    * 답: 010-\\d{4}-\\d{4}\n",
        "8. 영문 대소문자 또는 숫자가 아닌 문자를 찾으세요.\n",
        "    * 답: /[^a-zA-Z0-9]/\n",
        "9. 한글로 시작하는 줄을 찾으세요.\n",
        "    * 답: /[가-힣]/\n",
        "```\n",
        "\n",
        "## 연습문제 2\n",
        "\n",
        "```\n",
        "1. 전화번호 형식(010-1234-5678)을 찾는 패턴을 만드세요.\n",
        "    * 정답: /0\\d{2,3}[^a-zA-Z0-9]?\\d{3,4}[^a-zA-Z0-9]?\\d{3,4}/\n",
        "2. 같은 단어가 연속해서 나오는 경우를 찾는 패턴을 만드세요.\n",
        "    * 정답: /([a-zA-Z]+) \\1/\n",
        "3. http 또는 https로 시작하는 URL을 찾는 패턴을 만드세요.\n",
        "    * 정답: /https?\\:\\/\\//\n",
        "4. 세 글자 이상의 단어를 찾는 패턴을 만드세요.\n",
        "    * 정답: /[a-zA-Z]{3,}/\n",
        "5. 같은 숫자가 2번 이상 반복되는 패턴을 찾으세요.\n",
        "    * 정답: /([0-9]+) \\1/\n",
        "6. 이메일 주소에서 도메인 부분만 찾는 패턴을 만드세요.\n",
        "    * step1: /@()\\.()/\n",
        "    * step2: /@([a-zA-Z-_]+)\\.([a-zA-Z-_.]+)/\n",
        "7. HTML 태그 쌍을 찾는 패턴을 만드세요.\n",
        "    * step1: /<h1>hello</h1>/\n",
        "    * step2: /\\<(\\w+)\\>hello\\<\\/(\\w+)\\>/ 이렇게 만들면 /<h1>hello</p>/\n",
        "    * step3: /\\<(\\w+)\\>.*\\<\\/(\\1)\\>/\n",
        "8. 연속된 세 글자 이상의 알파벳을 찾는 패턴을 만드세요.\n",
        "    * 정답: /[a-zA-Z]{3,}/\n",
        "```"
      ],
      "metadata": {
        "id": "LoTeBoulR0iy"
      }
    },
    {
      "cell_type": "code",
      "execution_count": 4,
      "metadata": {
        "colab": {
          "base_uri": "https://localhost:8080/"
        },
        "id": "OfogG4uXE_RB",
        "outputId": "9661da0b-7b55-491d-fd46-ae845685e590"
      },
      "outputs": [
        {
          "output_type": "execute_result",
          "data": {
            "text/plain": [
              "40"
            ]
          },
          "metadata": {},
          "execution_count": 4
        }
      ],
      "source": [
        "# lv 0: 0-9까지의 숫자가 있습니다. 더하세요.\n",
        "s = 'abcd9827abc1032a5210a'\n",
        "result = 0\n",
        "\n",
        "for i in s:\n",
        "    if i.isdigit():\n",
        "        result += int(i)\n",
        "\n",
        "result"
      ]
    },
    {
      "cell_type": "code",
      "source": [
        "# lv 1: 0-10까지의 숫자가 있습니다. 더하세요.\n",
        "import re\n",
        "\n",
        "s = 'abcd82abc1032a2103a'\n",
        "result = 0\n",
        "\n",
        "for i in re.findall('10|[0-9]', s):\n",
        "    result += int(i)\n",
        "\n",
        "result"
      ],
      "metadata": {
        "colab": {
          "base_uri": "https://localhost:8080/"
        },
        "id": "btU0YlQfZ2Ht",
        "outputId": "05888e17-49b4-4944-f24e-101c6ba47f62"
      },
      "execution_count": 7,
      "outputs": [
        {
          "output_type": "execute_result",
          "data": {
            "text/plain": [
              "40"
            ]
          },
          "metadata": {},
          "execution_count": 7
        }
      ]
    },
    {
      "cell_type": "code",
      "source": [
        "import re\n",
        "\n",
        "# 1. 기본 패턴 매칭\n",
        "pattern = re.compile(r'hello')\n",
        "print(pattern.match('hello world'))\n",
        "\n",
        "# 2. re 모듈의 메서드 사용(저는 컴파일보다 이 방법을 좀 더 선호합니다.)\n",
        "print(re.match(r'hello', 'hello world'))"
      ],
      "metadata": {
        "id": "KfQXwCbN5N4Y"
      },
      "execution_count": null,
      "outputs": []
    },
    {
      "cell_type": "code",
      "source": [
        "# 주요 컴파일 플래그\n",
        "# re.I"
      ],
      "metadata": {
        "id": "XNEhWKfG5rKU"
      },
      "execution_count": null,
      "outputs": []
    },
    {
      "cell_type": "code",
      "source": [
        "# import re\n",
        "\n",
        "# 자주 사용되는 메서드 순서\n",
        "# re.findall\n",
        "# re.sub\n",
        "# re.split"
      ],
      "metadata": {
        "id": "J3K3j4ow50ZQ"
      },
      "execution_count": null,
      "outputs": []
    },
    {
      "cell_type": "code",
      "source": [
        "text = \"welcome hello world\"\n",
        "pattern = re.compile(r'hello')\n",
        "\n",
        "# match()는 문자열 시작부터 검색\n",
        "print(pattern.match(text))  # None\n",
        "\n",
        "# search()는 문자열 전체에서 검색(search를 좀 더 선호합니다.)\n",
        "print(pattern.search(text))  # <re.Match object>"
      ],
      "metadata": {
        "colab": {
          "base_uri": "https://localhost:8080/"
        },
        "id": "TPX4Wl6T6L36",
        "outputId": "4d1a9cc5-d86e-48a4-e092-062b7a7fa578"
      },
      "execution_count": 8,
      "outputs": [
        {
          "output_type": "stream",
          "name": "stdout",
          "text": [
            "None\n",
            "<re.Match object; span=(8, 13), match='hello'>\n"
          ]
        }
      ]
    },
    {
      "cell_type": "code",
      "source": [
        "text = \"welcome hello world hello hi\"\n",
        "pattern = re.compile(r'hello')\n",
        "pattern.search(text)"
      ],
      "metadata": {
        "colab": {
          "base_uri": "https://localhost:8080/"
        },
        "id": "0IIZsM5R6VgK",
        "outputId": "0a203cdc-ce48-4733-d886-7e8ee3da36f0"
      },
      "execution_count": 9,
      "outputs": [
        {
          "output_type": "execute_result",
          "data": {
            "text/plain": [
              "<re.Match object; span=(8, 13), match='hello'>"
            ]
          },
          "metadata": {},
          "execution_count": 9
        }
      ]
    },
    {
      "cell_type": "code",
      "source": [
        "text = \"welcome hello world hello hi\"\n",
        "# pattern = re.compile(r'hello')\n",
        "# pattern.findall(text)\n",
        "re.findall(r'hello', text)"
      ],
      "metadata": {
        "colab": {
          "base_uri": "https://localhost:8080/"
        },
        "id": "30OxD1gT6nfC",
        "outputId": "9add0fbb-e3ab-42d4-acd8-8e8b9513805d"
      },
      "execution_count": 11,
      "outputs": [
        {
          "output_type": "execute_result",
          "data": {
            "text/plain": [
              "['hello', 'hello']"
            ]
          },
          "metadata": {},
          "execution_count": 11
        }
      ]
    },
    {
      "cell_type": "code",
      "source": [
        "text = \"hello world hello\"\n",
        "pattern = re.compile(r'\\w+')\n",
        "\n",
        "# findall()은 모든 매칭을 리스트로 반환\n",
        "print(pattern.findall(text))  # ['hello', 'world', 'hello']\n",
        "\n",
        "# finditer()는 매칭을 반복 가능한 객체로 반환\n",
        "for m in pattern.finditer(text):\n",
        "    print(m)  # <re.Match object>"
      ],
      "metadata": {
        "colab": {
          "base_uri": "https://localhost:8080/"
        },
        "id": "IlH82pIm7QPL",
        "outputId": "854c5e59-31a4-4eb3-9063-c584cde91806"
      },
      "execution_count": 12,
      "outputs": [
        {
          "output_type": "stream",
          "name": "stdout",
          "text": [
            "['hello', 'world', 'hello']\n",
            "<re.Match object; span=(0, 5), match='hello'>\n",
            "<re.Match object; span=(6, 11), match='world'>\n",
            "<re.Match object; span=(12, 17), match='hello'>\n"
          ]
        }
      ]
    },
    {
      "cell_type": "code",
      "source": [
        "import re\n",
        "\n",
        "# re.sub(패턴, 바꿀문자열, 원본문자열)\n",
        "re.sub(r'C[A-Z][A-Z]', 'CEO', 'paullab CTO mura')"
      ],
      "metadata": {
        "colab": {
          "base_uri": "https://localhost:8080/",
          "height": 35
        },
        "id": "0AdS0SUG7222",
        "outputId": "571668c3-9ee5-4469-ab4b-f58a48c77df3"
      },
      "execution_count": 13,
      "outputs": [
        {
          "output_type": "execute_result",
          "data": {
            "text/plain": [
              "'paullab CEO mura'"
            ],
            "application/vnd.google.colaboratory.intrinsic+json": {
              "type": "string"
            }
          },
          "metadata": {},
          "execution_count": 13
        }
      ]
    },
    {
      "cell_type": "code",
      "source": [
        "import re\n",
        "\n",
        "re.sub(r'010[^0-9]?([0-9]{4})[^0-9]?([0-9]{4})', r'010-\\1-\\2','01010002000')\n",
        "re.sub(r'010[^0-9]?([0-9]{4})[^0-9]?([0-9]{4})', r'010-\\1-\\2','010-1000.2000')\n",
        "re.sub(r'010[^0-9]?([0-9]{4})[^0-9]?([0-9]{4})', r'010-\\1-\\2','010 1000 2000')"
      ],
      "metadata": {
        "colab": {
          "base_uri": "https://localhost:8080/",
          "height": 35
        },
        "id": "n24yabUW8lE7",
        "outputId": "a98100cc-9846-4b44-da83-04fa3d19f5ba"
      },
      "execution_count": 17,
      "outputs": [
        {
          "output_type": "execute_result",
          "data": {
            "text/plain": [
              "'010-1000-2000'"
            ],
            "application/vnd.google.colaboratory.intrinsic+json": {
              "type": "string"
            }
          },
          "metadata": {},
          "execution_count": 17
        }
      ]
    },
    {
      "cell_type": "code",
      "source": [
        "import re\n",
        "\n",
        "re.replace = re.sub"
      ],
      "metadata": {
        "id": "oocRLZWc9u46"
      },
      "execution_count": 18,
      "outputs": []
    },
    {
      "cell_type": "code",
      "source": [
        "re.replace(r'010[^0-9]?([0-9]{4})[^0-9]?([0-9]{4})', r'010-\\1-\\2','01010002000')"
      ],
      "metadata": {
        "colab": {
          "base_uri": "https://localhost:8080/",
          "height": 35
        },
        "id": "MPIrY0JJ9yOi",
        "outputId": "e9c02533-f090-43c3-8d19-b93cc77fc04f"
      },
      "execution_count": 19,
      "outputs": [
        {
          "output_type": "execute_result",
          "data": {
            "text/plain": [
              "'010-1000-2000'"
            ],
            "application/vnd.google.colaboratory.intrinsic+json": {
              "type": "string"
            }
          },
          "metadata": {},
          "execution_count": 19
        }
      ]
    },
    {
      "cell_type": "code",
      "source": [
        "pattern = re.compile(r'(?P<year>\\d{4})-(?P<month>\\d{2})-(?P<day>\\d{2})')\n",
        "m = pattern.match(\"2024-11-02\")\n",
        "if m:\n",
        "    print(m.group('year'))   # 2024\n",
        "    print(m.group('month'))  # 11\n",
        "    print(m.group('day'))    # 02"
      ],
      "metadata": {
        "colab": {
          "base_uri": "https://localhost:8080/"
        },
        "id": "2rqz-fPl9_8H",
        "outputId": "11983d63-617f-4528-d3f0-30e4f53db7bc"
      },
      "execution_count": 21,
      "outputs": [
        {
          "output_type": "stream",
          "name": "stdout",
          "text": [
            "2024\n",
            "11\n",
            "02\n"
          ]
        }
      ]
    },
    {
      "cell_type": "code",
      "source": [
        "# 다음 정규식을 그룹을 사용해서\n",
        "# 지역번호(064), 앞자리(722), 뒷자리(1000) 이름을 사용하고\n",
        "# 이것을 리스트로 ['064', '722', '1000']로 출력되게 해주세요.\n",
        "\n",
        "pattern = re.compile(r'(?P<지역번호>\\d{3}) (?P<앞자리>\\d{3}) (?P<뒷자리>\\d{4})')\n",
        "m = pattern.match('064 722 1000')\n",
        "result = [m.group('지역번호'), m.group('앞자리'), m.group('뒷자리')]\n",
        "result"
      ],
      "metadata": {
        "colab": {
          "base_uri": "https://localhost:8080/"
        },
        "id": "4FUvu1r5-pcQ",
        "outputId": "168b70ab-781d-4da8-aa5d-e859c82d5f67"
      },
      "execution_count": 27,
      "outputs": [
        {
          "output_type": "execute_result",
          "data": {
            "text/plain": [
              "['064', '722', '1000']"
            ]
          },
          "metadata": {},
          "execution_count": 27
        }
      ]
    },
    {
      "cell_type": "code",
      "source": [
        "import re\n",
        "\n",
        "markdown = '''# 메인 제목\n",
        "## 부제목\n",
        "이것은 [위니브](https://weniv.co.kr) 튜토리얼입니다.\n",
        "**중요한** 내용과 *강조할* 내용이 있습니다.\n",
        "### 세부 내용\n",
        "추가 설명은 [여기](https://example.com)를 참고하세요.'''\n",
        "\n",
        "# header\n",
        "pattern = re.compile(r'(#{1,6}) (.+)')\n",
        "# pattern.sub(교체문자, 원본)\n",
        "def header_replace(m):\n",
        "    print(m)\n",
        "\n",
        "pattern.sub(header_replace, markdown)"
      ],
      "metadata": {
        "colab": {
          "base_uri": "https://localhost:8080/",
          "height": 108
        },
        "id": "dQkrK1WNPNOn",
        "outputId": "ed43edaf-3718-4d9e-9e34-23fa0d98a3f4"
      },
      "execution_count": 32,
      "outputs": [
        {
          "output_type": "stream",
          "name": "stdout",
          "text": [
            "<re.Match object; span=(0, 7), match='# 메인 제목'>\n",
            "<re.Match object; span=(8, 14), match='## 부제목'>\n",
            "<re.Match object; span=(83, 92), match='### 세부 내용'>\n"
          ]
        },
        {
          "output_type": "execute_result",
          "data": {
            "text/plain": [
              "'\\n\\n이것은 [위니브](https://weniv.co.kr) 튜토리얼입니다.\\n**중요한** 내용과 *강조할* 내용이 있습니다.\\n\\n추가 설명은 [여기](https://example.com)를 참고하세요.'"
            ],
            "application/vnd.google.colaboratory.intrinsic+json": {
              "type": "string"
            }
          },
          "metadata": {},
          "execution_count": 32
        }
      ]
    },
    {
      "cell_type": "code",
      "source": [
        "import re\n",
        "\n",
        "patterns = {\n",
        "    'headers': re.compile(r'^(#{1,6})\\s+(.+)$', re.MULTILINE),\n",
        "    'links': re.compile(r'\\[([^\\]]+)\\]\\(([^)]+)\\)'),\n",
        "    'bold': re.compile(r'\\*\\*([^*]+)\\*\\*'),\n",
        "    'italic': re.compile(r'\\*([^*]+)\\*')\n",
        "}\n",
        "\n",
        "def parse(markdown):\n",
        "    html = markdown\n",
        "\n",
        "    # 헤더 변환\n",
        "    def header_replace(m):\n",
        "        level = len(m.group(1))\n",
        "        return f'<h{level}>{m.group(2)}</h{level}>'\n",
        "\n",
        "    html = patterns['headers'].sub(header_replace, html)\n",
        "\n",
        "    # 링크 변환\n",
        "    html = patterns['links'].sub(r'<a href=\"\\2\">\\1</a>', html)\n",
        "\n",
        "    # 강조 구문 변환\n",
        "    html = patterns['bold'].sub(r'<strong>\\1</strong>', html)\n",
        "    html = patterns['italic'].sub(r'<em>\\1</em>', html)\n",
        "\n",
        "    return html\n",
        "\n",
        "# 사용 예시\n",
        "markdown = \"\"\"\n",
        "# 메인 제목\n",
        "## 부제목\n",
        "\n",
        "이것은 [위니브](https://weniv.co.kr) 튜토리얼입니다.\n",
        "**중요한** 내용과 *강조할* 내용이 있습니다.\n",
        "\"\"\"\n",
        "\n",
        "print(parse(markdown))"
      ],
      "metadata": {
        "id": "cTjsw3D4WBhj"
      },
      "execution_count": null,
      "outputs": []
    },
    {
      "cell_type": "code",
      "source": [
        "import re\n",
        "\n",
        "markdown = r'''# 메인 제목\n",
        "## 부제목\n",
        "이것은 [위니브](https://weniv.co.kr) 튜토리얼입니다.\n",
        "**중요한** 내용과 *강조할* 내용이 있습니다.\n",
        "### 세부 내용\n",
        "추가 설명은 [여기](https://example.com)를 참고하세요.'''\n",
        "\n",
        "# header\n",
        "markdown = re.sub('### (.+)', r'<h3>\\1</h3>', markdown)\n",
        "markdown = re.sub('## (.+)', r'<h2>\\1</h2>', markdown)\n",
        "markdown = re.sub('# (.+)', r'<h1>\\1</h1>', markdown)\n",
        "\n",
        "# link\n",
        "markdown = re.sub('\\[(.+)\\]\\((.+)\\)', r'<a href=\"\\2\">\\1</a>', markdown)\n",
        "\n",
        "# bold\n",
        "markdown = re.sub('\\*\\*(.+)\\*\\*', r'<strong>\\1</strong>', markdown)\n",
        "\n",
        "# italic\n",
        "markdonw = re.sub('\\*(.+)\\*', r'<em>\\1</em>', markdown)\n",
        "markdonw"
      ],
      "metadata": {
        "colab": {
          "base_uri": "https://localhost:8080/",
          "height": 71
        },
        "id": "vIp51nLqQvhc",
        "outputId": "ab19e86c-0b6c-454a-f305-afd2415aeaea"
      },
      "execution_count": 43,
      "outputs": [
        {
          "output_type": "execute_result",
          "data": {
            "text/plain": [
              "'<h1>메인 제목</h1>\\n<h2>부제목</h2>\\n이것은 <a href=\"https://weniv.co.kr\">위니브</a> 튜토리얼입니다.\\n<strong>중요한</strong> 내용과 <em>강조할</em> 내용이 있습니다.\\n<h3>세부 내용</h3>\\n추가 설명은 <a href=\"https://example.com\">여기</a>를 참고하세요.'"
            ],
            "application/vnd.google.colaboratory.intrinsic+json": {
              "type": "string"
            }
          },
          "metadata": {},
          "execution_count": 43
        }
      ]
    },
    {
      "cell_type": "code",
      "source": [
        "s = '2S4D3T'\n",
        "token = re.findall(r'(\\d)([SDT])', s)\n",
        "\n",
        "# 2 + 16 + 27\n",
        "\n",
        "d = {\n",
        "    'S': 1,\n",
        "    'D': 2,\n",
        "    'T': 3\n",
        "}\n",
        "\n",
        "sum(map(lambda x:int(x[0])**d[x[1]], token))"
      ],
      "metadata": {
        "colab": {
          "base_uri": "https://localhost:8080/"
        },
        "id": "wc9Ky1xXWgRC",
        "outputId": "1a4a8d01-9759-4c8f-e1a4-538e4ffbbdba"
      },
      "execution_count": 48,
      "outputs": [
        {
          "output_type": "execute_result",
          "data": {
            "text/plain": [
              "45"
            ]
          },
          "metadata": {},
          "execution_count": 48
        }
      ]
    },
    {
      "cell_type": "code",
      "source": [
        "s = '2S4D3T'\n",
        "result = []\n",
        "\n",
        "for i in s:\n",
        "    if i.isdigit():\n",
        "        result.append(int(i))\n",
        "    else:\n",
        "        if i == 'S':\n",
        "            result[-1] = result[-1] ** 1\n",
        "        elif i == 'D':\n",
        "            result[-1] = result[-1] ** 2\n",
        "        elif i == 'T':\n",
        "            result[-1] = result[-1] ** 3\n",
        "sum(result)"
      ],
      "metadata": {
        "colab": {
          "base_uri": "https://localhost:8080/"
        },
        "id": "EVG3HEMHYEP2",
        "outputId": "d3565e8c-5650-4e39-cc01-dc5c7f0b7d98"
      },
      "execution_count": 49,
      "outputs": [
        {
          "output_type": "execute_result",
          "data": {
            "text/plain": [
              "45"
            ]
          },
          "metadata": {},
          "execution_count": 49
        }
      ]
    },
    {
      "cell_type": "code",
      "source": [
        "# 정규표현식을 알면 이렇게 하면 10을 판별할 수 있습니다.\n",
        "s = '2S10D3T'\n",
        "re.findall(r'(10|[0-9])([SDT])', s)"
      ],
      "metadata": {
        "colab": {
          "base_uri": "https://localhost:8080/"
        },
        "id": "NYH2ceaqYqkh",
        "outputId": "23937506-adbf-4ed4-e3d5-caec82b4e8b3"
      },
      "execution_count": 51,
      "outputs": [
        {
          "output_type": "execute_result",
          "data": {
            "text/plain": [
              "[('2', 'S'), ('10', 'D'), ('3', 'T')]"
            ]
          },
          "metadata": {},
          "execution_count": 51
        }
      ]
    },
    {
      "cell_type": "markdown",
      "source": [
        "# 외워야 할 코드"
      ],
      "metadata": {
        "id": "FfUAgpfPVnEW"
      }
    },
    {
      "cell_type": "code",
      "source": [
        "import re\n",
        "\n",
        "# findall\n",
        "# re.findall(패턴, 원본)\n",
        "s = 'hello world hi weniv hollo jeju'\n",
        "re.findall(r'h[eo]llo', s)"
      ],
      "metadata": {
        "colab": {
          "base_uri": "https://localhost:8080/"
        },
        "id": "-ckVjhuXWQM_",
        "outputId": "be379dbe-9362-4589-a740-e68389f1b472"
      },
      "execution_count": 45,
      "outputs": [
        {
          "output_type": "execute_result",
          "data": {
            "text/plain": [
              "['hello', 'hollo']"
            ]
          },
          "metadata": {},
          "execution_count": 45
        }
      ]
    },
    {
      "cell_type": "code",
      "source": [
        "import re\n",
        "\n",
        "# sub\n",
        "# re.sub(패턴, 대체문자, 원본)\n",
        "s = 'hello world hi weniv hollo jeju'\n",
        "re.sub(r'h[eo]llo', 'welcome', s)"
      ],
      "metadata": {
        "colab": {
          "base_uri": "https://localhost:8080/",
          "height": 35
        },
        "id": "xpwkOWHkZSaY",
        "outputId": "f974c49b-45ef-454b-95e4-1f463a381c1e"
      },
      "execution_count": 52,
      "outputs": [
        {
          "output_type": "execute_result",
          "data": {
            "text/plain": [
              "'welcome world hi weniv welcome jeju'"
            ],
            "application/vnd.google.colaboratory.intrinsic+json": {
              "type": "string"
            }
          },
          "metadata": {},
          "execution_count": 52
        }
      ]
    }
  ]
}