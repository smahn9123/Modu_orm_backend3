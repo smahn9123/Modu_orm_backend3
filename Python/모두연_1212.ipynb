{
  "nbformat": 4,
  "nbformat_minor": 0,
  "metadata": {
    "colab": {
      "provenance": []
    },
    "kernelspec": {
      "name": "python3",
      "display_name": "Python 3"
    },
    "language_info": {
      "name": "python"
    }
  },
  "cells": [
    {
      "cell_type": "markdown",
      "source": [
        "# 이터레이터\n",
        "\n",
        "* 값을 차례대로 꺼낼 수 있는 객체\n",
        "* 순회를 돌 수 있는 객체"
      ],
      "metadata": {
        "id": "IX-pWdr1Lrst"
      }
    },
    {
      "cell_type": "code",
      "execution_count": null,
      "metadata": {
        "colab": {
          "base_uri": "https://localhost:8080/"
        },
        "id": "W5OKYT3GKzbx",
        "outputId": "3737bb4d-b290-41a2-a7d2-4792fb170965"
      },
      "outputs": [
        {
          "output_type": "execute_result",
          "data": {
            "text/plain": [
              "[('Licat', 'A'), ('Licat', 'B'), ('Licat', 'C')]"
            ]
          },
          "metadata": {},
          "execution_count": 2
        }
      ],
      "source": [
        "class Range:\n",
        "    def __next__(self):\n",
        "        return 'Licat'\n",
        "\n",
        "    def __iter__(self):\n",
        "        return self\n",
        "\n",
        "list(zip(Range(), 'ABC'))"
      ]
    },
    {
      "cell_type": "code",
      "source": [
        "x = 0\n",
        "for i in Range():\n",
        "    print(i)\n",
        "    x += 1\n",
        "    if x > 5:\n",
        "        break"
      ],
      "metadata": {
        "colab": {
          "base_uri": "https://localhost:8080/"
        },
        "id": "r_hwvwfML8kZ",
        "outputId": "d3488876-f365-46c4-b7e2-ddf5dabca27c"
      },
      "execution_count": null,
      "outputs": [
        {
          "output_type": "stream",
          "name": "stdout",
          "text": [
            "Licat\n",
            "Licat\n",
            "Licat\n",
            "Licat\n",
            "Licat\n",
            "Licat\n"
          ]
        }
      ]
    },
    {
      "cell_type": "code",
      "source": [
        "class Range:\n",
        "    def __init__(self, stop):\n",
        "        self.current_value = 0  # 현재 값\n",
        "        self.stop = stop  # 순회를 멈출 값\n",
        "\n",
        "    def __iter__(self):\n",
        "        return self\n",
        "\n",
        "    def __next__(self):\n",
        "        if self.current_value >= self.stop:\n",
        "            raise StopIteration\n",
        "        result = self.current_value\n",
        "        self.current_value += 1\n",
        "        return 'hello world'\n",
        "\n",
        "for i in Range(5):\n",
        "    print(i)"
      ],
      "metadata": {
        "colab": {
          "base_uri": "https://localhost:8080/"
        },
        "id": "c2pREco2Mrxt",
        "outputId": "568ad7c0-8daf-4818-8e33-41f995c031a4"
      },
      "execution_count": null,
      "outputs": [
        {
          "output_type": "stream",
          "name": "stdout",
          "text": [
            "hello world\n",
            "hello world\n",
            "hello world\n",
            "hello world\n",
            "hello world\n"
          ]
        }
      ]
    },
    {
      "cell_type": "code",
      "source": [
        "print(type(range(5)))"
      ],
      "metadata": {
        "colab": {
          "base_uri": "https://localhost:8080/"
        },
        "id": "2yrMBqiPM4og",
        "outputId": "0d677e27-94b9-4344-c08d-b0156df422cd"
      },
      "execution_count": null,
      "outputs": [
        {
          "output_type": "stream",
          "name": "stdout",
          "text": [
            "<class 'range'>\n"
          ]
        }
      ]
    },
    {
      "cell_type": "code",
      "source": [
        "class Range:\n",
        "    def __init__(self, stop):\n",
        "        self.current_value = 0  # 현재 값\n",
        "        self.stop = stop  # 순회를 멈출 값\n",
        "\n",
        "    def __iter__(self):\n",
        "        return self\n",
        "\n",
        "    def __next__(self):\n",
        "        if self.current_value >= self.stop:\n",
        "            raise StopIteration\n",
        "        result = self.current_value\n",
        "        self.current_value += 1\n",
        "        return self.current_value\n",
        "\n",
        "for i in Range(5):\n",
        "    print(i)"
      ],
      "metadata": {
        "colab": {
          "base_uri": "https://localhost:8080/"
        },
        "id": "E0GGkJ_DNZ8-",
        "outputId": "e8a6a832-1525-4c25-d63e-8a19a6cff274"
      },
      "execution_count": null,
      "outputs": [
        {
          "output_type": "stream",
          "name": "stdout",
          "text": [
            "1\n",
            "2\n",
            "3\n",
            "4\n",
            "5\n"
          ]
        }
      ]
    },
    {
      "cell_type": "code",
      "source": [
        "class Range:\n",
        "    def __init__(self, stop):\n",
        "        self.current_value = 0  # 현재 값\n",
        "        self.stop = stop  # 순회를 멈출 값\n",
        "\n",
        "    def __iter__(self):\n",
        "        return self\n",
        "\n",
        "    def __next__(self):\n",
        "        if self.current_value >= self.stop:\n",
        "            raise StopIteration\n",
        "        result = self.current_value\n",
        "        self.current_value += 1\n",
        "        return self.current_value\n",
        "\n",
        "# range와 다르게 재사용이 안됩니다.\n",
        "r = range(5)\n",
        "rr = Range(5)\n",
        "\n",
        "for i in rr:\n",
        "    print(i)\n",
        "\n",
        "for i in rr:\n",
        "    print(i)\n",
        "\n",
        "for i in rr:\n",
        "    print(i)"
      ],
      "metadata": {
        "colab": {
          "base_uri": "https://localhost:8080/"
        },
        "id": "rJ3vXkeSOS0p",
        "outputId": "a5e424d8-24a1-404a-b810-9ca004ecb978"
      },
      "execution_count": null,
      "outputs": [
        {
          "output_type": "stream",
          "name": "stdout",
          "text": [
            "1\n",
            "2\n",
            "3\n",
            "4\n",
            "5\n"
          ]
        }
      ]
    },
    {
      "cell_type": "code",
      "source": [
        "# 이 이터레이터를 재사용하고 싶다!\n",
        "class Range:\n",
        "    def __init__(self, stop):\n",
        "        self.current_value = 0  # 현재 값\n",
        "        self.stop = stop  # 순회를 멈출 값\n",
        "\n",
        "    def __iter__(self):\n",
        "        self.current_value = 0\n",
        "        return self\n",
        "\n",
        "    def __next__(self):\n",
        "        if self.current_value >= self.stop:\n",
        "            raise StopIteration\n",
        "        result = self.current_value\n",
        "        self.current_value += 1\n",
        "        return self.current_value\n",
        "\n",
        "# range와 다르게 재사용이 안됩니다.\n",
        "r = range(5)\n",
        "rr = Range(5)\n",
        "\n",
        "for i in rr:\n",
        "    print(i)\n",
        "\n",
        "for i in rr:\n",
        "    print(i)\n",
        "\n",
        "for i in rr:\n",
        "    print(i)"
      ],
      "metadata": {
        "colab": {
          "base_uri": "https://localhost:8080/"
        },
        "id": "A6VnW5ujOohf",
        "outputId": "0c71536d-a921-4800-b397-3760f5cb8393"
      },
      "execution_count": null,
      "outputs": [
        {
          "output_type": "stream",
          "name": "stdout",
          "text": [
            "1\n",
            "2\n",
            "3\n",
            "4\n",
            "5\n",
            "1\n",
            "2\n",
            "3\n",
            "4\n",
            "5\n",
            "1\n",
            "2\n",
            "3\n",
            "4\n",
            "5\n"
          ]
        }
      ]
    },
    {
      "cell_type": "code",
      "source": [
        "# 이러한 차원에서 보았을 때\n",
        "# map, zip, filter와 같은 객체를 재사용하지 못하는 이유는 무엇일까요?\n",
        "# sorted와 같은 경우에는 재사용할 수 있는데 그 이유는 무엇일까요?\n",
        "# sorted로 값을 바로 볼 수 있게 리스트로 변환해서 줌\n",
        "# 재사용할 가능성이 많다고 판단\n",
        "# 그렇지만 당연히 sorted는 메모리 부하가 심합니다.\n",
        "# 재사용할 수 있기 때문에 그렇습니다."
      ],
      "metadata": {
        "id": "HSuyOgWSPS42"
      },
      "execution_count": null,
      "outputs": []
    },
    {
      "cell_type": "code",
      "source": [
        "# 이터레이터 만들기!\n",
        "# 'abcdefg'라고 입력했을 때 'aceg'가 출력되는 이터레이터를 만들어보세요."
      ],
      "metadata": {
        "id": "X1PFDeZQQHvk"
      },
      "execution_count": null,
      "outputs": []
    },
    {
      "cell_type": "code",
      "source": [
        "# 이터레이터 만들기!\n",
        "# 'abcdefg'라고 입력했을 때 'aceg'가 출력되는 이터레이터를 만들어보세요.\n",
        "class Range:\n",
        "    def __init__(self, string):\n",
        "        self.current_value = 0  # 현재 값\n",
        "        self.string = string\n",
        "        self.stop = len(string)  # 순회를 멈출 값\n",
        "\n",
        "    def __iter__(self):\n",
        "        self.current_value = 0\n",
        "        return self\n",
        "\n",
        "    def __next__(self):\n",
        "        if self.current_value >= self.stop:\n",
        "            raise StopIteration\n",
        "        result = self.current_value\n",
        "        self.current_value += 2\n",
        "        return self.string[self.current_value-2]\n",
        "\n",
        "r = Range('abcdefg')\n",
        "\n",
        "for i in r:\n",
        "    print(i)"
      ],
      "metadata": {
        "colab": {
          "base_uri": "https://localhost:8080/"
        },
        "id": "2K8ghu_USfed",
        "outputId": "37f3f7ef-d034-45d4-b7bf-7b0f4b1da173"
      },
      "execution_count": null,
      "outputs": [
        {
          "output_type": "stream",
          "name": "stdout",
          "text": [
            "a\n",
            "c\n",
            "e\n",
            "g\n"
          ]
        }
      ]
    },
    {
      "cell_type": "code",
      "source": [
        "# 프롬프트\n",
        "# Python을 공부하고 있어. Python에 매직메서드 중에\n",
        "# 조금 어려운 iter, next, getitem 이런 것들을 연습해보고 싶어.\n",
        "# 이해가 될만한, 실무에서 사용할만한\n",
        "# 적절한 class를 만들어주고 이에 주석을 상세하게 달아줘."
      ],
      "metadata": {
        "id": "IxYDiRlCTlXn"
      },
      "execution_count": null,
      "outputs": []
    },
    {
      "cell_type": "code",
      "source": [
        "class OrderHistory:\n",
        "    \"\"\"\n",
        "    주문 기록을 관리하는 클래스\n",
        "    매직 메서드 __iter__, __next__, __getitem__을 구현하여\n",
        "    주문 기록을 순회하고 인덱싱할 수 있게 함\n",
        "    \"\"\"\n",
        "\n",
        "    def __init__(self, orders=None):\n",
        "        \"\"\"\n",
        "        매개변수:\n",
        "            orders (list): 주문 기록 리스트. 각 주문은 딕셔너리 형태\n",
        "                        예: [{'order_id': 1, 'product': 'A', 'amount': 1000}, ...]\n",
        "        \"\"\"\n",
        "        self.orders = orders if orders is not None else []\n",
        "        self._index = 0  # __next__에서 사용할 인덱스\n",
        "\n",
        "    def __iter__(self):\n",
        "        \"\"\"\n",
        "        이터레이터 프로토콜을 구현하는 매직 메서드\n",
        "        for 문 등에서 객체를 순회할 수 있게 해줌\n",
        "\n",
        "        반환값:\n",
        "            self: 이터레이터 객체\n",
        "        \"\"\"\n",
        "        self._index = 0  # 순회 시작 시 인덱스 초기화\n",
        "        return self\n",
        "\n",
        "    def __next__(self):\n",
        "        \"\"\"\n",
        "        다음 주문 기록을 반환하는 매직 메서드\n",
        "\n",
        "        반환값:\n",
        "            dict: 다음 주문 정보\n",
        "\n",
        "        예외:\n",
        "            StopIteration: 더 이상 순회할 주문이 없을 때 발생\n",
        "        \"\"\"\n",
        "        if self._index >= len(self.orders):\n",
        "            raise StopIteration\n",
        "\n",
        "        order = self.orders[self._index]\n",
        "        self._index += 1\n",
        "        return order\n",
        "\n",
        "    def __getitem__(self, key):\n",
        "        \"\"\"\n",
        "        인덱스나 슬라이스로 주문 기록에 접근하는 매직 메서드\n",
        "\n",
        "        매개변수:\n",
        "            key: 정수 인덱스 또는 슬라이스 객체\n",
        "\n",
        "        반환값:\n",
        "            dict 또는 list: 단일 주문 또는 주문 리스트\n",
        "\n",
        "        예외:\n",
        "            IndexError: 잘못된 인덱스 접근 시 발생\n",
        "        \"\"\"\n",
        "        if isinstance(key, slice):\n",
        "            # 슬라이스 접근 시 새로운 OrderHistory 객체 반환\n",
        "            return OrderHistory(self.orders[key])\n",
        "        return self.orders[key]\n",
        "\n",
        "    def add_order(self, order):\n",
        "        \"\"\"\n",
        "        새로운 주문을 추가하는 메서드\n",
        "\n",
        "        매개변수:\n",
        "            order (dict): 추가할 주문 정보\n",
        "        \"\"\"\n",
        "        self.orders.append(order)\n",
        "\n",
        "    def __len__(self):\n",
        "        \"\"\"\n",
        "        주문 기록의 개수를 반환하는 매직 메서드\n",
        "\n",
        "        반환값:\n",
        "            int: 전체 주문 수\n",
        "        \"\"\"\n",
        "        return len(self.orders)\n",
        "\n",
        "# 사용 예시\n",
        "if __name__ == \"__main__\":\n",
        "    # 샘플 데이터\n",
        "    sample_orders = [\n",
        "        {\"order_id\": 1, \"product\": \"노트북\", \"amount\": 1200000},\n",
        "        {\"order_id\": 2, \"product\": \"키보드\", \"amount\": 89000},\n",
        "        {\"order_id\": 3, \"product\": \"마우스\", \"amount\": 55000},\n",
        "        {\"order_id\": 4, \"product\": \"모니터\", \"amount\": 350000},\n",
        "    ]\n",
        "\n",
        "    # OrderHistory 객체 생성\n",
        "    history = OrderHistory(sample_orders)\n",
        "\n",
        "    # 1. for 문으로 순회하기 (__iter__, __next__ 사용)\n",
        "    print(\"1. 전체 주문 순회:\")\n",
        "    for order in history:\n",
        "        print(f\"주문번호: {order['order_id']}, 상품: {order['product']}\")\n",
        "\n",
        "    # 2. 인덱싱으로 접근하기 (__getitem__ 사용)\n",
        "    print(\"\\n2. 두 번째 주문 조회:\")\n",
        "    second_order = history[1]\n",
        "    print(f\"주문번호: {second_order['order_id']}, 상품: {second_order['product']}\")\n",
        "\n",
        "    # 3. 슬라이싱으로 접근하기 (__getitem__ 사용)\n",
        "    print(\"\\n3. 첫 두 개의 주문 조회:\")\n",
        "    first_two = history[0:2]\n",
        "    for order in first_two:\n",
        "        print(f\"주문번호: {order['order_id']}, 상품: {order['product']}\")"
      ],
      "metadata": {
        "id": "daaEppDdTqdU"
      },
      "execution_count": null,
      "outputs": []
    },
    {
      "cell_type": "markdown",
      "source": [
        "# 제너레이터"
      ],
      "metadata": {
        "id": "dPfOuQYdVB6M"
      }
    },
    {
      "cell_type": "code",
      "source": [
        "def my_generator():\n",
        "    x = 10\n",
        "    yield x\n",
        "    x = 20\n",
        "    yield x\n",
        "    x = 30\n",
        "    yield x\n",
        "    return # return을 만나면 제네레이터는 종료가 됩니다.\n",
        "    x = 40\n",
        "    yield x\n",
        "\n",
        "for i in my_generator():\n",
        "    print(i)"
      ],
      "metadata": {
        "colab": {
          "base_uri": "https://localhost:8080/"
        },
        "id": "Rm5kJMMpUnx-",
        "outputId": "dea34849-8755-4973-9cde-63f26bf8b1a6"
      },
      "execution_count": null,
      "outputs": [
        {
          "output_type": "stream",
          "name": "stdout",
          "text": [
            "10\n",
            "20\n",
            "30\n"
          ]
        }
      ]
    },
    {
      "cell_type": "code",
      "source": [
        "def infinite_generator():\n",
        "    i = 0\n",
        "    while True:\n",
        "        yield i\n",
        "        i += 2\n",
        "\n",
        "my_iterator = infinite_generator()\n",
        "\n",
        "# for i in my_iterator:\n",
        "#     print(i)\n",
        "#     if i >= 10:\n",
        "#         break\n",
        "\n",
        "print(list(zip(infinite_generator(), 'abcd')))\n",
        "print(list(zip(infinite_generator(), 'efgh')))"
      ],
      "metadata": {
        "colab": {
          "base_uri": "https://localhost:8080/"
        },
        "id": "sXUOTxDnaNyd",
        "outputId": "1ebc97d6-4879-4ada-89e2-467e8653f5ef"
      },
      "execution_count": null,
      "outputs": [
        {
          "output_type": "stream",
          "name": "stdout",
          "text": [
            "[(0, 'a'), (2, 'b'), (4, 'c'), (6, 'd')]\n",
            "[(0, 'e'), (2, 'f'), (4, 'g'), (6, 'h')]\n"
          ]
        }
      ]
    },
    {
      "cell_type": "code",
      "source": [
        "def infinite_generator():\n",
        "    i = 0\n",
        "    while True:\n",
        "        yield i\n",
        "        i += 2\n",
        "\n",
        "my_iterator = infinite_generator()\n",
        "\n",
        "# for i in my_iterator:\n",
        "#     print(i)\n",
        "#     if i >= 10:\n",
        "#         break\n",
        "\n",
        "r = infinite_generator()\n",
        "\n",
        "print(list(zip(r, 'abcd')))\n",
        "print(list(zip(r, 'efgh')))"
      ],
      "metadata": {
        "colab": {
          "base_uri": "https://localhost:8080/"
        },
        "id": "-2Aka4ISavaq",
        "outputId": "4f1fd08c-780e-43c5-c459-343bd4f316ef"
      },
      "execution_count": null,
      "outputs": [
        {
          "output_type": "stream",
          "name": "stdout",
          "text": [
            "[(0, 'a'), (2, 'b'), (4, 'c'), (6, 'd')]\n",
            "[(10, 'e'), (12, 'f'), (14, 'g'), (16, 'h')]\n"
          ]
        }
      ]
    },
    {
      "cell_type": "code",
      "source": [
        "def infinite_generator():\n",
        "    i = 0\n",
        "    while True:\n",
        "        yield i\n",
        "        i += 2\n",
        "\n",
        "my_iterator = infinite_generator()\n",
        "\n",
        "# for i in my_iterator:\n",
        "#     print(i)\n",
        "#     if i >= 10:\n",
        "#         break\n",
        "\n",
        "r = infinite_generator()\n",
        "\n",
        "print(list(zip('abcd', r)))\n",
        "print(list(zip('efgh', r)))"
      ],
      "metadata": {
        "colab": {
          "base_uri": "https://localhost:8080/"
        },
        "id": "JlgCmwuIbxS9",
        "outputId": "a075ba5c-be5c-4a71-e534-bbdbceede446"
      },
      "execution_count": null,
      "outputs": [
        {
          "output_type": "stream",
          "name": "stdout",
          "text": [
            "[('a', 0), ('b', 2), ('c', 4), ('d', 6)]\n",
            "[('e', 8), ('f', 10), ('g', 12), ('h', 14)]\n"
          ]
        }
      ]
    },
    {
      "cell_type": "code",
      "source": [
        "# 제너레이터 컴프리헨션\n",
        "# 실행시키지 않습니다.\n",
        "# 이렇게 어떤 코드를 받았을 때 바로 실행시키지 않는 기법 등을 '지연 평가'\n",
        "# 또는 lazy 기법이라고 합니다.\n",
        "# 예를 들어, Django에서는 lazy-loading이라는 기법이 있어요.\n",
        "\n",
        "gen = (i for i in range(100))\n",
        "\n",
        "gen"
      ],
      "metadata": {
        "colab": {
          "base_uri": "https://localhost:8080/"
        },
        "id": "rgVFn32wcY_m",
        "outputId": "cbea9b72-6ba6-48db-db5f-362d4fc7af6d"
      },
      "execution_count": null,
      "outputs": [
        {
          "output_type": "execute_result",
          "data": {
            "text/plain": [
              "<generator object <genexpr> at 0x7bea3159e0a0>"
            ]
          },
          "metadata": {},
          "execution_count": 26
        }
      ]
    },
    {
      "cell_type": "code",
      "source": [
        "# 이렇게 지연을 시켜놓고\n",
        "# 나중에 실행을 시킬 때 다음 값 또는 DB 쿼리(DB에서 데이터를 꺼내오는 작업)\n",
        "# 하게되더라도 이게 최적화는 아닙니다.\n",
        "\n",
        "# Django에서 DB 속도가 지연되어(User가 엄청 많다던가)\n",
        "# 최적화를 하려고 하면 이런 기법보다는\n",
        "# ORM 같은 것을 걷어내는 작업을 하셔야 합니다."
      ],
      "metadata": {
        "id": "Et955ifZc2EE"
      },
      "execution_count": null,
      "outputs": []
    },
    {
      "cell_type": "markdown",
      "source": [
        "# nonlocal, global"
      ],
      "metadata": {
        "id": "ZoqcLdlKd2TG"
      }
    },
    {
      "cell_type": "code",
      "source": [
        "x = 10\n",
        "def one():\n",
        "    print(x) # 리드 온리\n",
        "\n",
        "def two():\n",
        "    x += 1 # 수정은 안됨\n",
        "\n",
        "# x는 내가 가진 메모리 영역에서 먼저 찾고\n",
        "# 찾지 못하면 내 부모의 메모리 영역에서 찾아나갑니다.\n",
        "# 부모의 부모의 부모까지 찾아 나가다가 시스템에 없다면\n",
        "# 없는 변수이니 애러를 발생시킵니다.\n",
        "# '스코프 체이닝'이라고도 말합니다. 다만, Python에서 활용되는 용어는 아니고\n",
        "# JavaScript에서 사용하는 용어입니다. 원리는 같습니다."
      ],
      "metadata": {
        "id": "lY4E7mo3dpcM"
      },
      "execution_count": null,
      "outputs": []
    },
    {
      "cell_type": "code",
      "source": [
        "# nonlocal\n",
        "a = 10\n",
        "def f():\n",
        "    a = 100\n",
        "    print(f'f a: {a}')\n",
        "    def ff():\n",
        "        a = 1000\n",
        "        print(f'ff a: {a}')\n",
        "        def fff():\n",
        "            nonlocal a # global a로 변경해보세요.\n",
        "            a = 100\n",
        "            print(f'fff a: {a}')\n",
        "        fff()\n",
        "        print(f'핵심 ff a: {a}') # 여기가 어떤 값이 나오는지가 핵심입니다.\n",
        "    ff()\n",
        "f()\n",
        "print(f'global a: {a}')"
      ],
      "metadata": {
        "colab": {
          "base_uri": "https://localhost:8080/"
        },
        "id": "eUdrpiihe_84",
        "outputId": "ee967a8d-b360-42a5-9a8e-0ee48770ec7e"
      },
      "execution_count": null,
      "outputs": [
        {
          "output_type": "stream",
          "name": "stdout",
          "text": [
            "f a: 100\n",
            "ff a: 1000\n",
            "fff a: 100\n",
            "핵심 ff a: 100\n",
            "global a: 10\n"
          ]
        }
      ]
    },
    {
      "cell_type": "code",
      "source": [
        "# nonlocal\n",
        "a = 10\n",
        "def f():\n",
        "    a = 100\n",
        "    print(f'f a: {a}')\n",
        "    def ff():\n",
        "        a = 1000\n",
        "        print(f'ff a: {a}')\n",
        "        def fff():\n",
        "            global a # global a로 변경해보세요.\n",
        "            a = 100\n",
        "            print(f'fff a: {a}')\n",
        "        fff()\n",
        "        print(f'핵심 ff a: {a}') # 여기가 어떤 값이 나오는지가 핵심입니다.\n",
        "    ff()\n",
        "f()\n",
        "print(f'global a: {a}')"
      ],
      "metadata": {
        "colab": {
          "base_uri": "https://localhost:8080/"
        },
        "id": "vntLZbq-fFE2",
        "outputId": "ead38d0f-8bde-4944-8cd4-66b528e6456f"
      },
      "execution_count": null,
      "outputs": [
        {
          "output_type": "stream",
          "name": "stdout",
          "text": [
            "f a: 100\n",
            "ff a: 1000\n",
            "fff a: 100\n",
            "핵심 ff a: 1000\n",
            "global a: 100\n"
          ]
        }
      ]
    },
    {
      "cell_type": "code",
      "source": [
        "def hello():\n",
        "    x = 10\n",
        "    y = 20\n",
        "    def one():\n",
        "        pass\n",
        "    print(locals())\n",
        "\n",
        "hello()\n",
        "# locals()\n",
        "# globals()"
      ],
      "metadata": {
        "colab": {
          "base_uri": "https://localhost:8080/"
        },
        "id": "yiveMF8xfl4G",
        "outputId": "707a14a8-5798-4b0a-b749-aee2c483d5b1"
      },
      "execution_count": null,
      "outputs": [
        {
          "output_type": "stream",
          "name": "stdout",
          "text": [
            "{'x': 10, 'y': 20, 'one': <function hello.<locals>.one at 0x7bea315f0e50>}\n"
          ]
        }
      ]
    },
    {
      "cell_type": "code",
      "source": [
        "globals()\n",
        "\n",
        "# if __name__ == '__main__':\n",
        "#     print('main')"
      ],
      "metadata": {
        "colab": {
          "base_uri": "https://localhost:8080/"
        },
        "id": "rSOMw9eAf3RV",
        "outputId": "17d292c8-bec0-4689-a944-e606c3f3314c"
      },
      "execution_count": null,
      "outputs": [
        {
          "output_type": "execute_result",
          "data": {
            "text/plain": [
              "{'__name__': '__main__',\n",
              " '__doc__': 'Automatically created module for IPython interactive environment',\n",
              " '__package__': None,\n",
              " '__loader__': None,\n",
              " '__spec__': None,\n",
              " '__builtin__': <module 'builtins' (built-in)>,\n",
              " '__builtins__': <module 'builtins' (built-in)>,\n",
              " '_ih': ['',\n",
              "  \"class Licat:\\n    def __next__(self):\\n        return 'Licat'\\n    \\n    def __iter__(self):\\n        return self\\n\\nlist(zip(Licat(), 'ABC'))\",\n",
              "  \"class Range:\\n    def __next__(self):\\n        return 'Licat'\\n    \\n    def __iter__(self):\\n        return self\\n\\nlist(zip(Range(), 'ABC'))\",\n",
              "  'x = 0\\nwhile x < 10:\\n    print(range())\\n    x += 1',\n",
              "  'x = 0\\nfor i in Range():\\n    print(i)\\n    x += 1\\n    if x > 5:\\n        break',\n",
              "  'class Range:\\n    def __init__(self, stop):\\n        self.current_value = 0  # 현재 값\\n        self.stop = stop  # 순회를 멈출 값\\n\\n    def __iter__(self):\\n        return self\\n\\n    def __next__(self):\\n        if self.current_value >= self.stop:\\n            raise StopIteration\\n        result = self.current_value\\n        self.current_value += 1\\n        return result\\n\\nfor i in Range(5):\\n    print(i)',\n",
              "  'print(range(5))',\n",
              "  'print(type(range(5)))',\n",
              "  \"class Range:\\n    def __init__(self, stop):\\n        self.current_value = 0  # 현재 값\\n        self.stop = stop  # 순회를 멈출 값\\n\\n    def __iter__(self):\\n        return self\\n\\n    def __next__(self):\\n        if self.current_value >= self.stop:\\n            raise StopIteration\\n        result = self.current_value\\n        self.current_value += 1\\n        return 'hello world'\\n\\nfor i in Range(5):\\n    print(i)\",\n",
              "  'class Range:\\n    def __init__(self, stop):\\n        self.current_value = 0  # 현재 값\\n        self.stop = stop  # 순회를 멈출 값\\n\\n    def __iter__(self):\\n        return self\\n\\n    def __next__(self):\\n        if self.current_value >= self.stop:\\n            raise StopIteration\\n        result = self.current_value\\n        self.current_value += 1\\n        return self.current_value\\n\\nfor i in Range(5):\\n    print(i)',\n",
              "  'class Range:\\n    def __init__(self, stop):\\n        self.current_value = 0  # 현재 값\\n        self.stop = stop  # 순회를 멈출 값\\n\\n    def __iter__(self):\\n        return self\\n\\n    def __next__(self):\\n        if self.current_value >= self.stop:\\n            raise StopIteration\\n        result = self.current_value\\n        self.current_value += 1\\n        return self.current_value\\n\\nr = range(5)\\nrr = Range(5)\\n\\nfor i in r:\\n    print(i)\\n\\nfor i in r:\\n    print(i)',\n",
              "  'class Range:\\n    def __init__(self, stop):\\n        self.current_value = 0  # 현재 값\\n        self.stop = stop  # 순회를 멈출 값\\n\\n    def __iter__(self):\\n        return self\\n\\n    def __next__(self):\\n        if self.current_value >= self.stop:\\n            raise StopIteration\\n        result = self.current_value\\n        self.current_value += 1\\n        return self.current_value\\n\\nr = range(5)\\nrr = Range(5)\\n\\nfor i in rr:\\n    print(i)\\n\\nfor i in rr:\\n    print(i)',\n",
              "  '# 이 이터레이터를 재사용하고 싶다!\\nclass Range:\\n    def __init__(self, stop):\\n        self.current_value = 0  # 현재 값\\n        self.stop = stop  # 순회를 멈출 값\\n\\n    def __iter__(self):\\n        self.current_value = 0\\n        return self\\n\\n    def __next__(self):\\n        if self.current_value >= self.stop:\\n            raise StopIteration\\n        result = self.current_value\\n        self.current_value += 1\\n        return self.current_value\\n\\n# range와 다르게 재사용이 안됩니다.\\nr = range(5)\\nrr = Range(5)\\n\\nfor i in rr:\\n    print(i)\\n\\nfor i in rr:\\n    print(i)\\n\\nfor i in rr:\\n    print(i)',\n",
              "  \"class Range:\\n    def __init__(self, stop):\\n        self.current_value = 0  # 현재 값\\n        self.stop = stop  # 순회를 멈출 값\\n\\n    def __iter__(self):\\n        return 'hello'\\n\\n    def __next__(self):\\n        if self.current_value >= self.stop:\\n            raise StopIteration\\n        result = self.current_value\\n        self.current_value += 1\\n        return 'hello world'\\n\\nfor i in Range(5):\\n    print(i)\",\n",
              "  \"class Range:\\n    def __init__(self, stop):\\n        self.current_value = 0  # 현재 값\\n        self.stop = stop  # 순회를 멈출 값\\n\\n    def __iter__(self):\\n        return 'hello'\\n\\n    def __next__(self):\\n        return 'hello world'\\n\\nfor i in Range(5):\\n    print(i)\",\n",
              "  \"# 이 이터레이터를 재사용하고 싶다!\\nclass Range:\\n    def __init__(self, string):\\n        self.current_value = 0  # 현재 값\\n        self.string = string\\n        self.stop = len(string)  # 순회를 멈출 값\\n\\n    def __iter__(self):\\n        self.current_value = 0\\n        return self\\n\\n    def __next__(self):\\n        if self.current_value >= self.stop:\\n            raise StopIteration\\n        result = self.current_value\\n        self.current_value += 1\\n        return self.string[self.current_value-1]\\n\\nr = Range('abcdefg')\\n\\nfor i in r:\\n    print(i)\",\n",
              "  \"# 이 이터레이터를 재사용하고 싶다!\\nclass Range:\\n    def __init__(self, string):\\n        self.current_value = 0  # 현재 값\\n        self.string = string\\n        self.stop = len(string)  # 순회를 멈출 값\\n\\n    def __iter__(self):\\n        self.current_value = 0\\n        return self\\n\\n    def __next__(self):\\n        if self.current_value >= self.stop:\\n            raise StopIteration\\n        result = self.current_value\\n        self.current_value += 2\\n        return self.string[self.current_value-1]\\n\\nr = Range('abcdefg')\\n\\nfor i in r:\\n    print(i)\",\n",
              "  \"# 이 이터레이터를 재사용하고 싶다!\\nclass Range:\\n    def __init__(self, string):\\n        self.current_value = 0  # 현재 값\\n        self.string = string\\n        self.stop = len(string)  # 순회를 멈출 값\\n\\n    def __iter__(self):\\n        self.current_value = 0\\n        return self\\n\\n    def __next__(self):\\n        if self.current_value >= self.stop:\\n            raise StopIteration\\n        result = self.current_value\\n        self.current_value += 2\\n        return self.string[self.current_value-2]\\n\\nr = Range('abcdefg')\\n\\nfor i in r:\\n    print(i)\",\n",
              "  'def my_generator():\\n    x = 10\\n    yield x\\n    x = 20\\n    yield x\\n    x = 30\\n    yield x\\n    return\\n    x = 40\\n    yield x\\n\\nfor i in my_generator():\\n    print(i)',\n",
              "  'def infinite_generator():\\n    i = 0\\n    while True:\\n        yield i\\n        i += 1\\n\\nmy_iterator = infinite_generator()\\n\\nfor i in my_iterator:\\n    print(i)\\n    if i >= 10:\\n        break',\n",
              "  \"def infinite_generator():\\n    i = 0\\n    while True:\\n        yield i\\n        i += 2\\n\\nmy_iterator = infinite_generator()\\n\\n# for i in my_iterator:\\n#     print(i)\\n#     if i >= 10:\\n#         break\\nllist(zip(infinite_generator(), 'abcd'))\",\n",
              "  \"def infinite_generator():\\n    i = 0\\n    while True:\\n        yield i\\n        i += 2\\n\\nmy_iterator = infinite_generator()\\n\\n# for i in my_iterator:\\n#     print(i)\\n#     if i >= 10:\\n#         break\\nlist(zip(infinite_generator(), 'abcd'))\",\n",
              "  \"def infinite_generator():\\n    i = 0\\n    while True:\\n        yield i\\n        i += 2\\n\\nmy_iterator = infinite_generator()\\n\\n# for i in my_iterator:\\n#     print(i)\\n#     if i >= 10:\\n#         break\\nlist(zip(infinite_generator(), 'abcd'))\\nlist(zip(infinite_generator(), 'efgh'))\",\n",
              "  \"def infinite_generator():\\n    i = 0\\n    while True:\\n        yield i\\n        i += 2\\n\\nmy_iterator = infinite_generator()\\n\\n# for i in my_iterator:\\n#     print(i)\\n#     if i >= 10:\\n#         break\\nprint(list(zip(infinite_generator(), 'abcd')))\\nprint(list(zip(infinite_generator(), 'efgh')))\",\n",
              "  \"def infinite_generator():\\n    i = 0\\n    while True:\\n        yield i\\n        i += 2\\n\\nmy_iterator = infinite_generator()\\n\\n# for i in my_iterator:\\n#     print(i)\\n#     if i >= 10:\\n#         break\\n\\nr = infinite_generator()\\n\\nprint(list(zip(r, 'abcd')))\\nprint(list(zip(r, 'efgh')))\",\n",
              "  \"def infinite_generator():\\n    i = 0\\n    while True:\\n        yield i\\n        i += 2\\n\\nmy_iterator = infinite_generator()\\n\\n# for i in my_iterator:\\n#     print(i)\\n#     if i >= 10:\\n#         break\\n\\nr = infinite_generator()\\n\\nprint(list(zip('abcd', r)))\\nprint(list(zip('efgh', r)))\",\n",
              "  'gen = (i for i in range(100))\\n\\ngen',\n",
              "  \"# nonlocal\\na = 10\\ndef f():\\n    a = 100\\n    print(f'f a: {a}')\\n    def ff():\\n        a = 1000\\n        print(f'ff a: {a}')\\n        def fff():\\n            nonlocal a # global a로 변경해보세요.\\n            a = 100\\n            print(f'fff a: {a}')\\n        fff()\\n        print(f'핵심 ff a: {a}') # 여기가 어떤 값이 나오는지가 핵심입니다.\\n    ff()\\nf()\\nprint(f'global a: {a}')\",\n",
              "  \"# nonlocal\\na = 10\\ndef f():\\n    a = 100\\n    print(f'f a: {a}')\\n    def ff():\\n        a = 1000\\n        print(f'ff a: {a}')\\n        def fff():\\n            global a # global a로 변경해보세요.\\n            a = 100\\n            print(f'fff a: {a}')\\n        fff()\\n        print(f'핵심 ff a: {a}') # 여기가 어떤 값이 나오는지가 핵심입니다.\\n    ff()\\nf()\\nprint(f'global a: {a}')\",\n",
              "  'locals()\\n# globals()',\n",
              "  'def hello():\\n    x = 10\\n    y = 20\\n    print(locals())\\n\\nhello()\\n# locals()\\n# globals()',\n",
              "  'def hello():\\n    x = 10\\n    y = 20\\n    def one():\\n        pass\\n    print(locals())\\n\\nhello()\\n# locals()\\n# globals()',\n",
              "  'globals()'],\n",
              " '_oh': {1: [('Licat', 'A'), ('Licat', 'B'), ('Licat', 'C')],\n",
              "  2: [('Licat', 'A'), ('Licat', 'B'), ('Licat', 'C')],\n",
              "  21: [(0, 'a'), (2, 'b'), (4, 'c'), (6, 'd')],\n",
              "  22: [(0, 'e'), (2, 'f'), (4, 'g'), (6, 'h')],\n",
              "  26: <generator object <genexpr> at 0x7bea3159e0a0>,\n",
              "  29: {...}},\n",
              " '_dh': ['/content'],\n",
              " 'In': ['',\n",
              "  \"class Licat:\\n    def __next__(self):\\n        return 'Licat'\\n    \\n    def __iter__(self):\\n        return self\\n\\nlist(zip(Licat(), 'ABC'))\",\n",
              "  \"class Range:\\n    def __next__(self):\\n        return 'Licat'\\n    \\n    def __iter__(self):\\n        return self\\n\\nlist(zip(Range(), 'ABC'))\",\n",
              "  'x = 0\\nwhile x < 10:\\n    print(range())\\n    x += 1',\n",
              "  'x = 0\\nfor i in Range():\\n    print(i)\\n    x += 1\\n    if x > 5:\\n        break',\n",
              "  'class Range:\\n    def __init__(self, stop):\\n        self.current_value = 0  # 현재 값\\n        self.stop = stop  # 순회를 멈출 값\\n\\n    def __iter__(self):\\n        return self\\n\\n    def __next__(self):\\n        if self.current_value >= self.stop:\\n            raise StopIteration\\n        result = self.current_value\\n        self.current_value += 1\\n        return result\\n\\nfor i in Range(5):\\n    print(i)',\n",
              "  'print(range(5))',\n",
              "  'print(type(range(5)))',\n",
              "  \"class Range:\\n    def __init__(self, stop):\\n        self.current_value = 0  # 현재 값\\n        self.stop = stop  # 순회를 멈출 값\\n\\n    def __iter__(self):\\n        return self\\n\\n    def __next__(self):\\n        if self.current_value >= self.stop:\\n            raise StopIteration\\n        result = self.current_value\\n        self.current_value += 1\\n        return 'hello world'\\n\\nfor i in Range(5):\\n    print(i)\",\n",
              "  'class Range:\\n    def __init__(self, stop):\\n        self.current_value = 0  # 현재 값\\n        self.stop = stop  # 순회를 멈출 값\\n\\n    def __iter__(self):\\n        return self\\n\\n    def __next__(self):\\n        if self.current_value >= self.stop:\\n            raise StopIteration\\n        result = self.current_value\\n        self.current_value += 1\\n        return self.current_value\\n\\nfor i in Range(5):\\n    print(i)',\n",
              "  'class Range:\\n    def __init__(self, stop):\\n        self.current_value = 0  # 현재 값\\n        self.stop = stop  # 순회를 멈출 값\\n\\n    def __iter__(self):\\n        return self\\n\\n    def __next__(self):\\n        if self.current_value >= self.stop:\\n            raise StopIteration\\n        result = self.current_value\\n        self.current_value += 1\\n        return self.current_value\\n\\nr = range(5)\\nrr = Range(5)\\n\\nfor i in r:\\n    print(i)\\n\\nfor i in r:\\n    print(i)',\n",
              "  'class Range:\\n    def __init__(self, stop):\\n        self.current_value = 0  # 현재 값\\n        self.stop = stop  # 순회를 멈출 값\\n\\n    def __iter__(self):\\n        return self\\n\\n    def __next__(self):\\n        if self.current_value >= self.stop:\\n            raise StopIteration\\n        result = self.current_value\\n        self.current_value += 1\\n        return self.current_value\\n\\nr = range(5)\\nrr = Range(5)\\n\\nfor i in rr:\\n    print(i)\\n\\nfor i in rr:\\n    print(i)',\n",
              "  '# 이 이터레이터를 재사용하고 싶다!\\nclass Range:\\n    def __init__(self, stop):\\n        self.current_value = 0  # 현재 값\\n        self.stop = stop  # 순회를 멈출 값\\n\\n    def __iter__(self):\\n        self.current_value = 0\\n        return self\\n\\n    def __next__(self):\\n        if self.current_value >= self.stop:\\n            raise StopIteration\\n        result = self.current_value\\n        self.current_value += 1\\n        return self.current_value\\n\\n# range와 다르게 재사용이 안됩니다.\\nr = range(5)\\nrr = Range(5)\\n\\nfor i in rr:\\n    print(i)\\n\\nfor i in rr:\\n    print(i)\\n\\nfor i in rr:\\n    print(i)',\n",
              "  \"class Range:\\n    def __init__(self, stop):\\n        self.current_value = 0  # 현재 값\\n        self.stop = stop  # 순회를 멈출 값\\n\\n    def __iter__(self):\\n        return 'hello'\\n\\n    def __next__(self):\\n        if self.current_value >= self.stop:\\n            raise StopIteration\\n        result = self.current_value\\n        self.current_value += 1\\n        return 'hello world'\\n\\nfor i in Range(5):\\n    print(i)\",\n",
              "  \"class Range:\\n    def __init__(self, stop):\\n        self.current_value = 0  # 현재 값\\n        self.stop = stop  # 순회를 멈출 값\\n\\n    def __iter__(self):\\n        return 'hello'\\n\\n    def __next__(self):\\n        return 'hello world'\\n\\nfor i in Range(5):\\n    print(i)\",\n",
              "  \"# 이 이터레이터를 재사용하고 싶다!\\nclass Range:\\n    def __init__(self, string):\\n        self.current_value = 0  # 현재 값\\n        self.string = string\\n        self.stop = len(string)  # 순회를 멈출 값\\n\\n    def __iter__(self):\\n        self.current_value = 0\\n        return self\\n\\n    def __next__(self):\\n        if self.current_value >= self.stop:\\n            raise StopIteration\\n        result = self.current_value\\n        self.current_value += 1\\n        return self.string[self.current_value-1]\\n\\nr = Range('abcdefg')\\n\\nfor i in r:\\n    print(i)\",\n",
              "  \"# 이 이터레이터를 재사용하고 싶다!\\nclass Range:\\n    def __init__(self, string):\\n        self.current_value = 0  # 현재 값\\n        self.string = string\\n        self.stop = len(string)  # 순회를 멈출 값\\n\\n    def __iter__(self):\\n        self.current_value = 0\\n        return self\\n\\n    def __next__(self):\\n        if self.current_value >= self.stop:\\n            raise StopIteration\\n        result = self.current_value\\n        self.current_value += 2\\n        return self.string[self.current_value-1]\\n\\nr = Range('abcdefg')\\n\\nfor i in r:\\n    print(i)\",\n",
              "  \"# 이 이터레이터를 재사용하고 싶다!\\nclass Range:\\n    def __init__(self, string):\\n        self.current_value = 0  # 현재 값\\n        self.string = string\\n        self.stop = len(string)  # 순회를 멈출 값\\n\\n    def __iter__(self):\\n        self.current_value = 0\\n        return self\\n\\n    def __next__(self):\\n        if self.current_value >= self.stop:\\n            raise StopIteration\\n        result = self.current_value\\n        self.current_value += 2\\n        return self.string[self.current_value-2]\\n\\nr = Range('abcdefg')\\n\\nfor i in r:\\n    print(i)\",\n",
              "  'def my_generator():\\n    x = 10\\n    yield x\\n    x = 20\\n    yield x\\n    x = 30\\n    yield x\\n    return\\n    x = 40\\n    yield x\\n\\nfor i in my_generator():\\n    print(i)',\n",
              "  'def infinite_generator():\\n    i = 0\\n    while True:\\n        yield i\\n        i += 1\\n\\nmy_iterator = infinite_generator()\\n\\nfor i in my_iterator:\\n    print(i)\\n    if i >= 10:\\n        break',\n",
              "  \"def infinite_generator():\\n    i = 0\\n    while True:\\n        yield i\\n        i += 2\\n\\nmy_iterator = infinite_generator()\\n\\n# for i in my_iterator:\\n#     print(i)\\n#     if i >= 10:\\n#         break\\nllist(zip(infinite_generator(), 'abcd'))\",\n",
              "  \"def infinite_generator():\\n    i = 0\\n    while True:\\n        yield i\\n        i += 2\\n\\nmy_iterator = infinite_generator()\\n\\n# for i in my_iterator:\\n#     print(i)\\n#     if i >= 10:\\n#         break\\nlist(zip(infinite_generator(), 'abcd'))\",\n",
              "  \"def infinite_generator():\\n    i = 0\\n    while True:\\n        yield i\\n        i += 2\\n\\nmy_iterator = infinite_generator()\\n\\n# for i in my_iterator:\\n#     print(i)\\n#     if i >= 10:\\n#         break\\nlist(zip(infinite_generator(), 'abcd'))\\nlist(zip(infinite_generator(), 'efgh'))\",\n",
              "  \"def infinite_generator():\\n    i = 0\\n    while True:\\n        yield i\\n        i += 2\\n\\nmy_iterator = infinite_generator()\\n\\n# for i in my_iterator:\\n#     print(i)\\n#     if i >= 10:\\n#         break\\nprint(list(zip(infinite_generator(), 'abcd')))\\nprint(list(zip(infinite_generator(), 'efgh')))\",\n",
              "  \"def infinite_generator():\\n    i = 0\\n    while True:\\n        yield i\\n        i += 2\\n\\nmy_iterator = infinite_generator()\\n\\n# for i in my_iterator:\\n#     print(i)\\n#     if i >= 10:\\n#         break\\n\\nr = infinite_generator()\\n\\nprint(list(zip(r, 'abcd')))\\nprint(list(zip(r, 'efgh')))\",\n",
              "  \"def infinite_generator():\\n    i = 0\\n    while True:\\n        yield i\\n        i += 2\\n\\nmy_iterator = infinite_generator()\\n\\n# for i in my_iterator:\\n#     print(i)\\n#     if i >= 10:\\n#         break\\n\\nr = infinite_generator()\\n\\nprint(list(zip('abcd', r)))\\nprint(list(zip('efgh', r)))\",\n",
              "  'gen = (i for i in range(100))\\n\\ngen',\n",
              "  \"# nonlocal\\na = 10\\ndef f():\\n    a = 100\\n    print(f'f a: {a}')\\n    def ff():\\n        a = 1000\\n        print(f'ff a: {a}')\\n        def fff():\\n            nonlocal a # global a로 변경해보세요.\\n            a = 100\\n            print(f'fff a: {a}')\\n        fff()\\n        print(f'핵심 ff a: {a}') # 여기가 어떤 값이 나오는지가 핵심입니다.\\n    ff()\\nf()\\nprint(f'global a: {a}')\",\n",
              "  \"# nonlocal\\na = 10\\ndef f():\\n    a = 100\\n    print(f'f a: {a}')\\n    def ff():\\n        a = 1000\\n        print(f'ff a: {a}')\\n        def fff():\\n            global a # global a로 변경해보세요.\\n            a = 100\\n            print(f'fff a: {a}')\\n        fff()\\n        print(f'핵심 ff a: {a}') # 여기가 어떤 값이 나오는지가 핵심입니다.\\n    ff()\\nf()\\nprint(f'global a: {a}')\",\n",
              "  'locals()\\n# globals()',\n",
              "  'def hello():\\n    x = 10\\n    y = 20\\n    print(locals())\\n\\nhello()\\n# locals()\\n# globals()',\n",
              "  'def hello():\\n    x = 10\\n    y = 20\\n    def one():\\n        pass\\n    print(locals())\\n\\nhello()\\n# locals()\\n# globals()',\n",
              "  'globals()'],\n",
              " 'Out': {1: [('Licat', 'A'), ('Licat', 'B'), ('Licat', 'C')],\n",
              "  2: [('Licat', 'A'), ('Licat', 'B'), ('Licat', 'C')],\n",
              "  21: [(0, 'a'), (2, 'b'), (4, 'c'), (6, 'd')],\n",
              "  22: [(0, 'e'), (2, 'f'), (4, 'g'), (6, 'h')],\n",
              "  26: <generator object <genexpr> at 0x7bea3159e0a0>,\n",
              "  29: {...}},\n",
              " 'get_ipython': <bound method InteractiveShell.get_ipython of <google.colab._shell.Shell object at 0x7bea77f061a0>>,\n",
              " 'exit': <IPython.core.autocall.ZMQExitAutocall at 0x7bea77f06b90>,\n",
              " 'quit': <IPython.core.autocall.ZMQExitAutocall at 0x7bea77f06b90>,\n",
              " '_': {...},\n",
              " '__': <generator object <genexpr> at 0x7bea3159e0a0>,\n",
              " '___': [(0, 'e'), (2, 'f'), (4, 'g'), (6, 'h')],\n",
              " '_i': 'def hello():\\n    x = 10\\n    y = 20\\n    def one():\\n        pass\\n    print(locals())\\n\\nhello()\\n# locals()\\n# globals()',\n",
              " '_ii': 'def hello():\\n    x = 10\\n    y = 20\\n    print(locals())\\n\\nhello()\\n# locals()\\n# globals()',\n",
              " '_iii': 'locals()\\n# globals()',\n",
              " '_i1': \"class Licat:\\n    def __next__(self):\\n        return 'Licat'\\n    \\n    def __iter__(self):\\n        return self\\n\\nlist(zip(Licat(), 'ABC'))\",\n",
              " 'Licat': __main__.Licat,\n",
              " '_1': [('Licat', 'A'), ('Licat', 'B'), ('Licat', 'C')],\n",
              " '_i2': \"class Range:\\n    def __next__(self):\\n        return 'Licat'\\n    \\n    def __iter__(self):\\n        return self\\n\\nlist(zip(Range(), 'ABC'))\",\n",
              " 'Range': __main__.Range,\n",
              " '_2': [('Licat', 'A'), ('Licat', 'B'), ('Licat', 'C')],\n",
              " '_i3': 'x = 0\\nwhile x < 10:\\n    print(range())\\n    x += 1',\n",
              " 'x': 6,\n",
              " '_i4': 'x = 0\\nfor i in Range():\\n    print(i)\\n    x += 1\\n    if x > 5:\\n        break',\n",
              " 'i': 10,\n",
              " '_i5': 'class Range:\\n    def __init__(self, stop):\\n        self.current_value = 0  # 현재 값\\n        self.stop = stop  # 순회를 멈출 값\\n\\n    def __iter__(self):\\n        return self\\n\\n    def __next__(self):\\n        if self.current_value >= self.stop:\\n            raise StopIteration\\n        result = self.current_value\\n        self.current_value += 1\\n        return result\\n\\nfor i in Range(5):\\n    print(i)',\n",
              " '_i6': 'print(range(5))',\n",
              " '_i7': 'print(type(range(5)))',\n",
              " '_i8': \"class Range:\\n    def __init__(self, stop):\\n        self.current_value = 0  # 현재 값\\n        self.stop = stop  # 순회를 멈출 값\\n\\n    def __iter__(self):\\n        return self\\n\\n    def __next__(self):\\n        if self.current_value >= self.stop:\\n            raise StopIteration\\n        result = self.current_value\\n        self.current_value += 1\\n        return 'hello world'\\n\\nfor i in Range(5):\\n    print(i)\",\n",
              " '_i9': 'class Range:\\n    def __init__(self, stop):\\n        self.current_value = 0  # 현재 값\\n        self.stop = stop  # 순회를 멈출 값\\n\\n    def __iter__(self):\\n        return self\\n\\n    def __next__(self):\\n        if self.current_value >= self.stop:\\n            raise StopIteration\\n        result = self.current_value\\n        self.current_value += 1\\n        return self.current_value\\n\\nfor i in Range(5):\\n    print(i)',\n",
              " '_i10': 'class Range:\\n    def __init__(self, stop):\\n        self.current_value = 0  # 현재 값\\n        self.stop = stop  # 순회를 멈출 값\\n\\n    def __iter__(self):\\n        return self\\n\\n    def __next__(self):\\n        if self.current_value >= self.stop:\\n            raise StopIteration\\n        result = self.current_value\\n        self.current_value += 1\\n        return self.current_value\\n\\nr = range(5)\\nrr = Range(5)\\n\\nfor i in r:\\n    print(i)\\n\\nfor i in r:\\n    print(i)',\n",
              " 'r': <generator object infinite_generator at 0x7bea3159dfc0>,\n",
              " 'rr': <__main__.Range at 0x7bea66f64460>,\n",
              " '_i11': 'class Range:\\n    def __init__(self, stop):\\n        self.current_value = 0  # 현재 값\\n        self.stop = stop  # 순회를 멈출 값\\n\\n    def __iter__(self):\\n        return self\\n\\n    def __next__(self):\\n        if self.current_value >= self.stop:\\n            raise StopIteration\\n        result = self.current_value\\n        self.current_value += 1\\n        return self.current_value\\n\\nr = range(5)\\nrr = Range(5)\\n\\nfor i in rr:\\n    print(i)\\n\\nfor i in rr:\\n    print(i)',\n",
              " '_i12': '# 이 이터레이터를 재사용하고 싶다!\\nclass Range:\\n    def __init__(self, stop):\\n        self.current_value = 0  # 현재 값\\n        self.stop = stop  # 순회를 멈출 값\\n\\n    def __iter__(self):\\n        self.current_value = 0\\n        return self\\n\\n    def __next__(self):\\n        if self.current_value >= self.stop:\\n            raise StopIteration\\n        result = self.current_value\\n        self.current_value += 1\\n        return self.current_value\\n\\n# range와 다르게 재사용이 안됩니다.\\nr = range(5)\\nrr = Range(5)\\n\\nfor i in rr:\\n    print(i)\\n\\nfor i in rr:\\n    print(i)\\n\\nfor i in rr:\\n    print(i)',\n",
              " '_i13': \"class Range:\\n    def __init__(self, stop):\\n        self.current_value = 0  # 현재 값\\n        self.stop = stop  # 순회를 멈출 값\\n\\n    def __iter__(self):\\n        return 'hello'\\n\\n    def __next__(self):\\n        if self.current_value >= self.stop:\\n            raise StopIteration\\n        result = self.current_value\\n        self.current_value += 1\\n        return 'hello world'\\n\\nfor i in Range(5):\\n    print(i)\",\n",
              " '_i14': \"class Range:\\n    def __init__(self, stop):\\n        self.current_value = 0  # 현재 값\\n        self.stop = stop  # 순회를 멈출 값\\n\\n    def __iter__(self):\\n        return 'hello'\\n\\n    def __next__(self):\\n        return 'hello world'\\n\\nfor i in Range(5):\\n    print(i)\",\n",
              " '_i15': \"# 이 이터레이터를 재사용하고 싶다!\\nclass Range:\\n    def __init__(self, string):\\n        self.current_value = 0  # 현재 값\\n        self.string = string\\n        self.stop = len(string)  # 순회를 멈출 값\\n\\n    def __iter__(self):\\n        self.current_value = 0\\n        return self\\n\\n    def __next__(self):\\n        if self.current_value >= self.stop:\\n            raise StopIteration\\n        result = self.current_value\\n        self.current_value += 1\\n        return self.string[self.current_value-1]\\n\\nr = Range('abcdefg')\\n\\nfor i in r:\\n    print(i)\",\n",
              " '_i16': \"# 이 이터레이터를 재사용하고 싶다!\\nclass Range:\\n    def __init__(self, string):\\n        self.current_value = 0  # 현재 값\\n        self.string = string\\n        self.stop = len(string)  # 순회를 멈출 값\\n\\n    def __iter__(self):\\n        self.current_value = 0\\n        return self\\n\\n    def __next__(self):\\n        if self.current_value >= self.stop:\\n            raise StopIteration\\n        result = self.current_value\\n        self.current_value += 2\\n        return self.string[self.current_value-1]\\n\\nr = Range('abcdefg')\\n\\nfor i in r:\\n    print(i)\",\n",
              " '_i17': \"# 이 이터레이터를 재사용하고 싶다!\\nclass Range:\\n    def __init__(self, string):\\n        self.current_value = 0  # 현재 값\\n        self.string = string\\n        self.stop = len(string)  # 순회를 멈출 값\\n\\n    def __iter__(self):\\n        self.current_value = 0\\n        return self\\n\\n    def __next__(self):\\n        if self.current_value >= self.stop:\\n            raise StopIteration\\n        result = self.current_value\\n        self.current_value += 2\\n        return self.string[self.current_value-2]\\n\\nr = Range('abcdefg')\\n\\nfor i in r:\\n    print(i)\",\n",
              " '_i18': 'def my_generator():\\n    x = 10\\n    yield x\\n    x = 20\\n    yield x\\n    x = 30\\n    yield x\\n    return\\n    x = 40\\n    yield x\\n\\nfor i in my_generator():\\n    print(i)',\n",
              " 'my_generator': <function __main__.my_generator()>,\n",
              " '_i19': 'def infinite_generator():\\n    i = 0\\n    while True:\\n        yield i\\n        i += 1\\n\\nmy_iterator = infinite_generator()\\n\\nfor i in my_iterator:\\n    print(i)\\n    if i >= 10:\\n        break',\n",
              " 'infinite_generator': <function __main__.infinite_generator()>,\n",
              " 'my_iterator': <generator object infinite_generator at 0x7bea3175a340>,\n",
              " '_i20': \"def infinite_generator():\\n    i = 0\\n    while True:\\n        yield i\\n        i += 2\\n\\nmy_iterator = infinite_generator()\\n\\n# for i in my_iterator:\\n#     print(i)\\n#     if i >= 10:\\n#         break\\nllist(zip(infinite_generator(), 'abcd'))\",\n",
              " '_i21': \"def infinite_generator():\\n    i = 0\\n    while True:\\n        yield i\\n        i += 2\\n\\nmy_iterator = infinite_generator()\\n\\n# for i in my_iterator:\\n#     print(i)\\n#     if i >= 10:\\n#         break\\nlist(zip(infinite_generator(), 'abcd'))\",\n",
              " '_21': [(0, 'a'), (2, 'b'), (4, 'c'), (6, 'd')],\n",
              " '_i22': \"def infinite_generator():\\n    i = 0\\n    while True:\\n        yield i\\n        i += 2\\n\\nmy_iterator = infinite_generator()\\n\\n# for i in my_iterator:\\n#     print(i)\\n#     if i >= 10:\\n#         break\\nlist(zip(infinite_generator(), 'abcd'))\\nlist(zip(infinite_generator(), 'efgh'))\",\n",
              " '_22': [(0, 'e'), (2, 'f'), (4, 'g'), (6, 'h')],\n",
              " '_i23': \"def infinite_generator():\\n    i = 0\\n    while True:\\n        yield i\\n        i += 2\\n\\nmy_iterator = infinite_generator()\\n\\n# for i in my_iterator:\\n#     print(i)\\n#     if i >= 10:\\n#         break\\nprint(list(zip(infinite_generator(), 'abcd')))\\nprint(list(zip(infinite_generator(), 'efgh')))\",\n",
              " '_i24': \"def infinite_generator():\\n    i = 0\\n    while True:\\n        yield i\\n        i += 2\\n\\nmy_iterator = infinite_generator()\\n\\n# for i in my_iterator:\\n#     print(i)\\n#     if i >= 10:\\n#         break\\n\\nr = infinite_generator()\\n\\nprint(list(zip(r, 'abcd')))\\nprint(list(zip(r, 'efgh')))\",\n",
              " '_i25': \"def infinite_generator():\\n    i = 0\\n    while True:\\n        yield i\\n        i += 2\\n\\nmy_iterator = infinite_generator()\\n\\n# for i in my_iterator:\\n#     print(i)\\n#     if i >= 10:\\n#         break\\n\\nr = infinite_generator()\\n\\nprint(list(zip('abcd', r)))\\nprint(list(zip('efgh', r)))\",\n",
              " '_i26': 'gen = (i for i in range(100))\\n\\ngen',\n",
              " 'gen': <generator object <genexpr> at 0x7bea3159e0a0>,\n",
              " '_26': <generator object <genexpr> at 0x7bea3159e0a0>,\n",
              " '_i27': \"# nonlocal\\na = 10\\ndef f():\\n    a = 100\\n    print(f'f a: {a}')\\n    def ff():\\n        a = 1000\\n        print(f'ff a: {a}')\\n        def fff():\\n            nonlocal a # global a로 변경해보세요.\\n            a = 100\\n            print(f'fff a: {a}')\\n        fff()\\n        print(f'핵심 ff a: {a}') # 여기가 어떤 값이 나오는지가 핵심입니다.\\n    ff()\\nf()\\nprint(f'global a: {a}')\",\n",
              " 'a': 100,\n",
              " 'f': <function __main__.f()>,\n",
              " '_i28': \"# nonlocal\\na = 10\\ndef f():\\n    a = 100\\n    print(f'f a: {a}')\\n    def ff():\\n        a = 1000\\n        print(f'ff a: {a}')\\n        def fff():\\n            global a # global a로 변경해보세요.\\n            a = 100\\n            print(f'fff a: {a}')\\n        fff()\\n        print(f'핵심 ff a: {a}') # 여기가 어떤 값이 나오는지가 핵심입니다.\\n    ff()\\nf()\\nprint(f'global a: {a}')\",\n",
              " '_i29': 'locals()\\n# globals()',\n",
              " '_29': {...},\n",
              " '_i30': 'def hello():\\n    x = 10\\n    y = 20\\n    print(locals())\\n\\nhello()\\n# locals()\\n# globals()',\n",
              " 'hello': <function __main__.hello()>,\n",
              " '_i31': 'def hello():\\n    x = 10\\n    y = 20\\n    def one():\\n        pass\\n    print(locals())\\n\\nhello()\\n# locals()\\n# globals()',\n",
              " '_i32': 'globals()'}"
            ]
          },
          "metadata": {},
          "execution_count": 32
        }
      ]
    },
    {
      "cell_type": "markdown",
      "source": [
        "# 파이썬 버전"
      ],
      "metadata": {
        "id": "GNylUGCVhihS"
      }
    },
    {
      "cell_type": "code",
      "source": [
        "# https://devguide.python.org/versions/"
      ],
      "metadata": {
        "id": "XRU_bdrshkAJ"
      },
      "execution_count": null,
      "outputs": []
    },
    {
      "cell_type": "code",
      "source": [
        "# id, name, email이 각각 3번씩 반복\n",
        "# -> 이러한 현상을  보일러 플레이트(boiler-plate)라 함\n",
        "# -> print를 해도 필드값이 보이지 않아 불편\n",
        "class User:\n",
        "    def __init__(self, id, name, email):\n",
        "        self.id = id\n",
        "        self.name = name\n",
        "        self.email = email\n",
        "\n",
        "    def __repr__(self):\n",
        "        return (f'{self.__class__.__qualname__}{self.id, self.name, self.email}')\n",
        "\n",
        "user = User(123, 'hojun', 'hojun@gmail')\n",
        "user\n",
        "# User(123, 'hojun', 'hojun@gmail')"
      ],
      "metadata": {
        "id": "xn4gnqs4mJ8O"
      },
      "execution_count": null,
      "outputs": []
    },
    {
      "cell_type": "code",
      "source": [
        "from dataclasses import dataclass\n",
        "\n",
        "@dataclass\n",
        "class User:\n",
        "    id: int\n",
        "    name: str\n",
        "    email : str\n",
        "\n",
        "user = User(123, 'hojun', 'hojun@gmail')\n",
        "user"
      ],
      "metadata": {
        "id": "A47DTU96mLhD"
      },
      "execution_count": null,
      "outputs": []
    },
    {
      "cell_type": "code",
      "source": [
        "x = (n := 10) * 2\n",
        "print(x)  # 출력: 20\n",
        "print(n)  # 출력: 10"
      ],
      "metadata": {
        "colab": {
          "base_uri": "https://localhost:8080/"
        },
        "id": "uvLzs8dympxM",
        "outputId": "f49d846b-09f0-49d8-c008-35101e901c71"
      },
      "execution_count": null,
      "outputs": [
        {
          "output_type": "stream",
          "name": "stdout",
          "text": [
            "20\n",
            "10\n"
          ]
        }
      ]
    },
    {
      "cell_type": "code",
      "source": [
        "import random\n",
        "\n",
        "while (x := random.randint(0, 10)) != 7:\n",
        "    print(x)"
      ],
      "metadata": {
        "colab": {
          "base_uri": "https://localhost:8080/"
        },
        "id": "bDB0kAiLnHAD",
        "outputId": "b3edc878-0038-4b9e-8641-8f193e7fd466"
      },
      "execution_count": null,
      "outputs": [
        {
          "output_type": "stream",
          "name": "stdout",
          "text": [
            "1\n",
            "9\n"
          ]
        }
      ]
    },
    {
      "cell_type": "code",
      "source": [
        "random.randint(0, 10)"
      ],
      "metadata": {
        "colab": {
          "base_uri": "https://localhost:8080/"
        },
        "id": "c2M9ZDLinW3L",
        "outputId": "fe211b58-efd7-49fc-8c07-a7e9f0d4e548"
      },
      "execution_count": null,
      "outputs": [
        {
          "output_type": "execute_result",
          "data": {
            "text/plain": [
              "9"
            ]
          },
          "metadata": {},
          "execution_count": 41
        }
      ]
    },
    {
      "cell_type": "code",
      "source": [
        "x = {\"key1\": \"value1\"}\n",
        "y = {\"key2\": \"value2\"}\n",
        "z = x | y\n",
        "z"
      ],
      "metadata": {
        "colab": {
          "base_uri": "https://localhost:8080/"
        },
        "id": "0Czovn9TnrMm",
        "outputId": "bbd83d7f-9c0c-4972-c6f5-ff6f7bf1b996"
      },
      "execution_count": null,
      "outputs": [
        {
          "output_type": "execute_result",
          "data": {
            "text/plain": [
              "{'key1': 'value1', 'key2': 'value2'}"
            ]
          },
          "metadata": {},
          "execution_count": 42
        }
      ]
    },
    {
      "cell_type": "code",
      "source": [
        "x = {\"key1\": \"value1\"}\n",
        "y = {\"key2\": \"value2\"}\n",
        "z = {**x, **y}\n",
        "z"
      ],
      "metadata": {
        "colab": {
          "base_uri": "https://localhost:8080/"
        },
        "id": "Cu_7diVlnray",
        "outputId": "13d8c8ef-3d20-450a-8b9b-bec5d5f602d3"
      },
      "execution_count": null,
      "outputs": [
        {
          "output_type": "execute_result",
          "data": {
            "text/plain": [
              "{'key1': 'value1', 'key2': 'value2'}"
            ]
          },
          "metadata": {},
          "execution_count": 43
        }
      ]
    },
    {
      "cell_type": "markdown",
      "source": [
        "# 비트연산"
      ],
      "metadata": {
        "id": "gaQ9wLZ7oY6h"
      }
    },
    {
      "cell_type": "code",
      "source": [
        "10 & 2\n",
        "\n",
        "# 1010\n",
        "# 0010\n",
        "# ----\n",
        "# 0010"
      ],
      "metadata": {
        "colab": {
          "base_uri": "https://localhost:8080/"
        },
        "id": "n-R3dAP6nsko",
        "outputId": "43ceb109-fb3d-41bd-8ecf-d6f9e86a31d5"
      },
      "execution_count": null,
      "outputs": [
        {
          "output_type": "execute_result",
          "data": {
            "text/plain": [
              "2"
            ]
          },
          "metadata": {},
          "execution_count": 44
        }
      ]
    },
    {
      "cell_type": "code",
      "source": [
        "10 | 2\n",
        "\n",
        "# 1010\n",
        "# 0010\n",
        "# ----\n",
        "# 1010"
      ],
      "metadata": {
        "colab": {
          "base_uri": "https://localhost:8080/"
        },
        "id": "3RhFuIQrojph",
        "outputId": "13a6c360-c260-42e0-d1fd-4074aa20e1c9"
      },
      "execution_count": null,
      "outputs": [
        {
          "output_type": "execute_result",
          "data": {
            "text/plain": [
              "10"
            ]
          },
          "metadata": {},
          "execution_count": 45
        }
      ]
    },
    {
      "cell_type": "code",
      "source": [
        "~10 # not을 붙이면 -(n+1)"
      ],
      "metadata": {
        "colab": {
          "base_uri": "https://localhost:8080/"
        },
        "id": "hnVRiGsBom-G",
        "outputId": "9c542ac0-95a1-4dec-c4a5-cdb869210dbb"
      },
      "execution_count": null,
      "outputs": [
        {
          "output_type": "execute_result",
          "data": {
            "text/plain": [
              "-11"
            ]
          },
          "metadata": {},
          "execution_count": 46
        }
      ]
    },
    {
      "cell_type": "code",
      "source": [
        "2 << 2\n",
        "\n",
        "# 0010 => 1000"
      ],
      "metadata": {
        "colab": {
          "base_uri": "https://localhost:8080/"
        },
        "id": "SFivOKwQopZk",
        "outputId": "3d400f33-709b-45cb-d99f-0a24ca60b474"
      },
      "execution_count": null,
      "outputs": [
        {
          "output_type": "execute_result",
          "data": {
            "text/plain": [
              "8"
            ]
          },
          "metadata": {},
          "execution_count": 47
        }
      ]
    },
    {
      "cell_type": "code",
      "source": [
        "8 >> 1\n",
        "\n",
        "# 1000 => 0100"
      ],
      "metadata": {
        "colab": {
          "base_uri": "https://localhost:8080/"
        },
        "id": "zVbzrx2rpA5N",
        "outputId": "2aa02847-6fe0-42fd-9fc1-ba491e884ca6"
      },
      "execution_count": null,
      "outputs": [
        {
          "output_type": "execute_result",
          "data": {
            "text/plain": [
              "4"
            ]
          },
          "metadata": {},
          "execution_count": 48
        }
      ]
    },
    {
      "cell_type": "markdown",
      "source": [
        "# f-string"
      ],
      "metadata": {
        "id": "w-8o7JrnpHnm"
      }
    },
    {
      "cell_type": "code",
      "source": [
        "value = 'hello'\n",
        "print(f'{value}!!')"
      ],
      "metadata": {
        "colab": {
          "base_uri": "https://localhost:8080/"
        },
        "id": "ZJ4DhGRqpI-9",
        "outputId": "00d09356-43b2-44ed-eee3-565d077e5acd"
      },
      "execution_count": null,
      "outputs": [
        {
          "output_type": "stream",
          "name": "stdout",
          "text": [
            "hello!!\n"
          ]
        }
      ]
    },
    {
      "cell_type": "code",
      "source": [
        "one = 'hello'\n",
        "two = 'world'\n",
        "print(f'{one}\\n{two}')"
      ],
      "metadata": {
        "colab": {
          "base_uri": "https://localhost:8080/"
        },
        "id": "2TJMbEKGpORw",
        "outputId": "9e16e1af-96ce-4ff8-fff6-c5fa5260af39"
      },
      "execution_count": null,
      "outputs": [
        {
          "output_type": "stream",
          "name": "stdout",
          "text": [
            "hello\n",
            "world\n"
          ]
        }
      ]
    },
    {
      "cell_type": "code",
      "source": [
        "one = 'hello'\n",
        "two = 'world'\n",
        "print(fr'{one}\\n{two}')"
      ],
      "metadata": {
        "colab": {
          "base_uri": "https://localhost:8080/"
        },
        "id": "6b-McwIfpT15",
        "outputId": "0b584a89-c515-4bcd-eb8e-d991c01db9f5"
      },
      "execution_count": null,
      "outputs": [
        {
          "output_type": "stream",
          "name": "stdout",
          "text": [
            "hello\\nworld\n"
          ]
        }
      ]
    },
    {
      "cell_type": "code",
      "source": [
        "one = 'hello'\n",
        "two = 'world'\n",
        "print(rf'{one}\\n{two}')"
      ],
      "metadata": {
        "colab": {
          "base_uri": "https://localhost:8080/"
        },
        "id": "a2MobyPxpWXm",
        "outputId": "152c0812-49de-4fea-d5d7-cafcb890958e"
      },
      "execution_count": null,
      "outputs": [
        {
          "output_type": "stream",
          "name": "stdout",
          "text": [
            "hello\\nworld\n"
          ]
        }
      ]
    },
    {
      "cell_type": "code",
      "source": [
        "value = 2\n",
        "print(f'{10 ** 2}')"
      ],
      "metadata": {
        "colab": {
          "base_uri": "https://localhost:8080/"
        },
        "id": "7UBBBK8Vpj2h",
        "outputId": "87e8abb8-1790-4e8a-8499-dc88c516f8a0"
      },
      "execution_count": null,
      "outputs": [
        {
          "output_type": "stream",
          "name": "stdout",
          "text": [
            "100\n"
          ]
        }
      ]
    },
    {
      "cell_type": "code",
      "source": [
        "data = [\n",
        "    {\n",
        "        'id': 1,\n",
        "        'title': '제목1',\n",
        "        'content': '내용1'\n",
        "    },\n",
        "    {\n",
        "        'id': 2,\n",
        "        'title': '제목2',\n",
        "        'content': '내용2'\n",
        "    }\n",
        "]\n",
        "\n",
        "section = ''\n",
        "\n",
        "for i in data:\n",
        "    section += f'''\n",
        "    <section>\n",
        "        <h2>{i['title']}</h2>\n",
        "        <p>{i['content']}</p>\n",
        "    </section>\n",
        "    '''\n",
        "\n",
        "html = f'''\n",
        "<html>\n",
        "<head>\n",
        "</head>\n",
        "<body>\n",
        "{section}\n",
        "</body>\n",
        "</html>\n",
        "'''\n",
        "\n",
        "print(html)"
      ],
      "metadata": {
        "colab": {
          "base_uri": "https://localhost:8080/"
        },
        "id": "I9hkmmGZp6cc",
        "outputId": "e2f9393c-096c-4ac1-c8b4-2356d4081e78"
      },
      "execution_count": null,
      "outputs": [
        {
          "output_type": "stream",
          "name": "stdout",
          "text": [
            "\n",
            "<html>\n",
            "<head>\n",
            "</head>\n",
            "<body>\n",
            "\n",
            "    <section>\n",
            "        <h2>제목1</h2>\n",
            "        <p>내용1</p>\n",
            "    </section>\n",
            "    \n",
            "    <section>\n",
            "        <h2>제목2</h2>\n",
            "        <p>내용2</p>\n",
            "    </section>\n",
            "    \n",
            "</body>\n",
            "</html>\n",
            "\n"
          ]
        }
      ]
    },
    {
      "cell_type": "code",
      "source": [
        "# 이러한 방식으로 html을 조립하는 라이브러리들이 있습니다.\n",
        "# 유명한 라이브러리만 언급해드리겠습니다.\n",
        "\n",
        "# jinja2 - fastapi, flask 진형에서 사용\n",
        "# Nunjucks - javascript 진형에서 두루두루 사용\n",
        "# Django Template language - Django에서 사용"
      ],
      "metadata": {
        "id": "132mq61EqzIe"
      },
      "execution_count": null,
      "outputs": []
    },
    {
      "cell_type": "code",
      "source": [
        "# 중괄호가 2개여야 중괄호가 1개 표시됩니다.\n",
        "\n",
        "value = 'hello'\n",
        "s = f'''\n",
        "{{value}}\n",
        "'''\n",
        "\n",
        "print(s)"
      ],
      "metadata": {
        "colab": {
          "base_uri": "https://localhost:8080/"
        },
        "id": "0xmw4MUMriXv",
        "outputId": "02f0a50f-8cff-4e78-b75d-3ae29ae3308d"
      },
      "execution_count": null,
      "outputs": [
        {
          "output_type": "stream",
          "name": "stdout",
          "text": [
            "\n",
            "{value}\n",
            "\n"
          ]
        }
      ]
    },
    {
      "cell_type": "code",
      "source": [
        "value = 'hello'\n",
        "s = f'''\n",
        "{{value}}\n",
        "'''\n",
        "\n",
        "# 실제 문자열: \"\\n{value}\\n\"\n",
        "formatted = s.format(value=value)\n",
        "print(formatted)"
      ],
      "metadata": {
        "colab": {
          "base_uri": "https://localhost:8080/"
        },
        "id": "0QW4_SM2uQOu",
        "outputId": "e6965260-570c-4e19-f7fa-0bf73937b874"
      },
      "execution_count": null,
      "outputs": [
        {
          "output_type": "stream",
          "name": "stdout",
          "text": [
            "\n",
            "hello\n",
            "\n"
          ]
        }
      ]
    },
    {
      "cell_type": "code",
      "source": [
        "f'{3.141592:.2f}'\n",
        "f'{\"로그\":^30}'\n",
        "f'{\"로그\":=^30}'\n",
        "f'{\" 로그 \":=^30}' # 빈도가 좀 있습니다.\n",
        "f'{\" 로그 \":=<30}' # 잘 안씁니다.\n",
        "f'{\" 로그 \":=>30}' # 잘 안씁니다."
      ],
      "metadata": {
        "colab": {
          "base_uri": "https://localhost:8080/",
          "height": 35
        },
        "id": "iAzQLxJUsUF3",
        "outputId": "fdd30b42-d972-473c-b352-f91d180f78ea"
      },
      "execution_count": null,
      "outputs": [
        {
          "output_type": "execute_result",
          "data": {
            "text/plain": [
              "'========================== 로그 '"
            ],
            "application/vnd.google.colaboratory.intrinsic+json": {
              "type": "string"
            }
          },
          "metadata": {},
          "execution_count": 65
        }
      ]
    },
    {
      "cell_type": "code",
      "source": [
        "f'{3:0>4}' # 이렇게 사용하시는 것보다는 zfill 사용하시는 것을 권합니다.\n",
        "# 가독성이 더 좋습니다."
      ],
      "metadata": {
        "colab": {
          "base_uri": "https://localhost:8080/",
          "height": 35
        },
        "id": "hZBcECYKtBet",
        "outputId": "eaf67fd3-8463-46c5-86c3-0115ca9e78ac"
      },
      "execution_count": null,
      "outputs": [
        {
          "output_type": "execute_result",
          "data": {
            "text/plain": [
              "'0003'"
            ],
            "application/vnd.google.colaboratory.intrinsic+json": {
              "type": "string"
            }
          },
          "metadata": {},
          "execution_count": 68
        }
      ]
    },
    {
      "cell_type": "code",
      "source": [
        "print(f\"My set is {{1, 2, 3}}.\")  # 출력: My set is {1, 2, 3}.\n",
        "x = 10\n",
        "print(f\"My set is {{{x}}}.\")  # 출력: My set is {10}."
      ],
      "metadata": {
        "id": "7znDs5lftRpp"
      },
      "execution_count": null,
      "outputs": []
    },
    {
      "cell_type": "markdown",
      "source": [
        "# 비동기\n",
        "\n",
        "* 비동기를 왜 사용하는가?\n",
        "    * 네트워크 관련된 소스코드\n",
        "    * 최적화 단계"
      ],
      "metadata": {
        "id": "-mhekq9Nuahu"
      }
    },
    {
      "cell_type": "code",
      "source": [
        "!pip install nest_asyncio"
      ],
      "metadata": {
        "colab": {
          "base_uri": "https://localhost:8080/"
        },
        "id": "EANoBTvpu4PU",
        "outputId": "334f66b5-eaa4-4c42-d0cc-b2d36e845934"
      },
      "execution_count": null,
      "outputs": [
        {
          "output_type": "stream",
          "name": "stdout",
          "text": [
            "Requirement already satisfied: nest_asyncio in /usr/local/lib/python3.10/dist-packages (1.6.0)\n"
          ]
        }
      ]
    },
    {
      "cell_type": "code",
      "source": [
        "import nest_asyncio\n",
        "\n",
        "nest_asyncio.apply()"
      ],
      "metadata": {
        "id": "XSe8npGUv6R4"
      },
      "execution_count": null,
      "outputs": []
    },
    {
      "cell_type": "code",
      "source": [
        "import time\n",
        "\n",
        "def job(number):\n",
        "    print(f\"Job {number} started\")\n",
        "    time.sleep(3)  # 이 time.sleep이 매우 오래 걸리는 작업 이라 가정하고 그 효율을 생각해봅시다.\n",
        "    # 일반 sleep은 CPU를 쉬게 합니다.\n",
        "    print(f\"Job {number} completed\")\n",
        "\n",
        "job(1)\n",
        "job(2)\n",
        "job(3)"
      ],
      "metadata": {
        "colab": {
          "base_uri": "https://localhost:8080/"
        },
        "id": "YFwhTvuTwCgG",
        "outputId": "d5e2c876-efe4-425f-d3c5-1549c3880dc2"
      },
      "execution_count": null,
      "outputs": [
        {
          "output_type": "stream",
          "name": "stdout",
          "text": [
            "Job 1 started\n",
            "Job 1 completed\n",
            "Job 2 started\n",
            "Job 2 completed\n",
            "Job 3 started\n",
            "Job 3 completed\n"
          ]
        }
      ]
    },
    {
      "cell_type": "code",
      "source": [
        "import asyncio\n",
        "\n",
        "async def job(number):\n",
        "    print(f\"Job {number} started\")\n",
        "    await asyncio.sleep(1) # 매우 오래 걸리는 작업, asyncio.sleep은 비동기 처리를 할 수 있도록 합니다.(다른 작업이 가능합니다.)\n",
        "    print(f\"Job {number} completed\")\n",
        "\n",
        "async def main():\n",
        "    await asyncio.gather(job(1), job(2), job(3)) # await asyncio.wait([job(1), job(2), job(3)])\n",
        "\n",
        "asyncio.run(main())\n",
        "print('hello world')"
      ],
      "metadata": {
        "colab": {
          "base_uri": "https://localhost:8080/"
        },
        "id": "sG7Dv0VswPO2",
        "outputId": "732065e1-3563-4c48-b8e7-4d33b7b60081"
      },
      "execution_count": null,
      "outputs": [
        {
          "output_type": "stream",
          "name": "stdout",
          "text": [
            "Job 1 started\n",
            "Job 2 started\n",
            "Job 3 started\n",
            "Job 1 completed\n",
            "Job 2 completed\n",
            "Job 3 completed\n",
            "hello world\n"
          ]
        }
      ]
    },
    {
      "cell_type": "code",
      "source": [
        "# 적절하지 않은 예제\n",
        "# 어차피 내가(CPU가 0부터 10000000까지 다 더해야 합니다.)\n",
        "import asyncio\n",
        "\n",
        "async def job(number):\n",
        "    print(f\"Job {number} started\")\n",
        "    s = 0\n",
        "    for i in range(10000000):\n",
        "        s += i\n",
        "    print(s)\n",
        "    print(f\"Job {number} completed\")\n",
        "\n",
        "async def main():\n",
        "    await asyncio.gather(job(1), job(2), job(3)) # await asyncio.wait([job(1), job(2), job(3)])\n",
        "\n",
        "asyncio.run(main())\n",
        "print('hello world')"
      ],
      "metadata": {
        "colab": {
          "base_uri": "https://localhost:8080/"
        },
        "id": "i9hY6-wFwVVx",
        "outputId": "9a856b7a-0f93-44f2-95c1-a7f9004e7217"
      },
      "execution_count": null,
      "outputs": [
        {
          "output_type": "stream",
          "name": "stdout",
          "text": [
            "Job 1 started\n",
            "49999995000000\n",
            "Job 1 completed\n",
            "Job 2 started\n",
            "49999995000000\n",
            "Job 2 completed\n",
            "Job 3 started\n",
            "49999995000000\n",
            "Job 3 completed\n",
            "hello world\n"
          ]
        }
      ]
    },
    {
      "cell_type": "code",
      "source": [
        "import requests\n",
        "\n",
        "url = 'https://eduapi.weniv.co.kr/397/blog'\n",
        "data = requests.get(url)\n",
        "data.text"
      ],
      "metadata": {
        "colab": {
          "base_uri": "https://localhost:8080/",
          "height": 217
        },
        "id": "q7MPuvbtxATN",
        "outputId": "bd70e95c-2813-45f9-ecd5-1e53e652c877"
      },
      "execution_count": null,
      "outputs": [
        {
          "output_type": "execute_result",
          "data": {
            "text/plain": [
              "'[{\"_id\":\"16118968-7332-4d5d-B815-1741bc01d43c\",\"index\":\"1\",\"thumbnail\":\"asset/blogs/1.webp\",\"title\":\"Lorem ipsum dolor sit amet, consectetur adipiscing elit, sed do eiusmod tempor incididunt\",\"content\":\"Lorem ipsum dolor sit amet, consectetur adipiscing elit, sed do eiusmod tempor incididunt ut labore et dolore magna aliqua. Ut enim ad minim veniam, quis nostrud exercitation ullamco laboris nisi ut aliquip ex ea commodo consequat. Duis aute irure dolor in reprehenderit in voluptate velit esse cillum dolore eu fugiat nulla pariatur. Excepteur sint occaecat cupidatat non proident, sunt in culpa qui officia deserunt mollit anim id est laborum.\",\"email\":\"user-ww0qnop@Eu.com\",\"author\":\"licat\",\"views_count\":\"10527\",\"time\":\"19:54:55\",\"date\":\"2024-02-01\"},{\"_id\":\"829b151c-fa81-4b14-B389-32c77b18b21b\",\"index\":\"2\",\"thumbnail\":\"asset/blogs/2.webp\",\"title\":\"consectetur adipiscing elit, sed do eiusmod tempor incididunt\",\"content\":\"Duis aute irure dolor in reprehenderit in voluptate velit esse cillum dolore eu fugiat nulla pariatur. Excepteur sint occaecat cupidatat non proident, sunt in culpa qui officia deserunt mollit anim id est laborum. Duis aute irure dolor in reprehenderit in voluptate velit esse cillum dolore eu fugiat nulla pariatur. Excepteur sint occaecat cupidatat non proident, sunt in culpa qui officia deserunt mollit anim id est laborum.\",\"email\":\"user-tu8b2y7@sollicitudin.net\",\"author\":\"gary\",\"views_count\":\"39231\",\"time\":\"20:46:34\",\"date\":\"2024-04-29\"},{\"_id\":\"6041712a-9978-42e4-B08a-dd26b7831539\",\"index\":\"3\",\"thumbnail\":\"asset/blogs/3.webp\",\"title\":\"sed do eiusmod tempor incididunt\",\"content\":\"sed do eiusmod tempor incididunt ut labore et dolore magna aliqua. Ut enim ad minim veniam. quis nostrud exercitation ullamco laboris nisi ut aliquip ex ea commodo consequat. Duis aute irure dolor in reprehenderit in voluptate velit esse cillum dolore eu fugiat nulla pariatur. Excepteur sint occaecat cupidatat non proident. sunt in culpa qui officia deserunt mollit anim id est laborum.\",\"email\":\"user-pj3kxn2@Proin.com\",\"author\":\"hati\",\"views_count\":\"11528\",\"time\":\"05:02:41\",\"date\":\"2024-07-19\"},{\"_id\":\"b4170277-1d32-4189-A59e-358e325f2863\",\"index\":\"4\",\"thumbnail\":\"asset/blogs/4.webp\",\"title\":\"Lorem ipsum dolor\",\"content\":\"Lorem ipsum dolor sit amet, consectetur adipiscing elit, sed do eiusmod tempor incididunt ut labore et dolore magna aliqua. Ut enim ad minim veniam, quis nostrud exercitation ullamco laboris nisi ut aliquip ex ea commodo consequat. Duis aute irure dolor in reprehenderit in voluptate velit esse cillum dolore eu fugiat nulla pariatur. Excepteur sint occaecat cupidatat non proident, sunt in culpa qui officia deserunt mollit anim id est laborum.\",\"email\":\"user-trd2ao1@facilisi.biz\",\"author\":\"izzy\",\"views_count\":\"8906\",\"time\":\"01:23:21\",\"date\":\"2024-12-18\"},{\"_id\":\"842973be-f584-48db-A71f-15a6ac0f41b2\",\"index\":\"5\",\"thumbnail\":\"asset/blogs/5.webp\",\"title\":\"exercitation ullamco laboris nisi ut aliquip ex ea commodo consequat\",\"content\":\"Ut enim ad minim veniam, quis nostrud exercitation ullamco laboris nisi ut aliquip ex ea commodo consequat. Duis aute irure dolor in reprehenderit in voluptate velit esse cillum dolore eu fugiat nulla pariatur. Excepteur sint occaecat cupidatat non proident, sunt in culpa qui officia deserunt mollit anim id est laborum. Ut enim ad minim veniam, quis nostrud exercitation ullamco laboris nisi ut aliquip ex ea commodo consequat. Duis aute irure dolor in reprehenderit in voluptate velit esse cillum dolore eu fugiat nulla pariatur. Excepteur sint occaecat cupidatat non proident, sunt in culpa qui officia deserunt mollit anim id est laborum.\",\"email\":\"user-xfvwfns@dictum.biz\",\"author\":\"max\",\"views_count\":\"38331\",\"time\":\"12:22:57\",\"date\":\"2024-01-07\"}]'"
            ],
            "application/vnd.google.colaboratory.intrinsic+json": {
              "type": "string"
            }
          },
          "metadata": {},
          "execution_count": 77
        }
      ]
    },
    {
      "cell_type": "code",
      "source": [
        "import requests\n",
        "import json\n",
        "\n",
        "url = 'https://eduapi.weniv.co.kr/397/blog'\n",
        "data = requests.get(url)\n",
        "data = json.loads(data.text)\n",
        "data"
      ],
      "metadata": {
        "colab": {
          "base_uri": "https://localhost:8080/"
        },
        "id": "8ZHLSo_Jxc5t",
        "outputId": "ac8c16a9-56d1-435e-e814-ac5e20dd2b24"
      },
      "execution_count": null,
      "outputs": [
        {
          "output_type": "execute_result",
          "data": {
            "text/plain": [
              "[{'_id': '16118968-7332-4d5d-B815-1741bc01d43c',\n",
              "  'index': '1',\n",
              "  'thumbnail': 'asset/blogs/1.webp',\n",
              "  'title': 'Lorem ipsum dolor sit amet, consectetur adipiscing elit, sed do eiusmod tempor incididunt',\n",
              "  'content': 'Lorem ipsum dolor sit amet, consectetur adipiscing elit, sed do eiusmod tempor incididunt ut labore et dolore magna aliqua. Ut enim ad minim veniam, quis nostrud exercitation ullamco laboris nisi ut aliquip ex ea commodo consequat. Duis aute irure dolor in reprehenderit in voluptate velit esse cillum dolore eu fugiat nulla pariatur. Excepteur sint occaecat cupidatat non proident, sunt in culpa qui officia deserunt mollit anim id est laborum.',\n",
              "  'email': 'user-ww0qnop@Eu.com',\n",
              "  'author': 'licat',\n",
              "  'views_count': '10527',\n",
              "  'time': '19:54:55',\n",
              "  'date': '2024-02-01'},\n",
              " {'_id': '829b151c-fa81-4b14-B389-32c77b18b21b',\n",
              "  'index': '2',\n",
              "  'thumbnail': 'asset/blogs/2.webp',\n",
              "  'title': 'consectetur adipiscing elit, sed do eiusmod tempor incididunt',\n",
              "  'content': 'Duis aute irure dolor in reprehenderit in voluptate velit esse cillum dolore eu fugiat nulla pariatur. Excepteur sint occaecat cupidatat non proident, sunt in culpa qui officia deserunt mollit anim id est laborum. Duis aute irure dolor in reprehenderit in voluptate velit esse cillum dolore eu fugiat nulla pariatur. Excepteur sint occaecat cupidatat non proident, sunt in culpa qui officia deserunt mollit anim id est laborum.',\n",
              "  'email': 'user-tu8b2y7@sollicitudin.net',\n",
              "  'author': 'gary',\n",
              "  'views_count': '39231',\n",
              "  'time': '20:46:34',\n",
              "  'date': '2024-04-29'},\n",
              " {'_id': '6041712a-9978-42e4-B08a-dd26b7831539',\n",
              "  'index': '3',\n",
              "  'thumbnail': 'asset/blogs/3.webp',\n",
              "  'title': 'sed do eiusmod tempor incididunt',\n",
              "  'content': 'sed do eiusmod tempor incididunt ut labore et dolore magna aliqua. Ut enim ad minim veniam. quis nostrud exercitation ullamco laboris nisi ut aliquip ex ea commodo consequat. Duis aute irure dolor in reprehenderit in voluptate velit esse cillum dolore eu fugiat nulla pariatur. Excepteur sint occaecat cupidatat non proident. sunt in culpa qui officia deserunt mollit anim id est laborum.',\n",
              "  'email': 'user-pj3kxn2@Proin.com',\n",
              "  'author': 'hati',\n",
              "  'views_count': '11528',\n",
              "  'time': '05:02:41',\n",
              "  'date': '2024-07-19'},\n",
              " {'_id': 'b4170277-1d32-4189-A59e-358e325f2863',\n",
              "  'index': '4',\n",
              "  'thumbnail': 'asset/blogs/4.webp',\n",
              "  'title': 'Lorem ipsum dolor',\n",
              "  'content': 'Lorem ipsum dolor sit amet, consectetur adipiscing elit, sed do eiusmod tempor incididunt ut labore et dolore magna aliqua. Ut enim ad minim veniam, quis nostrud exercitation ullamco laboris nisi ut aliquip ex ea commodo consequat. Duis aute irure dolor in reprehenderit in voluptate velit esse cillum dolore eu fugiat nulla pariatur. Excepteur sint occaecat cupidatat non proident, sunt in culpa qui officia deserunt mollit anim id est laborum.',\n",
              "  'email': 'user-trd2ao1@facilisi.biz',\n",
              "  'author': 'izzy',\n",
              "  'views_count': '8906',\n",
              "  'time': '01:23:21',\n",
              "  'date': '2024-12-18'},\n",
              " {'_id': '842973be-f584-48db-A71f-15a6ac0f41b2',\n",
              "  'index': '5',\n",
              "  'thumbnail': 'asset/blogs/5.webp',\n",
              "  'title': 'exercitation ullamco laboris nisi ut aliquip ex ea commodo consequat',\n",
              "  'content': 'Ut enim ad minim veniam, quis nostrud exercitation ullamco laboris nisi ut aliquip ex ea commodo consequat. Duis aute irure dolor in reprehenderit in voluptate velit esse cillum dolore eu fugiat nulla pariatur. Excepteur sint occaecat cupidatat non proident, sunt in culpa qui officia deserunt mollit anim id est laborum. Ut enim ad minim veniam, quis nostrud exercitation ullamco laboris nisi ut aliquip ex ea commodo consequat. Duis aute irure dolor in reprehenderit in voluptate velit esse cillum dolore eu fugiat nulla pariatur. Excepteur sint occaecat cupidatat non proident, sunt in culpa qui officia deserunt mollit anim id est laborum.',\n",
              "  'email': 'user-xfvwfns@dictum.biz',\n",
              "  'author': 'max',\n",
              "  'views_count': '38331',\n",
              "  'time': '12:22:57',\n",
              "  'date': '2024-01-07'}]"
            ]
          },
          "metadata": {},
          "execution_count": 78
        }
      ]
    },
    {
      "cell_type": "code",
      "source": [
        "# 주의사항: 비동기 코드 안에 동기 코드가 있으면\n",
        "# 동기로 바뀌어서 실행이 됩니다.\n",
        "import asyncio\n",
        "\n",
        "async def job(number):\n",
        "    import requests\n",
        "    import json\n",
        "\n",
        "    print(f\"Job {number} started\")\n",
        "    url = 'https://eduapi.weniv.co.kr/397/blog/{number}'\n",
        "    data = requests.get(url) # requests.get은 동기식 작업입니다.\n",
        "    data = json.loads(data.text)\n",
        "    print(f\"Job {number} completed\")\n",
        "    return data\n",
        "\n",
        "async def main():\n",
        "    await asyncio.gather(job(1), job(2), job(3)) # await asyncio.wait([job(1), job(2), job(3)])\n",
        "\n",
        "asyncio.run(main())\n",
        "print('hello world')"
      ],
      "metadata": {
        "colab": {
          "base_uri": "https://localhost:8080/"
        },
        "id": "SBBKndBu-j52",
        "outputId": "b1320058-338b-4149-9144-9cde3b6811cb"
      },
      "execution_count": null,
      "outputs": [
        {
          "output_type": "stream",
          "name": "stdout",
          "text": [
            "Job 1 started\n",
            "Job 1 completed\n",
            "Job 2 started\n",
            "Job 2 completed\n",
            "Job 3 started\n",
            "Job 3 completed\n",
            "hello world\n"
          ]
        }
      ]
    },
    {
      "cell_type": "code",
      "source": [
        "# 이를 해결하기 위해서는 아래와 같이 작성해야 합니다.\n",
        "import asyncio\n",
        "import aiohttp  # aiohttp는 비동기 HTTP 클라이언트/서버 프레임워크입니다\n",
        "\n",
        "async def fetch_blog_data(session, number):\n",
        "    url = f'https://eduapi.weniv.co.kr/{number}/blog'\n",
        "    print(f\"Fetching data from blog {number}\")\n",
        "\n",
        "    async with session.get(url) as response:\n",
        "        # response.text()는 코루틴이므로 await가 필요합니다\n",
        "        data = await response.text()\n",
        "        print(f\"Completed fetching blog {number}\")\n",
        "        return data\n",
        "\n",
        "async def main():\n",
        "    # aiohttp의 ClientSession은 컨텍스트 매니저로 사용하는 것이 좋습니다\n",
        "    async with aiohttp.ClientSession() as session:\n",
        "        # 여러 요청을 동시에 처리\n",
        "        tasks = [\n",
        "            fetch_blog_data(session, 397),\n",
        "            fetch_blog_data(session, 398),\n",
        "            fetch_blog_data(session, 399)\n",
        "        ]\n",
        "        # gather를 사용하여 모든 태스크를 동시에 실행\n",
        "        results = await asyncio.gather(*tasks)\n",
        "\n",
        "        # 결과 출력\n",
        "        for i, result in enumerate(results, start=1):\n",
        "            print(f\"\\nBlog {i} 데이터 길이: {len(result)} 문자\")\n",
        "\n",
        "# 메인 실행\n",
        "asyncio.run(main())\n",
        "print('모든 요청이 완료되었습니다!')"
      ],
      "metadata": {
        "colab": {
          "base_uri": "https://localhost:8080/"
        },
        "id": "rQpsKZY4_lnH",
        "outputId": "6d06cfbb-9682-420f-bb93-359fbc9ef995"
      },
      "execution_count": null,
      "outputs": [
        {
          "output_type": "stream",
          "name": "stdout",
          "text": [
            "Fetching data from blog 397\n",
            "Fetching data from blog 398\n",
            "Fetching data from blog 399\n",
            "Completed fetching blog 397\n",
            "Completed fetching blog 398\n",
            "Completed fetching blog 399\n",
            "\n",
            "Blog 1 데이터 길이: 3748 문자\n",
            "\n",
            "Blog 2 데이터 길이: 3748 문자\n",
            "\n",
            "Blog 3 데이터 길이: 3748 문자\n",
            "모든 요청이 완료되었습니다!\n"
          ]
        }
      ]
    },
    {
      "cell_type": "markdown",
      "source": [
        "# 테스팅과 디버깅"
      ],
      "metadata": {
        "id": "CJgcq0J5ElY8"
      }
    },
    {
      "cell_type": "code",
      "source": [
        "# colab에서 실행하지 않고 VSCode에서 진행하도록 하겠습니다.\n",
        "\n",
        "import unittest\n",
        "\n",
        "def add(x, y):\n",
        "    return x + y\n",
        "\n",
        "class TestAdd(unittest.TestCase):\n",
        "    def test_add(self):\n",
        "        self.assertEqual(add(1, 2), 3)\n",
        "\n",
        "if __name__ == '__main__':\n",
        "    unittest.main()"
      ],
      "metadata": {
        "colab": {
          "base_uri": "https://localhost:8080/",
          "height": 329
        },
        "id": "BhMrZXQcEm6E",
        "outputId": "90ad1147-609c-44f6-c2c0-96e8e68f3e1b"
      },
      "execution_count": null,
      "outputs": [
        {
          "output_type": "stream",
          "name": "stderr",
          "text": [
            "E\n",
            "======================================================================\n",
            "ERROR: /root/ (unittest.loader._FailedTest)\n",
            "----------------------------------------------------------------------\n",
            "AttributeError: module '__main__' has no attribute '/root/'\n",
            "\n",
            "----------------------------------------------------------------------\n",
            "Ran 1 test in 0.002s\n",
            "\n",
            "FAILED (errors=1)\n"
          ]
        },
        {
          "output_type": "error",
          "ename": "SystemExit",
          "evalue": "True",
          "traceback": [
            "An exception has occurred, use %tb to see the full traceback.\n",
            "\u001b[0;31mSystemExit\u001b[0m\u001b[0;31m:\u001b[0m True\n"
          ]
        },
        {
          "output_type": "stream",
          "name": "stderr",
          "text": [
            "/usr/local/lib/python3.10/dist-packages/IPython/core/interactiveshell.py:3561: UserWarning: To exit: use 'exit', 'quit', or Ctrl-D.\n",
            "  warn(\"To exit: use 'exit', 'quit', or Ctrl-D.\", stacklevel=1)\n"
          ]
        }
      ]
    },
    {
      "cell_type": "code",
      "source": [
        "import pdb\n",
        "\n",
        "def add_to_ten(num):\n",
        "    result = num + 10\n",
        "    pdb.set_trace()  # 디버거를 실행합니다. break 포인트입니다.\n",
        "    return result\n",
        "\n",
        "add_to_ten(5)"
      ],
      "metadata": {
        "id": "1Kz2PYGuRRrs"
      },
      "execution_count": null,
      "outputs": []
    },
    {
      "cell_type": "code",
      "source": [
        "import pdb\n",
        "\n",
        "\n",
        "def add_to_ten(num):\n",
        "    result = 0\n",
        "    for i in range(10):\n",
        "        result += i\n",
        "        pdb.set_trace()  # 디버거를 실행합니다. break 포인트입니다.\n",
        "    return result\n",
        "\n",
        "\n",
        "add_to_ten(5)"
      ],
      "metadata": {
        "colab": {
          "base_uri": "https://localhost:8080/"
        },
        "id": "tSiAceO2SJZN",
        "outputId": "4f1f1c05-b66c-4b79-c4da-3240135fdc4e"
      },
      "execution_count": null,
      "outputs": [
        {
          "name": "stdout",
          "output_type": "stream",
          "text": [
            "> \u001b[0;32m<ipython-input-89-6588f5224395>\u001b[0m(6)\u001b[0;36madd_to_ten\u001b[0;34m()\u001b[0m\n",
            "\u001b[0;32m      4 \u001b[0;31m\u001b[0;32mdef\u001b[0m \u001b[0madd_to_ten\u001b[0m\u001b[0;34m(\u001b[0m\u001b[0mnum\u001b[0m\u001b[0;34m)\u001b[0m\u001b[0;34m:\u001b[0m\u001b[0;34m\u001b[0m\u001b[0;34m\u001b[0m\u001b[0m\n",
            "\u001b[0m\u001b[0;32m      5 \u001b[0;31m    \u001b[0mresult\u001b[0m \u001b[0;34m=\u001b[0m \u001b[0;36m0\u001b[0m\u001b[0;34m\u001b[0m\u001b[0;34m\u001b[0m\u001b[0m\n",
            "\u001b[0m\u001b[0;32m----> 6 \u001b[0;31m    \u001b[0;32mfor\u001b[0m \u001b[0mi\u001b[0m \u001b[0;32min\u001b[0m \u001b[0mrange\u001b[0m\u001b[0;34m(\u001b[0m\u001b[0;36m10\u001b[0m\u001b[0;34m)\u001b[0m\u001b[0;34m:\u001b[0m\u001b[0;34m\u001b[0m\u001b[0;34m\u001b[0m\u001b[0m\n",
            "\u001b[0m\u001b[0;32m      7 \u001b[0;31m        \u001b[0mresult\u001b[0m \u001b[0;34m+=\u001b[0m \u001b[0mi\u001b[0m\u001b[0;34m\u001b[0m\u001b[0;34m\u001b[0m\u001b[0m\n",
            "\u001b[0m\u001b[0;32m      8 \u001b[0;31m        \u001b[0mpdb\u001b[0m\u001b[0;34m.\u001b[0m\u001b[0mset_trace\u001b[0m\u001b[0;34m(\u001b[0m\u001b[0;34m)\u001b[0m  \u001b[0;31m# 디버거를 실행합니다. break 포인트입니다.\u001b[0m\u001b[0;34m\u001b[0m\u001b[0;34m\u001b[0m\u001b[0m\n",
            "\u001b[0m\n",
            "ipdb> c\n"
          ]
        },
        {
          "output_type": "stream",
          "name": "stderr",
          "text": [
            "\n",
            "PYDEV DEBUGGER WARNING:\n",
            "sys.settrace() should not be used when the debugger is being used.\n",
            "This may cause the debugger to stop working correctly.\n",
            "If this is needed, please check: \n",
            "http://pydev.blogspot.com/2007/06/why-cant-pydev-debugger-work-with.html\n",
            "to see how to restore the debug tracing back correctly.\n",
            "Call Location:\n",
            "  File \"/usr/lib/python3.10/bdb.py\", line 347, in set_continue\n",
            "    sys.settrace(None)\n",
            "\n"
          ]
        },
        {
          "name": "stdout",
          "output_type": "stream",
          "text": [
            "> \u001b[0;32m<ipython-input-89-6588f5224395>\u001b[0m(6)\u001b[0;36madd_to_ten\u001b[0;34m()\u001b[0m\n",
            "\u001b[0;32m      4 \u001b[0;31m\u001b[0;32mdef\u001b[0m \u001b[0madd_to_ten\u001b[0m\u001b[0;34m(\u001b[0m\u001b[0mnum\u001b[0m\u001b[0;34m)\u001b[0m\u001b[0;34m:\u001b[0m\u001b[0;34m\u001b[0m\u001b[0;34m\u001b[0m\u001b[0m\n",
            "\u001b[0m\u001b[0;32m      5 \u001b[0;31m    \u001b[0mresult\u001b[0m \u001b[0;34m=\u001b[0m \u001b[0;36m0\u001b[0m\u001b[0;34m\u001b[0m\u001b[0;34m\u001b[0m\u001b[0m\n",
            "\u001b[0m\u001b[0;32m----> 6 \u001b[0;31m    \u001b[0;32mfor\u001b[0m \u001b[0mi\u001b[0m \u001b[0;32min\u001b[0m \u001b[0mrange\u001b[0m\u001b[0;34m(\u001b[0m\u001b[0;36m10\u001b[0m\u001b[0;34m)\u001b[0m\u001b[0;34m:\u001b[0m\u001b[0;34m\u001b[0m\u001b[0;34m\u001b[0m\u001b[0m\n",
            "\u001b[0m\u001b[0;32m      7 \u001b[0;31m        \u001b[0mresult\u001b[0m \u001b[0;34m+=\u001b[0m \u001b[0mi\u001b[0m\u001b[0;34m\u001b[0m\u001b[0;34m\u001b[0m\u001b[0m\n",
            "\u001b[0m\u001b[0;32m      8 \u001b[0;31m        \u001b[0mpdb\u001b[0m\u001b[0;34m.\u001b[0m\u001b[0mset_trace\u001b[0m\u001b[0;34m(\u001b[0m\u001b[0;34m)\u001b[0m  \u001b[0;31m# 디버거를 실행합니다. break 포인트입니다.\u001b[0m\u001b[0;34m\u001b[0m\u001b[0;34m\u001b[0m\u001b[0m\n",
            "\u001b[0m\n",
            "ipdb> c\n",
            "> \u001b[0;32m<ipython-input-89-6588f5224395>\u001b[0m(6)\u001b[0;36madd_to_ten\u001b[0;34m()\u001b[0m\n",
            "\u001b[0;32m      4 \u001b[0;31m\u001b[0;32mdef\u001b[0m \u001b[0madd_to_ten\u001b[0m\u001b[0;34m(\u001b[0m\u001b[0mnum\u001b[0m\u001b[0;34m)\u001b[0m\u001b[0;34m:\u001b[0m\u001b[0;34m\u001b[0m\u001b[0;34m\u001b[0m\u001b[0m\n",
            "\u001b[0m\u001b[0;32m      5 \u001b[0;31m    \u001b[0mresult\u001b[0m \u001b[0;34m=\u001b[0m \u001b[0;36m0\u001b[0m\u001b[0;34m\u001b[0m\u001b[0;34m\u001b[0m\u001b[0m\n",
            "\u001b[0m\u001b[0;32m----> 6 \u001b[0;31m    \u001b[0;32mfor\u001b[0m \u001b[0mi\u001b[0m \u001b[0;32min\u001b[0m \u001b[0mrange\u001b[0m\u001b[0;34m(\u001b[0m\u001b[0;36m10\u001b[0m\u001b[0;34m)\u001b[0m\u001b[0;34m:\u001b[0m\u001b[0;34m\u001b[0m\u001b[0;34m\u001b[0m\u001b[0m\n",
            "\u001b[0m\u001b[0;32m      7 \u001b[0;31m        \u001b[0mresult\u001b[0m \u001b[0;34m+=\u001b[0m \u001b[0mi\u001b[0m\u001b[0;34m\u001b[0m\u001b[0;34m\u001b[0m\u001b[0m\n",
            "\u001b[0m\u001b[0;32m      8 \u001b[0;31m        \u001b[0mpdb\u001b[0m\u001b[0;34m.\u001b[0m\u001b[0mset_trace\u001b[0m\u001b[0;34m(\u001b[0m\u001b[0;34m)\u001b[0m  \u001b[0;31m# 디버거를 실행합니다. break 포인트입니다.\u001b[0m\u001b[0;34m\u001b[0m\u001b[0;34m\u001b[0m\u001b[0m\n",
            "\u001b[0m\n",
            "ipdb> c\n",
            "> \u001b[0;32m<ipython-input-89-6588f5224395>\u001b[0m(6)\u001b[0;36madd_to_ten\u001b[0;34m()\u001b[0m\n",
            "\u001b[0;32m      4 \u001b[0;31m\u001b[0;32mdef\u001b[0m \u001b[0madd_to_ten\u001b[0m\u001b[0;34m(\u001b[0m\u001b[0mnum\u001b[0m\u001b[0;34m)\u001b[0m\u001b[0;34m:\u001b[0m\u001b[0;34m\u001b[0m\u001b[0;34m\u001b[0m\u001b[0m\n",
            "\u001b[0m\u001b[0;32m      5 \u001b[0;31m    \u001b[0mresult\u001b[0m \u001b[0;34m=\u001b[0m \u001b[0;36m0\u001b[0m\u001b[0;34m\u001b[0m\u001b[0;34m\u001b[0m\u001b[0m\n",
            "\u001b[0m\u001b[0;32m----> 6 \u001b[0;31m    \u001b[0;32mfor\u001b[0m \u001b[0mi\u001b[0m \u001b[0;32min\u001b[0m \u001b[0mrange\u001b[0m\u001b[0;34m(\u001b[0m\u001b[0;36m10\u001b[0m\u001b[0;34m)\u001b[0m\u001b[0;34m:\u001b[0m\u001b[0;34m\u001b[0m\u001b[0;34m\u001b[0m\u001b[0m\n",
            "\u001b[0m\u001b[0;32m      7 \u001b[0;31m        \u001b[0mresult\u001b[0m \u001b[0;34m+=\u001b[0m \u001b[0mi\u001b[0m\u001b[0;34m\u001b[0m\u001b[0;34m\u001b[0m\u001b[0m\n",
            "\u001b[0m\u001b[0;32m      8 \u001b[0;31m        \u001b[0mpdb\u001b[0m\u001b[0;34m.\u001b[0m\u001b[0mset_trace\u001b[0m\u001b[0;34m(\u001b[0m\u001b[0;34m)\u001b[0m  \u001b[0;31m# 디버거를 실행합니다. break 포인트입니다.\u001b[0m\u001b[0;34m\u001b[0m\u001b[0;34m\u001b[0m\u001b[0m\n",
            "\u001b[0m\n",
            "ipdb> print(i)\n",
            "3\n",
            "ipdb> result\n",
            "6\n",
            "ipdb> q\n"
          ]
        }
      ]
    },
    {
      "cell_type": "code",
      "source": [
        "# c(다음 breackpoint로 이동), q(중단)\n",
        "result = 0\n",
        "for i in range(10):\n",
        "    breakpoint()\n",
        "    result += i\n",
        "result"
      ],
      "metadata": {
        "colab": {
          "base_uri": "https://localhost:8080/"
        },
        "id": "69tB6LhaSez5",
        "outputId": "6b3e91a4-688f-4e3c-cffa-d5b1a27405af"
      },
      "execution_count": null,
      "outputs": [
        {
          "name": "stdout",
          "output_type": "stream",
          "text": [
            "> \u001b[0;32m<ipython-input-91-443e2184049d>\u001b[0m(5)\u001b[0;36m<cell line: 3>\u001b[0;34m()\u001b[0m\n",
            "\u001b[0;32m      2 \u001b[0;31m\u001b[0mresult\u001b[0m \u001b[0;34m=\u001b[0m \u001b[0;36m0\u001b[0m\u001b[0;34m\u001b[0m\u001b[0;34m\u001b[0m\u001b[0m\n",
            "\u001b[0m\u001b[0;32m      3 \u001b[0;31m\u001b[0;32mfor\u001b[0m \u001b[0mi\u001b[0m \u001b[0;32min\u001b[0m \u001b[0mrange\u001b[0m\u001b[0;34m(\u001b[0m\u001b[0;36m10\u001b[0m\u001b[0;34m)\u001b[0m\u001b[0;34m:\u001b[0m\u001b[0;34m\u001b[0m\u001b[0;34m\u001b[0m\u001b[0m\n",
            "\u001b[0m\u001b[0;32m      4 \u001b[0;31m    \u001b[0mbreakpoint\u001b[0m\u001b[0;34m(\u001b[0m\u001b[0;34m)\u001b[0m\u001b[0;34m\u001b[0m\u001b[0;34m\u001b[0m\u001b[0m\n",
            "\u001b[0m\u001b[0;32m----> 5 \u001b[0;31m    \u001b[0mresult\u001b[0m \u001b[0;34m+=\u001b[0m \u001b[0mi\u001b[0m\u001b[0;34m\u001b[0m\u001b[0;34m\u001b[0m\u001b[0m\n",
            "\u001b[0m\u001b[0;32m      6 \u001b[0;31m\u001b[0mresult\u001b[0m\u001b[0;34m\u001b[0m\u001b[0;34m\u001b[0m\u001b[0m\n",
            "\u001b[0m\n",
            "ipdb> l\n",
            "\u001b[1;32m      1 \u001b[0m\u001b[0;31m# c(다음 breackpoint로 이동), q(중단)\u001b[0m\u001b[0;34m\u001b[0m\u001b[0;34m\u001b[0m\u001b[0m\n",
            "\u001b[1;32m      2 \u001b[0m\u001b[0mresult\u001b[0m \u001b[0;34m=\u001b[0m \u001b[0;36m0\u001b[0m\u001b[0;34m\u001b[0m\u001b[0;34m\u001b[0m\u001b[0m\n",
            "\u001b[1;32m      3 \u001b[0m\u001b[0;32mfor\u001b[0m \u001b[0mi\u001b[0m \u001b[0;32min\u001b[0m \u001b[0mrange\u001b[0m\u001b[0;34m(\u001b[0m\u001b[0;36m10\u001b[0m\u001b[0;34m)\u001b[0m\u001b[0;34m:\u001b[0m\u001b[0;34m\u001b[0m\u001b[0;34m\u001b[0m\u001b[0m\n",
            "\u001b[1;32m      4 \u001b[0m    \u001b[0mbreakpoint\u001b[0m\u001b[0;34m(\u001b[0m\u001b[0;34m)\u001b[0m\u001b[0;34m\u001b[0m\u001b[0;34m\u001b[0m\u001b[0m\n",
            "\u001b[0;32m----> 5 \u001b[0;31m    \u001b[0mresult\u001b[0m \u001b[0;34m+=\u001b[0m \u001b[0mi\u001b[0m\u001b[0;34m\u001b[0m\u001b[0;34m\u001b[0m\u001b[0m\n",
            "\u001b[0m\u001b[1;32m      6 \u001b[0m\u001b[0mresult\u001b[0m\u001b[0;34m\u001b[0m\u001b[0;34m\u001b[0m\u001b[0m\n",
            "\n",
            "ipdb> ll\n",
            "\u001b[1;32m      1 \u001b[0m\u001b[0;31m# c(다음 breackpoint로 이동), q(중단)\u001b[0m\u001b[0;34m\u001b[0m\u001b[0;34m\u001b[0m\u001b[0m\n",
            "\u001b[1;32m      2 \u001b[0m\u001b[0mresult\u001b[0m \u001b[0;34m=\u001b[0m \u001b[0;36m0\u001b[0m\u001b[0;34m\u001b[0m\u001b[0;34m\u001b[0m\u001b[0m\n",
            "\u001b[1;32m      3 \u001b[0m\u001b[0;32mfor\u001b[0m \u001b[0mi\u001b[0m \u001b[0;32min\u001b[0m \u001b[0mrange\u001b[0m\u001b[0;34m(\u001b[0m\u001b[0;36m10\u001b[0m\u001b[0;34m)\u001b[0m\u001b[0;34m:\u001b[0m\u001b[0;34m\u001b[0m\u001b[0;34m\u001b[0m\u001b[0m\n",
            "\u001b[1;32m      4 \u001b[0m    \u001b[0mbreakpoint\u001b[0m\u001b[0;34m(\u001b[0m\u001b[0;34m)\u001b[0m\u001b[0;34m\u001b[0m\u001b[0;34m\u001b[0m\u001b[0m\n",
            "\u001b[0;32m----> 5 \u001b[0;31m    \u001b[0mresult\u001b[0m \u001b[0;34m+=\u001b[0m \u001b[0mi\u001b[0m\u001b[0;34m\u001b[0m\u001b[0;34m\u001b[0m\u001b[0m\n",
            "\u001b[0m\u001b[1;32m      6 \u001b[0m\u001b[0mresult\u001b[0m\u001b[0;34m\u001b[0m\u001b[0;34m\u001b[0m\u001b[0m\n",
            "\n",
            "ipdb> q\n"
          ]
        }
      ]
    },
    {
      "cell_type": "code",
      "source": [
        "def add_to_ten(num):\n",
        "    result = 0\n",
        "    for c in range(10):\n",
        "        result += c\n",
        "        # 이렇게 breakpoint에 명령어와 중복되는 것이 있으면\n",
        "        # c는 다음으로 넘어가는 명령이며,\n",
        "        # 변수를 출력하고 싶을 때에는 p c 이렇게 출력합니다.\n",
        "        breakpoint()\n",
        "    return result\n",
        "\n",
        "\n",
        "add_to_ten(5)"
      ],
      "metadata": {
        "id": "xr0d1XlGSk4A"
      },
      "execution_count": null,
      "outputs": []
    },
    {
      "cell_type": "code",
      "source": [
        "result = 0\n",
        "for i in range(10):\n",
        "    # 가장 먼저 하는 것은 breakpoint가 아니라 print\n",
        "    print(i)\n",
        "    result += i\n",
        "\n",
        "result"
      ],
      "metadata": {
        "colab": {
          "base_uri": "https://localhost:8080/"
        },
        "id": "bZFIeNAmT30G",
        "outputId": "8cb0f313-1b3d-4fa6-acc5-e85b2e153d3a"
      },
      "execution_count": null,
      "outputs": [
        {
          "output_type": "stream",
          "name": "stdout",
          "text": [
            "0\n",
            "1\n",
            "2\n",
            "3\n",
            "4\n",
            "5\n",
            "6\n",
            "7\n",
            "8\n",
            "9\n"
          ]
        },
        {
          "output_type": "execute_result",
          "data": {
            "text/plain": [
              "45"
            ]
          },
          "metadata": {},
          "execution_count": 93
        }
      ]
    },
    {
      "cell_type": "code",
      "source": [
        "result = 0\n",
        "for i in range(1000000000000): # 실행해 볼 수 없음\n",
        "    breakpoint() # 물론 그렇다고 마지막까지 실행하진 않습니다.\n",
        "    result += i\n",
        "\n",
        "result"
      ],
      "metadata": {
        "id": "nP-A0zomUFbl"
      },
      "execution_count": null,
      "outputs": []
    },
    {
      "cell_type": "markdown",
      "source": [
        "# Random"
      ],
      "metadata": {
        "id": "mA1WRpOLXEWO"
      }
    },
    {
      "cell_type": "code",
      "source": [
        "# 1. 랜덤 함수는 랜덤한 자연수를 만들 수 없습니다. 유사하게 만들려고 한 것입니다.\n",
        "# 2. 표준정규분포를 따릅니다. => 한게임 같은 곳에서 만드는 랜덤하게 카드를 돌린다던지\n",
        "# 3. 컴퓨터 프로그래밍에서 랜덤은 시드라는 것이 존재합니다. 시드가 컴퓨터 프로그래밍 언어에서 랜덤한 숫자를 만드는 단초입니다. => 이 시드를 알게 되면 몇 번째에 무슨 숫자가 나오는지 예측 가능합니다. => 예를 들어 게임을 합니다. 몹이 떨어트리는 아이템이 랜덤이에요. 제가 게임회사 직원입니다. 내부 게임 조작은 힘듭니다. 그런데 저는 프로그래머라 seed를 압니다! 몇번째 몹을 죽이면 무슨 아이템이 떨어지는지 알 수 있습니다. => 12월 25일 8시에 A라는 몹을 죽였을 때 OO검을 얻을 수 있습니다.\n",
        "\n",
        "# 메르센 트위스터: Python, C 등에서 사용하고 있는 난수 알고리즘\n",
        "\n",
        "# 예를 들어, 제가 난수 하나 만들어보겠습니다. 7, 4, 1, 8, 5와 같이 누가 보기에도 난수가 생성된 것을 알 수 있습니다. 7만 더했을 뿐인데요. 이 7을 시드라고 부릅니다.\n",
        "\n",
        "# 10+7 => 7\n",
        "#  7+7 => 4\n",
        "#  4+7 => 1\n",
        "#  1+7 => 8\n",
        "#  8+7 => 5"
      ],
      "metadata": {
        "id": "oSvQs6CDXGqR"
      },
      "execution_count": null,
      "outputs": []
    },
    {
      "cell_type": "code",
      "source": [
        "import random as r\n",
        "\n",
        "l = [1, 2, 3, 4, 5]\n",
        "\n",
        "r.randint(10, 100)\n",
        "r.shuffle(l)\n",
        "l\n",
        "\n",
        "r.choice(l)"
      ],
      "metadata": {
        "colab": {
          "base_uri": "https://localhost:8080/"
        },
        "id": "Zhmr4NLyXS2u",
        "outputId": "4c67db16-c240-4bf4-d11b-ce5bde12e282"
      },
      "execution_count": null,
      "outputs": [
        {
          "output_type": "execute_result",
          "data": {
            "text/plain": [
              "1"
            ]
          },
          "metadata": {},
          "execution_count": 110
        }
      ]
    },
    {
      "cell_type": "code",
      "source": [
        "import random as r\n",
        "\n",
        "l = [1, 2, 3, 4, 5]\n",
        "\n",
        "r.randint(10, 100)\n",
        "r.shuffle(l)\n",
        "l\n",
        "\n",
        "r.choice(l)"
      ],
      "metadata": {
        "id": "sivnVBNZX33P"
      },
      "execution_count": null,
      "outputs": []
    },
    {
      "cell_type": "code",
      "source": [
        "r.seed(100)\n",
        "r.randint(10, 100)"
      ],
      "metadata": {
        "colab": {
          "base_uri": "https://localhost:8080/"
        },
        "id": "L3JOxysxYBRC",
        "outputId": "e123e10b-6174-4446-ac32-9579e9c42492"
      },
      "execution_count": null,
      "outputs": [
        {
          "output_type": "execute_result",
          "data": {
            "text/plain": [
              "28"
            ]
          },
          "metadata": {},
          "execution_count": 114
        }
      ]
    },
    {
      "cell_type": "markdown",
      "source": [
        "# 함수는 객체"
      ],
      "metadata": {
        "id": "J0SiFKmWYz3G"
      }
    },
    {
      "cell_type": "code",
      "source": [
        "def example_function():\n",
        "    pass\n",
        "\n",
        "print(type(example_function))  # 출력: <class 'function'>\n",
        "\n",
        "# 함수 객체의 속성 확인\n",
        "print(dir(example_function))\n",
        "\n",
        "# 함수에 새로운 속성 추가\n",
        "example_function.custom_attribute = \"커스텀\"\n",
        "print(example_function.custom_attribute)  # 출력: 커스텀\n",
        "\n",
        "# 함수의 __class__ 속성을 통해 function 클래스 확인\n",
        "print(example_function.__class__)  # 출력: <class 'function'>\n",
        "\n",
        "# function 클래스의 메서드 확인\n",
        "print(dir(example_function))"
      ],
      "metadata": {
        "colab": {
          "base_uri": "https://localhost:8080/"
        },
        "id": "WyHYRGIcY1mZ",
        "outputId": "ef3a8ea3-9be5-4a02-8cf8-d1b2e8da0362"
      },
      "execution_count": null,
      "outputs": [
        {
          "output_type": "stream",
          "name": "stdout",
          "text": [
            "<class 'function'>\n",
            "['__annotations__', '__builtins__', '__call__', '__class__', '__closure__', '__code__', '__defaults__', '__delattr__', '__dict__', '__dir__', '__doc__', '__eq__', '__format__', '__ge__', '__get__', '__getattribute__', '__globals__', '__gt__', '__hash__', '__init__', '__init_subclass__', '__kwdefaults__', '__le__', '__lt__', '__module__', '__name__', '__ne__', '__new__', '__qualname__', '__reduce__', '__reduce_ex__', '__repr__', '__setattr__', '__sizeof__', '__str__', '__subclasshook__']\n",
            "커스텀\n",
            "<class 'function'>\n",
            "['__annotations__', '__builtins__', '__call__', '__class__', '__closure__', '__code__', '__defaults__', '__delattr__', '__dict__', '__dir__', '__doc__', '__eq__', '__format__', '__ge__', '__get__', '__getattribute__', '__globals__', '__gt__', '__hash__', '__init__', '__init_subclass__', '__kwdefaults__', '__le__', '__lt__', '__module__', '__name__', '__ne__', '__new__', '__qualname__', '__reduce__', '__reduce_ex__', '__repr__', '__setattr__', '__sizeof__', '__str__', '__subclasshook__', 'custom_attribute']\n"
          ]
        }
      ]
    },
    {
      "cell_type": "code",
      "source": [
        "class Function:\n",
        "    def __call__(self):\n",
        "        return 'hello world'\n",
        "\n",
        "\n",
        "f = Function()\n",
        "f()"
      ],
      "metadata": {
        "colab": {
          "base_uri": "https://localhost:8080/",
          "height": 35
        },
        "id": "NlXiRkLFZI28",
        "outputId": "4255ce0a-4a5b-4aeb-bd37-f4ab7c0fcc45"
      },
      "execution_count": null,
      "outputs": [
        {
          "output_type": "execute_result",
          "data": {
            "text/plain": [
              "'hello world'"
            ],
            "application/vnd.google.colaboratory.intrinsic+json": {
              "type": "string"
            }
          },
          "metadata": {},
          "execution_count": 120
        }
      ]
    },
    {
      "cell_type": "code",
      "source": [
        "# 이렇게 사용하는 것을 권하지는 않습니다.\n",
        "# 그런데 분명한 장점도 있죠.\n",
        "# 변수를 숨길 수 있다는 것입니다.\n",
        "def human(name, age):\n",
        "    def get_name():\n",
        "        return f'제 이름은 {name}입니다.'\n",
        "    def get_age():\n",
        "        return f'제 나이는 {age}입니다.'\n",
        "    def move():\n",
        "        return '출발하였습니다.'\n",
        "    def stop():\n",
        "        return '멈췄습니다.'\n",
        "    return {\n",
        "        'get_name': get_name,\n",
        "        'get_age': get_age,\n",
        "        'move': move,\n",
        "        'stop': stop\n",
        "    }\n",
        "\n",
        "길동 = human('홍길동', 20)\n",
        "길동['get_name']()"
      ],
      "metadata": {
        "colab": {
          "base_uri": "https://localhost:8080/",
          "height": 35
        },
        "id": "yiDHJR6SZ-go",
        "outputId": "36ff25a6-72b2-4a65-ad18-8dc8d603c778"
      },
      "execution_count": null,
      "outputs": [
        {
          "output_type": "execute_result",
          "data": {
            "text/plain": [
              "'제 이름은 홍길동입니다.'"
            ],
            "application/vnd.google.colaboratory.intrinsic+json": {
              "type": "string"
            }
          },
          "metadata": {},
          "execution_count": 125
        }
      ]
    },
    {
      "cell_type": "markdown",
      "source": [
        "# 최종 프로젝트\n",
        "* 목표: https://paullab.co.kr/bookservice/ 페이지에서 '위니브' 출판사가 출간한 책의 데이터를 저장합니다.\n",
        "## 요구 사항\n",
        "* Book 클래스\n",
        "    * 제목, 이미지 링크, 페이지 링크, 저자, 가격을 속성으로 가져야 합니다.\n",
        "    * 이 클래스를 사용하여 크롤링된 책의 데이터를 리스트 안에 인스턴스로 관리합니다.\n",
        "    * 리스트를 출력했을 때에는 책 제목만 보여야 합니다.\n",
        "    * 책끼리 더했을 경우에는 책 가격만 더해집니다.\n",
        "    * 책과 정수를 곱하면 책 가격에 정수가 곱해집니다.\n",
        "    * (번외) sum()을 했을 때에는 가격만 다 더합니다.(`__iter__`, `__next__`)"
      ],
      "metadata": {
        "id": "qvtARft_eqwj"
      }
    },
    {
      "cell_type": "code",
      "source": [
        "import requests\n",
        "from bs4 import BeautifulSoup\n",
        "\n",
        "url = 'https://paullab.co.kr/bookservice/'\n",
        "data = requests.get(url)\n",
        "soup = BeautifulSoup(data.text, 'html.parser')"
      ],
      "metadata": {
        "id": "UPi012dheqVu"
      },
      "execution_count": null,
      "outputs": []
    },
    {
      "cell_type": "code",
      "source": [
        "soup.select('.book_cover')\n",
        "soup.select('.book_name')\n",
        "soup.select('.book_info')"
      ],
      "metadata": {
        "colab": {
          "base_uri": "https://localhost:8080/"
        },
        "id": "vesjuWv3f1u0",
        "outputId": "f0b41838-f238-4b52-b582-ecf330aed150"
      },
      "execution_count": null,
      "outputs": [
        {
          "output_type": "execute_result",
          "data": {
            "text/plain": [
              "[<p class=\"book_info\" style=\"margin-bottom: 0;\">가격: 7,000원</p>,\n",
              " <p class=\"book_info\" style=\"margin-bottom: 0;\">저자: 이호준, 이준호, 김혜원, 김유진, 차경림, 김진, 현지연, 정승한</p>,\n",
              " <p class=\"book_info\" style=\"margin-bottom: 0;\">Notion의 기본 사용 방법부터 Notion을 활용한 홈페이지 제작 방법까지 다양하게 다루고 있으며 특히 개발자가 원하는 Notion의 활용 방법을 다루고 있습니다.</p>,\n",
              " <p class=\"book_info\" style=\"margin-bottom: 0;\">가격: 10,000원</p>,\n",
              " <p class=\"book_info\" style=\"margin-bottom: 0;\">저자: 강혜진, 김유진, 김혜원, 김진, 이범재, 이호준, 원유선, 박누리, 차경림, 최원범, 한재현</p>,\n",
              " <p class=\"book_info\" style=\"margin-bottom: 0;\">개발자 역량을 갖추는 것뿐만 아니라 회사에 뽑힐 확률을 높이는 전략과 방법도 필요합니다. 개발자 이력서는 그 첫걸음입니다.</p>,\n",
              " <p class=\"book_info\" style=\"margin-bottom: 0;\">가격: 무료</p>,\n",
              " <p class=\"book_info\" style=\"margin-bottom: 0;\">저자: 이호준, 강민정, 김유진, 정윤하, 최원범</p>,\n",
              " <p class=\"book_info\" style=\"margin-bottom: 0;\">파이썬으로 풀 수 있는 100문제를 만들었습니다. 50문제씩 1부(초급, 중급)와 2부(중급, 고급)로 나누어져있습니다.</p>,\n",
              " <p class=\"book_info\" style=\"margin-bottom: 0;\">가격: 4,900원</p>,\n",
              " <p class=\"book_info\" style=\"margin-bottom: 0;\">저자: 이호준, 박민균, 양지혜, 정민준, 박소영, 전유빈</p>,\n",
              " <p class=\"book_info\" style=\"margin-bottom: 0;\">튜토리얼을 통해 일단 만들어 봅시다! 무엇이든 일단 만들어 보면 길이 보이기 시작합니다. 그 다음 웹 동작방법, 태그의 동작 방식, 브라우저 렌더링 엔진 등에 대하여 부담이 되지 않을 만큼씩 배워가세요.</p>,\n",
              " <p class=\"book_info\" style=\"margin-bottom: 0;\">가격: 3,000원</p>,\n",
              " <p class=\"book_info\" style=\"margin-bottom: 0;\">저자: 이호준, 정민준, 배희성, 김덕주, 한승협</p>,\n",
              " <p class=\"book_info\" style=\"margin-bottom: 0;\">파이썬은 이해하기 쉽고 간결한 문법으로 생산성이 높아 교육을 포함한 다양한 분야 에서 활용되고 있는 언어입니다. 빅데이터 분석, 머신러닝, 웹 개발 등 다양하게 쓰이는 Python을 예제를 통해 배워보세요. 이 책은 여러 미션을 스토리텔링 형식으로 제공하며 튜토리얼 별로 코드를 제공하여 쉽고 재미있게 코딩 개념을 익힐 수 있도록 도와줄 것입니다.\n",
              "                     </p>,\n",
              " <p class=\"book_info\" style=\"margin-bottom: 0;\">가격: 4,900원</p>,\n",
              " <p class=\"book_info\" style=\"margin-bottom: 0;\">저자: 이호준, 우지훈, 박소영, 허재영</p>,\n",
              " <p class=\"book_info\" style=\"margin-bottom: 0;\">파이썬 튜토리얼 시리즈는 1편 Object 2편 제어문 3편 문제풀이로 구성되어 있습니다.</p>,\n",
              " <p class=\"book_info\" style=\"margin-bottom: 0;\">가격: 무료</p>,\n",
              " <p class=\"book_info\" style=\"margin-bottom: 0;\">저자: 이호준, 전유빈, 김태범, 한승협, 김혜원, 강민정</p>,\n",
              " <p class=\"book_info\" style=\"margin-bottom: 0;\">\n",
              "                           이 책은 Python 문법을 이제 막 끝낸 분에게 추천해 드립니다. \n",
              "                           코딩도장 사이트에 문제를 풀어보며 Python에 보다 깊게 다가가 보세요.\n",
              "                           다양한 문제들이 여러분의 실력을 향상시켜 줄 것입니다.</p>,\n",
              " <p class=\"book_info\" style=\"margin-bottom: 0;\">가격: 무료</p>,\n",
              " <p class=\"book_info\" style=\"margin-bottom: 0;\">저자: 이호준, 한승협, 강민정, 신민욱</p>,\n",
              " <p class=\"book_info\" style=\"margin-bottom: 0;\">이 책은 Python 문법을 이제 막 끝낸 분에게 추천해 드립니다. \n",
              "                           타노스의 핑거스냅 문제를 다양한 시각으로 풀어보며 Python에 보다 깊게 다가가 보세요. \n",
              "                           다양한 시각이 여러분의 실력을 향상시켜줄 것입니다.</p>,\n",
              " <p class=\"book_info\" style=\"margin-bottom: 0;\">가격: 무료</p>,\n",
              " <p class=\"book_info\" style=\"margin-bottom: 0;\">저자: 이호준, 강상권, 오재원, 전진환, 문형철, 이현창</p>,\n",
              " <p class=\"book_info\" style=\"margin-bottom: 0;\">이 책은 빅데이터를 가공하여 엑셀로 가시화 시키기 원하는 업무 담당자와 단순 업무를 Python을 이용하여 자동화 시키려 하는 업무 담당자에게 추천해드립니다. \n",
              "                           또한 부서의 업무 고도화, 효율화를 위해 적절한 자동화 프로그램을 찾지 못한 기업과 학문적 호기심을 가진 개인에게도 추천해 드립니다. \n",
              "                           세계에서 유행중인 Python은 타 언어에 비해 다루기 쉬우며 풍성한 라이브러리로 원하는 프로그램을 직접 만들기에 적합합니다.</p>,\n",
              " <p class=\"book_info\" style=\"margin-bottom: 0;\">가격: 4,900</p>,\n",
              " <p class=\"book_info\" style=\"margin-bottom: 0;\">저자: 이호준, 배희성, 양지혜, 박소영, 김수연, 정민준</p>,\n",
              " <p class=\"book_info\" style=\"margin-bottom: 0;\">이 책은 소프트웨어 교육을 처음 접했거나 스크래치, \n",
              "                               엔트리 등 블록기반 교육용 소프트웨어 다음으로 무엇을 배워야 할 지 모르는 초등학교 학생,\n",
              "                               중학교 학생과 소프트웨어 교육을 담당하는 선생님께 권해드립니다.\n",
              "                                파이썬 코드로 로봇을 제어하면서 코딩을 쉽게 배울 수 있는 러플은 고급 프로그래밍 언어를 처음 접하는\n",
              "                                 학생들이 쉽게 언어기반 프로그래밍을 이해할 수 있도록 도와줍니다.</p>,\n",
              " <p class=\"book_info\" style=\"margin-bottom: 0;\">가격: 무료</p>,\n",
              " <p class=\"book_info\" style=\"margin-bottom: 0;\">저자: 이호준, 이준호, 현암, 윤현담, 김루비, 이동민, 유승엽, 박서윤, 김채린, 한승협, 안상우, 장성원, 전진환, 강민성, 조민구, 전창삼</p>,\n",
              " <p class=\"book_info\" style=\"margin-bottom: 0;\">이 책은 반복적이고 지루한 단순 업무를 Python을 이용하여 \n",
              "                           자동화 시키려 하는 업무 담당자와 데이터를 가공하여 가시화 시키기 원하는 업무 담당자에게 추천해드립니다.\n",
              "                            또한 부서의 업무 고도화, 효율화를 위해 적절한 자동화 프로그램을 찾지 못한 기업과 학문적 호기심을 가진 개인에게도 추천해 드립니다. \n",
              "                           세계에서 유행중인 Python은 타 언어에 비해 다루기 쉬우며 풍성한 라이브러리로 원하는 프로그램을 직접 만들기에 적합합니다.</p>]"
            ]
          },
          "metadata": {},
          "execution_count": 175
        }
      ]
    },
    {
      "cell_type": "code",
      "source": [
        "prices = filter(lambda x: '가격' in x.text, soup.select('.book_info'))\n",
        "list(filter(lambda x: '가격' in x.text, soup.select('.book_info')))"
      ],
      "metadata": {
        "colab": {
          "base_uri": "https://localhost:8080/"
        },
        "id": "5nIKRBeAginY",
        "outputId": "e1827b81-e5a2-4636-ad16-27f3d397a11a"
      },
      "execution_count": null,
      "outputs": [
        {
          "output_type": "execute_result",
          "data": {
            "text/plain": [
              "[<p class=\"book_info\" style=\"margin-bottom: 0;\">가격: 7,000원</p>,\n",
              " <p class=\"book_info\" style=\"margin-bottom: 0;\">가격: 10,000원</p>,\n",
              " <p class=\"book_info\" style=\"margin-bottom: 0;\">가격: 무료</p>,\n",
              " <p class=\"book_info\" style=\"margin-bottom: 0;\">가격: 4,900원</p>,\n",
              " <p class=\"book_info\" style=\"margin-bottom: 0;\">가격: 3,000원</p>,\n",
              " <p class=\"book_info\" style=\"margin-bottom: 0;\">가격: 4,900원</p>,\n",
              " <p class=\"book_info\" style=\"margin-bottom: 0;\">가격: 무료</p>,\n",
              " <p class=\"book_info\" style=\"margin-bottom: 0;\">가격: 무료</p>,\n",
              " <p class=\"book_info\" style=\"margin-bottom: 0;\">가격: 무료</p>,\n",
              " <p class=\"book_info\" style=\"margin-bottom: 0;\">가격: 4,900</p>,\n",
              " <p class=\"book_info\" style=\"margin-bottom: 0;\">가격: 무료</p>]"
            ]
          },
          "metadata": {},
          "execution_count": 181
        }
      ]
    },
    {
      "cell_type": "code",
      "source": [
        "list(zip(soup.select('.book_cover'), soup.select('.book_name'), prices))"
      ],
      "metadata": {
        "colab": {
          "base_uri": "https://localhost:8080/"
        },
        "id": "0KjtOUz1hYmJ",
        "outputId": "d51ea048-d6e7-4e54-cb32-e8fcddfe8d1e"
      },
      "execution_count": null,
      "outputs": [
        {
          "output_type": "execute_result",
          "data": {
            "text/plain": [
              "[(<img class=\"img-responsive book_cover\" src=\"img/notion.png\"/>,\n",
              "  <h2 class=\"book_name\" style=\"margin-top: 0;\">메모혁신 Notion(노션) 활용 가이드</h2>,\n",
              "  <p class=\"book_info\" style=\"margin-bottom: 0;\">가격: 7,000원</p>),\n",
              " (<img class=\"img-responsive book_cover\" src=\"img/resume.png\"/>,\n",
              "  <h2 class=\"book_name\" style=\"margin-top: 0;\">이력서 작성 가이드</h2>,\n",
              "  <p class=\"book_info\" style=\"margin-bottom: 0;\">가격: 10,000원</p>),\n",
              " (<img class=\"img-responsive book_cover\" src=\"img/cofe.jpg\"/>,\n",
              "  <h2 class=\"book_name\" style=\"margin-top: 0;\">제주코딩베이스캠프 Code Festival: Python 100제 1부</h2>,\n",
              "  <p class=\"book_info\" style=\"margin-bottom: 0;\">가격: 무료</p>),\n",
              " (<img class=\"img-responsive book_cover\" src=\"img/HTMLCSS.jpg\"/>,\n",
              "  <h2 class=\"book_name\" style=\"margin-top: 0;\">튜토리얼로 배우는 HTML&amp;CSS</h2>,\n",
              "  <p class=\"book_info\" style=\"margin-bottom: 0;\">가격: 4,900원</p>),\n",
              " (<img class=\"img-responsive book_cover\" src=\"img/python1.jpg\"/>,\n",
              "  <h2 class=\"book_name\" style=\"margin-top: 0;\">코딩도장 튜토리얼로 배우는 Python 1편 object</h2>,\n",
              "  <p class=\"book_info\" style=\"margin-bottom: 0;\">가격: 3,000원</p>),\n",
              " (<img class=\"img-responsive book_cover\" src=\"img/python2.jpg\"/>,\n",
              "  <h2 class=\"book_name\" style=\"margin-top: 0;\">코딩도장 튜토리얼로 배우는 python 2편 제어문</h2>,\n",
              "  <p class=\"book_info\" style=\"margin-bottom: 0;\">가격: 4,900원</p>),\n",
              " (<img class=\"img-responsive book_cover\" src=\"img/python3.jpg\"/>,\n",
              "  <h2 class=\"book_name\" style=\"margin-top: 0;\">코딩도장 튜토리얼로 배우는 Python 문제풀이</h2>,\n",
              "  <p class=\"book_info\" style=\"margin-bottom: 0;\">가격: 무료</p>),\n",
              " (<img class=\"img-responsive book_cover\" src=\"img/tanos.jpg\"/>,\n",
              "  <h2 class=\"book_name\" style=\"margin-top: 0;\">타노스의 건틀릿 알고리즘 With Python</h2>,\n",
              "  <p class=\"book_info\" style=\"margin-bottom: 0;\">가격: 무료</p>),\n",
              " (<img class=\"img-responsive book_cover\" src=\"img/xlsx.jpg\"/>,\n",
              "  <h2 class=\"book_name\" style=\"margin-top: 0;\">xlsxwriter 튜토리얼로 배우는 Python 엑셀 프로그래밍</h2>,\n",
              "  <p class=\"book_info\" style=\"margin-bottom: 0;\">가격: 무료</p>),\n",
              " (<img class=\"img-responsive book_cover\" src=\"img/ruple.jpg\"/>,\n",
              "  <h2 class=\"book_name\" style=\"margin-top: 0;\">러플 튜토리얼로 배우는 Python</h2>,\n",
              "  <p class=\"book_info\" style=\"margin-bottom: 0;\">가격: 4,900</p>),\n",
              " (<img class=\"img-responsive book_cover\" src=\"img/auto.jpg\"/>,\n",
              "  <h2 class=\"book_name\" style=\"margin-top: 0;\">인공지능을 활용한 업무자동화 With Google Developers Group JEJU</h2>,\n",
              "  <p class=\"book_info\" style=\"margin-bottom: 0;\">가격: 무료</p>)]"
            ]
          },
          "metadata": {},
          "execution_count": 179
        }
      ]
    },
    {
      "cell_type": "code",
      "source": [
        "for cover, name, price in zip(soup.select('.book_cover'), soup.select('.book_name'), prices):\n",
        "    print(name.text, cover['src'], price.text)"
      ],
      "metadata": {
        "id": "exBTvMcAhwSc"
      },
      "execution_count": null,
      "outputs": []
    },
    {
      "cell_type": "code",
      "source": [
        "books = []\n",
        "\n",
        "class Book:\n",
        "    def __init__(self, title, image, price):\n",
        "        self.title = title\n",
        "        self.image = image\n",
        "        self.price = price\n",
        "\n",
        "    def __str__(self):\n",
        "        return self.title\n",
        "\n",
        "    def __repr__(self):\n",
        "        return self.title\n",
        "\n",
        "    def __add__(self, other):\n",
        "        if '무료' in self.price:\n",
        "            self.price = 0\n",
        "        else:\n",
        "            self.price = int(self.price.replace('원', '').replace('가격: ', '').replace(',', ''))\n",
        "        if '무료' in other.price:\n",
        "            other.price = 0\n",
        "        else:\n",
        "            other.price = int(other.price.replace('원', '').replace('가격: ', '').replace(',', ''))\n",
        "        return self.price + other.price\n",
        "\n",
        "    def __mul__(self, other):\n",
        "        return self.price * other\n",
        "\n",
        "\n",
        "for cover, name, price in zip(soup.select('.book_cover'), soup.select('.book_name'), prices):\n",
        "    print(name.text, cover['src'], price.text)\n",
        "    b = Book(name.text, cover['src'], price.text)\n",
        "    books.append(b)\n",
        "\n",
        "books"
      ],
      "metadata": {
        "colab": {
          "base_uri": "https://localhost:8080/"
        },
        "id": "9xRW3qnLgp03",
        "outputId": "00b48d0a-9ec2-46fd-db28-7dc6d38d33f8"
      },
      "execution_count": null,
      "outputs": [
        {
          "output_type": "stream",
          "name": "stdout",
          "text": [
            "메모혁신 Notion(노션) 활용 가이드 img/notion.png 가격: 7,000원\n",
            "이력서 작성 가이드 img/resume.png 가격: 10,000원\n",
            "제주코딩베이스캠프 Code Festival: Python 100제 1부 img/cofe.jpg 가격: 무료\n",
            "튜토리얼로 배우는 HTML&CSS img/HTMLCSS.jpg 가격: 4,900원\n",
            "코딩도장 튜토리얼로 배우는 Python 1편 object img/python1.jpg 가격: 3,000원\n",
            "코딩도장 튜토리얼로 배우는 python 2편 제어문 img/python2.jpg 가격: 4,900원\n",
            "코딩도장 튜토리얼로 배우는 Python 문제풀이 img/python3.jpg 가격: 무료\n",
            "타노스의 건틀릿 알고리즘 With Python img/tanos.jpg 가격: 무료\n",
            "xlsxwriter 튜토리얼로 배우는 Python 엑셀 프로그래밍 img/xlsx.jpg 가격: 무료\n",
            "러플 튜토리얼로 배우는 Python img/ruple.jpg 가격: 4,900\n",
            "인공지능을 활용한 업무자동화 With Google Developers Group JEJU img/auto.jpg 가격: 무료\n"
          ]
        },
        {
          "output_type": "execute_result",
          "data": {
            "text/plain": [
              "[메모혁신 Notion(노션) 활용 가이드,\n",
              " 이력서 작성 가이드,\n",
              " 제주코딩베이스캠프 Code Festival: Python 100제 1부,\n",
              " 튜토리얼로 배우는 HTML&CSS,\n",
              " 코딩도장 튜토리얼로 배우는 Python 1편 object,\n",
              " 코딩도장 튜토리얼로 배우는 python 2편 제어문,\n",
              " 코딩도장 튜토리얼로 배우는 Python 문제풀이,\n",
              " 타노스의 건틀릿 알고리즘 With Python,\n",
              " xlsxwriter 튜토리얼로 배우는 Python 엑셀 프로그래밍,\n",
              " 러플 튜토리얼로 배우는 Python,\n",
              " 인공지능을 활용한 업무자동화 With Google Developers Group JEJU]"
            ]
          },
          "metadata": {},
          "execution_count": 182
        }
      ]
    },
    {
      "cell_type": "code",
      "source": [
        "books[0] + books[1]"
      ],
      "metadata": {
        "colab": {
          "base_uri": "https://localhost:8080/"
        },
        "id": "2fAYZHF-iwL2",
        "outputId": "f93dfd14-5ca6-428e-9152-01d95f481012"
      },
      "execution_count": null,
      "outputs": [
        {
          "output_type": "execute_result",
          "data": {
            "text/plain": [
              "17000"
            ]
          },
          "metadata": {},
          "execution_count": 183
        }
      ]
    },
    {
      "cell_type": "code",
      "source": [
        "books[0] * 100"
      ],
      "metadata": {
        "colab": {
          "base_uri": "https://localhost:8080/"
        },
        "id": "o3HHytqXjOa1",
        "outputId": "c69b10fb-ab65-4f17-bfb0-00c243829d6c"
      },
      "execution_count": null,
      "outputs": [
        {
          "output_type": "execute_result",
          "data": {
            "text/plain": [
              "700000"
            ]
          },
          "metadata": {},
          "execution_count": 185
        }
      ]
    },
    {
      "cell_type": "code",
      "source": [
        "import requests\n",
        "from bs4 import BeautifulSoup\n",
        "\n",
        "url = 'https://paullab.co.kr/bookservice/'\n",
        "data = requests.get(url)\n",
        "soup = BeautifulSoup(data.text, 'html.parser')\n",
        "\n",
        "prices = filter(lambda x: '가격' in x.text, soup.select('.book_info'))\n",
        "\n",
        "books = []\n",
        "\n",
        "class Book:\n",
        "    def __init__(self, title, image, price):\n",
        "        self.title = title\n",
        "        self.image = image\n",
        "        self.price = price\n",
        "\n",
        "    def __str__(self):\n",
        "        return self.title\n",
        "\n",
        "    def __repr__(self):\n",
        "        return self.title\n",
        "\n",
        "    def __add__(self, other):\n",
        "        if '무료' in self.price:\n",
        "            self.price = 0\n",
        "        if '무료' in other.price:\n",
        "            other.price = 0\n",
        "        self.price = int(self.price.replace('원', '').replace('가격: ', '').replace(',', ''))\n",
        "        other.price = int(other.price.replace('원', '').replace('가격: ', '').replace(',', ''))\n",
        "        return self.price + other.price\n",
        "\n",
        "    def __mul__(self, other):\n",
        "        return self.price * other\n",
        "\n",
        "\n",
        "for cover, name, price in zip(soup.select('.book_cover'), soup.select('.book_name'), prices):\n",
        "    b = Book(name.text, cover['src'], price.text)\n",
        "    books.append(b)\n",
        "\n",
        "books"
      ],
      "metadata": {
        "colab": {
          "base_uri": "https://localhost:8080/"
        },
        "id": "zg7KXI71jmqU",
        "outputId": "04c91c79-b286-432a-d781-ba52a1d88168"
      },
      "execution_count": null,
      "outputs": [
        {
          "output_type": "execute_result",
          "data": {
            "text/plain": [
              "[메모혁신 Notion(노션) 활용 가이드,\n",
              " 이력서 작성 가이드,\n",
              " 제주코딩베이스캠프 Code Festival: Python 100제 1부,\n",
              " 튜토리얼로 배우는 HTML&CSS,\n",
              " 코딩도장 튜토리얼로 배우는 Python 1편 object,\n",
              " 코딩도장 튜토리얼로 배우는 python 2편 제어문,\n",
              " 코딩도장 튜토리얼로 배우는 Python 문제풀이,\n",
              " 타노스의 건틀릿 알고리즘 With Python,\n",
              " xlsxwriter 튜토리얼로 배우는 Python 엑셀 프로그래밍,\n",
              " 러플 튜토리얼로 배우는 Python,\n",
              " 인공지능을 활용한 업무자동화 With Google Developers Group JEJU]"
            ]
          },
          "metadata": {},
          "execution_count": 186
        }
      ]
    },
    {
      "cell_type": "code",
      "source": [
        "sum(books, 0)\n",
        "\n",
        "# books라는 class를 하나 더 만드셔서 해결하는 방법\n",
        "# books에 __add__, __radd__를 구현해서 sum이 될 수 있도록 구현하는 방법"
      ],
      "metadata": {
        "colab": {
          "base_uri": "https://localhost:8080/",
          "height": 146
        },
        "id": "sY8JjhJAjWEc",
        "outputId": "60864f6e-b527-4521-beea-7e7ee6481fc7"
      },
      "execution_count": null,
      "outputs": [
        {
          "output_type": "error",
          "ename": "TypeError",
          "evalue": "unsupported operand type(s) for +: 'int' and 'Book'",
          "traceback": [
            "\u001b[0;31m---------------------------------------------------------------------------\u001b[0m",
            "\u001b[0;31mTypeError\u001b[0m                                 Traceback (most recent call last)",
            "\u001b[0;32m<ipython-input-170-104fc6ab52e6>\u001b[0m in \u001b[0;36m<cell line: 1>\u001b[0;34m()\u001b[0m\n\u001b[0;32m----> 1\u001b[0;31m \u001b[0msum\u001b[0m\u001b[0;34m(\u001b[0m\u001b[0mbooks\u001b[0m\u001b[0;34m)\u001b[0m\u001b[0;34m\u001b[0m\u001b[0;34m\u001b[0m\u001b[0m\n\u001b[0m",
            "\u001b[0;31mTypeError\u001b[0m: unsupported operand type(s) for +: 'int' and 'Book'"
          ]
        }
      ]
    },
    {
      "cell_type": "code",
      "source": [],
      "metadata": {
        "id": "rE3oCv0JjrXl"
      },
      "execution_count": null,
      "outputs": []
    }
  ]
}