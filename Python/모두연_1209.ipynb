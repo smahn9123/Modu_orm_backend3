{
  "nbformat": 4,
  "nbformat_minor": 0,
  "metadata": {
    "colab": {
      "provenance": []
    },
    "kernelspec": {
      "name": "python3",
      "display_name": "Python 3"
    },
    "language_info": {
      "name": "python"
    }
  },
  "cells": [
    {
      "cell_type": "markdown",
      "source": [
        "# colab이나 jupyter와 같은 노트북 프로그램을 사용해야 하는 이유\n",
        "\n",
        "* 모듈 설치가 필요 없습니다.\n",
        "* 어느곳에서든 동일한 실행환경을 보장합니다.\n",
        "* colab의 경우 google drive에 저장이 됩니다.\n",
        "* 블록단위 학습이 가능합니다.\n",
        "* 단지 학습용이 아니라 Django와 같은 곳에서 notebook 프로그램 연결해서 데이터분석 등을 진행합니다."
      ],
      "metadata": {
        "id": "i-RoOjSPvCWK"
      }
    },
    {
      "cell_type": "code",
      "execution_count": null,
      "metadata": {
        "colab": {
          "base_uri": "https://localhost:8080/"
        },
        "id": "xDhsRiSAuish",
        "outputId": "769c9ace-95d0-4eaa-91fc-477d6efb82af"
      },
      "outputs": [
        {
          "output_type": "stream",
          "name": "stdout",
          "text": [
            "Package                            Version\n",
            "---------------------------------- -------------------\n",
            "absl-py                            1.4.0\n",
            "accelerate                         1.1.1\n",
            "aiohappyeyeballs                   2.4.4\n",
            "aiohttp                            3.11.9\n",
            "aiosignal                          1.3.1\n",
            "alabaster                          1.0.0\n",
            "albucore                           0.0.19\n",
            "albumentations                     1.4.20\n",
            "altair                             4.2.2\n",
            "annotated-types                    0.7.0\n",
            "anyio                              3.7.1\n",
            "argon2-cffi                        23.1.0\n",
            "argon2-cffi-bindings               21.2.0\n",
            "array_record                       0.5.1\n",
            "arviz                              0.20.0\n",
            "astropy                            6.1.7\n",
            "astropy-iers-data                  0.2024.12.2.0.35.34\n",
            "astunparse                         1.6.3\n",
            "async-timeout                      4.0.3\n",
            "atpublic                           4.1.0\n",
            "attrs                              24.2.0\n",
            "audioread                          3.0.1\n",
            "autograd                           1.7.0\n",
            "babel                              2.16.0\n",
            "backcall                           0.2.0\n",
            "beautifulsoup4                     4.12.3\n",
            "bigframes                          1.27.0\n",
            "bigquery-magics                    0.4.0\n",
            "bleach                             6.2.0\n",
            "blinker                            1.9.0\n",
            "blis                               0.7.11\n",
            "blosc2                             2.7.1\n",
            "bokeh                              3.6.2\n",
            "Bottleneck                         1.4.2\n",
            "bqplot                             0.12.43\n",
            "branca                             0.8.0\n",
            "CacheControl                       0.14.1\n",
            "cachetools                         5.5.0\n",
            "catalogue                          2.0.10\n",
            "certifi                            2024.8.30\n",
            "cffi                               1.17.1\n",
            "chardet                            5.2.0\n",
            "charset-normalizer                 3.4.0\n",
            "chex                               0.1.87\n",
            "clarabel                           0.9.0\n",
            "click                              8.1.7\n",
            "cloudpathlib                       0.20.0\n",
            "cloudpickle                        3.1.0\n",
            "cmake                              3.30.5\n",
            "cmdstanpy                          1.2.4\n",
            "colorcet                           3.1.0\n",
            "colorlover                         0.3.0\n",
            "colour                             0.1.5\n",
            "community                          1.0.0b1\n",
            "confection                         0.1.5\n",
            "cons                               0.4.6\n",
            "contourpy                          1.3.1\n",
            "cryptography                       43.0.3\n",
            "cuda-python                        12.2.1\n",
            "cudf-cu12                          24.10.1\n",
            "cufflinks                          0.17.3\n",
            "cupy-cuda12x                       12.2.0\n",
            "cvxopt                             1.3.2\n",
            "cvxpy                              1.5.4\n",
            "cycler                             0.12.1\n",
            "cymem                              2.0.10\n",
            "Cython                             3.0.11\n",
            "dask                               2024.10.0\n",
            "datascience                        0.17.6\n",
            "db-dtypes                          1.3.1\n",
            "dbus-python                        1.2.18\n",
            "debugpy                            1.8.0\n",
            "decorator                          4.4.2\n",
            "defusedxml                         0.7.1\n",
            "Deprecated                         1.2.15\n",
            "diffusers                          0.31.0\n",
            "distro                             1.9.0\n",
            "dlib                               19.24.2\n",
            "dm-tree                            0.1.8\n",
            "docker-pycreds                     0.4.0\n",
            "docstring_parser                   0.16\n",
            "docutils                           0.21.2\n",
            "dopamine_rl                        4.0.9\n",
            "duckdb                             1.1.3\n",
            "earthengine-api                    1.2.0\n",
            "easydict                           1.13\n",
            "ecos                               2.0.14\n",
            "editdistance                       0.8.1\n",
            "eerepr                             0.0.4\n",
            "einops                             0.8.0\n",
            "en-core-web-sm                     3.7.1\n",
            "entrypoints                        0.4\n",
            "et_xmlfile                         2.0.0\n",
            "etils                              1.11.0\n",
            "etuples                            0.3.9\n",
            "eval_type_backport                 0.2.0\n",
            "exceptiongroup                     1.2.2\n",
            "fastai                             2.7.18\n",
            "fastcore                           1.7.22\n",
            "fastdownload                       0.0.7\n",
            "fastjsonschema                     2.21.1\n",
            "fastprogress                       1.0.3\n",
            "fastrlock                          0.8.2\n",
            "filelock                           3.16.1\n",
            "firebase-admin                     6.5.0\n",
            "Flask                              3.0.3\n",
            "flatbuffers                        24.3.25\n",
            "flax                               0.8.5\n",
            "folium                             0.18.0\n",
            "fonttools                          4.55.1\n",
            "frozendict                         2.4.6\n",
            "frozenlist                         1.5.0\n",
            "fsspec                             2024.10.0\n",
            "future                             1.0.0\n",
            "gast                               0.6.0\n",
            "gcsfs                              2024.10.0\n",
            "GDAL                               3.6.4\n",
            "gdown                              5.2.0\n",
            "geemap                             0.35.1\n",
            "gensim                             4.3.3\n",
            "geocoder                           1.38.1\n",
            "geographiclib                      2.0\n",
            "geopandas                          1.0.1\n",
            "geopy                              2.4.1\n",
            "gin-config                         0.5.0\n",
            "gitdb                              4.0.11\n",
            "GitPython                          3.1.43\n",
            "glob2                              0.7\n",
            "google                             2.0.3\n",
            "google-ai-generativelanguage       0.6.10\n",
            "google-api-core                    2.19.2\n",
            "google-api-python-client           2.151.0\n",
            "google-auth                        2.27.0\n",
            "google-auth-httplib2               0.2.0\n",
            "google-auth-oauthlib               1.2.1\n",
            "google-cloud-aiplatform            1.73.0\n",
            "google-cloud-bigquery              3.25.0\n",
            "google-cloud-bigquery-connection   1.16.1\n",
            "google-cloud-bigquery-storage      2.27.0\n",
            "google-cloud-bigtable              2.27.0\n",
            "google-cloud-core                  2.4.1\n",
            "google-cloud-datastore             2.20.1\n",
            "google-cloud-firestore             2.19.0\n",
            "google-cloud-functions             1.18.1\n",
            "google-cloud-iam                   2.16.1\n",
            "google-cloud-language              2.15.1\n",
            "google-cloud-pubsub                2.27.1\n",
            "google-cloud-resource-manager      1.13.1\n",
            "google-cloud-storage               2.8.0\n",
            "google-cloud-translate             3.17.0\n",
            "google-colab                       1.0.0\n",
            "google-crc32c                      1.6.0\n",
            "google-generativeai                0.8.3\n",
            "google-pasta                       0.2.0\n",
            "google-resumable-media             2.7.2\n",
            "googleapis-common-protos           1.66.0\n",
            "googledrivedownloader              0.4\n",
            "graphviz                           0.20.3\n",
            "greenlet                           3.1.1\n",
            "grpc-google-iam-v1                 0.13.1\n",
            "grpcio                             1.68.1\n",
            "grpcio-status                      1.62.3\n",
            "gspread                            6.0.2\n",
            "gspread-dataframe                  3.3.1\n",
            "gym                                0.25.2\n",
            "gym-notices                        0.0.8\n",
            "h11                                0.14.0\n",
            "h5netcdf                           1.4.1\n",
            "h5py                               3.12.1\n",
            "holidays                           0.62\n",
            "holoviews                          1.20.0\n",
            "html5lib                           1.1\n",
            "httpcore                           1.0.7\n",
            "httpimport                         1.4.0\n",
            "httplib2                           0.22.0\n",
            "httpx                              0.28.0\n",
            "huggingface-hub                    0.26.3\n",
            "humanize                           4.11.0\n",
            "hyperopt                           0.2.7\n",
            "ibis-framework                     9.2.0\n",
            "idna                               3.10\n",
            "imageio                            2.36.1\n",
            "imageio-ffmpeg                     0.5.1\n",
            "imagesize                          1.4.1\n",
            "imbalanced-learn                   0.12.4\n",
            "imgaug                             0.4.0\n",
            "immutabledict                      4.2.1\n",
            "importlib_metadata                 8.5.0\n",
            "importlib_resources                6.4.5\n",
            "imutils                            0.5.4\n",
            "inflect                            7.4.0\n",
            "iniconfig                          2.0.0\n",
            "intel-cmplr-lib-ur                 2025.0.3\n",
            "intel-openmp                       2025.0.3\n",
            "ipyevents                          2.0.2\n",
            "ipyfilechooser                     0.6.0\n",
            "ipykernel                          5.5.6\n",
            "ipyleaflet                         0.19.2\n",
            "ipyparallel                        8.8.0\n",
            "ipython                            7.34.0\n",
            "ipython-genutils                   0.2.0\n",
            "ipython-sql                        0.5.0\n",
            "ipytree                            0.2.2\n",
            "ipywidgets                         7.7.1\n",
            "itsdangerous                       2.2.0\n",
            "jax                                0.4.33\n",
            "jax-cuda12-pjrt                    0.4.33\n",
            "jax-cuda12-plugin                  0.4.33\n",
            "jaxlib                             0.4.33\n",
            "jeepney                            0.7.1\n",
            "jellyfish                          1.1.2\n",
            "jieba                              0.42.1\n",
            "Jinja2                             3.1.4\n",
            "jiter                              0.8.0\n",
            "joblib                             1.4.2\n",
            "jsonpatch                          1.33\n",
            "jsonpickle                         4.0.0\n",
            "jsonpointer                        3.0.0\n",
            "jsonschema                         4.23.0\n",
            "jsonschema-specifications          2024.10.1\n",
            "jupyter-client                     6.1.12\n",
            "jupyter-console                    6.1.0\n",
            "jupyter_core                       5.7.2\n",
            "jupyter-leaflet                    0.19.2\n",
            "jupyter-server                     1.24.0\n",
            "jupyterlab_pygments                0.3.0\n",
            "jupyterlab_widgets                 3.0.13\n",
            "kaggle                             1.6.17\n",
            "kagglehub                          0.3.4\n",
            "keras                              3.5.0\n",
            "keyring                            23.5.0\n",
            "kiwisolver                         1.4.7\n",
            "langchain                          0.3.9\n",
            "langchain-core                     0.3.21\n",
            "langchain-text-splitters           0.3.2\n",
            "langcodes                          3.5.0\n",
            "langsmith                          0.1.147\n",
            "language_data                      1.3.0\n",
            "launchpadlib                       1.10.16\n",
            "lazr.restfulclient                 0.14.4\n",
            "lazr.uri                           1.0.6\n",
            "lazy_loader                        0.4\n",
            "libclang                           18.1.1\n",
            "libcudf-cu12                       24.10.1\n",
            "librosa                            0.10.2.post1\n",
            "lightgbm                           4.5.0\n",
            "linkify-it-py                      2.0.3\n",
            "llvmlite                           0.43.0\n",
            "locket                             1.0.0\n",
            "logical-unification                0.4.6\n",
            "lxml                               5.3.0\n",
            "marisa-trie                        1.2.1\n",
            "Markdown                           3.7\n",
            "markdown-it-py                     3.0.0\n",
            "MarkupSafe                         3.0.2\n",
            "matplotlib                         3.8.0\n",
            "matplotlib-inline                  0.1.7\n",
            "matplotlib-venn                    1.1.1\n",
            "mdit-py-plugins                    0.4.2\n",
            "mdurl                              0.1.2\n",
            "miniKanren                         1.0.3\n",
            "missingno                          0.5.2\n",
            "mistune                            3.0.2\n",
            "mizani                             0.13.0\n",
            "mkl                                2025.0.1\n",
            "ml-dtypes                          0.4.1\n",
            "mlxtend                            0.23.3\n",
            "more-itertools                     10.5.0\n",
            "moviepy                            1.0.3\n",
            "mpmath                             1.3.0\n",
            "msgpack                            1.1.0\n",
            "multidict                          6.1.0\n",
            "multipledispatch                   1.0.0\n",
            "multitasking                       0.0.11\n",
            "murmurhash                         1.0.11\n",
            "music21                            9.3.0\n",
            "namex                              0.0.8\n",
            "natsort                            8.4.0\n",
            "nbclassic                          1.1.0\n",
            "nbclient                           0.10.1\n",
            "nbconvert                          7.16.4\n",
            "nbformat                           5.10.4\n",
            "ndindex                            1.9.2\n",
            "nest-asyncio                       1.6.0\n",
            "networkx                           3.4.2\n",
            "nibabel                            5.3.2\n",
            "nltk                               3.9.1\n",
            "notebook                           6.5.5\n",
            "notebook_shim                      0.2.4\n",
            "numba                              0.60.0\n",
            "numexpr                            2.10.2\n",
            "numpy                              1.26.4\n",
            "nvidia-cublas-cu12                 12.6.4.1\n",
            "nvidia-cuda-cupti-cu12             12.6.80\n",
            "nvidia-cuda-nvcc-cu12              12.6.85\n",
            "nvidia-cuda-runtime-cu12           12.6.77\n",
            "nvidia-cudnn-cu12                  9.6.0.74\n",
            "nvidia-cufft-cu12                  11.3.0.4\n",
            "nvidia-curand-cu12                 10.3.7.77\n",
            "nvidia-cusolver-cu12               11.7.1.2\n",
            "nvidia-cusparse-cu12               12.5.4.2\n",
            "nvidia-nccl-cu12                   2.23.4\n",
            "nvidia-nvjitlink-cu12              12.6.85\n",
            "nvtx                               0.2.10\n",
            "nx-cugraph-cu12                    24.10.0\n",
            "oauth2client                       4.1.3\n",
            "oauthlib                           3.2.2\n",
            "openai                             1.54.5\n",
            "opencv-contrib-python              4.10.0.84\n",
            "opencv-python                      4.10.0.84\n",
            "opencv-python-headless             4.10.0.84\n",
            "openpyxl                           3.1.5\n",
            "opentelemetry-api                  1.28.2\n",
            "opentelemetry-sdk                  1.28.2\n",
            "opentelemetry-semantic-conventions 0.49b2\n",
            "opt_einsum                         3.4.0\n",
            "optax                              0.2.4\n",
            "optree                             0.13.1\n",
            "orbax-checkpoint                   0.6.4\n",
            "orjson                             3.10.12\n",
            "osqp                               0.6.7.post3\n",
            "packaging                          24.2\n",
            "pandas                             2.2.2\n",
            "pandas-datareader                  0.10.0\n",
            "pandas-gbq                         0.24.0\n",
            "pandas-stubs                       2.2.2.240909\n",
            "pandocfilters                      1.5.1\n",
            "panel                              1.5.4\n",
            "param                              2.1.1\n",
            "parso                              0.8.4\n",
            "parsy                              2.1\n",
            "partd                              1.4.2\n",
            "pathlib                            1.0.1\n",
            "patsy                              1.0.1\n",
            "peewee                             3.17.8\n",
            "peft                               0.13.2\n",
            "pexpect                            4.9.0\n",
            "pickleshare                        0.7.5\n",
            "pillow                             11.0.0\n",
            "pip                                24.1.2\n",
            "platformdirs                       4.3.6\n",
            "plotly                             5.24.1\n",
            "plotnine                           0.14.3\n",
            "pluggy                             1.5.0\n",
            "ply                                3.11\n",
            "polars                             1.9.0\n",
            "pooch                              1.8.2\n",
            "portpicker                         1.5.2\n",
            "preshed                            3.0.9\n",
            "prettytable                        3.12.0\n",
            "proglog                            0.1.10\n",
            "progressbar2                       4.5.0\n",
            "prometheus_client                  0.21.1\n",
            "promise                            2.3\n",
            "prompt_toolkit                     3.0.48\n",
            "propcache                          0.2.1\n",
            "prophet                            1.1.6\n",
            "proto-plus                         1.25.0\n",
            "protobuf                           4.25.5\n",
            "psutil                             5.9.5\n",
            "psycopg2                           2.9.10\n",
            "ptyprocess                         0.7.0\n",
            "py-cpuinfo                         9.0.0\n",
            "py4j                               0.10.9.7\n",
            "pyarrow                            17.0.0\n",
            "pyarrow-hotfix                     0.6\n",
            "pyasn1                             0.6.1\n",
            "pyasn1_modules                     0.4.1\n",
            "pycocotools                        2.0.8\n",
            "pycparser                          2.22\n",
            "pydantic                           2.10.3\n",
            "pydantic_core                      2.27.1\n",
            "pydata-google-auth                 1.9.0\n",
            "pydot                              3.0.3\n",
            "pydotplus                          2.0.2\n",
            "PyDrive                            1.3.1\n",
            "PyDrive2                           1.21.3\n",
            "pyerfa                             2.0.1.5\n",
            "pygame                             2.6.1\n",
            "pygit2                             1.16.0\n",
            "Pygments                           2.18.0\n",
            "PyGObject                          3.42.1\n",
            "PyJWT                              2.10.1\n",
            "pylibcudf-cu12                     24.10.1\n",
            "pylibcugraph-cu12                  24.10.0\n",
            "pylibraft-cu12                     24.10.0\n",
            "pymc                               5.18.2\n",
            "pymystem3                          0.2.0\n",
            "pynvjitlink-cu12                   0.4.0\n",
            "pyogrio                            0.10.0\n",
            "Pyomo                              6.8.2\n",
            "PyOpenGL                           3.1.7\n",
            "pyOpenSSL                          24.2.1\n",
            "pyparsing                          3.2.0\n",
            "pyperclip                          1.9.0\n",
            "pyproj                             3.7.0\n",
            "pyshp                              2.3.1\n",
            "PySocks                            1.7.1\n",
            "pyspark                            3.5.3\n",
            "pytensor                           2.26.4\n",
            "pytest                             8.3.4\n",
            "python-apt                         0.0.0\n",
            "python-box                         7.2.0\n",
            "python-dateutil                    2.8.2\n",
            "python-louvain                     0.16\n",
            "python-slugify                     8.0.4\n",
            "python-utils                       3.9.1\n",
            "pytz                               2024.2\n",
            "pyviz_comms                        3.0.3\n",
            "PyYAML                             6.0.2\n",
            "pyzmq                              24.0.1\n",
            "qdldl                              0.1.7.post4\n",
            "ratelim                            0.1.6\n",
            "referencing                        0.35.1\n",
            "regex                              2024.9.11\n",
            "requests                           2.32.3\n",
            "requests-oauthlib                  1.3.1\n",
            "requests-toolbelt                  1.0.0\n",
            "requirements-parser                0.9.0\n",
            "rich                               13.9.4\n",
            "rmm-cu12                           24.10.0\n",
            "rpds-py                            0.22.3\n",
            "rpy2                               3.4.2\n",
            "rsa                                4.9\n",
            "safetensors                        0.4.5\n",
            "scikit-image                       0.24.0\n",
            "scikit-learn                       1.5.2\n",
            "scipy                              1.13.1\n",
            "scooby                             0.10.0\n",
            "scs                                3.2.7\n",
            "seaborn                            0.13.2\n",
            "SecretStorage                      3.3.1\n",
            "Send2Trash                         1.8.3\n",
            "sentence-transformers              3.2.1\n",
            "sentencepiece                      0.2.0\n",
            "sentry-sdk                         2.19.0\n",
            "setproctitle                       1.3.4\n",
            "setuptools                         75.1.0\n",
            "shap                               0.46.0\n",
            "shapely                            2.0.6\n",
            "shellingham                        1.5.4\n",
            "simple-parsing                     0.1.6\n",
            "six                                1.16.0\n",
            "sklearn-pandas                     2.2.0\n",
            "slicer                             0.0.8\n",
            "smart-open                         7.0.5\n",
            "smmap                              5.0.1\n",
            "sniffio                            1.3.1\n",
            "snowballstemmer                    2.2.0\n",
            "soundfile                          0.12.1\n",
            "soupsieve                          2.6\n",
            "soxr                               0.5.0.post1\n",
            "spacy                              3.7.5\n",
            "spacy-legacy                       3.0.12\n",
            "spacy-loggers                      1.0.5\n",
            "Sphinx                             8.1.3\n",
            "sphinxcontrib-applehelp            2.0.0\n",
            "sphinxcontrib-devhelp              2.0.0\n",
            "sphinxcontrib-htmlhelp             2.1.0\n",
            "sphinxcontrib-jsmath               1.0.1\n",
            "sphinxcontrib-qthelp               2.0.0\n",
            "sphinxcontrib-serializinghtml      2.0.0\n",
            "SQLAlchemy                         2.0.36\n",
            "sqlglot                            25.1.0\n",
            "sqlparse                           0.5.2\n",
            "srsly                              2.4.8\n",
            "stanio                             0.5.1\n",
            "statsmodels                        0.14.4\n",
            "StrEnum                            0.4.15\n",
            "stringzilla                        3.11.0\n",
            "sympy                              1.13.1\n",
            "tables                             3.10.1\n",
            "tabulate                           0.9.0\n",
            "tbb                                2022.0.0\n",
            "tcmlib                             1.2.0\n",
            "tenacity                           9.0.0\n",
            "tensorboard                        2.17.1\n",
            "tensorboard-data-server            0.7.2\n",
            "tensorflow                         2.17.1\n",
            "tensorflow-datasets                4.9.7\n",
            "tensorflow-hub                     0.16.1\n",
            "tensorflow-io-gcs-filesystem       0.37.1\n",
            "tensorflow-metadata                1.13.1\n",
            "tensorflow-probability             0.24.0\n",
            "tensorstore                        0.1.69\n",
            "termcolor                          2.5.0\n",
            "terminado                          0.18.1\n",
            "text-unidecode                     1.3\n",
            "textblob                           0.17.1\n",
            "tf_keras                           2.17.0\n",
            "tf-slim                            1.1.0\n",
            "thinc                              8.2.5\n",
            "threadpoolctl                      3.5.0\n",
            "tifffile                           2024.9.20\n",
            "timm                               1.0.12\n",
            "tinycss2                           1.4.0\n",
            "tokenizers                         0.20.3\n",
            "toml                               0.10.2\n",
            "tomli                              2.2.1\n",
            "toolz                              0.12.1\n",
            "torch                              2.5.1+cu121\n",
            "torchaudio                         2.5.1+cu121\n",
            "torchsummary                       1.5.1\n",
            "torchvision                        0.20.1+cu121\n",
            "tornado                            6.3.3\n",
            "tqdm                               4.66.6\n",
            "traitlets                          5.7.1\n",
            "traittypes                         0.2.1\n",
            "transformers                       4.46.3\n",
            "tweepy                             4.14.0\n",
            "typeguard                          4.4.1\n",
            "typer                              0.15.0\n",
            "types-pytz                         2024.2.0.20241003\n",
            "types-setuptools                   75.6.0.20241126\n",
            "typing_extensions                  4.12.2\n",
            "tzdata                             2024.2\n",
            "tzlocal                            5.2\n",
            "uc-micro-py                        1.0.3\n",
            "umf                                0.9.1\n",
            "uritemplate                        4.1.1\n",
            "urllib3                            2.2.3\n",
            "vega-datasets                      0.9.0\n",
            "wadllib                            1.3.6\n",
            "wandb                              0.18.7\n",
            "wasabi                             1.1.3\n",
            "wcwidth                            0.2.13\n",
            "weasel                             0.4.1\n",
            "webcolors                          24.11.1\n",
            "webencodings                       0.5.1\n",
            "websocket-client                   1.8.0\n",
            "Werkzeug                           3.1.3\n",
            "wheel                              0.45.1\n",
            "widgetsnbextension                 3.6.10\n",
            "wordcloud                          1.9.4\n",
            "wrapt                              1.17.0\n",
            "xarray                             2024.10.0\n",
            "xarray-einstats                    0.8.0\n",
            "xgboost                            2.1.3\n",
            "xlrd                               2.0.1\n",
            "xyzservices                        2024.9.0\n",
            "yarl                               1.18.3\n",
            "yellowbrick                        1.5\n",
            "yfinance                           0.2.50\n",
            "zipp                               3.21.0\n"
          ]
        }
      ],
      "source": [
        "!pip list"
      ]
    },
    {
      "cell_type": "markdown",
      "source": [
        "# 노트북 설명\n",
        "\n",
        "* 블록은 코드 블록과 텍스트 블록이 있습니다.\n",
        "* 노트를 여는 것은 VSCode에서도, GitHub에서도 열 수 있습니다.(실행은 안됩니다.)\n",
        "* `Ctrl + Enter`: 해당 코드 셀만 실행\n",
        "* `Alt + Enter`: 해당 코드 셀을 실행하고 아래 코드 블록 생성"
      ],
      "metadata": {
        "id": "afM8QlHAwEL8"
      }
    },
    {
      "cell_type": "markdown",
      "source": [
        "# 주석\n",
        "\n",
        "* 코드를 하나씩 설명하기 위한 용도로 거의 사용을 하지 않습니다.\n",
        "    * google code convention, Google Style Guides(python, https://google.github.io/styleguide/pyguide.html)에 보면(많은 기업들이 글로벌 기업의 스타일 가이드를 따라합니다.) 주석을 사용하는 법이 나와있습니다.\n",
        "    * 구글 엔지니어는 이렇게 일한다라는 책 등에 나와있습니다.\n",
        "    * 주석은 Doc String으로 함수나 클래스 아래 용도만 설명하는 경우가 많습니다. 물론 라인별로 주석을 다는 경우도 있습니다.\n",
        "* 어떤 코드를 보류하기 위해 사용하는 것도 push할 때에는 거의 다 삭제합니다. 또는 commit 해놓고, 다음 commit에서 삭제합니다."
      ],
      "metadata": {
        "id": "Hn5dmM4PwrBF"
      }
    },
    {
      "cell_type": "code",
      "source": [
        "def hello():\n",
        "    print('hello world') # hello world를 출력하는 코드입니다. <- 이 주석을 쓸 필요가 있을까요?"
      ],
      "metadata": {
        "id": "NNkgA9JtwDIB"
      },
      "execution_count": null,
      "outputs": []
    },
    {
      "cell_type": "code",
      "source": [
        "hello"
      ],
      "metadata": {
        "colab": {
          "base_uri": "https://localhost:8080/",
          "height": 103
        },
        "id": "wwDXHlgHyw2o",
        "outputId": "a4a5dc73-6a21-4073-cc76-f4889dbde88c"
      },
      "execution_count": null,
      "outputs": [
        {
          "output_type": "execute_result",
          "data": {
            "text/plain": [
              "<function __main__.hello()>"
            ],
            "text/html": [
              "<div style=\"max-width:800px; border: 1px solid var(--colab-border-color);\"><style>\n",
              "      pre.function-repr-contents {\n",
              "        overflow-x: auto;\n",
              "        padding: 8px 12px;\n",
              "        max-height: 500px;\n",
              "      }\n",
              "\n",
              "      pre.function-repr-contents.function-repr-contents-collapsed {\n",
              "        cursor: pointer;\n",
              "        max-height: 100px;\n",
              "      }\n",
              "    </style>\n",
              "    <pre style=\"white-space: initial; background:\n",
              "         var(--colab-secondary-surface-color); padding: 8px 12px;\n",
              "         border-bottom: 1px solid var(--colab-border-color);\"><b>hello</b><br/>def hello()</pre><pre class=\"function-repr-contents function-repr-contents-collapsed\" style=\"\"><a class=\"filepath\" style=\"display:none\" href=\"#\">/content/&lt;ipython-input-6-87134cdb7fbc&gt;</a>&lt;no docstring&gt;</pre></div>"
            ]
          },
          "metadata": {},
          "execution_count": 7
        }
      ]
    },
    {
      "cell_type": "code",
      "source": [
        "def hello():\n",
        "    \"\"\"\n",
        "    hello world를 출력하는 함수입니다.\n",
        "    \"\"\"\n",
        "    print('hello world')"
      ],
      "metadata": {
        "id": "dibn3nuNyWgj"
      },
      "execution_count": null,
      "outputs": []
    },
    {
      "cell_type": "code",
      "source": [
        "hello # 마우스를 오버해보면 Doc String이 보입니다."
      ],
      "metadata": {
        "colab": {
          "base_uri": "https://localhost:8080/",
          "height": 103
        },
        "id": "NbA05dPXydqT",
        "outputId": "41f7f7a6-1ade-4141-b1b3-64574d45fce2"
      },
      "execution_count": null,
      "outputs": [
        {
          "output_type": "execute_result",
          "data": {
            "text/plain": [
              "<function __main__.hello()>"
            ],
            "text/html": [
              "<div style=\"max-width:800px; border: 1px solid var(--colab-border-color);\"><style>\n",
              "      pre.function-repr-contents {\n",
              "        overflow-x: auto;\n",
              "        padding: 8px 12px;\n",
              "        max-height: 500px;\n",
              "      }\n",
              "\n",
              "      pre.function-repr-contents.function-repr-contents-collapsed {\n",
              "        cursor: pointer;\n",
              "        max-height: 100px;\n",
              "      }\n",
              "    </style>\n",
              "    <pre style=\"white-space: initial; background:\n",
              "         var(--colab-secondary-surface-color); padding: 8px 12px;\n",
              "         border-bottom: 1px solid var(--colab-border-color);\"><b>hello</b><br/>def hello()</pre><pre class=\"function-repr-contents function-repr-contents-collapsed\" style=\"\"><a class=\"filepath\" style=\"display:none\" href=\"#\">/content/&lt;ipython-input-4-b0a12da51c97&gt;</a>hello world를 출력하는 함수입니다.</pre></div>"
            ]
          },
          "metadata": {},
          "execution_count": 5
        }
      ]
    },
    {
      "cell_type": "code",
      "source": [
        "def calculate_area(radius):\n",
        "    \"\"\"\n",
        "    원의 면적을 계산하는 함수.\n",
        "\n",
        "    파라미터:\n",
        "        radius (float): 원의 반지름\n",
        "\n",
        "    반환값:\n",
        "        float: 원의 면적\n",
        "\n",
        "    애러:\n",
        "        예상되는 애러\n",
        "\n",
        "    예시:\n",
        "        >>> calculate_area(5)\n",
        "        78.53981633974483\n",
        "    \"\"\"\n",
        "    return 3.14159 * radius * radius\n",
        "\n",
        "calculate_area"
      ],
      "metadata": {
        "colab": {
          "base_uri": "https://localhost:8080/",
          "height": 186
        },
        "id": "UmtK7BCvytFb",
        "outputId": "41db45f5-e04d-41f6-b2bc-f38b6c92db2a"
      },
      "execution_count": null,
      "outputs": [
        {
          "output_type": "execute_result",
          "data": {
            "text/plain": [
              "<function __main__.calculate_area(radius)>"
            ],
            "text/html": [
              "<div style=\"max-width:800px; border: 1px solid var(--colab-border-color);\"><style>\n",
              "      pre.function-repr-contents {\n",
              "        overflow-x: auto;\n",
              "        padding: 8px 12px;\n",
              "        max-height: 500px;\n",
              "      }\n",
              "\n",
              "      pre.function-repr-contents.function-repr-contents-collapsed {\n",
              "        cursor: pointer;\n",
              "        max-height: 100px;\n",
              "      }\n",
              "    </style>\n",
              "    <pre style=\"white-space: initial; background:\n",
              "         var(--colab-secondary-surface-color); padding: 8px 12px;\n",
              "         border-bottom: 1px solid var(--colab-border-color);\"><b>calculate_area</b><br/>def calculate_area(radius)</pre><pre class=\"function-repr-contents function-repr-contents-collapsed\" style=\"\"><a class=\"filepath\" style=\"display:none\" href=\"#\">/content/&lt;ipython-input-9-9881fa3e7ee9&gt;</a>원의 면적을 계산하는 함수.\n",
              "\n",
              "파라미터:\n",
              "    radius (float): 원의 반지름\n",
              "\n",
              "반환값:\n",
              "    float: 원의 면적\n",
              "\n",
              "예시:\n",
              "    &gt;&gt;&gt; calculate_area(5)\n",
              "    78.53981633974483</pre></div>"
            ]
          },
          "metadata": {},
          "execution_count": 9
        }
      ]
    },
    {
      "cell_type": "code",
      "source": [
        "'''\n",
        "hello world\n",
        "'''"
      ],
      "metadata": {
        "colab": {
          "base_uri": "https://localhost:8080/",
          "height": 35
        },
        "id": "5ASBaJfUzSgM",
        "outputId": "befeab6e-1851-49f8-8cf4-a77be93b747f"
      },
      "execution_count": null,
      "outputs": [
        {
          "output_type": "execute_result",
          "data": {
            "text/plain": [
              "'\\nhello world\\n'"
            ],
            "application/vnd.google.colaboratory.intrinsic+json": {
              "type": "string"
            }
          },
          "metadata": {},
          "execution_count": 11
        }
      ]
    },
    {
      "cell_type": "code",
      "source": [
        "s = '''\n",
        "hello\n",
        "world\n",
        "안녕\n",
        "하세요\n",
        "'''\n",
        "\n",
        "s"
      ],
      "metadata": {
        "colab": {
          "base_uri": "https://localhost:8080/",
          "height": 35
        },
        "id": "57Q19F9CzaYn",
        "outputId": "63b7f494-43cf-402b-99d3-6b8d47d01fcf"
      },
      "execution_count": null,
      "outputs": [
        {
          "output_type": "execute_result",
          "data": {
            "text/plain": [
              "'\\nhello\\nworld\\n안녕\\n하세요\\n'"
            ],
            "application/vnd.google.colaboratory.intrinsic+json": {
              "type": "string"
            }
          },
          "metadata": {},
          "execution_count": 10
        }
      ]
    },
    {
      "cell_type": "code",
      "source": [
        "value = 100\n",
        "s = f'''\n",
        "hello\n",
        "world\n",
        "{value}\n",
        "하세요\n",
        "'''\n",
        "\n",
        "s"
      ],
      "metadata": {
        "colab": {
          "base_uri": "https://localhost:8080/",
          "height": 35
        },
        "id": "pWjf57Jxzr4W",
        "outputId": "9e298fa3-6118-4094-9a64-3e7fd52703fb"
      },
      "execution_count": null,
      "outputs": [
        {
          "output_type": "execute_result",
          "data": {
            "text/plain": [
              "'\\nhello\\nworld\\n100\\n하세요\\n'"
            ],
            "application/vnd.google.colaboratory.intrinsic+json": {
              "type": "string"
            }
          },
          "metadata": {},
          "execution_count": 12
        }
      ]
    },
    {
      "cell_type": "code",
      "source": [
        "# r은 raw입니다.\n",
        "s = 'hello\\nworld'\n",
        "print(s)\n",
        "\n",
        "s = r'hello\\nworld'\n",
        "print(s)"
      ],
      "metadata": {
        "colab": {
          "base_uri": "https://localhost:8080/"
        },
        "id": "_GKkNFxtz7Hd",
        "outputId": "1e3a50cc-0b6a-49db-a85d-9d64d2468d7c"
      },
      "execution_count": null,
      "outputs": [
        {
          "output_type": "stream",
          "name": "stdout",
          "text": [
            "hello\n",
            "world\n",
            "hello\\nworld\n"
          ]
        }
      ]
    },
    {
      "cell_type": "markdown",
      "source": [
        "# None"
      ],
      "metadata": {
        "id": "EuVnvZqH0SLk"
      }
    },
    {
      "cell_type": "code",
      "source": [
        "print(None)"
      ],
      "metadata": {
        "colab": {
          "base_uri": "https://localhost:8080/"
        },
        "id": "__d5HU9x0TXG",
        "outputId": "33816fec-3869-4cf6-d986-190de8ab98eb"
      },
      "execution_count": null,
      "outputs": [
        {
          "output_type": "stream",
          "name": "stdout",
          "text": [
            "None\n"
          ]
        }
      ]
    },
    {
      "cell_type": "code",
      "source": [
        "def hello():\n",
        "    return None\n",
        "\n",
        "hello()"
      ],
      "metadata": {
        "id": "EWcC3ooT0YeI"
      },
      "execution_count": null,
      "outputs": []
    },
    {
      "cell_type": "code",
      "source": [
        "# 비교를 할 때 None인 것을 비교를 하고 싶으면\n",
        "# A == None 이렇게 사용하시면 안되고\n",
        "# A is None"
      ],
      "metadata": {
        "id": "d-ifo3HG0pgG"
      },
      "execution_count": null,
      "outputs": []
    },
    {
      "cell_type": "code",
      "source": [
        "class A:\n",
        "    def __eq__(self, next):\n",
        "        return True\n",
        "\n",
        "a = A()\n",
        "\n",
        "a == None # a가 실제로 비어있나요? 아니죠!"
      ],
      "metadata": {
        "colab": {
          "base_uri": "https://localhost:8080/"
        },
        "id": "evjdGNq-04m_",
        "outputId": "7e1ea221-e037-4427-90b1-c0c2b7b19de5"
      },
      "execution_count": null,
      "outputs": [
        {
          "output_type": "execute_result",
          "data": {
            "text/plain": [
              "True"
            ]
          },
          "metadata": {},
          "execution_count": 18
        }
      ]
    },
    {
      "cell_type": "markdown",
      "source": [
        "# is"
      ],
      "metadata": {
        "id": "tvaSAK5A1tyo"
      }
    },
    {
      "cell_type": "code",
      "source": [
        "a = 10\n",
        "\n",
        "type(a) # type은 나중에 어떤 라이브러리, 어떤 프레임웤이든 모르는 자료형이 나옵니다.\n",
        "dir(a) # 메서드와 멤버\n",
        "id(a) # 주솟값"
      ],
      "metadata": {
        "colab": {
          "base_uri": "https://localhost:8080/"
        },
        "id": "nEf1MlXA1d33",
        "outputId": "62c1bec2-1382-444b-fca8-78d8819f5526"
      },
      "execution_count": null,
      "outputs": [
        {
          "output_type": "execute_result",
          "data": {
            "text/plain": [
              "133958691979792"
            ]
          },
          "metadata": {},
          "execution_count": 21
        }
      ]
    },
    {
      "cell_type": "code",
      "source": [
        "a = 10\n",
        "b = a\n",
        "c = b\n",
        "\n",
        "b = 100\n",
        "c"
      ],
      "metadata": {
        "colab": {
          "base_uri": "https://localhost:8080/"
        },
        "id": "YYR7GS4b2THI",
        "outputId": "1ef7c549-8160-4e13-df8f-fe2df6cc86fe"
      },
      "execution_count": null,
      "outputs": [
        {
          "output_type": "execute_result",
          "data": {
            "text/plain": [
              "10"
            ]
          },
          "metadata": {},
          "execution_count": 22
        }
      ]
    },
    {
      "cell_type": "code",
      "source": [
        "id(a)"
      ],
      "metadata": {
        "colab": {
          "base_uri": "https://localhost:8080/"
        },
        "id": "Bd4H9gzT226t",
        "outputId": "24e93886-e4aa-40a6-a0cb-0fbe5e7b4415"
      },
      "execution_count": null,
      "outputs": [
        {
          "output_type": "execute_result",
          "data": {
            "text/plain": [
              "133958691979792"
            ]
          },
          "metadata": {},
          "execution_count": 23
        }
      ]
    },
    {
      "cell_type": "code",
      "source": [
        "id(b)"
      ],
      "metadata": {
        "colab": {
          "base_uri": "https://localhost:8080/"
        },
        "id": "ztuafALj24tN",
        "outputId": "41d677d2-3309-4d2d-e1c1-3426a92f24f3"
      },
      "execution_count": null,
      "outputs": [
        {
          "output_type": "execute_result",
          "data": {
            "text/plain": [
              "133958691982672"
            ]
          },
          "metadata": {},
          "execution_count": 24
        }
      ]
    },
    {
      "cell_type": "code",
      "source": [
        "id(c)"
      ],
      "metadata": {
        "colab": {
          "base_uri": "https://localhost:8080/"
        },
        "id": "6FBz04bk2585",
        "outputId": "7edacf32-d65e-405f-e260-3a88e8d67455"
      },
      "execution_count": null,
      "outputs": [
        {
          "output_type": "execute_result",
          "data": {
            "text/plain": [
              "133958691979792"
            ]
          },
          "metadata": {},
          "execution_count": 25
        }
      ]
    },
    {
      "cell_type": "code",
      "source": [
        "a is c\n",
        "# 주솟값으로 비교를 합니다.\n",
        "# 참고로 None은 전역에서 1개의 주솟값으로 사용이 됩니다."
      ],
      "metadata": {
        "colab": {
          "base_uri": "https://localhost:8080/"
        },
        "id": "dwp300Or3KC2",
        "outputId": "0ca59e53-4b06-4df5-a7fe-ece5a6feb56b"
      },
      "execution_count": null,
      "outputs": [
        {
          "output_type": "execute_result",
          "data": {
            "text/plain": [
              "True"
            ]
          },
          "metadata": {},
          "execution_count": 26
        }
      ]
    },
    {
      "cell_type": "markdown",
      "source": [
        "# 인티저 인터닝"
      ],
      "metadata": {
        "id": "uj-8w6bv3qSk"
      }
    },
    {
      "cell_type": "code",
      "source": [
        "a = 100\n",
        "b = 100\n",
        "\n",
        "a is b, a == b"
      ],
      "metadata": {
        "colab": {
          "base_uri": "https://localhost:8080/"
        },
        "id": "REJTXnV13tpl",
        "outputId": "b09fe3b3-8e01-4f2b-ddad-84dad3fcadd9"
      },
      "execution_count": null,
      "outputs": [
        {
          "output_type": "execute_result",
          "data": {
            "text/plain": [
              "(True, True)"
            ]
          },
          "metadata": {},
          "execution_count": 27
        }
      ]
    },
    {
      "cell_type": "code",
      "source": [
        "# 말도 안돼!\n",
        "a = 1000\n",
        "b = 1000\n",
        "\n",
        "a is b, a == b"
      ],
      "metadata": {
        "colab": {
          "base_uri": "https://localhost:8080/"
        },
        "id": "iPQis3of3-4Q",
        "outputId": "c1376680-bd6b-4378-9ac7-b93b91149209"
      },
      "execution_count": null,
      "outputs": [
        {
          "output_type": "execute_result",
          "data": {
            "text/plain": [
              "(False, True)"
            ]
          },
          "metadata": {},
          "execution_count": 28
        }
      ]
    },
    {
      "cell_type": "code",
      "source": [
        "# 기본적으로 같은 값으로 변수를 생성하는 것은 다른 메모리에 적재합니다.\n",
        "\n",
        "value1 = 10\n",
        "value2 = 10\n",
        "\n",
        "# 위 두개는 원래대로라면 다른 메모리에 적재해야 합니다.\n",
        "# 그런데 Python은 속도가 매우매우 느립니다. 심각하게 느립니다. 3.10버전 이하까지요!"
      ],
      "metadata": {
        "id": "uGXEZ2Sd4NkM"
      },
      "execution_count": null,
      "outputs": []
    },
    {
      "cell_type": "code",
      "source": [
        "!python --version"
      ],
      "metadata": {
        "colab": {
          "base_uri": "https://localhost:8080/"
        },
        "id": "PNhJIQ8W4ycq",
        "outputId": "09bc6f21-55b6-43a2-8019-3b8a30fb2742"
      },
      "execution_count": null,
      "outputs": [
        {
          "output_type": "stream",
          "name": "stdout",
          "text": [
            "Python 3.10.12\n"
          ]
        }
      ]
    },
    {
      "cell_type": "code",
      "source": [
        "# 아! 그러면 파이썬에서 아주 깊은 설계 단위에서 성능을 향상시키는 것은\n",
        "# 한계가 있으니, 메모리 적재를 통해 속도를 높이자\n",
        "# -5 ~ 256는 자주나오는 숫자이니 메모리 적재해서 속도를 높이자!\n",
        "# 디버깅을 할 때 혼란을 주기도 합니다."
      ],
      "metadata": {
        "id": "JQHF4ma95Cgi"
      },
      "execution_count": null,
      "outputs": []
    },
    {
      "cell_type": "code",
      "source": [
        "l = [1000, 2000, 1000, 2000, 'abc', 'abc']\n",
        "\n",
        "id(l[0]), id(l[2]), id(l[4]), id(l[5])"
      ],
      "metadata": {
        "colab": {
          "base_uri": "https://localhost:8080/"
        },
        "id": "l8LlpyS_7_HI",
        "outputId": "6f1e1a8d-e768-4d82-e1c0-53bdd5e65aa2"
      },
      "execution_count": null,
      "outputs": [
        {
          "output_type": "execute_result",
          "data": {
            "text/plain": [
              "(133957367995152, 133957367995152, 133958690803952, 133958690803952)"
            ]
          },
          "metadata": {},
          "execution_count": 30
        }
      ]
    },
    {
      "cell_type": "code",
      "source": [
        "a = 'hello world'\n",
        "b = 'hello world'\n",
        "\n",
        "a is b"
      ],
      "metadata": {
        "colab": {
          "base_uri": "https://localhost:8080/"
        },
        "id": "8jS6ogGr8Qwg",
        "outputId": "10399a4c-e2fd-45ba-8d4b-f610fba42dee"
      },
      "execution_count": null,
      "outputs": [
        {
          "output_type": "execute_result",
          "data": {
            "text/plain": [
              "False"
            ]
          },
          "metadata": {},
          "execution_count": 31
        }
      ]
    },
    {
      "cell_type": "markdown",
      "source": [
        "# 리스트 복사 주의"
      ],
      "metadata": {
        "id": "MNx0H84H8haS"
      }
    },
    {
      "cell_type": "code",
      "source": [
        "l = [10, 10] * 3\n",
        "l"
      ],
      "metadata": {
        "colab": {
          "base_uri": "https://localhost:8080/"
        },
        "id": "ibjBPSrD8fk0",
        "outputId": "ff7691f0-0ea7-4f5c-cd0b-5fe43deae065"
      },
      "execution_count": null,
      "outputs": [
        {
          "output_type": "execute_result",
          "data": {
            "text/plain": [
              "[10, 10, 10, 10, 10, 10]"
            ]
          },
          "metadata": {},
          "execution_count": 32
        }
      ]
    },
    {
      "cell_type": "code",
      "source": [
        "l = [[10, 100] * 3] * 2\n",
        "l"
      ],
      "metadata": {
        "colab": {
          "base_uri": "https://localhost:8080/"
        },
        "id": "FoFuUOWM8w-2",
        "outputId": "f9e5e7f7-a2a2-4a95-9a56-b32b8a9ed38a"
      },
      "execution_count": null,
      "outputs": [
        {
          "output_type": "execute_result",
          "data": {
            "text/plain": [
              "[[10, 100, 10, 100, 10, 100], [10, 100, 10, 100, 10, 100]]"
            ]
          },
          "metadata": {},
          "execution_count": 35
        }
      ]
    },
    {
      "cell_type": "code",
      "source": [
        "l = [[10, 100] * 3] * 2 # 곱하기는 다중리스트에서 주소의 복사입니다.\n",
        "l[0][0] = 9999\n",
        "l"
      ],
      "metadata": {
        "colab": {
          "base_uri": "https://localhost:8080/"
        },
        "id": "D-P4zwmj84aa",
        "outputId": "9714f4f0-5252-440e-c926-348c5d5ab1be"
      },
      "execution_count": null,
      "outputs": [
        {
          "output_type": "execute_result",
          "data": {
            "text/plain": [
              "[[9999, 100, 10, 100, 10, 100], [9999, 100, 10, 100, 10, 100]]"
            ]
          },
          "metadata": {},
          "execution_count": 36
        }
      ]
    },
    {
      "cell_type": "code",
      "source": [
        "l = [1000, 10000] * 3\n",
        "\n",
        "id(l[0]), id(l[1]), id(l[2]), id(l[3]), id(l[4])\n",
        "\n",
        "l[2] = 99999\n",
        "l"
      ],
      "metadata": {
        "colab": {
          "base_uri": "https://localhost:8080/"
        },
        "id": "J2uzF7-o9Twz",
        "outputId": "5183dbe4-76d2-424d-9a96-0a9742e4e6be"
      },
      "execution_count": null,
      "outputs": [
        {
          "output_type": "execute_result",
          "data": {
            "text/plain": [
              "[1000, 10000, 99999, 10000, 1000, 10000]"
            ]
          },
          "metadata": {},
          "execution_count": 38
        }
      ]
    },
    {
      "cell_type": "markdown",
      "source": [
        "# 진수변환"
      ],
      "metadata": {
        "id": "mJpWaqgH98g4"
      }
    },
    {
      "cell_type": "code",
      "source": [
        "# 10진수 => 원하는 진수\n",
        "bin(10)\n",
        "oct(10)\n",
        "hex(10)"
      ],
      "metadata": {
        "colab": {
          "base_uri": "https://localhost:8080/",
          "height": 35
        },
        "id": "veIe728o98BZ",
        "outputId": "e5dbab90-0d12-4bca-dea2-f7800640f7b1"
      },
      "execution_count": null,
      "outputs": [
        {
          "output_type": "execute_result",
          "data": {
            "text/plain": [
              "'0xa'"
            ],
            "application/vnd.google.colaboratory.intrinsic+json": {
              "type": "string"
            }
          },
          "metadata": {},
          "execution_count": 39
        }
      ]
    },
    {
      "cell_type": "code",
      "source": [
        "# 원하는 진수 => 10진수\n",
        "int(bin(10), 2)\n",
        "int(bin(10)[2:], 2)\n",
        "int('1010', 2)\n",
        "int('0b1010', 2)\n",
        "# int(0b1010, 2)"
      ],
      "metadata": {
        "colab": {
          "base_uri": "https://localhost:8080/"
        },
        "id": "kmyIlnf2-Foo",
        "outputId": "d084c795-3f47-4281-b198-9b5fb3634c6b"
      },
      "execution_count": null,
      "outputs": [
        {
          "output_type": "execute_result",
          "data": {
            "text/plain": [
              "10"
            ]
          },
          "metadata": {},
          "execution_count": 56
        }
      ]
    },
    {
      "cell_type": "code",
      "source": [
        "type(bin(10))\n",
        "type(0b1010)"
      ],
      "metadata": {
        "colab": {
          "base_uri": "https://localhost:8080/"
        },
        "id": "D2lQpBEr_IV9",
        "outputId": "de6db578-1544-4008-ed3e-a13cee412c88"
      },
      "execution_count": null,
      "outputs": [
        {
          "output_type": "execute_result",
          "data": {
            "text/plain": [
              "int"
            ]
          },
          "metadata": {},
          "execution_count": 54
        }
      ]
    },
    {
      "cell_type": "markdown",
      "source": [
        "# 실수"
      ],
      "metadata": {
        "id": "kjTG7bCt_F4B"
      }
    },
    {
      "cell_type": "code",
      "source": [
        "float('inf') > 100\n",
        "# 뒤에 수가 무한대로 커질만한 연산 값을 넣으면 false가 나올 수도 있습니다."
      ],
      "metadata": {
        "colab": {
          "base_uri": "https://localhost:8080/"
        },
        "id": "9Ene_aP1_W_5",
        "outputId": "04cc3e4d-2418-4ea7-be6a-3a41d0e8d5bd"
      },
      "execution_count": null,
      "outputs": [
        {
          "output_type": "execute_result",
          "data": {
            "text/plain": [
              "True"
            ]
          },
          "metadata": {},
          "execution_count": 57
        }
      ]
    },
    {
      "cell_type": "code",
      "source": [
        "-float('inf')\n",
        "float('-inf')"
      ],
      "metadata": {
        "colab": {
          "base_uri": "https://localhost:8080/"
        },
        "id": "f9OThyx4_6ZL",
        "outputId": "6e6f8a26-b650-4874-d115-738d132fb147"
      },
      "execution_count": null,
      "outputs": [
        {
          "output_type": "execute_result",
          "data": {
            "text/plain": [
              "-inf"
            ]
          },
          "metadata": {},
          "execution_count": 58
        }
      ]
    },
    {
      "cell_type": "markdown",
      "source": [
        "# 실수의 부동 소수점 문제"
      ],
      "metadata": {
        "id": "jc9CxcY3ADK1"
      }
    },
    {
      "cell_type": "code",
      "source": [
        "0.1 + 0.2"
      ],
      "metadata": {
        "colab": {
          "base_uri": "https://localhost:8080/"
        },
        "id": "826JRWBoAFWQ",
        "outputId": "2ebdc8a7-473d-4fca-e691-09b9df23f5ce"
      },
      "execution_count": null,
      "outputs": [
        {
          "output_type": "execute_result",
          "data": {
            "text/plain": [
              "0.30000000000000004"
            ]
          },
          "metadata": {},
          "execution_count": 59
        }
      ]
    },
    {
      "cell_type": "code",
      "source": [
        "# ???\n",
        "# 왜 그렇죠?\n",
        "# 컴퓨터는 99%의 프로그래밍 언어는 2진수로 연산을 합니다.\n",
        "# Float나 Int나 NaN과 같은 것은 국제 표준이 있습니다. 대부분 여기에 맞춥니다.\n",
        "# 그런데! 0.1을 이진수로 바꾸면 0.0001100110011... 무한대수가 됩니다.\n",
        "# 그래서 이것을 적절한 수에서 내부로직을 통해 수를 조금 조정하비다.\n",
        "# 모든 프로그래밍 언어에서 발생하는 문제입니다.\n",
        "# https://0.30000000000000004.com/\n",
        "\n",
        "import decimal\n",
        "\n",
        "float(decimal.Decimal('.1') + decimal.Decimal('.2')) # 출력: 0.3"
      ],
      "metadata": {
        "colab": {
          "base_uri": "https://localhost:8080/"
        },
        "id": "_HdoWgvdAK6g",
        "outputId": "ded62591-08b2-4822-a060-a2f46bc9cf53"
      },
      "execution_count": null,
      "outputs": [
        {
          "output_type": "execute_result",
          "data": {
            "text/plain": [
              "0.3"
            ]
          },
          "metadata": {},
          "execution_count": 60
        }
      ]
    },
    {
      "cell_type": "code",
      "source": [
        "s = 0\n",
        "value = 0\n",
        "\n",
        "while value < 10:\n",
        "    s += 0.1\n",
        "    value += 1\n",
        "\n",
        "s"
      ],
      "metadata": {
        "colab": {
          "base_uri": "https://localhost:8080/"
        },
        "id": "KK4NaFKeBEly",
        "outputId": "308d6944-927d-411d-aa7b-2e9c7a1383c7"
      },
      "execution_count": null,
      "outputs": [
        {
          "output_type": "execute_result",
          "data": {
            "text/plain": [
              "0.9999999999999999"
            ]
          },
          "metadata": {},
          "execution_count": 61
        }
      ]
    },
    {
      "cell_type": "markdown",
      "source": [
        "# 지수"
      ],
      "metadata": {
        "id": "Emv7MFLgBgIV"
      }
    },
    {
      "cell_type": "code",
      "source": [
        "print(2e3) # 지수표현, float형\n",
        "print(2E3)\n",
        "\n",
        "print(2 * (10 ** 3)) # int 형"
      ],
      "metadata": {
        "colab": {
          "base_uri": "https://localhost:8080/"
        },
        "id": "y9cvnABHBhBO",
        "outputId": "0bc26db8-7cc5-445d-ea3f-ccc4a9d61dd5"
      },
      "execution_count": null,
      "outputs": [
        {
          "output_type": "stream",
          "name": "stdout",
          "text": [
            "2000.0\n",
            "2000.0\n",
            "2000\n"
          ]
        }
      ]
    },
    {
      "cell_type": "code",
      "source": [
        "print(float('inf') > 10e308)"
      ],
      "metadata": {
        "colab": {
          "base_uri": "https://localhost:8080/"
        },
        "id": "EBxBx7qDBhXC",
        "outputId": "5fa9744f-3b71-47ab-ea91-0b02627295a7"
      },
      "execution_count": null,
      "outputs": [
        {
          "output_type": "stream",
          "name": "stdout",
          "text": [
            "False\n"
          ]
        }
      ]
    },
    {
      "cell_type": "markdown",
      "source": [
        "# 문자열"
      ],
      "metadata": {
        "id": "gnj-VAs-CeEc"
      }
    },
    {
      "cell_type": "code",
      "source": [
        "# 인덱싱\n",
        "# 슬라이싱\n",
        "\n",
        "s = 'weniv CEO leehojun'\n",
        "s[3]\n",
        "# [start:stop:step]\n",
        "s[1:5:2]"
      ],
      "metadata": {
        "colab": {
          "base_uri": "https://localhost:8080/",
          "height": 35
        },
        "id": "2A07oSBYCCzt",
        "outputId": "cba10a24-f655-4029-c284-1d9b8df33805"
      },
      "execution_count": null,
      "outputs": [
        {
          "output_type": "execute_result",
          "data": {
            "text/plain": [
              "'ei'"
            ],
            "application/vnd.google.colaboratory.intrinsic+json": {
              "type": "string"
            }
          },
          "metadata": {},
          "execution_count": 65
        }
      ]
    },
    {
      "cell_type": "code",
      "source": [
        "# 음수 슬라이싱은 실제로 Python 내부에서 양수로 전환됩니다.\n",
        "s = 'weniv CEO leehojun'\n",
        "s[:-3] # 이게 도대체 어떻게 작동하는 것일까요? n, u, j가 나와야 하는 것은 아닐까요?\n",
        "\n",
        "# start와 stop에 음수가 있을 경우 양수로 전환합니다. -3은 15가 됩니다.\n",
        "# [:15]"
      ],
      "metadata": {
        "colab": {
          "base_uri": "https://localhost:8080/",
          "height": 35
        },
        "id": "FFBiy96iC3ts",
        "outputId": "28af2b05-3a52-4c97-8134-0eb7f6f58ba5"
      },
      "execution_count": null,
      "outputs": [
        {
          "output_type": "execute_result",
          "data": {
            "text/plain": [
              "'weniv CEO leeho'"
            ],
            "application/vnd.google.colaboratory.intrinsic+json": {
              "type": "string"
            }
          },
          "metadata": {},
          "execution_count": 66
        }
      ]
    },
    {
      "cell_type": "code",
      "source": [
        "s = 'weniv CEO leehojun'\n",
        "\n",
        "# 이런코드를 짤 위험이 있어요.\n",
        "if s.find('CTO'): # -1은 True로 평가됩니다.\n",
        "    print('찾았다!')\n",
        "\n",
        "# 그렇다 해서 find가 안좋은 것은 아니고 적재적소에 사용하시면 됩니다."
      ],
      "metadata": {
        "colab": {
          "base_uri": "https://localhost:8080/"
        },
        "id": "nfmWHbccDh0L",
        "outputId": "ffd1c3b5-ecd9-46b9-cdd5-4554feee9d16"
      },
      "execution_count": null,
      "outputs": [
        {
          "output_type": "stream",
          "name": "stdout",
          "text": [
            "찾았다!\n"
          ]
        }
      ]
    },
    {
      "cell_type": "code",
      "source": [
        "# 1부터 10,000까지 8이라는 숫자가 총 몇번 나오는가?\n",
        "\n",
        "# 8이 포함되어 있는 숫자의 갯수를 카운팅 하는 것이 아니라\n",
        "# 8이라는 숫자를 모두 카운팅 해야 한다.\n",
        "# (※ 예를들어 8808은 3, 8888은 4로 카운팅 해야 함)\n",
        "str(list(range(10000))).count('8')\n",
        "\n",
        "'[1, 2, 3, 4, 5, 6, 7, 8, 9, 10, 11]'.count('1')"
      ],
      "metadata": {
        "colab": {
          "base_uri": "https://localhost:8080/"
        },
        "id": "U4Ts1ZfhD50j",
        "outputId": "0c4fbbdf-c8d9-4c2b-a51a-f6cecd4f8040"
      },
      "execution_count": null,
      "outputs": [
        {
          "output_type": "execute_result",
          "data": {
            "text/plain": [
              "4"
            ]
          },
          "metadata": {},
          "execution_count": 73
        }
      ]
    },
    {
      "cell_type": "code",
      "source": [
        "s = '    weniv CEO licat     '\n",
        "s.strip() #양쪽 공백을 제거하는 메서드"
      ],
      "metadata": {
        "colab": {
          "base_uri": "https://localhost:8080/",
          "height": 35
        },
        "id": "gVS6JJ7JDjEe",
        "outputId": "4ef22a8e-520e-4a91-a088-6c15ca3001d7"
      },
      "execution_count": null,
      "outputs": [
        {
          "output_type": "execute_result",
          "data": {
            "text/plain": [
              "'weniv CEO licat'"
            ],
            "application/vnd.google.colaboratory.intrinsic+json": {
              "type": "string"
            }
          },
          "metadata": {},
          "execution_count": 74
        }
      ]
    },
    {
      "cell_type": "code",
      "source": [
        "s = 'weniv CEO licat'\n",
        "s.replace('CEO', 'CTO') #원하는 문자열을 다른 문자열로 대체할 때 사용하는 메서드\n",
        "# 다른 언어는 replace가 정규표현식이 가능합니다."
      ],
      "metadata": {
        "colab": {
          "base_uri": "https://localhost:8080/",
          "height": 35
        },
        "id": "yFiI6zA2FQEA",
        "outputId": "ed19b3d3-426b-4af9-bfdb-bcc740242395"
      },
      "execution_count": null,
      "outputs": [
        {
          "output_type": "execute_result",
          "data": {
            "text/plain": [
              "'weniv CTO licat'"
            ],
            "application/vnd.google.colaboratory.intrinsic+json": {
              "type": "string"
            }
          },
          "metadata": {},
          "execution_count": 75
        }
      ]
    },
    {
      "cell_type": "code",
      "source": [
        "import re\n",
        "\n",
        "s = 'weniv CSO licat'\n",
        "s = 'weniv CTO licat'\n",
        "s = 'weniv COO licat'\n",
        "# re.sub(패턴, 바꿀문자열, s)\n",
        "re.sub('C[A-Z][A-Z]', 'CEO', s)"
      ],
      "metadata": {
        "colab": {
          "base_uri": "https://localhost:8080/",
          "height": 35
        },
        "id": "cW3qDwUMFWGC",
        "outputId": "c66c82da-7c26-4268-8fc4-d975e3a5cec1"
      },
      "execution_count": null,
      "outputs": [
        {
          "output_type": "execute_result",
          "data": {
            "text/plain": [
              "'weniv CEO licat'"
            ],
            "application/vnd.google.colaboratory.intrinsic+json": {
              "type": "string"
            }
          },
          "metadata": {},
          "execution_count": 80
        }
      ]
    },
    {
      "cell_type": "code",
      "source": [
        "s = 'weniv CEO licat'\n",
        "s.split() #공백을 기준으로 문자열 나누기"
      ],
      "metadata": {
        "colab": {
          "base_uri": "https://localhost:8080/"
        },
        "id": "PqEWe6cfGd4_",
        "outputId": "ae846dd9-0426-47af-edc2-ce973f270d68"
      },
      "execution_count": null,
      "outputs": [
        {
          "output_type": "execute_result",
          "data": {
            "text/plain": [
              "['weniv', 'CEO', 'licat']"
            ]
          },
          "metadata": {},
          "execution_count": 81
        }
      ]
    },
    {
      "cell_type": "code",
      "source": [
        "s = '010-1000-2000'\n",
        "value = s.split('-') #-을 기준으로 문자열 나누기\n",
        "''.join(value)"
      ],
      "metadata": {
        "colab": {
          "base_uri": "https://localhost:8080/",
          "height": 35
        },
        "id": "KjjkuDQhGgb-",
        "outputId": "d20c06b7-d882-409b-9958-80d17f2af344"
      },
      "execution_count": null,
      "outputs": [
        {
          "output_type": "execute_result",
          "data": {
            "text/plain": [
              "'01010002000'"
            ],
            "application/vnd.google.colaboratory.intrinsic+json": {
              "type": "string"
            }
          },
          "metadata": {},
          "execution_count": 85
        }
      ]
    },
    {
      "cell_type": "code",
      "source": [
        "# 아래 문제는 정규표현식으로 푸셔야 합니다!\n",
        "\n",
        "s = '010-1000-2000'\n",
        "s = '010.1000-2000'\n",
        "s = '010.1000!2000'\n",
        "s = '010 1000 2000'\n",
        "s = '010-1000-2000'\n",
        "value = s.split('-') # -을 기준으로 문자열 나누기\n",
        "'-'.join(value)"
      ],
      "metadata": {
        "colab": {
          "base_uri": "https://localhost:8080/",
          "height": 35
        },
        "id": "KnoT96A4Gq2_",
        "outputId": "9c7a0ca0-eaab-4fa9-c2a9-066c532cd4de"
      },
      "execution_count": null,
      "outputs": [
        {
          "output_type": "execute_result",
          "data": {
            "text/plain": [
              "'010-1000-2000'"
            ],
            "application/vnd.google.colaboratory.intrinsic+json": {
              "type": "string"
            }
          },
          "metadata": {},
          "execution_count": 88
        }
      ]
    },
    {
      "cell_type": "code",
      "source": [
        "name = 'licat'\n",
        "age = 29\n",
        "\n",
        "'제 이름은 {}이고, 나이는 {}살입니다.'.format(name, age)"
      ],
      "metadata": {
        "colab": {
          "base_uri": "https://localhost:8080/"
        },
        "id": "N5un849lJqoG",
        "outputId": "eb2789d1-d45a-4033-9350-241c9d381752"
      },
      "execution_count": null,
      "outputs": [
        {
          "output_type": "stream",
          "name": "stdout",
          "text": [
            "제 이름은 licat이고, 나이는 29살입니다.\n"
          ]
        }
      ]
    },
    {
      "cell_type": "code",
      "source": [
        "name = 'licat'\n",
        "age = 29\n",
        "\n",
        "'제 이름은 {0}이고, 나이는 {0}살입니다.'.format(name, age)"
      ],
      "metadata": {
        "colab": {
          "base_uri": "https://localhost:8080/"
        },
        "id": "__BPaNslJq9m",
        "outputId": "f5f67006-9991-4451-85ef-ca5de9df19ea"
      },
      "execution_count": null,
      "outputs": [
        {
          "output_type": "stream",
          "name": "stdout",
          "text": [
            "제 이름은 licat이고, 나이는 licat살입니다.\n"
          ]
        }
      ]
    },
    {
      "cell_type": "code",
      "source": [
        "# 안에 있는 모든 숫자를 더하세요.\n",
        "s = 'abc1028a3d20'\n",
        "result = 0\n",
        "\n",
        "for i in s:\n",
        "    if i.isdigit():\n",
        "        result += int(i)\n",
        "\n",
        "result"
      ],
      "metadata": {
        "colab": {
          "base_uri": "https://localhost:8080/"
        },
        "id": "kd6ljLwhJ3Ro",
        "outputId": "0bd02f2c-db04-46a0-ab14-2b92d6988918"
      },
      "execution_count": null,
      "outputs": [
        {
          "output_type": "execute_result",
          "data": {
            "text/plain": [
              "16"
            ]
          },
          "metadata": {},
          "execution_count": 91
        }
      ]
    },
    {
      "cell_type": "code",
      "source": [
        "x = \"42\"\n",
        "result = x.zfill(5)\n",
        "print(result)  # 00042"
      ],
      "metadata": {
        "id": "SyECen7gKS4x"
      },
      "execution_count": null,
      "outputs": []
    },
    {
      "cell_type": "code",
      "source": [
        "년 = '23'\n",
        "월 = '9'\n",
        "일 = '8'\n",
        "오늘날짜 = 년 + 월 + 일\n",
        "print(오늘날짜)\n",
        "오늘날짜 = 년 + 월.zfill(2) + 일.zfill(2)\n",
        "print(오늘날짜)"
      ],
      "metadata": {
        "colab": {
          "base_uri": "https://localhost:8080/"
        },
        "id": "q-xjTqcbKdsn",
        "outputId": "2a95cbeb-d6ab-4a74-e8a8-a5735d4befea"
      },
      "execution_count": null,
      "outputs": [
        {
          "output_type": "stream",
          "name": "stdout",
          "text": [
            "2398\n",
            "230908\n"
          ]
        }
      ]
    },
    {
      "cell_type": "markdown",
      "source": [
        "# 메서드 체이닝"
      ],
      "metadata": {
        "id": "_dwAJp5EMe4X"
      }
    },
    {
      "cell_type": "code",
      "source": [
        "sentence = '  Hello, World!  '\n",
        "result = sentence.strip().lower().replace('world', 'python')"
      ],
      "metadata": {
        "id": "gmG8AOXPMgEj"
      },
      "execution_count": null,
      "outputs": []
    },
    {
      "cell_type": "markdown",
      "source": [
        "# 형변환"
      ],
      "metadata": {
        "id": "UlEtJWlFMluW"
      }
    },
    {
      "cell_type": "code",
      "source": [
        "l = ['10', '20', '30']\n",
        "\n",
        "# map(함수, 이터러블객체)\n",
        "list(map(int, l))"
      ],
      "metadata": {
        "colab": {
          "base_uri": "https://localhost:8080/"
        },
        "id": "e_zXWv7FMiFX",
        "outputId": "ffb1c368-9471-4e11-bd6d-b922798f74cc"
      },
      "execution_count": null,
      "outputs": [
        {
          "output_type": "execute_result",
          "data": {
            "text/plain": [
              "[10, 20, 30]"
            ]
          },
          "metadata": {},
          "execution_count": 93
        }
      ]
    },
    {
      "cell_type": "code",
      "source": [
        "bool([])\n",
        "# 논란이 되었던 구문입니다."
      ],
      "metadata": {
        "colab": {
          "base_uri": "https://localhost:8080/"
        },
        "id": "Ny0SHn-VM32e",
        "outputId": "1383af06-3fdc-48dd-c52d-74d91c4d0145"
      },
      "execution_count": null,
      "outputs": [
        {
          "output_type": "execute_result",
          "data": {
            "text/plain": [
              "False"
            ]
          },
          "metadata": {},
          "execution_count": 94
        }
      ]
    },
    {
      "cell_type": "markdown",
      "source": [
        "# 연산"
      ],
      "metadata": {
        "id": "-94K5C8IOdtd"
      }
    },
    {
      "cell_type": "code",
      "source": [
        "# 리스트 연결\n",
        "list1 = [1, 2, 3]\n",
        "list2 = [4, 5, 6]\n",
        "list1 + list2"
      ],
      "metadata": {
        "colab": {
          "base_uri": "https://localhost:8080/"
        },
        "id": "0D_kW7skOfdp",
        "outputId": "e3d9ec83-8012-4b16-b0f2-b3e52ca769af"
      },
      "execution_count": null,
      "outputs": [
        {
          "output_type": "execute_result",
          "data": {
            "text/plain": [
              "[1, 2, 3, 4, 5, 6]"
            ]
          },
          "metadata": {},
          "execution_count": 95
        }
      ]
    },
    {
      "cell_type": "code",
      "source": [
        "# 딕셔너리 연결\n",
        "d1 = {'one': 1, 'two': 2}\n",
        "d2 = {'three': 3}\n",
        "\n",
        "# d1 + d2 # error\n",
        "d1 | d2"
      ],
      "metadata": {
        "colab": {
          "base_uri": "https://localhost:8080/"
        },
        "id": "2ikKdDDPOhPi",
        "outputId": "9dd3c7df-71fe-4025-813c-6851a362b4e4"
      },
      "execution_count": null,
      "outputs": [
        {
          "output_type": "execute_result",
          "data": {
            "text/plain": [
              "{'one': 1, 'two': 2, 'three': 3}"
            ]
          },
          "metadata": {},
          "execution_count": 97
        }
      ]
    },
    {
      "cell_type": "code",
      "source": [
        "# 셋 연결\n",
        "{5} | {6}"
      ],
      "metadata": {
        "colab": {
          "base_uri": "https://localhost:8080/"
        },
        "id": "0y9phtVYO1h4",
        "outputId": "06102d4f-a9fd-45a2-9434-8f15b1c52f5e"
      },
      "execution_count": null,
      "outputs": [
        {
          "output_type": "execute_result",
          "data": {
            "text/plain": [
              "{5, 6}"
            ]
          },
          "metadata": {},
          "execution_count": 99
        }
      ]
    },
    {
      "cell_type": "code",
      "source": [
        "# 7 ----------------- 3"
      ],
      "metadata": {
        "colab": {
          "base_uri": "https://localhost:8080/"
        },
        "id": "GK5nCknZPCT-",
        "outputId": "daf55987-e821-48c4-8829-c1677ed5b0e9"
      },
      "execution_count": null,
      "outputs": [
        {
          "output_type": "execute_result",
          "data": {
            "text/plain": [
              "4"
            ]
          },
          "metadata": {},
          "execution_count": 100
        }
      ]
    },
    {
      "cell_type": "code",
      "source": [
        "-7 // 3 # 정수 나누기는 버림이 아니라 내림입니다."
      ],
      "metadata": {
        "colab": {
          "base_uri": "https://localhost:8080/"
        },
        "id": "iaIzX0JDPGVz",
        "outputId": "13e378fd-b911-45fc-8db8-5cf1957a934c"
      },
      "execution_count": null,
      "outputs": [
        {
          "output_type": "execute_result",
          "data": {
            "text/plain": [
              "-3"
            ]
          },
          "metadata": {},
          "execution_count": 101
        }
      ]
    },
    {
      "cell_type": "code",
      "source": [
        "10 / 0 # 디버깅 할 때 사용합니다!\n",
        "\n",
        "# 일부러 서비스에서 애러를 발생시켜서 애러 처리가 제대로 되는지 확인할 수 있습니다.\n",
        "# 가볍게 하기 좋습니다."
      ],
      "metadata": {
        "colab": {
          "base_uri": "https://localhost:8080/",
          "height": 146
        },
        "id": "Re3_vCoNP0Uj",
        "outputId": "fd3b4737-8d02-47d8-e0a2-6658928d60e0"
      },
      "execution_count": null,
      "outputs": [
        {
          "output_type": "error",
          "ename": "ZeroDivisionError",
          "evalue": "division by zero",
          "traceback": [
            "\u001b[0;31m---------------------------------------------------------------------------\u001b[0m",
            "\u001b[0;31mZeroDivisionError\u001b[0m                         Traceback (most recent call last)",
            "\u001b[0;32m<ipython-input-102-cd759d3fcf39>\u001b[0m in \u001b[0;36m<cell line: 1>\u001b[0;34m()\u001b[0m\n\u001b[0;32m----> 1\u001b[0;31m \u001b[0;36m10\u001b[0m \u001b[0;34m/\u001b[0m \u001b[0;36m0\u001b[0m\u001b[0;34m\u001b[0m\u001b[0;34m\u001b[0m\u001b[0m\n\u001b[0m",
            "\u001b[0;31mZeroDivisionError\u001b[0m: division by zero"
          ]
        }
      ]
    },
    {
      "cell_type": "code",
      "source": [
        "False and 1/0"
      ],
      "metadata": {
        "colab": {
          "base_uri": "https://localhost:8080/"
        },
        "id": "G0g513BaQAJx",
        "outputId": "d23e5989-6b88-4e61-e18f-1e3b7a449a3c"
      },
      "execution_count": null,
      "outputs": [
        {
          "output_type": "execute_result",
          "data": {
            "text/plain": [
              "False"
            ]
          },
          "metadata": {},
          "execution_count": 103
        }
      ]
    },
    {
      "cell_type": "code",
      "source": [
        "id = 'hojun'\n",
        "id = id or 'undefined'\n",
        "id"
      ],
      "metadata": {
        "colab": {
          "base_uri": "https://localhost:8080/",
          "height": 35
        },
        "id": "qZAEJeA_QFrl",
        "outputId": "1fa6d034-0e39-4622-c014-181798c2f9b0"
      },
      "execution_count": null,
      "outputs": [
        {
          "output_type": "execute_result",
          "data": {
            "text/plain": [
              "'hojun'"
            ],
            "application/vnd.google.colaboratory.intrinsic+json": {
              "type": "string"
            }
          },
          "metadata": {},
          "execution_count": 104
        }
      ]
    },
    {
      "cell_type": "code",
      "source": [
        "id = ''\n",
        "id = id or 'undefined'\n",
        "id"
      ],
      "metadata": {
        "colab": {
          "base_uri": "https://localhost:8080/",
          "height": 35
        },
        "id": "yBggSGKtQXb8",
        "outputId": "d44d6677-f6ea-41a3-f570-4f550abd6b37"
      },
      "execution_count": null,
      "outputs": [
        {
          "output_type": "execute_result",
          "data": {
            "text/plain": [
              "'undefined'"
            ],
            "application/vnd.google.colaboratory.intrinsic+json": {
              "type": "string"
            }
          },
          "metadata": {},
          "execution_count": 105
        }
      ]
    },
    {
      "cell_type": "code",
      "source": [
        "# and와 or연산자를 사용할 때 어디까지 봐야하는지 체크를 해서\n",
        "# 그 값을 가지게 하는 것을\n",
        "# 단락 평가라고 합니다."
      ],
      "metadata": {
        "id": "hGA2VMX9Qb1A"
      },
      "execution_count": null,
      "outputs": []
    },
    {
      "cell_type": "code",
      "source": [
        "4 ** 0.5"
      ],
      "metadata": {
        "id": "GojbZGujQ6TA"
      },
      "execution_count": null,
      "outputs": []
    },
    {
      "cell_type": "code",
      "source": [
        "# not의 위치가 2개가 다릅니다.\n",
        "x = 10\n",
        "y = 10\n",
        "\n",
        "x is not y"
      ],
      "metadata": {
        "colab": {
          "base_uri": "https://localhost:8080/"
        },
        "id": "JjxacCKVRH9L",
        "outputId": "246f12c5-2e13-4d37-ad9b-5f9fb183b9cb"
      },
      "execution_count": null,
      "outputs": [
        {
          "output_type": "execute_result",
          "data": {
            "text/plain": [
              "False"
            ]
          },
          "metadata": {},
          "execution_count": 106
        }
      ]
    },
    {
      "cell_type": "code",
      "source": [
        "x = 10\n",
        "y = [10, 20, 30]\n",
        "\n",
        "x not in y"
      ],
      "metadata": {
        "colab": {
          "base_uri": "https://localhost:8080/"
        },
        "id": "AMFISNSVRPXc",
        "outputId": "8af05f46-fc16-41d2-cd86-e63fab797902"
      },
      "execution_count": null,
      "outputs": [
        {
          "output_type": "execute_result",
          "data": {
            "text/plain": [
              "False"
            ]
          },
          "metadata": {},
          "execution_count": 107
        }
      ]
    },
    {
      "cell_type": "markdown",
      "source": [
        "# 리스트"
      ],
      "metadata": {
        "id": "MgvqXa8ySmh5"
      }
    },
    {
      "cell_type": "code",
      "source": [
        "l = [10, 20, 30, 40]\n",
        "dir(l)"
      ],
      "metadata": {
        "colab": {
          "base_uri": "https://localhost:8080/"
        },
        "id": "VSwjMUesSnjm",
        "outputId": "e7c83016-d3d0-496a-b94c-dcafe30fd356"
      },
      "execution_count": null,
      "outputs": [
        {
          "output_type": "execute_result",
          "data": {
            "text/plain": [
              "['__add__',\n",
              " '__class__',\n",
              " '__class_getitem__',\n",
              " '__contains__',\n",
              " '__delattr__',\n",
              " '__delitem__',\n",
              " '__dir__',\n",
              " '__doc__',\n",
              " '__eq__',\n",
              " '__format__',\n",
              " '__ge__',\n",
              " '__getattribute__',\n",
              " '__getitem__',\n",
              " '__gt__',\n",
              " '__hash__',\n",
              " '__iadd__',\n",
              " '__imul__',\n",
              " '__init__',\n",
              " '__init_subclass__',\n",
              " '__iter__',\n",
              " '__le__',\n",
              " '__len__',\n",
              " '__lt__',\n",
              " '__mul__',\n",
              " '__ne__',\n",
              " '__new__',\n",
              " '__reduce__',\n",
              " '__reduce_ex__',\n",
              " '__repr__',\n",
              " '__reversed__',\n",
              " '__rmul__',\n",
              " '__setattr__',\n",
              " '__setitem__',\n",
              " '__sizeof__',\n",
              " '__str__',\n",
              " '__subclasshook__',\n",
              " 'append',\n",
              " 'clear',\n",
              " 'copy',\n",
              " 'count',\n",
              " 'extend',\n",
              " 'index',\n",
              " 'insert',\n",
              " 'pop',\n",
              " 'remove',\n",
              " 'reverse',\n",
              " 'sort']"
            ]
          },
          "metadata": {},
          "execution_count": 108
        }
      ]
    },
    {
      "cell_type": "markdown",
      "source": [
        "* 'append': 요소를 1개 추가합니다.\n",
        "* 'extend': 이터러블한 요소를 추가합니다.(map, zip 등을 사용할 수 있습니다.)\n",
        "* 'clear': 리스트를 비웁니다.\n",
        "* 'copy': 리스트를 복사합니다.(얕은 복사, 깊은 복사)\n",
        "* 'count': 요소의 갯수를 셉니다. 다만 코딩 테스트 문제는 str count가 많이 나옵니다.\n",
        "* 'index': 요소의 위치를 반환합니다.\n",
        "* 'insert': 원하는 곳에 위치를 삽입\n",
        "* 'pop': 맨 뒤에 요소를 꺼내는 것입니다.\n",
        "* 'remove': 요소에서 처음 만나는 매칭되는 요소만 삭제합니다.\n",
        "* 'reverse': 역정렬 아니고 역순입니다.\n",
        "* 'sort': 정렬해줍니다. 코딩테스트 경향 정리 보면 1문제는 여기서 보통 출제됩니다."
      ],
      "metadata": {
        "id": "pcYeNPZJn_Hs"
      }
    },
    {
      "cell_type": "code",
      "source": [
        "l = [10, 20, 30]\n",
        "l.extend('hello world')\n",
        "l"
      ],
      "metadata": {
        "colab": {
          "base_uri": "https://localhost:8080/"
        },
        "id": "I908AfeQS8a5",
        "outputId": "47186bfa-007b-4740-8be6-ca59d7c09f9e"
      },
      "execution_count": null,
      "outputs": [
        {
          "output_type": "execute_result",
          "data": {
            "text/plain": [
              "[10, 20, 30, 'h', 'e', 'l', 'l', 'o', ' ', 'w', 'o', 'r', 'l', 'd']"
            ]
          },
          "metadata": {},
          "execution_count": 110
        }
      ]
    },
    {
      "cell_type": "code",
      "source": [
        "l = [10, 20, 30]\n",
        "l.extend(map(int, '100 200 300'.split()))\n",
        "l"
      ],
      "metadata": {
        "colab": {
          "base_uri": "https://localhost:8080/"
        },
        "id": "8Hy9vmvBTBSB",
        "outputId": "786f5189-b00b-45d0-b864-32fc450a8b18"
      },
      "execution_count": null,
      "outputs": [
        {
          "output_type": "execute_result",
          "data": {
            "text/plain": [
              "[10, 20, 30, 100, 200, 300]"
            ]
          },
          "metadata": {},
          "execution_count": 111
        }
      ]
    },
    {
      "cell_type": "code",
      "source": [
        "sample = [10, 20]\n",
        "\n",
        "l = [1, 2, 3, sample, 4, 5, 6]\n",
        "ll = [1, 2, 3, sample, 4, 5, 6]\n",
        "# 문제는 l과 ll을 다르게 관리하고 싶은데 다르게 관리할 방법이 마땅치 않다?\n",
        "\n",
        "# 참고 삼아 보세요. 튜플은 '참조 불변'이지 '값의 불편'이 아닙니다.\n",
        "# s = (1, 2, 3, sample)"
      ],
      "metadata": {
        "id": "w68W6N2xT8TU"
      },
      "execution_count": null,
      "outputs": []
    },
    {
      "cell_type": "code",
      "source": [
        "# copy.copy(x)\n",
        "# x의 얕은 사본을 반환합니다.\n",
        "\n",
        "# copy.deepcopy(x[, memo])\n",
        "# x의 깊은 사본을 반환합니다."
      ],
      "metadata": {
        "id": "1vX7kPO4TpFl"
      },
      "execution_count": null,
      "outputs": []
    },
    {
      "cell_type": "code",
      "source": [
        "# 문제 해결 1\n",
        "sample = [10, 20]\n",
        "\n",
        "l = [1, 2, 3, sample, 4, 5, 6]\n",
        "ll = l.copy() # 얕은 복사!? 중간에 값이 아닌 주소가 있으면 주소만 복사를 해옵니다.\n",
        "\n",
        "sample[0] = 1000\n",
        "l, ll"
      ],
      "metadata": {
        "colab": {
          "base_uri": "https://localhost:8080/"
        },
        "id": "l522RTtyUdWV",
        "outputId": "5331b36b-93c3-4e54-9047-26f00e992d9d"
      },
      "execution_count": null,
      "outputs": [
        {
          "output_type": "execute_result",
          "data": {
            "text/plain": [
              "([1, 2, 3, [1000, 20], 4, 5, 6], [1, 2, 3, [1000, 20], 4, 5, 6])"
            ]
          },
          "metadata": {},
          "execution_count": 112
        }
      ]
    },
    {
      "cell_type": "code",
      "source": [
        "# 문제 해결 2\n",
        "sample = [10, 20]\n",
        "\n",
        "l = [1, 2, 3, sample.copy(), 4, 5, 6]\n",
        "ll = l.copy() # 얕은 복사!? 중간에 값이 아닌 주소가 있으면 주소만 복사를 해옵니다.\n",
        "\n",
        "sample[0] = 1000\n",
        "l[3][0] = 10000\n",
        "l, ll"
      ],
      "metadata": {
        "colab": {
          "base_uri": "https://localhost:8080/"
        },
        "id": "v53AXEWomRmG",
        "outputId": "879dfdde-2f68-4339-8c85-ec118e38b6d9"
      },
      "execution_count": null,
      "outputs": [
        {
          "output_type": "execute_result",
          "data": {
            "text/plain": [
              "([1, 2, 3, [10000, 20], 4, 5, 6], [1, 2, 3, [10000, 20], 4, 5, 6])"
            ]
          },
          "metadata": {},
          "execution_count": 114
        }
      ]
    },
    {
      "cell_type": "code",
      "source": [
        "# 문제 해결 3\n",
        "# 문제가 해결된 것은 문제 해결 3밖에 없습니다.\n",
        "\n",
        "import copy\n",
        "\n",
        "sample = [10, 20]\n",
        "\n",
        "l = copy.deepcopy([1, 2, 3, sample, 4, 5, 6])\n",
        "ll = copy.deepcopy(l)\n",
        "\n",
        "sample[0] = 1000\n",
        "l[3][0] = 10000\n",
        "\n",
        "l, ll"
      ],
      "metadata": {
        "colab": {
          "base_uri": "https://localhost:8080/"
        },
        "id": "bbS3YDpJmmn5",
        "outputId": "23e7ee82-17a8-4caa-d67e-16356dd65372"
      },
      "execution_count": null,
      "outputs": [
        {
          "output_type": "execute_result",
          "data": {
            "text/plain": [
              "([1, 2, 3, [10000, 20], 4, 5, 6], [1, 2, 3, [10, 20], 4, 5, 6])"
            ]
          },
          "metadata": {},
          "execution_count": 117
        }
      ]
    },
    {
      "cell_type": "code",
      "source": [
        "def hello():\n",
        "    import pandas as pd\n",
        "    import numpy as np\n",
        "\n",
        "    return np.array([1, 2, 3, 4])\n",
        "\n",
        "hello()"
      ],
      "metadata": {
        "colab": {
          "base_uri": "https://localhost:8080/"
        },
        "id": "oypjvKO3nRk3",
        "outputId": "cdd54bd1-5cf6-42d5-afae-ae9f56424825"
      },
      "execution_count": null,
      "outputs": [
        {
          "output_type": "execute_result",
          "data": {
            "text/plain": [
              "array([1, 2, 3, 4])"
            ]
          },
          "metadata": {},
          "execution_count": 118
        }
      ]
    },
    {
      "cell_type": "code",
      "source": [
        "# 스택, 큐\n",
        "# 스택과 큐를 구현하는 방법\n",
        "# 스택과 큐를 구현해야 하는 이유"
      ],
      "metadata": {
        "id": "3sia_whInxlP"
      },
      "execution_count": null,
      "outputs": []
    },
    {
      "cell_type": "code",
      "source": [
        "# 예를 들어서 (그림으로 그려드림)\n",
        "# 스택에서 요소를 추가하는 것을 append\n",
        "# 요소를 빼내는 것을 pop이라고 생각하시면 선입견입니다.\n",
        "\n",
        "# append(요소) - pop()\n",
        "# insert(0, 요소) - pop(0)\n",
        "\n",
        "# 특정 고급 알고리즘의 경우에는 이런 스택과 큐로 구현해놓은 것들이 많습니다.\n",
        "# 여러분이 특정 알고리즘을 만들더라도 스택과 큐가 중요한 부품이 되는 경우도 있습니다."
      ],
      "metadata": {
        "id": "L7ZXhNQcovZL"
      },
      "execution_count": null,
      "outputs": []
    },
    {
      "cell_type": "code",
      "source": [
        "l = [2, 5, 4, 3, 1]\n",
        "l.sort()\n",
        "l"
      ],
      "metadata": {
        "colab": {
          "base_uri": "https://localhost:8080/"
        },
        "id": "7l40h6YSr3Xx",
        "outputId": "896dad02-81a8-427c-cc4c-9de51a247b25"
      },
      "execution_count": null,
      "outputs": [
        {
          "output_type": "execute_result",
          "data": {
            "text/plain": [
              "[1, 2, 3, 4, 5]"
            ]
          },
          "metadata": {},
          "execution_count": 121
        }
      ]
    },
    {
      "cell_type": "code",
      "source": [
        "# 학년, 반, 번호, 이름, 국어, 영어, 수학\n",
        "# 평균이 높은 순으로 출력하세요.\n",
        "l = [\n",
        "    [1, 1, 1, '김철수', 90, 80, 85],\n",
        "    [3, 1, 2, '박제동', 85, 85, 90],\n",
        "    [2, 1, 3, '홍길동', 80, 80, 80],\n",
        "    [5, 1, 4, '이영희', 95, 90, 95],\n",
        "    [4, 1, 5, '김철수', 90, 80, 85],\n",
        "]\n",
        "\n",
        "sorted(l) # 뭘 기준으로 정렬하나요? 맨 앞에 있는 요소를 기준으로 정렬합니다.\n",
        "sorted(l, key=lambda x: sum(x[4:]), reverse=True) # 나누지 않아도 됩니다."
      ],
      "metadata": {
        "colab": {
          "base_uri": "https://localhost:8080/"
        },
        "id": "baRH1Y7ysG3C",
        "outputId": "af02a2f8-92a6-4de9-aea5-877ffd438068"
      },
      "execution_count": null,
      "outputs": [
        {
          "output_type": "execute_result",
          "data": {
            "text/plain": [
              "[[5, 1, 4, '이영희', 95, 90, 95],\n",
              " [3, 1, 2, '박제동', 85, 85, 90],\n",
              " [1, 1, 1, '김철수', 90, 80, 85],\n",
              " [4, 1, 5, '김철수', 90, 80, 85],\n",
              " [2, 1, 3, '홍길동', 80, 80, 80]]"
            ]
          },
          "metadata": {},
          "execution_count": 124
        }
      ]
    },
    {
      "cell_type": "code",
      "source": [
        "# 학년, 반, 번호, 이름, 국어, 영어, 수학\n",
        "# 평균이 높은 순으로 출력하세요. 만약 평균이 같다면 학년 높은 순으로 출력하세요.\n",
        "l = [\n",
        "    [1, 1, 1, '김철수', 90, 80, 85],\n",
        "    [3, 1, 2, '박제동', 90, 80, 85],\n",
        "    [2, 1, 3, '홍길동', 80, 80, 80],\n",
        "    [5, 1, 4, '이영희', 90, 80, 85],\n",
        "    [4, 1, 5, '김철수', 90, 80, 85],\n",
        "]\n",
        "\n",
        "sorted(l) # 뭘 기준으로 정렬하나요? 맨 앞에 있는 요소를 기준으로 정렬합니다.\n",
        "sorted(l, key=lambda x: (sum(x[4:], x[0])), reverse=True) # 나누지 않아도 됩니다."
      ],
      "metadata": {
        "colab": {
          "base_uri": "https://localhost:8080/"
        },
        "id": "iHLxaEmBvwNc",
        "outputId": "fd21c3d3-6833-4b74-df7d-7385b130a8ae"
      },
      "execution_count": null,
      "outputs": [
        {
          "output_type": "execute_result",
          "data": {
            "text/plain": [
              "[[5, 1, 4, '이영희', 90, 80, 85],\n",
              " [4, 1, 5, '김철수', 90, 80, 85],\n",
              " [3, 1, 2, '박제동', 90, 80, 85],\n",
              " [1, 1, 1, '김철수', 90, 80, 85],\n",
              " [2, 1, 3, '홍길동', 80, 80, 80]]"
            ]
          },
          "metadata": {},
          "execution_count": 127
        }
      ]
    },
    {
      "cell_type": "code",
      "source": [
        "# 학년, 반, 번호, 이름, 국어, 영어, 수학\n",
        "# 평균이 높은 순으로 출력하세요. 만약 평균이 같다면 학년 낮은 순으로 출력하세요.\n",
        "l = [\n",
        "    [1, 1, 1, '김철수', 90, 80, 85],\n",
        "    [3, 1, 2, '박제동', 90, 80, 85],\n",
        "    [2, 1, 3, '홍길동', 80, 80, 80],\n",
        "    [5, 1, 4, '이영희', 90, 80, 85],\n",
        "    [4, 1, 5, '김철수', 90, 80, 85],\n",
        "]\n",
        "\n",
        "sorted(l) # 뭘 기준으로 정렬하나요? 맨 앞에 있는 요소를 기준으로 정렬합니다.\n",
        "sorted(l, key=lambda x: (sum(x[4:], -x[0])), reverse=True) # 나누지 않아도 됩니다."
      ],
      "metadata": {
        "colab": {
          "base_uri": "https://localhost:8080/"
        },
        "id": "kw-BLjLAy2hW",
        "outputId": "e8029161-3551-40f8-a3ab-88cb022b3b89"
      },
      "execution_count": null,
      "outputs": [
        {
          "output_type": "execute_result",
          "data": {
            "text/plain": [
              "[[1, 1, 1, '김철수', 90, 80, 85],\n",
              " [3, 1, 2, '박제동', 90, 80, 85],\n",
              " [4, 1, 5, '김철수', 90, 80, 85],\n",
              " [5, 1, 4, '이영희', 90, 80, 85],\n",
              " [2, 1, 3, '홍길동', 80, 80, 80]]"
            ]
          },
          "metadata": {},
          "execution_count": 128
        }
      ]
    },
    {
      "cell_type": "code",
      "source": [
        "# 1차원의 점들이 주어졌을 때, 그 중 가장 거리가 짧은 것의 쌍을 출력하는 함수를 작성하시오.\n",
        "# (단 점들의 배열은 모두 정렬되어있다고 가정한다.)\n",
        "# 예를들어 S={1, 3, 4, 8, 13, 17, 20} 이 주어졌다면, 결과값은 (3, 4)가 될 것이다"
      ],
      "metadata": {
        "id": "-aPlJhbRzJ5x"
      },
      "execution_count": null,
      "outputs": []
    },
    {
      "cell_type": "code",
      "source": [
        "# 이렇게 풀면 안됩니다.\n",
        "s = [1, 3, 4, 8, 13, 17, 20]\n",
        "mini = max(s)\n",
        "result = []\n",
        "\n",
        "for i in range(len(s)-1):\n",
        "    if mini > (s[i+1] - s[i]):\n",
        "        mini = s[i+1] - s[i]\n",
        "        result = [s[i], s[i+1]]\n",
        "\n",
        "result"
      ],
      "metadata": {
        "colab": {
          "base_uri": "https://localhost:8080/"
        },
        "id": "9fjloXK8zaG9",
        "outputId": "1c0fb599-65d6-4e8e-df58-64171549d212"
      },
      "execution_count": null,
      "outputs": [
        {
          "output_type": "execute_result",
          "data": {
            "text/plain": [
              "[3, 4]"
            ]
          },
          "metadata": {},
          "execution_count": 129
        }
      ]
    },
    {
      "cell_type": "code",
      "source": [
        "sorted(zip(s, s[1:]), key=lambda x: x[1]-x[0])"
      ],
      "metadata": {
        "colab": {
          "base_uri": "https://localhost:8080/"
        },
        "id": "hoZJDyOKz5NC",
        "outputId": "471b8e43-7875-4e54-8f61-1e854bae3e07"
      },
      "execution_count": null,
      "outputs": [
        {
          "output_type": "execute_result",
          "data": {
            "text/plain": [
              "[(3, 4), (1, 3), (17, 20), (4, 8), (13, 17), (8, 13)]"
            ]
          },
          "metadata": {},
          "execution_count": 131
        }
      ]
    },
    {
      "cell_type": "code",
      "source": [
        "# 응급도를 기준으로 진료 순서를 정하려고 합니다.\n",
        "# 응급도가 높은 순서대로 진료 순서를 정한 배열을 return\n",
        "def solution(data):\n",
        "    sorted_emer = sorted(data, reverse=True)\n",
        "    return [sorted_emer.index(i)+1 for i in data]\n",
        "\n",
        "solution([3, 76, 24])"
      ],
      "metadata": {
        "colab": {
          "base_uri": "https://localhost:8080/"
        },
        "id": "MXb4-pVO0fv5",
        "outputId": "d486fb2f-d549-44a5-cca2-0bad6799dd0a"
      },
      "execution_count": null,
      "outputs": [
        {
          "output_type": "execute_result",
          "data": {
            "text/plain": [
              "[3, 1, 2]"
            ]
          },
          "metadata": {},
          "execution_count": 135
        }
      ]
    },
    {
      "cell_type": "code",
      "source": [
        "# 우편번호 순서대로 정렬해주세요.\n",
        "우편번호 = {\n",
        "    '황사평': 1,\n",
        "    '행복동': 3,\n",
        "    '헬로월드': 4,\n",
        "    '사라봉': 2\n",
        "}\n",
        "\n",
        "데이터 = ['사라봉', '행복동', '황사평', '헬로월드']\n",
        "sorted(데이터, key=lambda x:우편번호[x])"
      ],
      "metadata": {
        "colab": {
          "base_uri": "https://localhost:8080/"
        },
        "id": "7MKaNujD0gNx",
        "outputId": "b5e56a89-a7f1-4546-cbbd-ba4e332ff343"
      },
      "execution_count": null,
      "outputs": [
        {
          "output_type": "execute_result",
          "data": {
            "text/plain": [
              "['황사평', '사라봉', '행복동', '헬로월드']"
            ]
          },
          "metadata": {},
          "execution_count": 139
        }
      ]
    },
    {
      "cell_type": "markdown",
      "source": [
        "# 튜플"
      ],
      "metadata": {
        "id": "Vc4J3zGX3xMZ"
      }
    },
    {
      "cell_type": "code",
      "source": [
        "# 왜 튜플이라는 자료형이 있을까요?\n",
        "\n",
        "# 1. 값에 불변 => X, (값에 불변을 유지하려는 경우도 있습니다.)\n",
        "# 2. 길이의 불변\n",
        "\n",
        "d = {\n",
        "    'one': 1,\n",
        "    'two': 2\n",
        "}\n",
        "\n",
        "d.items()\n",
        "# 왜 dict_items는 list 안에 tuple인가요?\n",
        "# (물론 dict_items는 별도 자료형입니다.)\n",
        "\n",
        "# 리스트인 이유 => 변경이 될 수 있다.\n",
        "# 튜플인 이유 => 안에 key와 value외에는 들어갈 수 없다."
      ],
      "metadata": {
        "colab": {
          "base_uri": "https://localhost:8080/"
        },
        "id": "2PWXe_Cf2kxk",
        "outputId": "c799cade-9010-4140-8dbe-ceea4af5fae6"
      },
      "execution_count": null,
      "outputs": [
        {
          "output_type": "execute_result",
          "data": {
            "text/plain": [
              "dict_items([('one', 1), ('two', 2)])"
            ]
          },
          "metadata": {},
          "execution_count": 140
        }
      ]
    },
    {
      "cell_type": "markdown",
      "source": [
        "# 딕셔너리"
      ],
      "metadata": {
        "id": "HvxznSoS3zg7"
      }
    },
    {
      "cell_type": "code",
      "source": [
        "keys = ['name', 'city', 'job']\n",
        "# keys = 'hello' # 이렇게 이터러블한 객체는 모두 가능합니다.\n",
        "value = None\n",
        "print(dict.fromkeys(keys, value))"
      ],
      "metadata": {
        "colab": {
          "base_uri": "https://localhost:8080/"
        },
        "id": "Lsw0xn6P3vIS",
        "outputId": "c861ae28-1fd1-4b77-ec28-f444ec00c995"
      },
      "execution_count": null,
      "outputs": [
        {
          "output_type": "stream",
          "name": "stdout",
          "text": [
            "{'name': None, 'city': None, 'job': None}\n"
          ]
        }
      ]
    },
    {
      "cell_type": "code",
      "source": [
        "# keys = ['name', 'city', 'job']\n",
        "keys = 'hello' # 이렇게 이터러블한 객체는 모두 가능합니다.\n",
        "value = None\n",
        "print(dict.fromkeys(keys, value))"
      ],
      "metadata": {
        "colab": {
          "base_uri": "https://localhost:8080/"
        },
        "id": "byrtbaep36RA",
        "outputId": "380cdd4e-f283-46a8-ccef-2355d1f0c261"
      },
      "execution_count": null,
      "outputs": [
        {
          "output_type": "stream",
          "name": "stdout",
          "text": [
            "{'h': None, 'e': None, 'l': None, 'o': None}\n"
          ]
        }
      ]
    },
    {
      "cell_type": "code",
      "source": [
        "numbers = {'one': '하나', 'two': '둘', 'three': '셋'}\n",
        "one_value = numbers.pop('one')\n",
        "print(one_value)\n",
        "print(numbers)"
      ],
      "metadata": {
        "colab": {
          "base_uri": "https://localhost:8080/"
        },
        "id": "U_SYgDc44SKF",
        "outputId": "825a9884-34e2-47c5-821a-924201fbc09a"
      },
      "execution_count": null,
      "outputs": [
        {
          "output_type": "stream",
          "name": "stdout",
          "text": [
            "하나\n",
            "{'two': '둘', 'three': '셋'}\n"
          ]
        }
      ]
    },
    {
      "cell_type": "code",
      "source": [
        "numbers = {'one': '하나', 'two': '둘', 'three': '셋'}\n",
        "item = numbers.popitem()\n",
        "print(item)\n",
        "print(numbers)"
      ],
      "metadata": {
        "colab": {
          "base_uri": "https://localhost:8080/"
        },
        "id": "xVczAYO04Z4p",
        "outputId": "85e0c7cb-15f5-40d1-8281-c0b2001dee55"
      },
      "execution_count": null,
      "outputs": [
        {
          "output_type": "stream",
          "name": "stdout",
          "text": [
            "('three', '셋')\n",
            "{'one': '하나', 'two': '둘'}\n"
          ]
        }
      ]
    },
    {
      "cell_type": "code",
      "source": [
        "numbers = {'one': '하나', 'two': '둘', 'three': '셋'}\n",
        "numbers.update({'four': '넷', 'five': '다섯'})\n",
        "numbers\n",
        "\n",
        "{'one': '하나', 'two': '둘', 'three': '셋'} | {'four': '넷', 'five': '다섯'}"
      ],
      "metadata": {
        "colab": {
          "base_uri": "https://localhost:8080/"
        },
        "id": "G5UJKmoE4vJZ",
        "outputId": "317f2056-4311-4d66-e776-7337bf9fd03f"
      },
      "execution_count": null,
      "outputs": [
        {
          "output_type": "execute_result",
          "data": {
            "text/plain": [
              "{'one': '하나', 'two': '둘', 'three': '셋', 'four': '넷', 'five': '다섯'}"
            ]
          },
          "metadata": {},
          "execution_count": 145
        }
      ]
    },
    {
      "cell_type": "code",
      "source": [
        "a = 10\n",
        "\n",
        "a # repr"
      ],
      "metadata": {
        "colab": {
          "base_uri": "https://localhost:8080/"
        },
        "id": "YXkB23Tl5G1z",
        "outputId": "896d2986-31c6-47cd-a413-b9c79702ac23"
      },
      "execution_count": null,
      "outputs": [
        {
          "output_type": "execute_result",
          "data": {
            "text/plain": [
              "10"
            ]
          },
          "metadata": {},
          "execution_count": 146
        }
      ]
    },
    {
      "cell_type": "code",
      "source": [
        "a = 10\n",
        "\n",
        "print(a) # str"
      ],
      "metadata": {
        "colab": {
          "base_uri": "https://localhost:8080/"
        },
        "id": "qXCm0e-J5KsL",
        "outputId": "93a57471-a0df-40f9-e3f1-9d599666e14b"
      },
      "execution_count": null,
      "outputs": [
        {
          "output_type": "stream",
          "name": "stdout",
          "text": [
            "10\n"
          ]
        }
      ]
    },
    {
      "cell_type": "code",
      "source": [
        "class A:\n",
        "    def __str__(self):\n",
        "        return 'str'\n",
        "\n",
        "    def __repr__(self):\n",
        "        return 'repr'\n",
        "\n",
        "a = A()\n",
        "a"
      ],
      "metadata": {
        "colab": {
          "base_uri": "https://localhost:8080/"
        },
        "id": "OOShSX0u5hKp",
        "outputId": "b1650d79-bcc5-4794-d235-ce41809d4953"
      },
      "execution_count": null,
      "outputs": [
        {
          "output_type": "execute_result",
          "data": {
            "text/plain": [
              "repr"
            ]
          },
          "metadata": {},
          "execution_count": 148
        }
      ]
    },
    {
      "cell_type": "code",
      "source": [
        "print(a)"
      ],
      "metadata": {
        "colab": {
          "base_uri": "https://localhost:8080/"
        },
        "id": "d_-9iO825o2r",
        "outputId": "aa9e8569-c441-4691-f57e-38d6e32807c6"
      },
      "execution_count": null,
      "outputs": [
        {
          "output_type": "stream",
          "name": "stdout",
          "text": [
            "str\n"
          ]
        }
      ]
    },
    {
      "cell_type": "code",
      "source": [
        "s = {1, 2, 3}\n",
        "ss = {3, 4, 5}\n",
        "\n",
        "s & ss\n",
        "s | ss\n",
        "s - ss"
      ],
      "metadata": {
        "colab": {
          "base_uri": "https://localhost:8080/"
        },
        "id": "4_vFkLDA51_C",
        "outputId": "609c0edb-a830-4836-8f6e-5203acdb923e"
      },
      "execution_count": null,
      "outputs": [
        {
          "output_type": "execute_result",
          "data": {
            "text/plain": [
              "{1, 2}"
            ]
          },
          "metadata": {},
          "execution_count": 152
        }
      ]
    },
    {
      "cell_type": "markdown",
      "source": [
        "# 함수"
      ],
      "metadata": {
        "id": "L2Xkyz3p6DUi"
      }
    },
    {
      "cell_type": "code",
      "source": [
        "# 일급함수는 함수를 값으로 취급하는 것입니다.\n",
        "# 1. 변수로 할당도 할 수 있고\n",
        "# 2. 리턴도 할 수 있고\n",
        "# 3. 아규먼트로 받을 수도 있고"
      ],
      "metadata": {
        "id": "ogHD7PCB6C1Q"
      },
      "execution_count": null,
      "outputs": []
    },
    {
      "cell_type": "code",
      "source": [
        "# 1. 변수로 할당도 할 수 있고\n",
        "hojun = print\n",
        "hojun('hello')\n",
        "\n",
        "hojun2 = [print, print, print] # 함수의 이름은 결국 변수입니다.\n",
        "hojun2[1]('helo world')\n",
        "\n",
        "def add(a, b):\n",
        "    return a + b\n",
        "\n",
        "def sub(a, b):\n",
        "    return a - b\n",
        "\n",
        "cal = [add, sub]\n",
        "cal[0](10, 20)"
      ],
      "metadata": {
        "colab": {
          "base_uri": "https://localhost:8080/"
        },
        "id": "JRwGoWia7Mcq",
        "outputId": "db434426-e3f0-4d39-f366-d8b31f79a275"
      },
      "execution_count": null,
      "outputs": [
        {
          "output_type": "stream",
          "name": "stdout",
          "text": [
            "hello\n",
            "helo world\n"
          ]
        },
        {
          "output_type": "execute_result",
          "data": {
            "text/plain": [
              "30"
            ]
          },
          "metadata": {},
          "execution_count": 157
        }
      ]
    },
    {
      "cell_type": "code",
      "source": [
        "# 2. 리턴도 할 수 있고\n",
        "\n",
        "def hello():\n",
        "    return print\n",
        "\n",
        "hello()('hello world')\n",
        "\n",
        "#######################\n",
        "\n",
        "def add(a, b):\n",
        "    return a + b\n",
        "\n",
        "def sub(a, b):\n",
        "    return a - b\n",
        "\n",
        "def cal(choice):\n",
        "    if choice == '+':\n",
        "        return add\n",
        "    elif choice == '-':\n",
        "        return sub\n",
        "\n",
        "cal('+')(10, 20)"
      ],
      "metadata": {
        "colab": {
          "base_uri": "https://localhost:8080/"
        },
        "id": "E1XClwwO7OiP",
        "outputId": "2bff4591-5088-4db7-ca2a-aa8c64199420"
      },
      "execution_count": null,
      "outputs": [
        {
          "output_type": "stream",
          "name": "stdout",
          "text": [
            "hello world\n"
          ]
        }
      ]
    },
    {
      "cell_type": "code",
      "source": [
        "# 3. 아규먼트로 받을 수도 있고\n",
        "\n",
        "def add(a, b):\n",
        "    return a + b\n",
        "\n",
        "def sub(a, b):\n",
        "    return a - b\n",
        "\n",
        "def cal(func, x):\n",
        "    return func(x, 100)\n",
        "\n",
        "cal(add, 10)\n",
        "cal(sub, 1000)"
      ],
      "metadata": {
        "colab": {
          "base_uri": "https://localhost:8080/"
        },
        "id": "ExVbB-wM7dLi",
        "outputId": "2d5f8724-38ef-4a1b-9a3e-d291c7ff3a28"
      },
      "execution_count": null,
      "outputs": [
        {
          "output_type": "execute_result",
          "data": {
            "text/plain": [
              "900"
            ]
          },
          "metadata": {},
          "execution_count": 159
        }
      ]
    },
    {
      "cell_type": "code",
      "source": [
        "# 이런 것들을 이용해서 무엇을 할 수 있나요?\n",
        "# 클로저나 데커레이터 등에 많이 사용됩니다.\n",
        "# 복잡하고 어려우니 잘 따라와 주세요.\n",
        "# 가장 쉬운 코드로 설명해드리도록 하겠습니다.\n",
        "\n",
        "# 없어져야 하는 메모리 영역에 참조가 생겨 없어지지 않는 경우\n",
        "# 이렇게 해서 생기는 장점은 x를 변경시킬 수 없습니다.\n",
        "# 이렇게 변수를 숨길 수 있는 방법이 거의 없습니다.\n",
        "\n",
        "def 제곱(x):\n",
        "    def 승수(y):\n",
        "        return x ** y\n",
        "    return 승수\n",
        "\n",
        "사용자_정의_함수 = 제곱(2)\n",
        "사용자_정의_함수(3)\n",
        "사용자_정의_함수(4)"
      ],
      "metadata": {
        "colab": {
          "base_uri": "https://localhost:8080/"
        },
        "id": "OhgRENtm8kh2",
        "outputId": "4bc59467-e34e-4af4-eb2c-c661227c1e47"
      },
      "execution_count": null,
      "outputs": [
        {
          "output_type": "execute_result",
          "data": {
            "text/plain": [
              "16"
            ]
          },
          "metadata": {},
          "execution_count": 163
        }
      ]
    },
    {
      "cell_type": "code",
      "source": [
        "# https://school.programmers.co.kr/learn/courses/30/lessons/120871\n",
        "\n",
        "l = [] # 저주의 숫자 저장\n",
        "for i in range(1, 100):\n",
        "    if i % 3 != 0 and '3' not in str(i):\n",
        "        l.append(i)\n",
        "\n",
        "l[39]\n",
        "\n",
        "def solution(n):\n",
        "    l = [] # 저주의 숫자 저장\n",
        "    for i in range(1, 1000):\n",
        "        if i % 3 != 0 and '3' not in str(i):\n",
        "            l.append(i)\n",
        "    return l[n-1]\n",
        "\n",
        "solution(40)"
      ],
      "metadata": {
        "colab": {
          "base_uri": "https://localhost:8080/"
        },
        "id": "f43Z2XYOBV19",
        "outputId": "7927f126-f2a5-4032-f578-aa68c0338aee"
      },
      "execution_count": null,
      "outputs": [
        {
          "output_type": "execute_result",
          "data": {
            "text/plain": [
              "76"
            ]
          },
          "metadata": {},
          "execution_count": 179
        }
      ]
    },
    {
      "cell_type": "markdown",
      "source": [
        "# collections.Counter"
      ],
      "metadata": {
        "id": "Smd6SmcqFEMr"
      }
    },
    {
      "cell_type": "code",
      "source": [
        "# collections나 itertools, functools\n",
        "# 이런 것들을 사용하면 다양한 수학 문제를 해결할 수 있습니다."
      ],
      "metadata": {
        "id": "J1bBqNX4FQdj"
      },
      "execution_count": null,
      "outputs": []
    },
    {
      "cell_type": "code",
      "source": [
        "from collections import Counter\n",
        "\n",
        "Counter('aaabbbbccd')"
      ],
      "metadata": {
        "colab": {
          "base_uri": "https://localhost:8080/"
        },
        "id": "7FxZZiO8FDzl",
        "outputId": "1e6fdb6b-fae4-4ef2-9bb7-0f30bd7b127b"
      },
      "execution_count": null,
      "outputs": [
        {
          "output_type": "execute_result",
          "data": {
            "text/plain": [
              "Counter({'a': 3, 'b': 4, 'c': 2, 'd': 1})"
            ]
          },
          "metadata": {},
          "execution_count": 180
        }
      ]
    },
    {
      "cell_type": "code",
      "source": [
        "# https://school.programmers.co.kr/learn/courses/30/lessons/120812\n",
        "\n",
        "# [1, 2, 3, 3, 3, 4]\n",
        "# count 메서드를 사용해서 푸는 경우가 많습니다.\n",
        "# 이러한 문제들은 풀수 있는 내장 모듈이 있습니다.\n",
        "\n",
        "value = Counter([1, 2, 3, 3, 3, 4])\n",
        "dir(value)\n",
        "# value값 가져오기\n",
        "# most_common\n",
        "\n",
        "# value.most_common(1)\n",
        "value.most_common()\n",
        "# value['3']\n",
        "value[3]\n",
        "\n",
        "from collections import Counter\n",
        "\n",
        "def solution(array):\n",
        "    if len(array) == 1:\n",
        "        return array[0]\n",
        "    arr = Counter(array)\n",
        "    # print(arr.most_common(1))\n",
        "    if arr.most_common(1)[0][1] == len(array):\n",
        "        return array[0]\n",
        "    one, two = arr.most_common(2)\n",
        "    if one[1] == two[1]:\n",
        "        return -1\n",
        "    return one[0]\n",
        "\n",
        "# solution([1, 2, 3, 3, 3, 4])\n",
        "# solution([1, 2, 2, 3, 3, 4])\n",
        "# solution([]) # 제약 사항에 원소가 1개는 들어가 있다고 합니다.\n",
        "# solution([1])\n",
        "solution([2, 2, 2])"
      ],
      "metadata": {
        "colab": {
          "base_uri": "https://localhost:8080/"
        },
        "id": "2PVK5Sk5Fl8C",
        "outputId": "2f42c511-fbc4-4a38-e4c6-b33ae10e1c05"
      },
      "execution_count": null,
      "outputs": [
        {
          "output_type": "execute_result",
          "data": {
            "text/plain": [
              "2"
            ]
          },
          "metadata": {},
          "execution_count": 201
        }
      ]
    },
    {
      "cell_type": "code",
      "source": [
        "Counter([1, 2, 3, 3, 3, 4]).most_common(2)"
      ],
      "metadata": {
        "colab": {
          "base_uri": "https://localhost:8080/"
        },
        "id": "BS6igOHFHRBj",
        "outputId": "04074ca9-ff37-49d6-8a0a-d57cbd4d5d8b"
      },
      "execution_count": null,
      "outputs": [
        {
          "output_type": "execute_result",
          "data": {
            "text/plain": [
              "[(3, 3), (1, 1)]"
            ]
          },
          "metadata": {},
          "execution_count": 189
        }
      ]
    },
    {
      "cell_type": "code",
      "source": [
        "# https://school.programmers.co.kr/learn/courses/30/lessons/120812\n",
        "\n",
        "from collections import Counter\n",
        "\n",
        "def solution(array, n):\n",
        "    return Counter(array).get(n)"
      ],
      "metadata": {
        "id": "DZi_KdTpJB44"
      },
      "execution_count": null,
      "outputs": []
    },
    {
      "cell_type": "code",
      "source": [
        "# https://school.programmers.co.kr/learn/courses/30/lessons/120896\n",
        "\n",
        "s = \"abcabcadc\"\n",
        "for i in set(\"abcabcadc\"):\n",
        "    print(i)\n",
        "    print(s.count(i))\n",
        "    if s.count(i) == 1:\n",
        "        print(f'한 번만 등장한 문자: {i}')"
      ],
      "metadata": {
        "colab": {
          "base_uri": "https://localhost:8080/"
        },
        "id": "eJu9hynAJfE9",
        "outputId": "f93af728-477f-475c-d39d-4d5f4c8fc85e"
      },
      "execution_count": null,
      "outputs": [
        {
          "output_type": "stream",
          "name": "stdout",
          "text": [
            "d\n",
            "1\n",
            "한 번만 등장한 문자: d\n",
            "a\n",
            "3\n",
            "b\n",
            "2\n",
            "c\n",
            "3\n"
          ]
        }
      ]
    },
    {
      "cell_type": "markdown",
      "source": [
        "# zip, map, sorted 휘발성"
      ],
      "metadata": {
        "id": "9C9sDLseKRV9"
      }
    },
    {
      "cell_type": "code",
      "source": [
        "l = [10, 20, 30]\n",
        "ll = map(lambda x: x**2, l) # map은 재사용하지 못합니다.\n",
        "print(ll)\n",
        "\n",
        "for i in ll:\n",
        "    print(i)\n",
        "\n",
        "for i in ll:\n",
        "    print(i)"
      ],
      "metadata": {
        "colab": {
          "base_uri": "https://localhost:8080/"
        },
        "id": "Uz0fEWKIKPYM",
        "outputId": "d8272855-2212-4ac8-8694-cb337bbd9e78"
      },
      "execution_count": null,
      "outputs": [
        {
          "output_type": "stream",
          "name": "stdout",
          "text": [
            "<map object at 0x79d5613f6410>\n",
            "100\n",
            "400\n",
            "900\n"
          ]
        }
      ]
    },
    {
      "cell_type": "code",
      "source": [
        "l = [10, 20, 30]\n",
        "ll = zip(l, 'hello') # zip도 역시나 한 번 사용되면 재사용할 수 없습니다.\n",
        "print(ll)\n",
        "\n",
        "for i in ll:\n",
        "    print(i)\n",
        "\n",
        "for i in ll:\n",
        "    print(i)"
      ],
      "metadata": {
        "colab": {
          "base_uri": "https://localhost:8080/"
        },
        "id": "0Sf3ftSuKvXc",
        "outputId": "6d68d727-015b-41a6-9347-bb673678ad36"
      },
      "execution_count": null,
      "outputs": [
        {
          "output_type": "stream",
          "name": "stdout",
          "text": [
            "<zip object at 0x79d5610f0ac0>\n",
            "(10, 'h')\n",
            "(20, 'e')\n",
            "(30, 'l')\n"
          ]
        }
      ]
    },
    {
      "cell_type": "code",
      "source": [
        "l = sorted([10, 20, 30])\n",
        "print(l)\n",
        "\n",
        "for i in l:\n",
        "    print(i)\n",
        "\n",
        "for i in l:\n",
        "    print(i)"
      ],
      "metadata": {
        "colab": {
          "base_uri": "https://localhost:8080/"
        },
        "id": "_T2D_rFtLCzI",
        "outputId": "d041873a-6494-4ef9-a4ba-d481c16cb9a7"
      },
      "execution_count": null,
      "outputs": [
        {
          "output_type": "stream",
          "name": "stdout",
          "text": [
            "[10, 20, 30]\n",
            "10\n",
            "20\n",
            "30\n",
            "10\n",
            "20\n",
            "30\n"
          ]
        }
      ]
    }
  ]
}