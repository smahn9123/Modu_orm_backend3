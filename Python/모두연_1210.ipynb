{
  "nbformat": 4,
  "nbformat_minor": 0,
  "metadata": {
    "colab": {
      "provenance": []
    },
    "kernelspec": {
      "name": "python3",
      "display_name": "Python 3"
    },
    "language_info": {
      "name": "python"
    }
  },
  "cells": [
    {
      "cell_type": "markdown",
      "source": [
        "# 함수"
      ],
      "metadata": {
        "id": "qzNCTFO64NJn"
      }
    },
    {
      "cell_type": "code",
      "execution_count": null,
      "metadata": {
        "id": "inHdU-t836Yw"
      },
      "outputs": [],
      "source": [
        "# 지역변수와 전역변수\n",
        "x = 10\n",
        "\n",
        "def hello():\n",
        "    print(x)\n",
        "\n",
        "# 지역에서\n",
        "# 지역변수: 읽기 가능, 쓰기 안됨\n",
        "# 전역변수: 읽기, 쓰기 가능"
      ]
    },
    {
      "cell_type": "code",
      "source": [
        "l = [10, 20, 30]\n",
        "range(len(l)) # 인덱스를 얻어내려고\n",
        "enumerate(l) # 인덱스를 얻어낼 수 있는 내장 함수가 있으니 이걸 사용하세요."
      ],
      "metadata": {
        "colab": {
          "base_uri": "https://localhost:8080/"
        },
        "id": "8uUc8glo4sP4",
        "outputId": "e4553eab-cb39-45a7-bde5-2868dde9d742"
      },
      "execution_count": 2,
      "outputs": [
        {
          "output_type": "execute_result",
          "data": {
            "text/plain": [
              "<enumerate at 0x7a25b0345280>"
            ]
          },
          "metadata": {},
          "execution_count": 2
        }
      ]
    },
    {
      "cell_type": "code",
      "source": [
        "list(enumerate(l))\n",
        "list(enumerate(l, 10))"
      ],
      "metadata": {
        "colab": {
          "base_uri": "https://localhost:8080/"
        },
        "id": "-t8tdtdA5KiI",
        "outputId": "bc518f02-dff3-4976-fc95-4878d84d8275"
      },
      "execution_count": 4,
      "outputs": [
        {
          "output_type": "execute_result",
          "data": {
            "text/plain": [
              "[(10, 10), (11, 20), (12, 30)]"
            ]
          },
          "metadata": {},
          "execution_count": 4
        }
      ]
    },
    {
      "cell_type": "code",
      "source": [
        "# __iter__: for를 만났을 때 인스턴스가 가장 먼저 실행하는 매직메서드\n",
        "# __next__: 다음 순회가 되었을 때 인스턴스가 실행하는 매직메서드\n",
        "for i in range(10):\n",
        "    print(i)\n",
        "'''\n",
        "range(10)에서 하나씩 꺼내 i에 대입하고 꺼낼 요소가 없을때 반복문이 종료됩니다.\n",
        "'''\n",
        "\n",
        "'''\n",
        "range는 2.x에서는 list였고 3.x 넘어오면서 range라는 객체가 별도로 생겼습니다.\n",
        "그 이유는 메모리 효율 때문입니다.\n",
        "리스트로 1억개 요소를 생성한다 생각해보시면 간단합니다.\n",
        "\n",
        "range(10)이라는 인스턴스에서 for를 만났기 때문에 __iter__를 실행시킵니다.\n",
        "순회를 돌 때마다 __next__를 실행시킵니다.\n",
        "__next__를 실행시켰는데 StopIteration을 발생시키면 for문은 종료됩니다.\n",
        "'''"
      ],
      "metadata": {
        "id": "SR6gGAdM5vgr"
      },
      "execution_count": null,
      "outputs": []
    },
    {
      "cell_type": "code",
      "source": [
        "type(range(10)) # 2.x는 리스트입니다."
      ],
      "metadata": {
        "colab": {
          "base_uri": "https://localhost:8080/"
        },
        "id": "lo1UoiKX9pZw",
        "outputId": "ac72a189-7e74-442b-9d48-8c6bb04a8a28"
      },
      "execution_count": 23,
      "outputs": [
        {
          "output_type": "execute_result",
          "data": {
            "text/plain": [
              "range"
            ]
          },
          "metadata": {},
          "execution_count": 23
        }
      ]
    },
    {
      "cell_type": "code",
      "source": [
        "i = iter(range(10))\n",
        "i"
      ],
      "metadata": {
        "colab": {
          "base_uri": "https://localhost:8080/"
        },
        "id": "CijQGXl67lee",
        "outputId": "136244d0-92de-4006-eef1-53d7a83ed1d5"
      },
      "execution_count": 5,
      "outputs": [
        {
          "output_type": "execute_result",
          "data": {
            "text/plain": [
              "<range_iterator at 0x7a25b0e98a20>"
            ]
          },
          "metadata": {},
          "execution_count": 5
        }
      ]
    },
    {
      "cell_type": "code",
      "source": [
        "next(i)"
      ],
      "metadata": {
        "colab": {
          "base_uri": "https://localhost:8080/"
        },
        "id": "f7lFTcr57qey",
        "outputId": "ecd40929-64f6-425a-fa69-6d2f26552e0f"
      },
      "execution_count": 6,
      "outputs": [
        {
          "output_type": "execute_result",
          "data": {
            "text/plain": [
              "0"
            ]
          },
          "metadata": {},
          "execution_count": 6
        }
      ]
    },
    {
      "cell_type": "code",
      "source": [
        "next(i)"
      ],
      "metadata": {
        "colab": {
          "base_uri": "https://localhost:8080/",
          "height": 146
        },
        "id": "l_R1K0Tj7v1D",
        "outputId": "b6b8a010-e4f9-4385-d028-bbb597eb4675"
      },
      "execution_count": 16,
      "outputs": [
        {
          "output_type": "error",
          "ename": "StopIteration",
          "evalue": "",
          "traceback": [
            "\u001b[0;31m---------------------------------------------------------------------------\u001b[0m",
            "\u001b[0;31mStopIteration\u001b[0m                             Traceback (most recent call last)",
            "\u001b[0;32m<ipython-input-16-a883b34d6d8a>\u001b[0m in \u001b[0;36m<cell line: 1>\u001b[0;34m()\u001b[0m\n\u001b[0;32m----> 1\u001b[0;31m \u001b[0mnext\u001b[0m\u001b[0;34m(\u001b[0m\u001b[0mi\u001b[0m\u001b[0;34m)\u001b[0m\u001b[0;34m\u001b[0m\u001b[0;34m\u001b[0m\u001b[0m\n\u001b[0m",
            "\u001b[0;31mStopIteration\u001b[0m: "
          ]
        }
      ]
    },
    {
      "cell_type": "code",
      "source": [
        "class A:\n",
        "    def __len__(self):\n",
        "        return 100\n",
        "\n",
        "a = A()\n",
        "len(a)"
      ],
      "metadata": {
        "colab": {
          "base_uri": "https://localhost:8080/"
        },
        "id": "V3Z6jzCf7w4M",
        "outputId": "b34e8bef-ddd4-488f-9157-38c3fffd73c9"
      },
      "execution_count": 17,
      "outputs": [
        {
          "output_type": "execute_result",
          "data": {
            "text/plain": [
              "100"
            ]
          },
          "metadata": {},
          "execution_count": 17
        }
      ]
    },
    {
      "cell_type": "code",
      "source": [
        "l = [10, 20, 30, 40]\n",
        "sum(l, 2) # 초기값"
      ],
      "metadata": {
        "colab": {
          "base_uri": "https://localhost:8080/"
        },
        "id": "YWGrpwdr8nyW",
        "outputId": "5bdab280-99a1-47b9-ed75-d103936a8a7a"
      },
      "execution_count": 21,
      "outputs": [
        {
          "output_type": "execute_result",
          "data": {
            "text/plain": [
              "102"
            ]
          },
          "metadata": {},
          "execution_count": 21
        }
      ]
    },
    {
      "cell_type": "code",
      "source": [
        "l = [[10, 20], [30, 40], [50, 60]]\n",
        "sum(l, []) # 2차원을 1차원으로 평탄화 할 수 있습니다."
      ],
      "metadata": {
        "colab": {
          "base_uri": "https://localhost:8080/"
        },
        "id": "cs9xrfID8_G-",
        "outputId": "46a84e10-da34-4c87-f125-43695240bbc3"
      },
      "execution_count": 22,
      "outputs": [
        {
          "output_type": "execute_result",
          "data": {
            "text/plain": [
              "[10, 20, 30, 40, 50, 60]"
            ]
          },
          "metadata": {},
          "execution_count": 22
        }
      ]
    },
    {
      "cell_type": "code",
      "source": [
        "# 모국어보다 익숙한 시간이 옵니다.\n",
        "# for로 1부터 100까지 더하는것도 매우 힘든 시간인데\n",
        "# 곧 익숙해집니다."
      ],
      "metadata": {
        "id": "sD41m39c9aLX"
      },
      "execution_count": null,
      "outputs": []
    },
    {
      "cell_type": "code",
      "source": [
        "# 익숙하게 사용하실 수 있어야 합니다.\n",
        "# filter: 조건에 부합하는 요소를 꺼냅니다. 코딩테스트에서 정말 많이 사용됩니다.\n",
        "# map: 데이터 추출, 함수 연산\n",
        "# zip: 데이터 묶음"
      ],
      "metadata": {
        "id": "IgRe0FVo997O"
      },
      "execution_count": 24,
      "outputs": []
    },
    {
      "cell_type": "code",
      "source": [
        "# 머쓱이보다 키 큰 사람\n",
        "# [149, 180, 192, 170]\n",
        "# 167\n",
        "\n",
        "l = [149, 180, 192, 170]"
      ],
      "metadata": {
        "id": "1V-a8g34-T8s"
      },
      "execution_count": null,
      "outputs": []
    },
    {
      "cell_type": "code",
      "source": [
        "l = [149, 180, 192, 170]\n",
        "count = 0\n",
        "\n",
        "for i in l:\n",
        "    if i > 167:\n",
        "        count += 1\n",
        "count"
      ],
      "metadata": {
        "colab": {
          "base_uri": "https://localhost:8080/"
        },
        "id": "nUF8adRx_7gC",
        "outputId": "86fd00be-ffbb-47d5-bd79-3cc9648835bb"
      },
      "execution_count": 25,
      "outputs": [
        {
          "output_type": "execute_result",
          "data": {
            "text/plain": [
              "3"
            ]
          },
          "metadata": {},
          "execution_count": 25
        }
      ]
    },
    {
      "cell_type": "code",
      "source": [
        "len([i for i in l if i > 167])"
      ],
      "metadata": {
        "colab": {
          "base_uri": "https://localhost:8080/"
        },
        "id": "UBGcS1mEAI5F",
        "outputId": "e4f25900-d24d-48f5-f206-9bc327cccf9f"
      },
      "execution_count": 27,
      "outputs": [
        {
          "output_type": "execute_result",
          "data": {
            "text/plain": [
              "3"
            ]
          },
          "metadata": {},
          "execution_count": 27
        }
      ]
    },
    {
      "cell_type": "code",
      "source": [
        "filter(lambda x: x > 167, l) # 메모리 부하가 여기까진 전혀 없습니다.\n",
        "# list 형변환 하는 것은 매우 큰 부담입니다.\n",
        "# filter와 같은 내장함수는 len(__len__)를 가지고 있지 않습니다."
      ],
      "metadata": {
        "colab": {
          "base_uri": "https://localhost:8080/"
        },
        "id": "-IVVg5jNAV3h",
        "outputId": "61538264-ad8f-4bd0-e99f-7e686a24e2e6"
      },
      "execution_count": 31,
      "outputs": [
        {
          "output_type": "execute_result",
          "data": {
            "text/plain": [
              "<filter at 0x7a25b0d0cb80>"
            ]
          },
          "metadata": {},
          "execution_count": 31
        }
      ]
    },
    {
      "cell_type": "code",
      "source": [
        "기상정보 = [\n",
        "    {\"지역\": \"서울\", \"날짜\": \"2021-05-01\", \"강수확률\": 0, \"최저기온\": 10, \"최고기온\": 20},\n",
        "    {\"지역\": \"대구\", \"날짜\": \"2021-05-01\", \"강수확률\": 20, \"최저기온\": 8, \"최고기온\": 22},\n",
        "    {\"지역\": \"제주\", \"날짜\": \"2021-05-01\", \"강수확률\": 10, \"최저기온\": 12, \"최고기온\": 24},\n",
        "]\n",
        "\n",
        "list(map(lambda x: x['강수확률'], 기상정보))\n",
        "list(map(lambda x: (x['지역'], x['강수확률']), 기상정보))\n",
        "list(filter(lambda x: x[1] >= 10, map(lambda x: (x['지역'], x['강수확률']), 기상정보)))"
      ],
      "metadata": {
        "colab": {
          "base_uri": "https://localhost:8080/"
        },
        "id": "QAu8NtnRA59o",
        "outputId": "5619dd16-43a7-4c28-fa74-dd75b372f8f5"
      },
      "execution_count": 34,
      "outputs": [
        {
          "output_type": "execute_result",
          "data": {
            "text/plain": [
              "[('대구', 20), ('제주', 10)]"
            ]
          },
          "metadata": {},
          "execution_count": 34
        }
      ]
    },
    {
      "cell_type": "code",
      "source": [
        "# 아래 데이터에서 25살 이상인 분들의 성별 구성(%)을 구하세요.\n",
        "user = [\n",
        "    {\"이름\": \"홍길동\", \"나이\": 20, \"성별\": \"남\"},\n",
        "    {\"이름\": \"김철수\", \"나이\": 25, \"성별\": \"남\"},\n",
        "    {\"이름\": \"박영희\", \"나이\": 22, \"성별\": \"여\"},\n",
        "    {\"이름\": \"이영수\", \"나이\": 30, \"성별\": \"남\"},\n",
        "    {\"이름\": \"김영희\", \"나이\": 29, \"성별\": \"여\"},\n",
        "]"
      ],
      "metadata": {
        "id": "W4BFjoDPFT-Z"
      },
      "execution_count": null,
      "outputs": []
    },
    {
      "cell_type": "code",
      "source": [
        "user = [\n",
        "    {\"이름\": \"홍길동\", \"나이\": 20, \"성별\": \"남\"},\n",
        "    {\"이름\": \"김철수\", \"나이\": 25, \"성별\": \"남\"},\n",
        "    {\"이름\": \"박영희\", \"나이\": 22, \"성별\": \"여\"},\n",
        "    {\"이름\": \"이영수\", \"나이\": 30, \"성별\": \"남\"},\n",
        "    {\"이름\": \"김영희\", \"나이\": 29, \"성별\": \"여\"},\n",
        "]\n",
        "\n",
        "extracted_data = list(map(lambda x : (x[\"나이\"], x[\"성별\"]), user))\n",
        "filtered_user = list(filter(lambda x : x[0] >= 25, extracted_data))\n",
        "print(f\"25살 이상인 사람의 성별 필터링: {filtered_user}\")"
      ],
      "metadata": {
        "colab": {
          "base_uri": "https://localhost:8080/"
        },
        "id": "hZrMpBquIgGr",
        "outputId": "080529a8-918c-41f0-d44c-05d7ff349e03"
      },
      "execution_count": 39,
      "outputs": [
        {
          "output_type": "stream",
          "name": "stdout",
          "text": [
            "25살 이상인 사람의 성별 필터링: [(25, '남'), (30, '남'), (29, '여')]\n"
          ]
        }
      ]
    },
    {
      "cell_type": "code",
      "source": [
        "over_25 = list(filter(lambda x: x['나이'] >= 25, user))\n",
        "male = list(filter(lambda x: x['성별'] == '남', over_25))\n",
        "print(len(male) / len(over_25) * 100)\n",
        "print((len(over_25) - len(male)) / len(over_25) * 100)"
      ],
      "metadata": {
        "colab": {
          "base_uri": "https://localhost:8080/"
        },
        "id": "P_xfzqE_ItgY",
        "outputId": "eb36955a-7534-42c6-9e17-5d744dbe5889"
      },
      "execution_count": 38,
      "outputs": [
        {
          "output_type": "stream",
          "name": "stdout",
          "text": [
            "66.66666666666666\n",
            "33.33333333333333\n"
          ]
        }
      ]
    },
    {
      "cell_type": "code",
      "source": [
        "user = [\n",
        "    {\"이름\": \"홍길동\", \"나이\": 20, \"성별\": \"남\"},\n",
        "    {\"이름\": \"김철수\", \"나이\": 25, \"성별\": \"남\"},\n",
        "    {\"이름\": \"박영희\", \"나이\": 22, \"성별\": \"여\"},\n",
        "    {\"이름\": \"이영수\", \"나이\": 30, \"성별\": \"남\"},\n",
        "    {\"이름\": \"김영희\", \"나이\": 29, \"성별\": \"여\"},\n",
        "]\n",
        "\n",
        "over_25 = 0\n",
        "male = 0\n",
        "\n",
        "for i in user:\n",
        "    if i['나이'] >= 25:\n",
        "        over_25 += 1\n",
        "        if i['성별'] == '남':\n",
        "            male += 1\n",
        "\n",
        "print(f\"남성: {male / over_25 * 100}\")"
      ],
      "metadata": {
        "colab": {
          "base_uri": "https://localhost:8080/"
        },
        "id": "opzDbYqHI-aN",
        "outputId": "1a5553cb-a6e7-4c5b-f63f-5b7b70860331"
      },
      "execution_count": 40,
      "outputs": [
        {
          "output_type": "stream",
          "name": "stdout",
          "text": [
            "남성: 66.66666666666666\n"
          ]
        }
      ]
    },
    {
      "cell_type": "code",
      "source": [
        "# filter나 map, zip 등을 사용했을 때 주의해야 할 점은 순회\n",
        "# 순회는 2번 돌았습니다.\n",
        "# 순회 돈 것을 왜 체크해야 하나요? 데이터가 많아지면 이런것 하나하나가 부하가 됩니다.\n",
        "\n",
        "over_25 = list(filter(lambda x: x['나이'] >= 25, user))\n",
        "male = list(filter(lambda x: x['성별'] == '남', over_25))\n",
        "\n",
        "data = list(map(lambda x: x['성별'], filter(lambda x: x['나이'] >= 25, user)))\n",
        "print(data)\n",
        "\n",
        "data.count('남')/len(data)*100"
      ],
      "metadata": {
        "colab": {
          "base_uri": "https://localhost:8080/"
        },
        "id": "EbHAi2RGJSKb",
        "outputId": "564fa671-2102-4cad-fdd7-848ff72c9852"
      },
      "execution_count": 42,
      "outputs": [
        {
          "output_type": "stream",
          "name": "stdout",
          "text": [
            "['남', '남', '여']\n"
          ]
        },
        {
          "output_type": "execute_result",
          "data": {
            "text/plain": [
              "66.66666666666666"
            ]
          },
          "metadata": {},
          "execution_count": 42
        }
      ]
    },
    {
      "cell_type": "code",
      "source": [
        "list(zip('hello', [10, 20, 30]))\n",
        "list(zip('hello', [10, 20, 30], 'world'))"
      ],
      "metadata": {
        "colab": {
          "base_uri": "https://localhost:8080/"
        },
        "id": "mdN9W0_qLb6h",
        "outputId": "b0b38126-ed9e-4664-d2dd-bc77ef2b02e8"
      },
      "execution_count": 44,
      "outputs": [
        {
          "output_type": "execute_result",
          "data": {
            "text/plain": [
              "[('h', 10, 'w'), ('e', 20, 'o'), ('l', 30, 'r')]"
            ]
          },
          "metadata": {},
          "execution_count": 44
        }
      ]
    },
    {
      "cell_type": "code",
      "source": [
        "def my_generator():\n",
        "    x = 10\n",
        "    yield x\n",
        "    x = 20\n",
        "    yield x\n",
        "    x = 30\n",
        "    yield x\n",
        "\n",
        "for i in my_generator():\n",
        "    print(i)"
      ],
      "metadata": {
        "colab": {
          "base_uri": "https://localhost:8080/"
        },
        "id": "g-k3g1O_L15I",
        "outputId": "a85fb417-ca2a-4ba2-d595-c9f0a79784b6"
      },
      "execution_count": 45,
      "outputs": [
        {
          "output_type": "stream",
          "name": "stdout",
          "text": [
            "10\n",
            "20\n",
            "30\n"
          ]
        }
      ]
    },
    {
      "cell_type": "code",
      "source": [
        "def my_generator():\n",
        "    x = 0\n",
        "    while True:\n",
        "        yield x\n",
        "        x += 2\n",
        "\n",
        "list(zip('hello', my_generator()))"
      ],
      "metadata": {
        "colab": {
          "base_uri": "https://localhost:8080/"
        },
        "id": "HdiGlpHfMKpw",
        "outputId": "15cc2c09-793c-42e2-8f95-1f9ec3606e88"
      },
      "execution_count": 46,
      "outputs": [
        {
          "output_type": "execute_result",
          "data": {
            "text/plain": [
              "[('h', 0), ('e', 2), ('l', 4), ('l', 6), ('o', 8)]"
            ]
          },
          "metadata": {},
          "execution_count": 46
        }
      ]
    },
    {
      "cell_type": "markdown",
      "source": [
        "# 조건문"
      ],
      "metadata": {
        "id": "z5Udy8lzOKBm"
      }
    },
    {
      "cell_type": "code",
      "source": [
        "text = 'World'\n",
        "match text:\n",
        "    case 'Hello':\n",
        "        print('1')\n",
        "    case 'World':\n",
        "        print('2')\n",
        "    case _:\n",
        "        print('3')"
      ],
      "metadata": {
        "colab": {
          "base_uri": "https://localhost:8080/"
        },
        "id": "2a8C8zUuM7Xg",
        "outputId": "b91d83ed-b398-4633-d4ab-ba0b8da73a7d"
      },
      "execution_count": 50,
      "outputs": [
        {
          "output_type": "stream",
          "name": "stdout",
          "text": [
            "2\n"
          ]
        }
      ]
    },
    {
      "cell_type": "code",
      "source": [
        "text = 'World'\n",
        "match text:\n",
        "    case 'Hello' | 'World':\n",
        "        print('2')\n",
        "    case _:\n",
        "        print('3')"
      ],
      "metadata": {
        "colab": {
          "base_uri": "https://localhost:8080/"
        },
        "id": "zcyw7O3HN6_h",
        "outputId": "9e5b2107-2a95-4487-bbaa-864d16b0a96b"
      },
      "execution_count": 52,
      "outputs": [
        {
          "output_type": "stream",
          "name": "stdout",
          "text": [
            "2\n"
          ]
        }
      ]
    },
    {
      "cell_type": "code",
      "source": [
        "# 이렇게 작성할 경우 가독성은 어느정도 깨진다고 생각을 해주세요.\n",
        "\n",
        "if True: print('hello')\n",
        "\n",
        "[i for i in range(10) if i % 2 == 0]"
      ],
      "metadata": {
        "colab": {
          "base_uri": "https://localhost:8080/"
        },
        "id": "15HHI243OUup",
        "outputId": "33e5a683-89f2-4d1e-a9dd-ec8980acd3c5"
      },
      "execution_count": 54,
      "outputs": [
        {
          "output_type": "stream",
          "name": "stdout",
          "text": [
            "hello\n"
          ]
        },
        {
          "output_type": "execute_result",
          "data": {
            "text/plain": [
              "[0, 2, 4, 6, 8]"
            ]
          },
          "metadata": {},
          "execution_count": 54
        }
      ]
    },
    {
      "cell_type": "code",
      "source": [
        "x = 10\n",
        "\n",
        "value = 1 if x > 10 else 2\n",
        "value"
      ],
      "metadata": {
        "colab": {
          "base_uri": "https://localhost:8080/"
        },
        "id": "sQGxY7kHOnBD",
        "outputId": "a97ff671-32b3-4eb4-c49e-21191b8d6fea"
      },
      "execution_count": 55,
      "outputs": [
        {
          "output_type": "execute_result",
          "data": {
            "text/plain": [
              "2"
            ]
          },
          "metadata": {},
          "execution_count": 55
        }
      ]
    },
    {
      "cell_type": "code",
      "source": [
        "for i, j in [[1, 2], [10, 20], [100, 200]]:\n",
        "    print(i)\n",
        "    print(j)\n",
        "    print(i, j)\n",
        "\n",
        "# 언패킹, 패킹\n",
        "\n",
        "a, b, c = range(3)\n",
        "a, b"
      ],
      "metadata": {
        "colab": {
          "base_uri": "https://localhost:8080/"
        },
        "id": "aPTmKRZ4O_Tq",
        "outputId": "1ccb6341-9033-4c85-b5cc-471507a770d7"
      },
      "execution_count": 57,
      "outputs": [
        {
          "output_type": "stream",
          "name": "stdout",
          "text": [
            "1\n",
            "2\n",
            "1 2\n",
            "10\n",
            "20\n",
            "10 20\n",
            "100\n",
            "200\n",
            "100 200\n"
          ]
        },
        {
          "output_type": "execute_result",
          "data": {
            "text/plain": [
              "(0, 1)"
            ]
          },
          "metadata": {},
          "execution_count": 57
        }
      ]
    },
    {
      "cell_type": "markdown",
      "source": [
        "# 클래스"
      ],
      "metadata": {
        "id": "Wox_SwteP87Y"
      }
    },
    {
      "cell_type": "code",
      "source": [
        "a = 10 # a는 int형의 인스턴스이고 그 값으로 10이라는 값을 할당받았습니다.\n",
        "b = 20 # b는 int형의 인스턴스이고 그 값으로 20이라는 값을 할당받았습니다.\n",
        "\n",
        "a + b\n",
        "# a와 b가 '+'기호를 만났을 때 a의 __add__가 실행되어 b값을 가져와서 더해준 것입니다."
      ],
      "metadata": {
        "id": "tW3l7eLJP_m8"
      },
      "execution_count": null,
      "outputs": []
    },
    {
      "cell_type": "code",
      "source": [
        "class A:\n",
        "    def __init__(self, value):\n",
        "        self.value = value\n",
        "\n",
        "    def __add__(self, next):\n",
        "        return self.value + next.value\n",
        "\n",
        "a = A(10)\n",
        "b = A(20)\n",
        "\n",
        "a + b"
      ],
      "metadata": {
        "colab": {
          "base_uri": "https://localhost:8080/"
        },
        "id": "GQFR3JKDQlRg",
        "outputId": "749f7c4d-dac7-4aa6-d842-3606d330f588"
      },
      "execution_count": 59,
      "outputs": [
        {
          "output_type": "execute_result",
          "data": {
            "text/plain": [
              "30"
            ]
          },
          "metadata": {},
          "execution_count": 59
        }
      ]
    },
    {
      "cell_type": "code",
      "source": [
        "# 클래스는 설계 도면\n",
        "# 인스턴스는 도면으로 만들어진 생산품\n",
        "\n",
        "# 인스턴스 = 클래스()\n",
        "# 위와 같은 형식으로 인스턴스 생성\n",
        "# 이렇게 생성이 되었을 때 클래스에서 가장 먼저 실행하는 것이\n",
        "# __init__입니다!\n",
        "# __init__은 필수는 아니고 기입하지 않았을 경우 자동으로 들어갑니다.\n",
        "\n",
        "class A:\n",
        "    def __init__(self, value):\n",
        "        self.value = value\n",
        "\n",
        "a = A(10)\n",
        "b = A(20)\n",
        "\n",
        "# 그런데 전혀 못보던 self라는 키워드가 나왔습니다.\n",
        "# 이 self의 정체는 무엇일까요???"
      ],
      "metadata": {
        "id": "xt-w8qa5T4RI"
      },
      "execution_count": null,
      "outputs": []
    },
    {
      "cell_type": "code",
      "source": [
        "# 그것이 알고 싶다! self!\n",
        "# self의 정체는 인스턴스입니다!\n",
        "# self는 설계 도면 A로 찍혀져 나온 고유에 공간을 가지고 있는 생산품\n",
        "# self는 인스턴스 고유의 메모리 영역이다!\n",
        "\n",
        "class A:\n",
        "    def __init__(self, value):\n",
        "        print(type(self))\n",
        "        print(dir(self))\n",
        "        print(id(self))\n",
        "        self.value = value\n",
        "\n",
        "a = A(10)\n",
        "b = A(20)\n",
        "\n",
        "id(a), id(b)"
      ],
      "metadata": {
        "colab": {
          "base_uri": "https://localhost:8080/"
        },
        "id": "-ExB5HuKUlEz",
        "outputId": "d4292033-87ae-48e8-fdd9-78021078a0ab"
      },
      "execution_count": 61,
      "outputs": [
        {
          "output_type": "stream",
          "name": "stdout",
          "text": [
            "<class '__main__.A'>\n",
            "['__class__', '__delattr__', '__dict__', '__dir__', '__doc__', '__eq__', '__format__', '__ge__', '__getattribute__', '__gt__', '__hash__', '__init__', '__init_subclass__', '__le__', '__lt__', '__module__', '__ne__', '__new__', '__reduce__', '__reduce_ex__', '__repr__', '__setattr__', '__sizeof__', '__str__', '__subclasshook__', '__weakref__']\n",
            "134301266462464\n",
            "<class '__main__.A'>\n",
            "['__class__', '__delattr__', '__dict__', '__dir__', '__doc__', '__eq__', '__format__', '__ge__', '__getattribute__', '__gt__', '__hash__', '__init__', '__init_subclass__', '__le__', '__lt__', '__module__', '__ne__', '__new__', '__reduce__', '__reduce_ex__', '__repr__', '__setattr__', '__sizeof__', '__str__', '__subclasshook__', '__weakref__']\n",
            "134301266472352\n"
          ]
        },
        {
          "output_type": "execute_result",
          "data": {
            "text/plain": [
              "(134301266462464, 134301266472352)"
            ]
          },
          "metadata": {},
          "execution_count": 61
        }
      ]
    },
    {
      "cell_type": "code",
      "source": [
        "class Car:\n",
        "    value = 100\n",
        "\n",
        "    def move(self):\n",
        "        pass\n",
        "\n",
        "    def stop(self):\n",
        "        pass\n",
        "\n",
        "car1 = Car()\n",
        "\n",
        "dir(car1) # dir을 찍어서 나오는 것은 단지 메서드 뿐만 아니라\n",
        "# 메서드, 클래스 변수, 인스턴스 변수, ... 등\n",
        "# 인스턴스가 보유한 모든 변수 목록을 다 반환하는 것입니다.\n",
        "\n",
        "# 'move', => 메서드\n",
        "# 'stop', => 메서드\n",
        "# 'value'] => 클래스 변수"
      ],
      "metadata": {
        "colab": {
          "base_uri": "https://localhost:8080/"
        },
        "id": "j1Op1J7XWLwT",
        "outputId": "c5267fae-42a7-47fe-8e72-af0126b0a7a7"
      },
      "execution_count": 63,
      "outputs": [
        {
          "output_type": "execute_result",
          "data": {
            "text/plain": [
              "['__class__',\n",
              " '__delattr__',\n",
              " '__dict__',\n",
              " '__dir__',\n",
              " '__doc__',\n",
              " '__eq__',\n",
              " '__format__',\n",
              " '__ge__',\n",
              " '__getattribute__',\n",
              " '__gt__',\n",
              " '__hash__',\n",
              " '__init__',\n",
              " '__init_subclass__',\n",
              " '__le__',\n",
              " '__lt__',\n",
              " '__module__',\n",
              " '__ne__',\n",
              " '__new__',\n",
              " '__reduce__',\n",
              " '__reduce_ex__',\n",
              " '__repr__',\n",
              " '__setattr__',\n",
              " '__sizeof__',\n",
              " '__str__',\n",
              " '__subclasshook__',\n",
              " '__weakref__',\n",
              " 'move',\n",
              " 'stop',\n",
              " 'value']"
            ]
          },
          "metadata": {},
          "execution_count": 63
        }
      ]
    },
    {
      "cell_type": "code",
      "source": [
        "a = 10\n",
        "dir(a) # a라는 int 인스턴스가 가진 모든 변수 목록을 출력해라!"
      ],
      "metadata": {
        "colab": {
          "base_uri": "https://localhost:8080/"
        },
        "id": "vRR0fZ8iWy66",
        "outputId": "d9fe3168-0fb9-4d74-a9ea-6f81f55319c5"
      },
      "execution_count": 64,
      "outputs": [
        {
          "output_type": "execute_result",
          "data": {
            "text/plain": [
              "['__abs__',\n",
              " '__add__',\n",
              " '__and__',\n",
              " '__bool__',\n",
              " '__ceil__',\n",
              " '__class__',\n",
              " '__delattr__',\n",
              " '__dir__',\n",
              " '__divmod__',\n",
              " '__doc__',\n",
              " '__eq__',\n",
              " '__float__',\n",
              " '__floor__',\n",
              " '__floordiv__',\n",
              " '__format__',\n",
              " '__ge__',\n",
              " '__getattribute__',\n",
              " '__getnewargs__',\n",
              " '__gt__',\n",
              " '__hash__',\n",
              " '__index__',\n",
              " '__init__',\n",
              " '__init_subclass__',\n",
              " '__int__',\n",
              " '__invert__',\n",
              " '__le__',\n",
              " '__lshift__',\n",
              " '__lt__',\n",
              " '__mod__',\n",
              " '__mul__',\n",
              " '__ne__',\n",
              " '__neg__',\n",
              " '__new__',\n",
              " '__or__',\n",
              " '__pos__',\n",
              " '__pow__',\n",
              " '__radd__',\n",
              " '__rand__',\n",
              " '__rdivmod__',\n",
              " '__reduce__',\n",
              " '__reduce_ex__',\n",
              " '__repr__',\n",
              " '__rfloordiv__',\n",
              " '__rlshift__',\n",
              " '__rmod__',\n",
              " '__rmul__',\n",
              " '__ror__',\n",
              " '__round__',\n",
              " '__rpow__',\n",
              " '__rrshift__',\n",
              " '__rshift__',\n",
              " '__rsub__',\n",
              " '__rtruediv__',\n",
              " '__rxor__',\n",
              " '__setattr__',\n",
              " '__sizeof__',\n",
              " '__str__',\n",
              " '__sub__',\n",
              " '__subclasshook__',\n",
              " '__truediv__',\n",
              " '__trunc__',\n",
              " '__xor__',\n",
              " 'as_integer_ratio',\n",
              " 'bit_count',\n",
              " 'bit_length',\n",
              " 'conjugate',\n",
              " 'denominator',\n",
              " 'from_bytes',\n",
              " 'imag',\n",
              " 'numerator',\n",
              " 'real',\n",
              " 'to_bytes']"
            ]
          },
          "metadata": {},
          "execution_count": 64
        }
      ]
    },
    {
      "cell_type": "code",
      "source": [
        "# add 이어서 설명하도록 하겠습니다.\n",
        "class A:\n",
        "    def __init__(self, value):\n",
        "        self.value = value\n",
        "\n",
        "    def __add__(self, next):\n",
        "        return self.value\n",
        "\n",
        "a = A(10)\n",
        "b = A(20)\n",
        "\n",
        "a + b"
      ],
      "metadata": {
        "colab": {
          "base_uri": "https://localhost:8080/"
        },
        "id": "-XGU6NMBW9nh",
        "outputId": "bd3edac5-785a-44f0-b559-2212d623005e"
      },
      "execution_count": 66,
      "outputs": [
        {
          "output_type": "execute_result",
          "data": {
            "text/plain": [
              "10"
            ]
          },
          "metadata": {},
          "execution_count": 66
        }
      ]
    },
    {
      "cell_type": "code",
      "source": [
        "def hello():\n",
        "    pass\n",
        "\n",
        "print(type(hello))"
      ],
      "metadata": {
        "colab": {
          "base_uri": "https://localhost:8080/"
        },
        "id": "7SmFwQYmYDz8",
        "outputId": "73065fa8-fa5d-4f23-e70c-682d12526bbb"
      },
      "execution_count": 68,
      "outputs": [
        {
          "output_type": "stream",
          "name": "stdout",
          "text": [
            "<class 'function'>\n"
          ]
        }
      ]
    },
    {
      "cell_type": "code",
      "source": [
        "# LLM에게 '__repr__'에 대한 상세한 예제를 만들어줘.\n",
        "\n",
        "'''\n",
        "__init__\n",
        "__repr__\n",
        "__str__\n",
        "__len__\n",
        "__iter__\n",
        "__next__\n",
        "__getitem__\n",
        "'''"
      ],
      "metadata": {
        "id": "yvl8v76LY-Dw"
      },
      "execution_count": null,
      "outputs": []
    },
    {
      "cell_type": "code",
      "source": [
        "class Counter:\n",
        "    def __init__(self):\n",
        "        self.count = 0\n",
        "\n",
        "    def __getitem__(self, key):\n",
        "        return key*10\n",
        "\n",
        "# 객체 생성\n",
        "counter = Counter()\n",
        "\n",
        "counter[5] # 출력: 50"
      ],
      "metadata": {
        "colab": {
          "base_uri": "https://localhost:8080/"
        },
        "id": "cwmVenT7ZXvY",
        "outputId": "e530f88e-d2fc-4d40-dc8d-cc03c2088a3b"
      },
      "execution_count": 69,
      "outputs": [
        {
          "output_type": "execute_result",
          "data": {
            "text/plain": [
              "50"
            ]
          },
          "metadata": {},
          "execution_count": 69
        }
      ]
    },
    {
      "cell_type": "code",
      "source": [
        "class Counter:\n",
        "    def __init__(self, data):\n",
        "        self.count = 0\n",
        "        self.data = data\n",
        "\n",
        "    def __getitem__(self, key):\n",
        "        return self.data[key]\n",
        "\n",
        "# 객체 생성\n",
        "counter = Counter([10, 20, 30, 40, 50])\n",
        "\n",
        "counter[2]"
      ],
      "metadata": {
        "colab": {
          "base_uri": "https://localhost:8080/"
        },
        "id": "BxrEEHvlZmfk",
        "outputId": "0e5beab8-51e1-48c2-9033-7887f8d83294"
      },
      "execution_count": 70,
      "outputs": [
        {
          "output_type": "execute_result",
          "data": {
            "text/plain": [
              "30"
            ]
          },
          "metadata": {},
          "execution_count": 70
        }
      ]
    },
    {
      "cell_type": "code",
      "source": [
        "class Counter:\n",
        "    def __init__(self, data):\n",
        "        self.count = 0\n",
        "        self.data = data\n",
        "\n",
        "    def __getitem__(self, key):\n",
        "        return self.data[key]\n",
        "\n",
        "# 객체 생성\n",
        "counter = Counter({'one':1, 'two':2})\n",
        "\n",
        "counter['one']"
      ],
      "metadata": {
        "colab": {
          "base_uri": "https://localhost:8080/"
        },
        "id": "nLX7pKCkZ3pN",
        "outputId": "e0260f0e-2279-4298-cf58-c574cdc64d33"
      },
      "execution_count": 71,
      "outputs": [
        {
          "output_type": "execute_result",
          "data": {
            "text/plain": [
              "1"
            ]
          },
          "metadata": {},
          "execution_count": 71
        }
      ]
    },
    {
      "cell_type": "markdown",
      "source": [
        "# 모듈\n",
        "\n",
        "* hello.py와 hellotwo.py를 생성했습니다.\n",
        "```py\n",
        "name = 'hojun'\n",
        "age = 10\n",
        "```"
      ],
      "metadata": {
        "id": "aonFxg1tbphc"
      }
    },
    {
      "cell_type": "code",
      "source": [
        "from hello import name, age\n",
        "\n",
        "# 모듈은 결국 .py파일입니다.\n",
        "\n",
        "print(name)\n",
        "print(age)"
      ],
      "metadata": {
        "colab": {
          "base_uri": "https://localhost:8080/"
        },
        "id": "a4sMpqDgajj_",
        "outputId": "ad477c8a-ef6b-4de0-d1d8-bd5a34dd3789"
      },
      "execution_count": 72,
      "outputs": [
        {
          "output_type": "stream",
          "name": "stdout",
          "text": [
            "hojun\n",
            "10\n"
          ]
        }
      ]
    },
    {
      "cell_type": "code",
      "source": [
        "from hello import name, age\n",
        "from hellotwo import name, age\n",
        "\n",
        "print(name)\n",
        "print(age) # 뒤에 파일을 가져옵니다."
      ],
      "metadata": {
        "colab": {
          "base_uri": "https://localhost:8080/"
        },
        "id": "yJqS1wtoa57C",
        "outputId": "42f0eb38-662b-427e-9043-74757603c078"
      },
      "execution_count": 73,
      "outputs": [
        {
          "output_type": "stream",
          "name": "stdout",
          "text": [
            "hi\n",
            "100\n"
          ]
        }
      ]
    },
    {
      "cell_type": "code",
      "source": [
        "import hello as h\n",
        "\n",
        "print(h.name)\n",
        "print(h.age)"
      ],
      "metadata": {
        "colab": {
          "base_uri": "https://localhost:8080/"
        },
        "id": "Cn9yw40pbQIh",
        "outputId": "d95787ec-e684-4652-ef30-99d0ffe54f98"
      },
      "execution_count": 75,
      "outputs": [
        {
          "output_type": "stream",
          "name": "stdout",
          "text": [
            "hojun\n",
            "10\n"
          ]
        }
      ]
    },
    {
      "cell_type": "markdown",
      "source": [
        "# 자주 사용하는 모듈"
      ],
      "metadata": {
        "id": "YgTgBD2KblA9"
      }
    },
    {
      "cell_type": "markdown",
      "source": [
        "## os"
      ],
      "metadata": {
        "id": "IvL-mDRc1K2p"
      }
    },
    {
      "cell_type": "code",
      "source": [
        "# os 모듈의 장단점\n",
        "# os 모듈이 Django에서 문제를 일으켜 settings.py에서 제거되었습니다.\n",
        "# os 모듈이 어떤 부분에서 문제를 일으키냐면\n",
        "# 개발환경 운영체제와 배포 운영체제가 같은 SW를 개발할 때에는 문제가 생기지 않습니다.\n",
        "# os 모듈을 사용해서 운영체제가 다른 것에 배포할 때 문제가 생기는 경우가 종종있습니다.\n",
        "# 그래서 나온 것이 pathlib이고 이 모듈의 Path를 사용합니다.\n",
        "# 실제 사용하는 코드는 아래와 같습니다.\n",
        "from pathlib import Path\n",
        "\n",
        "BASE_DIR = Path(__file__).resolve().parent.parent"
      ],
      "metadata": {
        "id": "eYW1tGvwbmlv"
      },
      "execution_count": null,
      "outputs": []
    },
    {
      "cell_type": "code",
      "source": [
        "# 폴더 생성, 파일 생성, 폴더 읽기, 파일 읽기 등에 사용\n",
        "import os\n",
        "\n",
        "os.mkdir('licat')"
      ],
      "metadata": {
        "colab": {
          "base_uri": "https://localhost:8080/",
          "height": 35
        },
        "id": "vVrgLs2NdF1i",
        "outputId": "50ed12b8-ab89-4913-d02e-563d6802f018"
      },
      "execution_count": 79,
      "outputs": [
        {
          "output_type": "execute_result",
          "data": {
            "text/plain": [
              "'/content'"
            ],
            "application/vnd.google.colaboratory.intrinsic+json": {
              "type": "string"
            }
          },
          "metadata": {},
          "execution_count": 79
        }
      ]
    },
    {
      "cell_type": "code",
      "source": [
        "os.getcwd()"
      ],
      "metadata": {
        "id": "E6BVgl7WdqJO"
      },
      "execution_count": null,
      "outputs": []
    },
    {
      "cell_type": "code",
      "source": [
        "!pwd"
      ],
      "metadata": {
        "colab": {
          "base_uri": "https://localhost:8080/"
        },
        "id": "_OdZSKLadrFD",
        "outputId": "a539c847-1aa0-4d38-8d71-2d6d4d08f892"
      },
      "execution_count": 80,
      "outputs": [
        {
          "output_type": "stream",
          "name": "stdout",
          "text": [
            "/content\n"
          ]
        }
      ]
    },
    {
      "cell_type": "code",
      "source": [
        "!mkdir hello"
      ],
      "metadata": {
        "id": "Wb-W8tfedtyM"
      },
      "execution_count": 81,
      "outputs": []
    },
    {
      "cell_type": "code",
      "source": [
        "# 프로젝트를 하는데 Notion으로 문서를 관리하고요. CSV로 데이터를 뽑았어요.\n",
        "# CSV로 뽑은 데이터를 가지고 폴더를 생성하고, 파일을 생성하고, 내용도 넣고 싶어요.\n",
        "# CSV 데이터는 아래와 같습니다.\n",
        "# 아래 파일을 data.csv로 만들어주세요. colab에서는 txt로 만든다음 이름바꾸기 해서 넣어주세요.\n",
        "'''\n",
        "프로젝트1, 회의록.txt, 프로젝트 1에 회의록입니다.\n",
        "프로젝트2, 보고서.txt, 프로젝트 2에 보고서입니다.\n",
        "프로젝트3, 일정.txt, 프로젝트 3에 일정입니다.\n",
        "'''"
      ],
      "metadata": {
        "id": "Q6I-BHgjvFZO"
      },
      "execution_count": null,
      "outputs": []
    },
    {
      "cell_type": "code",
      "source": [
        "with open('data.csv', 'r', encoding='utf-8') as f: # utf-8, cp949\n",
        "    data = f.read()\n",
        "\n",
        "data"
      ],
      "metadata": {
        "colab": {
          "base_uri": "https://localhost:8080/",
          "height": 53
        },
        "id": "24ImoFmvwnEZ",
        "outputId": "886e77ce-6a5f-4c0f-fc41-ed0fe0076d55"
      },
      "execution_count": 83,
      "outputs": [
        {
          "output_type": "execute_result",
          "data": {
            "text/plain": [
              "'프로젝트1, 회의록.txt, 프로젝트 1에 회의록입니다.\\n프로젝트2, 보고서.txt, 프로젝트 2에 보고서입니다.\\n프로젝트3, 일정.txt, 프로젝트 3에 일정입니다.'"
            ],
            "application/vnd.google.colaboratory.intrinsic+json": {
              "type": "string"
            }
          },
          "metadata": {},
          "execution_count": 83
        }
      ]
    },
    {
      "cell_type": "code",
      "source": [
        "import csv\n",
        "\n",
        "with open('data.csv', 'r', encoding='utf-8') as f: # utf-8, cp949\n",
        "    data = csv.reader(f)\n",
        "    data = list(data)\n",
        "\n",
        "data"
      ],
      "metadata": {
        "colab": {
          "base_uri": "https://localhost:8080/"
        },
        "id": "v0NjQ8yFxgwT",
        "outputId": "89788dca-329b-4658-a80e-26a8fd961eff"
      },
      "execution_count": 84,
      "outputs": [
        {
          "output_type": "execute_result",
          "data": {
            "text/plain": [
              "[['프로젝트1', ' 회의록.txt', ' 프로젝트 1에 회의록입니다.'],\n",
              " ['프로젝트2', ' 보고서.txt', ' 프로젝트 2에 보고서입니다.'],\n",
              " ['프로젝트3', ' 일정.txt', ' 프로젝트 3에 일정입니다.']]"
            ]
          },
          "metadata": {},
          "execution_count": 84
        }
      ]
    },
    {
      "cell_type": "code",
      "source": [
        "import csv\n",
        "\n",
        "with open('data.csv', 'r', encoding='utf-8') as f: # utf-8, cp949\n",
        "    data = csv.reader(f)\n",
        "    data = list(data)\n",
        "\n",
        "for i in data:\n",
        "    # 폴더 생성\n",
        "    if not os.path.exists(i[0]):\n",
        "        os.mkdir(i[0])\n",
        "    # 경로명 생성\n",
        "    path = os.path.join(i[0], i[1].strip())\n",
        "    # 파일 생성 및 내용 작성\n",
        "    with open(path, 'w', encoding='utf-8') as f:\n",
        "        f.write(i[2])"
      ],
      "metadata": {
        "id": "Q-WRXI7axsG4"
      },
      "execution_count": 86,
      "outputs": []
    },
    {
      "cell_type": "code",
      "source": [
        "os.path.join('hello', 'world')"
      ],
      "metadata": {
        "colab": {
          "base_uri": "https://localhost:8080/",
          "height": 35
        },
        "id": "oiLN5IteyLPU",
        "outputId": "c07734ce-46a8-4e6a-eac0-d4e0f1a73b36"
      },
      "execution_count": 85,
      "outputs": [
        {
          "output_type": "execute_result",
          "data": {
            "text/plain": [
              "'hello/world'"
            ],
            "application/vnd.google.colaboratory.intrinsic+json": {
              "type": "string"
            }
          },
          "metadata": {},
          "execution_count": 85
        }
      ]
    },
    {
      "cell_type": "code",
      "source": [
        "os.listdir()\n",
        "os.listdir()[5]\n",
        "os.path.isdir(os.listdir()[5])\n",
        "\n",
        "for i in os.listdir():\n",
        "    if os.path.isdir(i):\n",
        "        print(i)"
      ],
      "metadata": {
        "colab": {
          "base_uri": "https://localhost:8080/"
        },
        "id": "Fh8YSncO0RiQ",
        "outputId": "5cc75676-f09b-46d0-d072-46be06ffd7cf"
      },
      "execution_count": 93,
      "outputs": [
        {
          "output_type": "stream",
          "name": "stdout",
          "text": [
            ".config\n",
            ".ipynb_checkpoints\n",
            "licat\n",
            "hello\n",
            "프로젝트1\n",
            "프로젝트2\n",
            "__pycache__\n",
            "sample_data\n"
          ]
        }
      ]
    },
    {
      "cell_type": "markdown",
      "source": [
        "## pathlib"
      ],
      "metadata": {
        "id": "BT87PU0x1N8t"
      }
    },
    {
      "cell_type": "code",
      "source": [
        "from pathlib import Path as p\n",
        "\n",
        "p.cwd() # 현재 경로 확인\n",
        "pwd = p.cwd()\n",
        "pwd / 'hello' / 'world' # /로 경로 결합\n",
        "\n",
        "dire = pwd / 'hello100' / 'world100' / 'hello200'\n",
        "dire.mkdir(parents=True, exist_ok=True) # 부모까지 폴더 생성\n",
        "# parents 옵션을 제거하면 폴더 하나밖에 생성이 안됩니다.\n",
        "\n",
        "for i in pwd.iterdir():\n",
        "    print(i)"
      ],
      "metadata": {
        "colab": {
          "base_uri": "https://localhost:8080/"
        },
        "id": "o-JTzB8E1G5x",
        "outputId": "79708d45-7e2f-4ea5-a57b-67106e00222d"
      },
      "execution_count": 99,
      "outputs": [
        {
          "output_type": "stream",
          "name": "stdout",
          "text": [
            "/content/.config\n",
            "/content/hellotwo.py\n",
            "/content/.ipynb_checkpoints\n",
            "/content/hello1\n",
            "/content/licat\n",
            "/content/hello.py\n",
            "/content/hello\n",
            "/content/프로젝트1\n",
            "/content/프로젝트2\n",
            "/content/hello100\n",
            "/content/__pycache__\n",
            "/content/data.csv\n",
            "/content/sample_data\n"
          ]
        }
      ]
    },
    {
      "cell_type": "code",
      "source": [
        "from pathlib import Path as p\n",
        "\n",
        "pwd = p.cwd()\n",
        "dire = pwd / 'hello100' / 'world100' / 'hello200'\n",
        "\n",
        "dire.parent\n",
        "dire.parent.parent"
      ],
      "metadata": {
        "colab": {
          "base_uri": "https://localhost:8080/"
        },
        "id": "HFUQQFza2gRP",
        "outputId": "36b69229-c5fe-4277-9695-a857d972f89c"
      },
      "execution_count": 103,
      "outputs": [
        {
          "output_type": "execute_result",
          "data": {
            "text/plain": [
              "PosixPath('/content/hello100/world100/hello200')"
            ]
          },
          "metadata": {},
          "execution_count": 103
        }
      ]
    },
    {
      "cell_type": "markdown",
      "source": [
        "## datetime"
      ],
      "metadata": {
        "id": "E4729lsP3flT"
      }
    },
    {
      "cell_type": "code",
      "source": [
        "# Django에서도 사용되는 코드입니다!\n",
        "\n",
        "# 1. 현재 시간\n",
        "# 2. 시간 연산(현재시간에 + 100일)\n",
        "# 3. 텍스트를 datetime 객체로 변환"
      ],
      "metadata": {
        "id": "YcHfkD0R38DS"
      },
      "execution_count": null,
      "outputs": []
    },
    {
      "cell_type": "code",
      "source": [
        "from datetime import datetime\n",
        "\n",
        "datetime.now()"
      ],
      "metadata": {
        "colab": {
          "base_uri": "https://localhost:8080/"
        },
        "id": "Ux9fx-ey3fI-",
        "outputId": "d870c82e-b4d5-4d81-f1b3-6dc255899118"
      },
      "execution_count": 104,
      "outputs": [
        {
          "output_type": "execute_result",
          "data": {
            "text/plain": [
              "datetime.datetime(2024, 12, 10, 4, 40, 24, 880955)"
            ]
          },
          "metadata": {},
          "execution_count": 104
        }
      ]
    },
    {
      "cell_type": "code",
      "source": [
        "from datetime import datetime\n",
        "\n",
        "date = datetime.now()\n",
        "print(date.year)\n",
        "print(date.month)\n",
        "print(date.day)\n",
        "print(date.hour)\n",
        "print(date.minute)\n",
        "print(date.second)"
      ],
      "metadata": {
        "colab": {
          "base_uri": "https://localhost:8080/"
        },
        "id": "7Jh2APSG3oXC",
        "outputId": "f289f0c9-e398-407c-d7b5-b5911563382c"
      },
      "execution_count": 105,
      "outputs": [
        {
          "output_type": "stream",
          "name": "stdout",
          "text": [
            "2024\n",
            "12\n",
            "10\n",
            "4\n",
            "40\n",
            "59\n"
          ]
        }
      ]
    },
    {
      "cell_type": "code",
      "source": [
        "import datetime\n",
        "\n",
        "date = datetime.datetime(2024, 12, 10, 13, 47)\n",
        "date.year\n",
        "\n",
        "plus = datetime.timedelta(days=100)\n",
        "plus"
      ],
      "metadata": {
        "colab": {
          "base_uri": "https://localhost:8080/"
        },
        "id": "JZA2Oq715FEv",
        "outputId": "240b9ef8-a783-475c-8557-38c166e81dfb"
      },
      "execution_count": 112,
      "outputs": [
        {
          "output_type": "execute_result",
          "data": {
            "text/plain": [
              "datetime.timedelta(days=100)"
            ]
          },
          "metadata": {},
          "execution_count": 112
        }
      ]
    },
    {
      "cell_type": "code",
      "source": [
        "date + plus"
      ],
      "metadata": {
        "colab": {
          "base_uri": "https://localhost:8080/"
        },
        "id": "BKcMgAwR8VpK",
        "outputId": "7fbfc75e-fe17-4fe6-de97-6766e3953a75"
      },
      "execution_count": 113,
      "outputs": [
        {
          "output_type": "execute_result",
          "data": {
            "text/plain": [
              "datetime.datetime(2025, 3, 20, 13, 47)"
            ]
          },
          "metadata": {},
          "execution_count": 113
        }
      ]
    },
    {
      "cell_type": "code",
      "source": [
        "# '2024-12-10' => datetime 객체로 변환\n",
        "\n",
        "from datetime import datetime\n",
        "\n",
        "date = '2024-12-10'\n",
        "date = datetime.strptime(date, '%Y-%m-%d')\n",
        "date"
      ],
      "metadata": {
        "colab": {
          "base_uri": "https://localhost:8080/"
        },
        "id": "qTckWvgS8X-N",
        "outputId": "0714b856-3e28-4204-e0e6-04aad1dd3a50"
      },
      "execution_count": 114,
      "outputs": [
        {
          "output_type": "execute_result",
          "data": {
            "text/plain": [
              "datetime.datetime(2024, 12, 10, 0, 0)"
            ]
          },
          "metadata": {},
          "execution_count": 114
        }
      ]
    },
    {
      "cell_type": "code",
      "source": [
        "date = '10/12/2024' # 연/일/월\n",
        "date = datetime.strptime(date, '%d/%m/%Y')\n",
        "date"
      ],
      "metadata": {
        "colab": {
          "base_uri": "https://localhost:8080/"
        },
        "id": "cfIBrQj89JI9",
        "outputId": "9fae65eb-9b9e-4cb4-c3bb-9de24650dc82"
      },
      "execution_count": 115,
      "outputs": [
        {
          "output_type": "execute_result",
          "data": {
            "text/plain": [
              "datetime.datetime(2024, 12, 10, 0, 0)"
            ]
          },
          "metadata": {},
          "execution_count": 115
        }
      ]
    },
    {
      "cell_type": "code",
      "source": [
        "# https://docs.python.org/ko/3.8/library/datetime.html#strftime-and-strptime-format-codes"
      ],
      "metadata": {
        "id": "d7uQSLo5974j"
      },
      "execution_count": null,
      "outputs": []
    },
    {
      "cell_type": "markdown",
      "source": [
        "## JSON\n",
        "\n",
        "* JavaScript의 'object'라는 자료형 => 이 양식을 통신에서 사용하자!\n",
        "* 딕셔너리 또는 리스트 안에 딕셔너리의 형태를 가지고 있습니다.\n",
        "* 생각보다 JSON은 엄격하게 관리됩니다. 가끔 그래서 홑따옴표 사용하는게 Error가 날 때도 있습니다."
      ],
      "metadata": {
        "id": "jiRDzzcT-YQt"
      }
    },
    {
      "cell_type": "code",
      "source": [
        "data = '''\n",
        "[\n",
        "{\n",
        "\"_id\": \"16118968-7332-4d5d-B815-1741bc01d43c\",\n",
        "\"index\": \"1\",\n",
        "\"thumbnail\": \"asset/blogs/1.webp\",\n",
        "\"title\": \"Lorem ipsum dolor sit amet, consectetur adipiscing elit, sed do eiusmod tempor incididunt\",\n",
        "\"content\": \"Lorem ipsum dolor sit amet, consectetur adipiscing elit, sed do eiusmod tempor incididunt ut labore et dolore magna aliqua. Ut enim ad minim veniam, quis nostrud exercitation ullamco laboris nisi ut aliquip ex ea commodo consequat. Duis aute irure dolor in reprehenderit in voluptate velit esse cillum dolore eu fugiat nulla pariatur. Excepteur sint occaecat cupidatat non proident, sunt in culpa qui officia deserunt mollit anim id est laborum.\",\n",
        "\"email\": \"user-ww0qnop@Eu.com\",\n",
        "\"author\": \"licat\",\n",
        "\"views_count\": \"10527\",\n",
        "\"time\": \"19:54:55\",\n",
        "\"date\": \"2024-02-01\"\n",
        "},\n",
        "{\n",
        "\"_id\": \"829b151c-fa81-4b14-B389-32c77b18b21b\",\n",
        "\"index\": \"2\",\n",
        "\"thumbnail\": \"asset/blogs/2.webp\",\n",
        "\"title\": \"consectetur adipiscing elit, sed do eiusmod tempor incididunt\",\n",
        "\"content\": \"Duis aute irure dolor in reprehenderit in voluptate velit esse cillum dolore eu fugiat nulla pariatur. Excepteur sint occaecat cupidatat non proident, sunt in culpa qui officia deserunt mollit anim id est laborum. Duis aute irure dolor in reprehenderit in voluptate velit esse cillum dolore eu fugiat nulla pariatur. Excepteur sint occaecat cupidatat non proident, sunt in culpa qui officia deserunt mollit anim id est laborum.\",\n",
        "\"email\": \"user-tu8b2y7@sollicitudin.net\",\n",
        "\"author\": \"gary\",\n",
        "\"views_count\": \"39231\",\n",
        "\"time\": \"20:46:34\",\n",
        "\"date\": \"2024-04-29\"\n",
        "},\n",
        "{\n",
        "\"_id\": \"6041712a-9978-42e4-B08a-dd26b7831539\",\n",
        "\"index\": \"3\",\n",
        "\"thumbnail\": \"asset/blogs/3.webp\",\n",
        "\"title\": \"sed do eiusmod tempor incididunt\",\n",
        "\"content\": \"sed do eiusmod tempor incididunt ut labore et dolore magna aliqua. Ut enim ad minim veniam. quis nostrud exercitation ullamco laboris nisi ut aliquip ex ea commodo consequat. Duis aute irure dolor in reprehenderit in voluptate velit esse cillum dolore eu fugiat nulla pariatur. Excepteur sint occaecat cupidatat non proident. sunt in culpa qui officia deserunt mollit anim id est laborum.\",\n",
        "\"email\": \"user-pj3kxn2@Proin.com\",\n",
        "\"author\": \"hati\",\n",
        "\"views_count\": \"11528\",\n",
        "\"time\": \"05:02:41\",\n",
        "\"date\": \"2024-07-19\"\n",
        "},\n",
        "{\n",
        "\"_id\": \"b4170277-1d32-4189-A59e-358e325f2863\",\n",
        "\"index\": \"4\",\n",
        "\"thumbnail\": \"asset/blogs/4.webp\",\n",
        "\"title\": \"Lorem ipsum dolor\",\n",
        "\"content\": \"Lorem ipsum dolor sit amet, consectetur adipiscing elit, sed do eiusmod tempor incididunt ut labore et dolore magna aliqua. Ut enim ad minim veniam, quis nostrud exercitation ullamco laboris nisi ut aliquip ex ea commodo consequat. Duis aute irure dolor in reprehenderit in voluptate velit esse cillum dolore eu fugiat nulla pariatur. Excepteur sint occaecat cupidatat non proident, sunt in culpa qui officia deserunt mollit anim id est laborum.\",\n",
        "\"email\": \"user-trd2ao1@facilisi.biz\",\n",
        "\"author\": \"izzy\",\n",
        "\"views_count\": \"8906\",\n",
        "\"time\": \"01:23:21\",\n",
        "\"date\": \"2024-12-18\"\n",
        "},\n",
        "{\n",
        "\"_id\": \"842973be-f584-48db-A71f-15a6ac0f41b2\",\n",
        "\"index\": \"5\",\n",
        "\"thumbnail\": \"asset/blogs/5.webp\",\n",
        "\"title\": \"exercitation ullamco laboris nisi ut aliquip ex ea commodo consequat\",\n",
        "\"content\": \"Ut enim ad minim veniam, quis nostrud exercitation ullamco laboris nisi ut aliquip ex ea commodo consequat. Duis aute irure dolor in reprehenderit in voluptate velit esse cillum dolore eu fugiat nulla pariatur. Excepteur sint occaecat cupidatat non proident, sunt in culpa qui officia deserunt mollit anim id est laborum. Ut enim ad minim veniam, quis nostrud exercitation ullamco laboris nisi ut aliquip ex ea commodo consequat. Duis aute irure dolor in reprehenderit in voluptate velit esse cillum dolore eu fugiat nulla pariatur. Excepteur sint occaecat cupidatat non proident, sunt in culpa qui officia deserunt mollit anim id est laborum.\",\n",
        "\"email\": \"user-xfvwfns@dictum.biz\",\n",
        "\"author\": \"max\",\n",
        "\"views_count\": \"38331\",\n",
        "\"time\": \"12:22:57\",\n",
        "\"date\": \"2024-01-07\"\n",
        "}\n",
        "]\n",
        "'''"
      ],
      "metadata": {
        "id": "iXFw2v78-7Cp"
      },
      "execution_count": 117,
      "outputs": []
    },
    {
      "cell_type": "code",
      "source": [
        "import json\n",
        "\n",
        "l = json.loads(data)\n",
        "l\n",
        "json.dumps(l)\n",
        "\n",
        "# loads와 dumps가 json에서만 사용되는 것이 아니라 DB 쪽에서도 많이 사용됩니다.\n",
        "# django에서도 db 싹 긁어서 텍스트로 만들때 dump 사용합니다."
      ],
      "metadata": {
        "colab": {
          "base_uri": "https://localhost:8080/",
          "height": 217
        },
        "id": "t_EeOJ8o-MUl",
        "outputId": "f2b42192-991c-4550-8e24-54dcec9fa0a5"
      },
      "execution_count": 122,
      "outputs": [
        {
          "output_type": "execute_result",
          "data": {
            "text/plain": [
              "'[{\"_id\": \"16118968-7332-4d5d-B815-1741bc01d43c\", \"index\": \"1\", \"thumbnail\": \"asset/blogs/1.webp\", \"title\": \"Lorem ipsum dolor sit amet, consectetur adipiscing elit, sed do eiusmod tempor incididunt\", \"content\": \"Lorem ipsum dolor sit amet, consectetur adipiscing elit, sed do eiusmod tempor incididunt ut labore et dolore magna aliqua. Ut enim ad minim veniam, quis nostrud exercitation ullamco laboris nisi ut aliquip ex ea commodo consequat. Duis aute irure dolor in reprehenderit in voluptate velit esse cillum dolore eu fugiat nulla pariatur. Excepteur sint occaecat cupidatat non proident, sunt in culpa qui officia deserunt mollit anim id est laborum.\", \"email\": \"user-ww0qnop@Eu.com\", \"author\": \"licat\", \"views_count\": \"10527\", \"time\": \"19:54:55\", \"date\": \"2024-02-01\"}, {\"_id\": \"829b151c-fa81-4b14-B389-32c77b18b21b\", \"index\": \"2\", \"thumbnail\": \"asset/blogs/2.webp\", \"title\": \"consectetur adipiscing elit, sed do eiusmod tempor incididunt\", \"content\": \"Duis aute irure dolor in reprehenderit in voluptate velit esse cillum dolore eu fugiat nulla pariatur. Excepteur sint occaecat cupidatat non proident, sunt in culpa qui officia deserunt mollit anim id est laborum. Duis aute irure dolor in reprehenderit in voluptate velit esse cillum dolore eu fugiat nulla pariatur. Excepteur sint occaecat cupidatat non proident, sunt in culpa qui officia deserunt mollit anim id est laborum.\", \"email\": \"user-tu8b2y7@sollicitudin.net\", \"author\": \"gary\", \"views_count\": \"39231\", \"time\": \"20:46:34\", \"date\": \"2024-04-29\"}, {\"_id\": \"6041712a-9978-42e4-B08a-dd26b7831539\", \"index\": \"3\", \"thumbnail\": \"asset/blogs/3.webp\", \"title\": \"sed do eiusmod tempor incididunt\", \"content\": \"sed do eiusmod tempor incididunt ut labore et dolore magna aliqua. Ut enim ad minim veniam. quis nostrud exercitation ullamco laboris nisi ut aliquip ex ea commodo consequat. Duis aute irure dolor in reprehenderit in voluptate velit esse cillum dolore eu fugiat nulla pariatur. Excepteur sint occaecat cupidatat non proident. sunt in culpa qui officia deserunt mollit anim id est laborum.\", \"email\": \"user-pj3kxn2@Proin.com\", \"author\": \"hati\", \"views_count\": \"11528\", \"time\": \"05:02:41\", \"date\": \"2024-07-19\"}, {\"_id\": \"b4170277-1d32-4189-A59e-358e325f2863\", \"index\": \"4\", \"thumbnail\": \"asset/blogs/4.webp\", \"title\": \"Lorem ipsum dolor\", \"content\": \"Lorem ipsum dolor sit amet, consectetur adipiscing elit, sed do eiusmod tempor incididunt ut labore et dolore magna aliqua. Ut enim ad minim veniam, quis nostrud exercitation ullamco laboris nisi ut aliquip ex ea commodo consequat. Duis aute irure dolor in reprehenderit in voluptate velit esse cillum dolore eu fugiat nulla pariatur. Excepteur sint occaecat cupidatat non proident, sunt in culpa qui officia deserunt mollit anim id est laborum.\", \"email\": \"user-trd2ao1@facilisi.biz\", \"author\": \"izzy\", \"views_count\": \"8906\", \"time\": \"01:23:21\", \"date\": \"2024-12-18\"}, {\"_id\": \"842973be-f584-48db-A71f-15a6ac0f41b2\", \"index\": \"5\", \"thumbnail\": \"asset/blogs/5.webp\", \"title\": \"exercitation ullamco laboris nisi ut aliquip ex ea commodo consequat\", \"content\": \"Ut enim ad minim veniam, quis nostrud exercitation ullamco laboris nisi ut aliquip ex ea commodo consequat. Duis aute irure dolor in reprehenderit in voluptate velit esse cillum dolore eu fugiat nulla pariatur. Excepteur sint occaecat cupidatat non proident, sunt in culpa qui officia deserunt mollit anim id est laborum. Ut enim ad minim veniam, quis nostrud exercitation ullamco laboris nisi ut aliquip ex ea commodo consequat. Duis aute irure dolor in reprehenderit in voluptate velit esse cillum dolore eu fugiat nulla pariatur. Excepteur sint occaecat cupidatat non proident, sunt in culpa qui officia deserunt mollit anim id est laborum.\", \"email\": \"user-xfvwfns@dictum.biz\", \"author\": \"max\", \"views_count\": \"38331\", \"time\": \"12:22:57\", \"date\": \"2024-01-07\"}]'"
            ],
            "application/vnd.google.colaboratory.intrinsic+json": {
              "type": "string"
            }
          },
          "metadata": {},
          "execution_count": 122
        }
      ]
    },
    {
      "cell_type": "markdown",
      "source": [
        "## collections"
      ],
      "metadata": {
        "id": "Hcth2u-PBI5Q"
      }
    },
    {
      "cell_type": "code",
      "source": [
        "import collections\n",
        "\n",
        "dir(collections)\n",
        "# Counter\n",
        "# deque"
      ],
      "metadata": {
        "colab": {
          "base_uri": "https://localhost:8080/"
        },
        "id": "Wrcd-wl0A4hI",
        "outputId": "584b2d74-88ce-4ffd-d7c9-27fa3b8caaeb"
      },
      "execution_count": 125,
      "outputs": [
        {
          "output_type": "execute_result",
          "data": {
            "text/plain": [
              "['ChainMap',\n",
              " 'Counter',\n",
              " 'OrderedDict',\n",
              " 'UserDict',\n",
              " 'UserList',\n",
              " 'UserString',\n",
              " '_Link',\n",
              " '_OrderedDictItemsView',\n",
              " '_OrderedDictKeysView',\n",
              " '_OrderedDictValuesView',\n",
              " '__all__',\n",
              " '__builtins__',\n",
              " '__cached__',\n",
              " '__doc__',\n",
              " '__file__',\n",
              " '__loader__',\n",
              " '__name__',\n",
              " '__package__',\n",
              " '__path__',\n",
              " '__spec__',\n",
              " '_chain',\n",
              " '_collections_abc',\n",
              " '_count_elements',\n",
              " '_eq',\n",
              " '_iskeyword',\n",
              " '_itemgetter',\n",
              " '_proxy',\n",
              " '_recursive_repr',\n",
              " '_repeat',\n",
              " '_starmap',\n",
              " '_sys',\n",
              " '_tuplegetter',\n",
              " 'abc',\n",
              " 'defaultdict',\n",
              " 'deque',\n",
              " 'namedtuple']"
            ]
          },
          "metadata": {},
          "execution_count": 125
        }
      ]
    },
    {
      "cell_type": "code",
      "source": [
        "data = collections.Counter('aaabbc')\n",
        "data['a']\n",
        "data.most_common()"
      ],
      "metadata": {
        "colab": {
          "base_uri": "https://localhost:8080/"
        },
        "id": "gu2jhZ6PBo7V",
        "outputId": "520447dc-0f1f-4e24-cddf-1b51f2c98b12"
      },
      "execution_count": 133,
      "outputs": [
        {
          "output_type": "execute_result",
          "data": {
            "text/plain": [
              "[('a', 3), ('b', 2), ('c', 1)]"
            ]
          },
          "metadata": {},
          "execution_count": 133
        }
      ]
    },
    {
      "cell_type": "code",
      "source": [
        "de = collections.deque([1, 2, 3, 4, 5], maxlen=5)\n",
        "de.append(6)\n",
        "de.append(7)\n",
        "de"
      ],
      "metadata": {
        "colab": {
          "base_uri": "https://localhost:8080/"
        },
        "id": "1YxhDt9zCGuo",
        "outputId": "87901692-e1ce-4010-8cc6-69c48442e055"
      },
      "execution_count": 134,
      "outputs": [
        {
          "output_type": "execute_result",
          "data": {
            "text/plain": [
              "deque([3, 4, 5, 6, 7])"
            ]
          },
          "metadata": {},
          "execution_count": 134
        }
      ]
    },
    {
      "cell_type": "code",
      "source": [
        "# 회전초밥 문제, 방송국 아나운서... 등에 코딩 테스트 문제\n",
        "de = collections.deque([1, 2, 3, 4, 5], maxlen=5)\n",
        "de.rotate(2)\n",
        "de"
      ],
      "metadata": {
        "colab": {
          "base_uri": "https://localhost:8080/"
        },
        "id": "wjbw71zoCXyS",
        "outputId": "c1411218-cd5c-41bf-f172-6e8fbf081966"
      },
      "execution_count": 137,
      "outputs": [
        {
          "output_type": "execute_result",
          "data": {
            "text/plain": [
              "deque([4, 5, 1, 2, 3])"
            ]
          },
          "metadata": {},
          "execution_count": 137
        }
      ]
    },
    {
      "cell_type": "markdown",
      "source": [
        "## itertools"
      ],
      "metadata": {
        "id": "XIaPMRbXDCjU"
      }
    },
    {
      "cell_type": "code",
      "source": [
        "## 순열과 조합\n",
        "import itertools\n",
        "\n",
        "arr = ['A', 'B', 'C']\n",
        "nPr = itertools.permutations(arr, 2)\n",
        "print(list(nPr))\n",
        "\n",
        "nCr = itertools.combinations(arr, 2)\n",
        "print(list(nCr))"
      ],
      "metadata": {
        "colab": {
          "base_uri": "https://localhost:8080/"
        },
        "id": "aqXA5_jYCrdX",
        "outputId": "8671c2c5-1cbf-467d-bb31-c25e6a28eadf"
      },
      "execution_count": 139,
      "outputs": [
        {
          "output_type": "stream",
          "name": "stdout",
          "text": [
            "[('A', 'B'), ('A', 'C'), ('B', 'A'), ('B', 'C'), ('C', 'A'), ('C', 'B')]\n",
            "[('A', 'B'), ('A', 'C'), ('B', 'C')]\n"
          ]
        }
      ]
    },
    {
      "cell_type": "markdown",
      "source": [
        "# 웹 요청 관련 모듈"
      ],
      "metadata": {
        "id": "0gQ3P25SDdFq"
      }
    },
    {
      "cell_type": "code",
      "source": [
        "# requests와 bs4는 보통 같이 갑니다.\n",
        "# requests는 요청을 만들어내는 모듈입니다.\n",
        "# bs4는 쉽게 말하면 똑똑하게 split을 해주는 모듈입니다.(파싱한다 얘기합니다.)\n",
        "\n",
        "# 예를 들어, 하나의 페이지에 아래와 같이 requests 1000번 보낼 수 있습니다.\n",
        "\n",
        "import requests\n",
        "\n",
        "# for i in range(1000): # 이렇게 하시면 안됩니다. 공격이에요.\n",
        "paullab_url = 'https://paullab.co.kr/bookservice/'\n",
        "response = requests.get(paullab_url)\n",
        "response.encoding = 'utf-8'\n",
        "response.text"
      ],
      "metadata": {
        "colab": {
          "base_uri": "https://localhost:8080/",
          "height": 217
        },
        "id": "RJmVKRUgDVeL",
        "outputId": "d17579fe-e9e8-4ee2-c16e-78a87c83e7d1"
      },
      "execution_count": 140,
      "outputs": [
        {
          "output_type": "execute_result",
          "data": {
            "text/plain": [
              "'<!DOCTYPE html>\\n<html lang=\"ko\">\\n\\n<head>\\n    <meta charset=\"utf-8\">\\n    <meta http-equiv=\"X-UA-Compatible\" content=\"IE=edge\">\\n    <meta name=\"viewport\" content=\"width=device-width, initial-scale=1\">\\n    <meta name=\"description\" content=\"\">\\n    <meta name=\"author\" content=\"\">\\n\\n    <title>BookService</title>\\n\\n    <!-- Bootstrap Core CSS -->\\n    <link href=\"css/bootstrap.min.css\" rel=\"stylesheet\">\\n\\n    <!-- Custom CSS -->\\n    <link href=\"css/clean-blog.min.css\" rel=\"stylesheet\">\\n\\n    <!-- Custom Fonts -->\\n    <link href=\"http://maxcdn.bootstrapcdn.com/font-awesome/4.1.0/css/font-awesome.min.css\" rel=\"stylesheet\" type=\"text/css\">\\n    <link href=\\'http://fonts.googleapis.com/css?family=Lora:400,700,400italic,700italic\\' rel=\\'stylesheet\\' type=\\'text/css\\'>\\n    <link href=\\'http://fonts.googleapis.com/css?family=Open+Sans:300italic,400italic,600italic,700italic,800italic,400,300,600,700,800\\' rel=\\'stylesheet\\' type=\\'text/css\\'>\\n\\n    <!-- favicon -->\\n    <link rel=\"shortcut icon\" href=\"../favicon.ico\">\\n\\n    <!-- HTML5 Shim and Respond.js IE8 support of HTML5 elements and media queries -->\\n    <!-- WARNING: Respond.js doesn\\'t work if you view the page via file:// -->\\n    <!--[if lt IE 9]>\\n        <script src=\"https://oss.maxcdn.com/libs/html5shiv/3.7.0/html5shiv.js\"></script>\\n        <script src=\"https://oss.maxcdn.com/libs/respond.js/1.4.2/respond.min.js\"></script>\\n    <![endif]-->\\n\\n\\n\\t\\t<style>\\n\\t\\t.some-class-name.navbar-custom .dropdown-menu  li a {\\n\\t\\t  color:#888686;\\n\\t\\t}\\n\\n\\t\\t.some-class-name.navbar-custom .dropdown-menu  li a:hover,\\n\\t\\t.some-class-name.navbar-custom .dropdown-menu  li a:focus,\\n\\t\\t.some-class-name.navbar-custom .dropdown-menu  li a:active,\\n\\t\\t.some-class-name.navbar-custom .dropdown-menu  li a.active {\\n\\t\\t  color:#fff;\\n\\t\\t}\\n\\n\\t\\t.profile {\\n\\t\\t\\ttext-align: center;\\n\\t\\t\\tfont-family: \\'Lora\\';\\n\\t\\t\\tmargin-bottom: 20px;\\n\\t\\t}\\n\\n\\t\\t.profile img {\\n\\t\\t\\tpadding: 10px;\\n\\t\\t}\\n\\n\\t\\t.profile #borderneeded {\\n\\t\\t\\tborder-top: 2px solid black;\\n\\t\\t}\\n\\n\\t\\t.profile-container {\\n\\t\\t\\tmargin-top: 130px;\\n\\t\\t}\\n\\n    .home:hover {\\n      color: #ffffff;\\n      text-decoration: none;\\n    }\\n    .navbar-brand img {\\n        margin-top: -10px;\\n        width: 40px;\\n    }\\n\\n    .footer_logo {\\n        width: 100px;\\n    }\\n\\n\\t  </style>\\n</head>\\n\\n<body>\\n\\n    <!-- Navigation -->\\n    <nav class=\"navbar navbar-default some-class-name navbar-custom navbar-fixed-top\">\\n        <div class=\"container-fluid\">\\n            <!-- Brand and toggle get grouped for better mobile display -->\\n            <div class=\"navbar-header page-scroll\">\\n                <button type=\"button\" class=\"navbar-toggle\" data-toggle=\"collapse\" data-target=\"#bs-example-navbar-collapse-1\">\\n                    <span class=\"sr-only\">Toggle navigation</span>\\n                    <span class=\"icon-bar\"></span>\\n                    <span class=\"icon-bar\"></span>\\n                    <span class=\"icon-bar\"></span>\\n                </button>\\n                <a class=\"navbar-brand\" href=\"https://www.paullab.co.kr\">\\n                  <img src=\"img/logo_weniv.png\" width=\"50px\" align=\"left\" style=\"cursor: pointer;\"/>\\n                </a>\\n            </div>\\n\\n            <!-- Collect the nav links, forms, and other content for toggling -->\\n            <div class=\"collapse navbar-collapse\" id=\"bs-example-navbar-collapse-1\">\\n                <ul class=\"nav navbar-nav navbar-right\">\\n                    <li>\\n                        <a href=\"index.html\"> Home </a>\\n                    </li>\\n                    <li>\\n                        <!-- <a href=\"about.html\"> About </a> -->\\n                        <a href=\"https://www.paullab.co.kr/about.html\"> About </a>\\n                    </li>\\n                    <li> \\n                        <!-- <a href=\"roadmap.html\"> Roadmap </a> -->\\n                        <a href=\"https://www.paullab.co.kr/curriculum.html\"> Roadmap </a>\\n                    </li>\\n          \\t\\t\\t\\t\\t<li class=\"dropdown\">\\n                          <a href=\"#\" class=\"dropdown-toggle\" data-toggle=\"dropdown\">Book<b class=\"caret\"></b></a>\\n                          <ul class=\"dropdown-menu\">\\n\\t\\t\\t\\t\\t\\t                  <li>\\n                                  <a href=\"https://ridibooks.com/books/2773000047\">&nbsp;메모혁신 Notion(노션) 활용 가이드</a>\\n                              </li>\\n                              <li>\\n                                  <a href=\"https://ridibooks.com/v2/Detail?id=2773000025\">&nbsp;제주코딩베이스캠프 코드페스티벌 Python 100제 1부</a>\\n                              </li>\\n                              <li>\\n                                  <a href=\"https://ridibooks.com/v2/Detail?id=2773000005\">&nbsp;튜토리얼로 배우는 HTML&CSS</a>\\n                              </li>\\n                              <li>\\n                                  <a href=\"https://ridibooks.com/v2/Detail?id=2773000007\">&nbsp;코딩도장 튜토리얼로 배우는 Python 1편</a>\\n                              </li>\\n              \\t\\t\\t\\t\\t\\t\\t  <li>\\n                                  <a href=\"https://ridibooks.com/v2/Detail?id=2773000008\">&nbsp;코딩도장 튜토리얼로 배우는 Python 2편</a>\\n                              </li>\\n              \\t\\t\\t\\t\\t\\t\\t  <li>\\n                                  <a href=\"https://ridibooks.com/v2/Detail?id=2773000011\">&nbsp;코딩도장 튜토리얼로 배우는 Python 문제풀이</a>\\n                              </li>\\n              \\t\\t\\t\\t\\t\\t\\t  <li>\\n                                  <a href=\"https://ridibooks.com/v2/Detail?id=2773000015\">&nbsp;타노스의 건틀릿 알고리즘 With Python</a>\\n                              </li>\\n              \\t\\t\\t\\t\\t\\t\\t  <li>\\n                                  <a href=\"https://ridibooks.com/v2/Detail?id=2773000020\">&nbsp;xlsxwriter 튜토리얼로 배우는 Python 엑셀 프로그래밍</a>\\n                              </li>\\n              \\t\\t\\t\\t\\t\\t\\t  <li>\\n                                  <a href=\"https://ridibooks.com/v2/Detail?id=2773000022\">&nbsp;인공지능을 활용한 업무자동화 With Google Developers Group JEJU</a>\\n                              </li>\\n              \\t\\t\\t\\t\\t\\t\\t  <li>\\n                                  <a href=\"https://ridibooks.com/v2/Detail?id=2773000002\">&nbsp;2017 제주 코딩 해커톤 Django 트랙 상편 1권</a>\\n                              </li>\\n                          </ul>\\n                    </li>\\n                </ul>\\n            </div>\\n            <!-- /.navbar-collapse -->\\n        </div>\\n        <!-- /.container -->\\n    </nav>\\n\\n    <!-- Page Header -->\\n    <!-- Set your background image for this header on the line below. -->\\n    <header class=\"intro-header\" style=\"background-image: url(\\'img/home.jpg\\')\">\\n        <div class=\"container\">\\n            <div class=\"row\">\\n                <div class=\"col-lg-8 col-lg-offset-2 col-md-10 col-md-offset-1\">\\n                    <div class=\"site-heading\">\\n                      <a href=\"index.html\" style=\"color: #ffffff;\" class=\"home\">\\n                        <h3>WENIV Books</h3>\\n                      </a>\\n                    </div>\\n                </div>\\n            </div>\\n        </div>\\n    </header>\\n\\n\\t  <!-- Main Content -->\\n    <div class=\"container\">\\n        <div class=\"row\">\\n            <div class=\"col-lg-8 col-lg-offset-2 col-md-10 col-md-offset-1\">\\n                <h3>Home</h3>\\n                <img src=\"img/sdot.jpg\" style=\"width: 80px; height: 40px;\"/>\\n                <p>해당 페이지는 크롤링 연습용으로도 제공되고 있습니다. 책 목록이 업데이트 되어있는 페이지는 아닙니다. 모든 책 목록은 <a href=\"https://ridibooks.com/search?q=%EC%82%AC%EB%8F%84%EC%B6%9C%ED%8C%90\">책 목록</a>에서 확인해주세요.</p>\\n            </div>\\n        </div>\\n    </div>\\n\\n    <!-- Main Content1 -->\\n    <div class=\"container book_contents\">\\n        <div class=\"row\" style=\"margin-bottom: 50px;\">\\n            <div class=\"col-lg-2 col-lg-offset-2 col-md-2 col-md-offset-1\">\\n\\t\\t\\t\\t<a href=\"https://ridibooks.com/books/2773000047\"><img src=\"img/notion.png\" class=\"img-responsive book_cover\"></a>\\n            </div>\\n            <div class=\"col-lg-6 col-md-8 book_detail\">\\n                <h2 class=\"book_name\" style=\"margin-top: 0;\">메모혁신 Notion(노션) 활용 가이드</h2>\\n                <p class=\"book_info\" style=\"margin-bottom: 0;\">가격: 7,000원</p>\\n                <p class=\"book_info\" style=\"margin-bottom: 0;\">저자: 이호준, 이준호, 김혜원, 김유진, 차경림, 김진, 현지연, 정승한</p>\\n                <p class=\"book_info\" style=\"margin-bottom: 0;\">Notion의 기본 사용 방법부터 Notion을 활용한 홈페이지 제작 방법까지 다양하게 다루고 있으며 특히 개발자가 원하는 Notion의 활용 방법을 다루고 있습니다.</p>\\n            </div>\\n        </div>\\n    </div>\\n\\n    <!-- Main Content1 -->\\n    <div class=\"container book_contents\">\\n        <div class=\"row\" style=\"margin-bottom: 50px;\">\\n            <div class=\"col-lg-2 col-lg-offset-2 col-md-2 col-md-offset-1\">\\n\\t\\t\\t\\t<a href=\"https://ridibooks.com/books/2773000064\"><img src=\"img/resume.png\" class=\"img-responsive book_cover\"></a>\\n            </div>\\n\\t\\t\\t    <div class=\"col-lg-6 col-md-8 book_detail\">\\n                    <h2 class=\"book_name\" style=\"margin-top: 0;\">이력서 작성 가이드</h2>\\n                    <p class=\"book_info\" style=\"margin-bottom: 0;\">가격: 10,000원</p>\\n                    <p class=\"book_info\" style=\"margin-bottom: 0;\">저자: 강혜진, 김유진, 김혜원, 김진, 이범재, 이호준, 원유선, 박누리, 차경림, 최원범, 한재현</p>\\n                    <p class=\"book_info\" style=\"margin-bottom: 0;\">개발자 역량을 갖추는 것뿐만 아니라 회사에 뽑힐 확률을 높이는 전략과 방법도 필요합니다. 개발자 이력서는 그 첫걸음입니다.</p>\\n            </div>\\n        </div>\\n    </div>\\n\\n    <!-- Main Content2 -->\\n    <div class=\"container book_contents\">\\n        <div class=\"row\" style=\"margin-bottom: 50px;\">\\n            <div class=\"col-lg-2 col-lg-offset-2 col-md-2 col-md-offset-1\">\\n\\t\\t\\t\\t<a href=\"https://ridibooks.com/v2/Detail?id=2773000025\"><img src=\"img/cofe.jpg\" class=\"img-responsive book_cover\"></a>\\n            </div>\\n                <div class=\"col-lg-6 col-md-8 book_detail\">\\n                    <h2 class=\"book_name\" style=\"margin-top: 0;\">제주코딩베이스캠프 Code Festival: Python 100제 1부</h2>\\n                    <p class=\"book_info\" style=\"margin-bottom: 0;\">가격: 무료</p>\\n                    <p class=\"book_info\" style=\"margin-bottom: 0;\">저자: 이호준, 강민정, 김유진, 정윤하, 최원범</p>\\n                    <p class=\"book_info\" style=\"margin-bottom: 0;\">파이썬으로 풀 수 있는 100문제를 만들었습니다. 50문제씩 1부(초급, 중급)와 2부(중급, 고급)로 나누어져있습니다.</p>\\n            </div>\\n        </div>\\n    </div>\\n\\n    <!-- Main Content3 -->\\n    <div class=\"container book_contents\">\\n        <div class=\"row\" style=\"margin-bottom: 50px;\">\\n            <div class=\"col-lg-2 col-lg-offset-2 col-md-2 col-md-offset-1\">\\n\\t\\t\\t\\t      <a href=\"https://ridibooks.com/v2/Detail?id=2773000005\"><img src=\"img/HTMLCSS.jpg\" class=\"img-responsive book_cover\"></a>\\n            </div>\\n\\t\\t\\t      <div class=\"col-lg-6 col-md-8 book_detail\">\\n\\t\\t\\t\\t      <h2 class=\"book_name\" style=\"margin-top: 0;\">튜토리얼로 배우는 HTML&CSS</h2>\\n                      <p class=\"book_info\" style=\"margin-bottom: 0;\">가격: 4,900원</p>\\n                      <p class=\"book_info\" style=\"margin-bottom: 0;\">저자: 이호준, 박민균, 양지혜, 정민준, 박소영, 전유빈</p>\\n\\t\\t\\t\\t      <p class=\"book_info\" style=\"margin-bottom: 0;\">튜토리얼을 통해 일단 만들어 봅시다! 무엇이든 일단 만들어 보면 길이 보이기 시작합니다. 그 다음 웹 동작방법, 태그의 동작 방식, 브라우저 렌더링 엔진 등에 대하여 부담이 되지 않을 만큼씩 배워가세요.</p>\\n            </div>\\n        </div>\\n    </div>\\n\\n    <!-- Main Content4 -->\\n    <div class=\"container  book_contents\">\\n        <div class=\"row\" style=\"margin-bottom: 50px;\">\\n            <div class=\"col-lg-2 col-lg-offset-2 col-md-2 col-md-offset-1\">\\n                <a href=\"https://ridibooks.com/v2/Detail?id=2773000007\"><img src=\"img/python1.jpg\" class=\"img-responsive book_cover\"></a>\\n            </div>\\n\\t\\t\\t    <div class=\"col-lg-6 col-md-8 book_detail\">\\n                    <h2 class=\"book_name\" style=\"margin-top: 0;\">코딩도장 튜토리얼로 배우는 Python 1편 object</h2>\\n                    <p class=\"book_info\" style=\"margin-bottom: 0;\">가격: 3,000원</p>\\n                    <p class=\"book_info\" style=\"margin-bottom: 0;\">저자: 이호준, 정민준, 배희성, 김덕주, 한승협</p>\\n\\t\\t\\t\\t    <p class=\"book_info\" style=\"margin-bottom: 0;\">파이썬은 이해하기 쉽고 간결한 문법으로 생산성이 높아 교육을 포함한 다양한 분야 에서 활용되고 있는 언어입니다. 빅데이터 분석, 머신러닝, 웹 개발 등 다양하게 쓰이는 Python을 예제를 통해 배워보세요. 이 책은 여러 미션을 스토리텔링 형식으로 제공하며 튜토리얼 별로 코드를 제공하여 쉽고 재미있게 코딩 개념을 익힐 수 있도록 도와줄 것입니다.\\n                    </p>\\n            </div>\\n        </div>\\n    </div>\\n\\n    <!-- Main Content5 -->\\n    <div class=\"container book_contents\">\\n        <div class=\"row\" style=\"margin-bottom: 50px;\">\\n            <div class=\"col-lg-2 col-lg-offset-2 col-md-2 col-md-offset-1\">\\n\\t\\t\\t\\t      <a href=\"https://ridibooks.com/v2/Detail?id=2773000008\"><img src=\"img/python2.jpg\" class=\"img-responsive book_cover\"></a>\\n            </div>\\n\\t\\t\\t      <div class=\"col-lg-6 col-md-8 book_detail\">\\n\\t\\t\\t\\t      <h2 class=\"book_name\" style=\"margin-top: 0;\">코딩도장 튜토리얼로 배우는 python 2편 제어문</h2>\\n                      <p class=\"book_info\" style=\"margin-bottom: 0;\">가격: 4,900원</p>\\n                      <p class=\"book_info\" style=\"margin-bottom: 0;\">저자: 이호준, 우지훈, 박소영, 허재영</p>\\n\\t\\t\\t\\t      <p class=\"book_info\" style=\"margin-bottom: 0;\">파이썬 튜토리얼 시리즈는 1편 Object 2편 제어문 3편 문제풀이로 구성되어 있습니다.</p>\\n            </div>\\n        </div>\\n    </div>\\n\\n    <!-- Main Content6 -->\\n    <div class=\"container book_contents\">\\n        <div class=\"row\" style=\"margin-bottom: 50px;\">\\n            <div class=\"col-lg-2 col-lg-offset-2 col-md-2 col-md-offset-1\">\\n\\t\\t\\t\\t      <a href=\"https://ridibooks.com/v2/Detail?id=2773000011\"><img src=\"img/python3.jpg\" class=\"img-responsive book_cover\"></a>\\n            </div>\\n\\t\\t\\t      <div class=\"col-lg-6 col-md-8 book_detail\">\\n\\t\\t\\t\\t      <h2 class=\"book_name\" style=\"margin-top: 0;\">코딩도장 튜토리얼로 배우는 Python 문제풀이</h2>\\n                      <p class=\"book_info\" style=\"margin-bottom: 0;\">가격: 무료</p>\\n                      <p class=\"book_info\" style=\"margin-bottom: 0;\">저자: 이호준, 전유빈, 김태범, 한승협, 김혜원, 강민정</p>\\n\\t\\t\\t\\t      <p class=\"book_info\" style=\"margin-bottom: 0;\">\\n                          이 책은 Python 문법을 이제 막 끝낸 분에게 추천해 드립니다. \\n                          코딩도장 사이트에 문제를 풀어보며 Python에 보다 깊게 다가가 보세요.\\n                          다양한 문제들이 여러분의 실력을 향상시켜 줄 것입니다.</p>\\n            </div>\\n        </div>\\n    </div>\\n\\n    <!-- Main Content7 -->\\n    <div class=\"container book_contents\">\\n        <div class=\"row\" style=\"margin-bottom: 50px;\">\\n            <div class=\"col-lg-2 col-lg-offset-2 col-md-2 col-md-offset-1\">\\n\\t\\t\\t\\t<a href=\"https://ridibooks.com/books/2773000015\"><img src=\"img/tanos.jpg\" class=\"img-responsive book_cover\"></a>\\n            </div>\\n\\t\\t\\t      <div class=\"col-lg-6 col-md-8 book_detail\">\\n\\t\\t\\t\\t      <h2 class=\"book_name\" style=\"margin-top: 0;\">타노스의 건틀릿 알고리즘 With Python</h2>\\n                      <p class=\"book_info\" style=\"margin-bottom: 0;\">가격: 무료</p>\\n                      <p class=\"book_info\" style=\"margin-bottom: 0;\">저자: 이호준, 한승협, 강민정, 신민욱</p>\\n\\t\\t\\t\\t      <p class=\"book_info\" style=\"margin-bottom: 0;\">이 책은 Python 문법을 이제 막 끝낸 분에게 추천해 드립니다. \\n                          타노스의 핑거스냅 문제를 다양한 시각으로 풀어보며 Python에 보다 깊게 다가가 보세요. \\n                          다양한 시각이 여러분의 실력을 향상시켜줄 것입니다.</p>\\n            </div>\\n        </div>\\n    </div>\\n\\n    <!-- Main Content8 -->\\n    <div class=\"container book_contents\">\\n        <div class=\"row\" style=\"margin-bottom: 50px;\">\\n            <div class=\"col-lg-2 col-lg-offset-2 col-md-2 col-md-offset-1\">\\n\\t\\t\\t\\t      <a href=\"https://ridibooks.com/books/2773000020\"><img src=\"img/xlsx.jpg\" class=\"img-responsive book_cover\"></a>\\n            </div>\\n\\t\\t\\t      <div class=\"col-lg-6 col-md-8 book_detail\">\\n\\t\\t\\t\\t      <h2 class=\"book_name\" style=\"margin-top: 0;\">xlsxwriter 튜토리얼로 배우는 Python 엑셀 프로그래밍</h2>\\n                      <p class=\"book_info\" style=\"margin-bottom: 0;\">가격: 무료</p>\\n                      <p class=\"book_info\" style=\"margin-bottom: 0;\">저자: 이호준, 강상권, 오재원, 전진환, 문형철, 이현창</p>\\n\\t\\t\\t\\t      <p class=\"book_info\" style=\"margin-bottom: 0;\">이 책은 빅데이터를 가공하여 엑셀로 가시화 시키기 원하는 업무 담당자와 단순 업무를 Python을 이용하여 자동화 시키려 하는 업무 담당자에게 추천해드립니다. \\n                          또한 부서의 업무 고도화, 효율화를 위해 적절한 자동화 프로그램을 찾지 못한 기업과 학문적 호기심을 가진 개인에게도 추천해 드립니다. \\n                          세계에서 유행중인 Python은 타 언어에 비해 다루기 쉬우며 풍성한 라이브러리로 원하는 프로그램을 직접 만들기에 적합합니다.</p>\\n            </div>\\n        </div>\\n    </div>\\n\\n    <!-- Main Content9 -->\\n    <div class=\"container book_contents\">\\n            <div class=\"row\" style=\"margin-bottom: 50px;\">\\n                <div class=\"col-lg-2 col-lg-offset-2 col-md-2 col-md-offset-1\">\\n                          <a href=\"https://ridibooks.com/books/2773000001\"><img src=\"img/ruple.jpg\" class=\"img-responsive book_cover\"></a>\\n                </div>\\n                      <div class=\"col-lg-6 col-md-8 book_detail\">\\n                          <h2 class=\"book_name\" style=\"margin-top: 0;\">러플 튜토리얼로 배우는 Python</h2>\\n                          <p class=\"book_info\" style=\"margin-bottom: 0;\">가격: 4,900</p>\\n                          <p class=\"book_info\" style=\"margin-bottom: 0;\">저자: 이호준, 배희성, 양지혜, 박소영, 김수연, 정민준</p>\\n                          <p class=\"book_info\" style=\"margin-bottom: 0;\">이 책은 소프트웨어 교육을 처음 접했거나 스크래치, \\n                              엔트리 등 블록기반 교육용 소프트웨어 다음으로 무엇을 배워야 할 지 모르는 초등학교 학생,\\n                              중학교 학생과 소프트웨어 교육을 담당하는 선생님께 권해드립니다.\\n                               파이썬 코드로 로봇을 제어하면서 코딩을 쉽게 배울 수 있는 러플은 고급 프로그래밍 언어를 처음 접하는\\n                                학생들이 쉽게 언어기반 프로그래밍을 이해할 수 있도록 도와줍니다.</p>\\n                </div>\\n            </div>\\n        </div>\\n    \\n    <!-- Main Content10 -->\\n    <div class=\"container book_contents\">\\n        <div class=\"row\" style=\"margin-bottom: 50px;\">\\n            <div class=\"col-lg-2 col-lg-offset-2 col-md-2 col-md-offset-1\">\\n\\t\\t\\t\\t      <a href=\"https://ridibooks.com/v2/Detail?id=2773000022\"><img src=\"img/auto.jpg\" class=\"img-responsive book_cover\"></a>\\n            </div>\\n\\t\\t\\t      <div class=\"col-lg-6 col-md-8 book_detail\">\\n\\t\\t\\t\\t      <h2 class=\"book_name\" style=\"margin-top: 0;\">인공지능을 활용한 업무자동화 With Google Developers Group JEJU</h2>\\n                      <p class=\"book_info\" style=\"margin-bottom: 0;\">가격: 무료</p>\\n                      <p class=\"book_info\" style=\"margin-bottom: 0;\">저자: 이호준, 이준호, 현암, 윤현담, 김루비, 이동민, 유승엽, 박서윤, 김채린, 한승협, 안상우, 장성원, 전진환, 강민성, 조민구, 전창삼</p>\\n\\t\\t\\t\\t      <p class=\"book_info\" style=\"margin-bottom: 0;\">이 책은 반복적이고 지루한 단순 업무를 Python을 이용하여 \\n                          자동화 시키려 하는 업무 담당자와 데이터를 가공하여 가시화 시키기 원하는 업무 담당자에게 추천해드립니다.\\n                           또한 부서의 업무 고도화, 효율화를 위해 적절한 자동화 프로그램을 찾지 못한 기업과 학문적 호기심을 가진 개인에게도 추천해 드립니다. \\n                          세계에서 유행중인 Python은 타 언어에 비해 다루기 쉬우며 풍성한 라이브러리로 원하는 프로그램을 직접 만들기에 적합합니다.</p>\\n            </div>\\n        </div>\\n    </div>\\n    \\n\\n\\n    <!-- Footer -->\\n    <footer>\\n        <div class=\"container\">\\n            <div class=\"row\">\\n                <div class=\"col-lg-8 col-lg-offset-2 col-md-10 col-md-offset-1\">\\n                    <ul class=\"list-inline text-center\">\\n                        <li>\\n                            <a href=\"https://www.paullab.co.kr/\">\\n                                <img class=\"footer_logo\" src=\"img/logo_weniv.png\" alt=\"\">\\n                            </a>\\n                        </li>\\n                    </ul>\\n                    <p class=\"copyright text-muted\">copyright &copy;2023 weniv all rights reserved.</p>\\n                </div>\\n            </div>\\n        </div>\\n    </footer>\\n\\n    <!-- jQuery -->\\n    <script src=\"js/jquery.js\"></script>\\n\\n    <!-- Bootstrap Core JavaScript -->\\n    <script src=\"js/bootstrap.min.js\"></script>\\n\\n    <!-- Custom Theme JavaScript -->\\n    <script src=\"js/clean-blog.min.js\"></script>\\n\\n</body>\\n\\n</html>\\n'"
            ],
            "application/vnd.google.colaboratory.intrinsic+json": {
              "type": "string"
            }
          },
          "metadata": {},
          "execution_count": 140
        }
      ]
    },
    {
      "cell_type": "code",
      "source": [
        "# 이렇게 for로 여러번 requests를 보내는 공격을 DoS 공격이라고 합니다.\n",
        "# 이걸 방어하는 방법은 쉽습니다. 1곳에서 1초에 5번 이상 요청 오면 block하면 됩니다.\n",
        "# 그래서 해커는 1000대의 PC로 4번씩 요청합니다.(DDoS)"
      ],
      "metadata": {
        "id": "RHIQiGU-Eua5"
      },
      "execution_count": null,
      "outputs": []
    },
    {
      "cell_type": "code",
      "source": [
        "from bs4 import BeautifulSoup\n",
        "\n",
        "html = '''\n",
        "<h1>대제목</h1>\n",
        "<p class='one'>hello world 1</p>\n",
        "<p class='two'>hello world 2</p>\n",
        "'''\n",
        "\n",
        "soup = BeautifulSoup(html, 'html.parser')\n",
        "soup.select('h1')\n",
        "soup.select('h1')[0].text\n",
        "soup.select('.one')[0].text"
      ],
      "metadata": {
        "colab": {
          "base_uri": "https://localhost:8080/",
          "height": 35
        },
        "id": "h6-0lpyfFWvB",
        "outputId": "14af7629-6bfb-47b8-86d0-29aa57a21361"
      },
      "execution_count": 144,
      "outputs": [
        {
          "output_type": "execute_result",
          "data": {
            "text/plain": [
              "'hello world 1'"
            ],
            "application/vnd.google.colaboratory.intrinsic+json": {
              "type": "string"
            }
          },
          "metadata": {},
          "execution_count": 144
        }
      ]
    },
    {
      "cell_type": "code",
      "source": [
        "import requests\n",
        "from bs4 import BeautifulSoup\n",
        "\n",
        "paullab_url = 'https://paullab.co.kr/bookservice/'\n",
        "response = requests.get(paullab_url)\n",
        "response.encoding = 'utf-8'\n",
        "html = response.text\n",
        "\n",
        "soup = BeautifulSoup(html, 'html.parser')\n",
        "# soup.select('h2')\n",
        "\n",
        "for i in soup.select('h2'):\n",
        "    print(i.text)"
      ],
      "metadata": {
        "colab": {
          "base_uri": "https://localhost:8080/"
        },
        "id": "3YF4AG28Gipu",
        "outputId": "a951577f-c8ce-4415-8c85-b6984c9f8f1f"
      },
      "execution_count": 147,
      "outputs": [
        {
          "output_type": "stream",
          "name": "stdout",
          "text": [
            "메모혁신 Notion(노션) 활용 가이드\n",
            "이력서 작성 가이드\n",
            "제주코딩베이스캠프 Code Festival: Python 100제 1부\n",
            "튜토리얼로 배우는 HTML&CSS\n",
            "코딩도장 튜토리얼로 배우는 Python 1편 object\n",
            "코딩도장 튜토리얼로 배우는 python 2편 제어문\n",
            "코딩도장 튜토리얼로 배우는 Python 문제풀이\n",
            "타노스의 건틀릿 알고리즘 With Python\n",
            "xlsxwriter 튜토리얼로 배우는 Python 엑셀 프로그래밍\n",
            "러플 튜토리얼로 배우는 Python\n",
            "인공지능을 활용한 업무자동화 With Google Developers Group JEJU\n"
          ]
        }
      ]
    },
    {
      "cell_type": "markdown",
      "source": [
        "## 클로저"
      ],
      "metadata": {
        "id": "_7U-0sBKKrRX"
      }
    },
    {
      "cell_type": "code",
      "source": [
        "def outer_function(x):\n",
        "    def inner_function(y):\n",
        "        return x + y\n",
        "    return inner_function\n",
        "\n",
        "inner = outer_function(100)\n",
        "inner(200) # inner 입장에서 100을 변경할 수 있는 방법이 없습니다.\n",
        "\n",
        "# 데이터 은닉"
      ],
      "metadata": {
        "id": "2d15BNC1KsZb"
      },
      "execution_count": null,
      "outputs": []
    },
    {
      "cell_type": "markdown",
      "source": [
        "## 데커레이터\n",
        "\n",
        "* 시간을 들여 모든 작동 원리를 파악하는 것을 권합니다.\n",
        "* 다만 이 데커레이터를 이해하고 있지 못하더라도 대부분에 데커레이터를 사용하는데 문제가 되지 않습니다."
      ],
      "metadata": {
        "id": "4D1p-zjjLUXd"
      }
    },
    {
      "cell_type": "code",
      "source": [
        "def simple_decorator(function):\n",
        "    def wrapper():\n",
        "        print(\"전\")\n",
        "        function()\n",
        "        print(\"후\")\n",
        "    return wrapper\n",
        "\n",
        "@simple_decorator\n",
        "def hello():\n",
        "    print(\"Hello, World!\")\n",
        "\n",
        "hello() # 데코레이터가 없는 상태에서는 simple_decorator(hello)() 와 같습니다."
      ],
      "metadata": {
        "colab": {
          "base_uri": "https://localhost:8080/"
        },
        "id": "6pZfaeSMLBKj",
        "outputId": "8470183f-bcbc-4d67-c06d-0cd46d472b05"
      },
      "execution_count": 150,
      "outputs": [
        {
          "output_type": "stream",
          "name": "stdout",
          "text": [
            "전\n",
            "Hello, World!\n",
            "후\n"
          ]
        }
      ]
    },
    {
      "cell_type": "code",
      "source": [
        "def 로그인():\n",
        "    print('로그인 확인 했어!')\n",
        "\n",
        "def 게시판():\n",
        "    print('게시판 읽었어!')\n",
        "\n",
        "# 문제: 로그인 한 다음 게시판을 읽게 하고 싶으면 아래와 같이 해야 합니다.\n",
        "\n",
        "def 로그인():\n",
        "    print('로그인 확인 했어!')\n",
        "\n",
        "def 게시판():\n",
        "    로그인() # 이게 항상 최상단에 있어야 하는 불편함도 있습니다.\n",
        "    print('게시판 읽었어!')"
      ],
      "metadata": {
        "id": "rJ9pIV8tNEBi"
      },
      "execution_count": null,
      "outputs": []
    },
    {
      "cell_type": "code",
      "source": [
        "def 확인(func):\n",
        "    def wrapper():\n",
        "        pass\n",
        "    return wrapper\n",
        "\n",
        "\n",
        "def 로그인():\n",
        "    print('로그인 확인 했어!')\n",
        "\n",
        "\n",
        "@확인\n",
        "def 게시판():\n",
        "    print('게시판 읽었어!')"
      ],
      "metadata": {
        "id": "T9DcWcPRNg1E"
      },
      "execution_count": null,
      "outputs": []
    },
    {
      "cell_type": "code",
      "source": [
        "def 확인(func):\n",
        "    def wrapper():\n",
        "        로그인()\n",
        "        func()\n",
        "    return wrapper\n",
        "\n",
        "\n",
        "def 로그인():\n",
        "    print('로그인 확인 했어!')\n",
        "\n",
        "\n",
        "@확인\n",
        "def 게시판():\n",
        "    print('게시판 읽었어!')\n",
        "\n",
        "게시판()"
      ],
      "metadata": {
        "colab": {
          "base_uri": "https://localhost:8080/"
        },
        "id": "yO4uaBBHNx0Q",
        "outputId": "a99ad5fe-9609-4d17-8f06-458fd85f5908"
      },
      "execution_count": 152,
      "outputs": [
        {
          "output_type": "stream",
          "name": "stdout",
          "text": [
            "로그인 확인 했어!\n",
            "게시판 읽었어!\n"
          ]
        }
      ]
    },
    {
      "cell_type": "code",
      "source": [
        "def 합산(data):\n",
        "    return sum(data)\n",
        "\n",
        "합산([1, 2, 3, '10', 20, '5'])"
      ],
      "metadata": {
        "id": "06pXNhqTOKIx"
      },
      "execution_count": null,
      "outputs": []
    },
    {
      "cell_type": "code",
      "source": [
        "@전처리\n",
        "def 합산(data):\n",
        "    return sum(data)\n",
        "\n",
        "합산([1, 2, 3, '10', 20, '5'])"
      ],
      "metadata": {
        "id": "hCC_zO2IOWqk"
      },
      "execution_count": null,
      "outputs": []
    },
    {
      "cell_type": "code",
      "source": [
        "def 전처리(func):\n",
        "    def wrapper(data):\n",
        "        print(data)\n",
        "        return func(map(int, data))\n",
        "    return wrapper\n",
        "\n",
        "@전처리\n",
        "def 합산(data):\n",
        "    return sum(data)\n",
        "\n",
        "합산([1, 2, 3, '10', 20, '5'])"
      ],
      "metadata": {
        "colab": {
          "base_uri": "https://localhost:8080/"
        },
        "id": "FuX5JshqOZu3",
        "outputId": "3aa9fd9d-9c82-4193-c816-654a65460ae5"
      },
      "execution_count": 3,
      "outputs": [
        {
          "output_type": "stream",
          "name": "stdout",
          "text": [
            "[1, 2, 3, '10', 20, '5']\n"
          ]
        },
        {
          "output_type": "execute_result",
          "data": {
            "text/plain": [
              "41"
            ]
          },
          "metadata": {},
          "execution_count": 3
        }
      ]
    },
    {
      "cell_type": "code",
      "source": [
        "# 저는 아래 코드가 작동되게 하고 싶습니다. 데커레이터를 만들어주세요.\n",
        "\n",
        "def 문자열조합(data):\n",
        "    s = ''\n",
        "    return [s.join(i) for i in data]\n",
        "\n",
        "문자열조합(['a', 'b', 'c', 1, 2, True])\n",
        "# str(True)\n",
        "# 원하는 결과: 'abc12True'"
      ],
      "metadata": {
        "colab": {
          "base_uri": "https://localhost:8080/",
          "height": 35
        },
        "id": "-kFhIH8MP0Lo",
        "outputId": "0f35e995-9b43-44b0-9000-847bc02ca8ba"
      },
      "execution_count": 6,
      "outputs": [
        {
          "output_type": "execute_result",
          "data": {
            "text/plain": [
              "'True'"
            ],
            "application/vnd.google.colaboratory.intrinsic+json": {
              "type": "string"
            }
          },
          "metadata": {},
          "execution_count": 6
        }
      ]
    },
    {
      "cell_type": "code",
      "source": [
        "# step1\n",
        "@전처리\n",
        "def 문자열조합(data):\n",
        "    s = ''\n",
        "    return [s.join(i) for i in data]\n",
        "\n",
        "문자열조합(['a', 'b', 'c', 1, 2, True])"
      ],
      "metadata": {
        "id": "oNiR0uA9T7cB"
      },
      "execution_count": null,
      "outputs": []
    },
    {
      "cell_type": "code",
      "source": [
        "# step2\n",
        "def 전처리(func):\n",
        "    def wrapper(data):\n",
        "        data = list(map(str, data))\n",
        "        return func(data)\n",
        "    return wrapper\n",
        "\n",
        "@전처리\n",
        "def 문자열조합(data):\n",
        "    s = ''\n",
        "    for i in data:\n",
        "        s += str(i)\n",
        "    return s\n",
        "\n",
        "문자열조합(['a', 'b', 'c', 1, 2, True])"
      ],
      "metadata": {
        "colab": {
          "base_uri": "https://localhost:8080/",
          "height": 35
        },
        "id": "5BDj7qrUUBCw",
        "outputId": "1c8bf2f3-75be-4de9-fd43-3a081da95d46"
      },
      "execution_count": 10,
      "outputs": [
        {
          "output_type": "execute_result",
          "data": {
            "text/plain": [
              "'abc12True'"
            ],
            "application/vnd.google.colaboratory.intrinsic+json": {
              "type": "string"
            }
          },
          "metadata": {},
          "execution_count": 10
        }
      ]
    },
    {
      "cell_type": "code",
      "source": [
        "def 문자열조합(data):\n",
        "    s = ''\n",
        "    for i in data:\n",
        "        s += str(i)\n",
        "    return s\n",
        "\n",
        "문자열조합(['a', 'b', 'c'])"
      ],
      "metadata": {
        "colab": {
          "base_uri": "https://localhost:8080/",
          "height": 35
        },
        "id": "snFHdww-UUM6",
        "outputId": "b5a3204f-8324-4650-83d2-270215e9540f"
      },
      "execution_count": 9,
      "outputs": [
        {
          "output_type": "execute_result",
          "data": {
            "text/plain": [
              "'abc'"
            ],
            "application/vnd.google.colaboratory.intrinsic+json": {
              "type": "string"
            }
          },
          "metadata": {},
          "execution_count": 9
        }
      ]
    }
  ]
}